{
  "cells": [
    {
      "cell_type": "markdown",
      "id": "asian-request",
      "metadata": {
        "id": "asian-request"
      },
      "source": [
        "# Atividade 4: Processamento de Dados"
      ]
    },
    {
      "cell_type": "markdown",
      "id": "aggressive-antigua",
      "metadata": {
        "id": "aggressive-antigua"
      },
      "source": [
        "**Índice**"
      ]
    },
    {
      "cell_type": "markdown",
      "id": "technological-economy",
      "metadata": {
        "id": "technological-economy"
      },
      "source": [
        "  - [Contexto](#Contexto)\n",
        "  - [Instruções (leia até o fim)](#Instruções-(leia-até-o-fim))\n",
        "  - [Configurações](#Configurações)\n",
        "  - [Carregando a base](#Carregando-a-base)\n",
        "      - [Exercício 1](#Exercício-1)\n",
        "      - [Exercício 2](#Exercício-2)\n",
        "  - [Conversão de símbolos `?`](#Conversão-de-símbolos-?)\n",
        "      - [Exercício 3](#Exercício-3)\n",
        "      - [Exercício 4](#Exercício-4)\n",
        "  - [Remoção de atributos](#Remoção-de-atributos)\n",
        "      - [Exercício 5](#Exercício-5)\n",
        "      - [Exercício 6](#Exercício-6)\n",
        "  - [Valores ausentes que não removeremos](#Valores-ausentes-que-não-removeremos)\n",
        "      - [Exercício 7](#Exercício-7)\n",
        "      - [Exercício 8](#Exercício-8)\n",
        "      - [Exercício 9](#Exercício-9)\n",
        "      - [Exercício 10](#Exercício-10)\n",
        "      - [Exercício 11](#Exercício-11)\n",
        "      - [Exercício 12](#Exercício-12)\n",
        "  - [Atributos com pouca informação](#Atributos-com-pouca-informação)\n",
        "      - [Exercício 13](#Exercício-13)\n",
        "      - [Exercício 14](#Exercício-14)\n",
        "      - [Exercício 15](#Exercício-15)\n",
        "      - [Exercício 16](#Exercício-16)\n",
        "      - [Exercício 17](#Exercício-17)\n",
        "  - [Últimos passos: atributos numéricos](#Últimos-passos:-atributos-numéricos)\n",
        "      - [Exercício 18](#Exercício-18)\n",
        "      - [Exercício 19](#Exercício-19)\n",
        "  - [Separação e codificação dos dados](#Separação-e-codificação-dos-dados)\n",
        "      - [Exercício 20](#Exercício-20)\n",
        "      - [Exercício 21](#Exercício-21)\n",
        "      - [Exercício 22](#Exercício-22)\n",
        "      - [Exercício 23](#Exercício-23)\n",
        "      - [Exercício 24](#Exercício-24)\n",
        "      - [Exercício 25](#Exercício-25)"
      ]
    },
    {
      "cell_type": "markdown",
      "id": "dominant-security",
      "metadata": {
        "id": "dominant-security"
      },
      "source": [
        "## Contexto\n",
        "\n",
        "Em Aprendizado de Máquina e em Mineração de Dados, os dados são muito valiosos, mas também podem ser… irritantes. Antes de empregar algoritmos para induzir modelos e depois usar esses modelos para fazer previsões, existe um importante e, às vezes, longo trabalho de coletar, compreender, limpar, filtrar, transformar e preparar os dados.\n",
        "\n",
        "Vários desses passos podem ser feitos com o conhecimento que você está adquirindo na disciplina. Outros podem exigir um pouco de intuição, conhecimento do domínio de aplicação ou até mesmo a opinião de especialistas na área.\n",
        "\n",
        "Nesta aula, vamos falar especificamente dessas etapas.\n",
        "\n",
        "Está disponível no ColabWeb um conjunto de dados “do mundo real”, `Diabetes130`, que você deverá baixar para utilizar nesta prática. Se quiser, o conjunto também pode ser encontrado no Google Drive. Dizemos que esse conjunto é “do mundo real” porque é composto por dados coletados no mundo real, sem muito controle. Eles foram coletados de pacientes que visitaram hospitais nos EUA por complicações causadas por diabetes. Você verá que, diferentemente de conjuntos *toy* com os quais trabalharemos com mais frequência, tanto os criados artificialmente (como `play_tennis`) quanto os coletados de maneira bem simples e controlada (`iris`), conjuntos “do mundo real” podem ser bem desafiadores.\n",
        "\n",
        "Nesta prática, vamos fazer algumas etapas de pré-processamento dos dados, mas não necessariamente todos os passos que você preciaria fazer para utilizar um conjunto como este em uma aplicação real. Você verá que, mesmo após **vários** passos de filtragem e transformação, o conjunto ainda assim não será o ideal.\n",
        "\n",
        "Além disso, ao final você irá treinar e testar um modelo de aprendizado de máquina. Não se preocupe ainda em compreender o que esse modelo faz. Use-o como uma “caixa preta”, aplicando-o no conjunto de dados. No futuro você irá compreender bem como ele funciona."
      ]
    },
    {
      "cell_type": "markdown",
      "id": "neural-princeton",
      "metadata": {
        "id": "neural-princeton"
      },
      "source": [
        "## Instruções (leia até o fim)"
      ]
    },
    {
      "cell_type": "markdown",
      "id": "better-chance",
      "metadata": {
        "id": "better-chance"
      },
      "source": [
        "1. Este *notebook* é uma atividade prática para vocês fazerem “solo”;\n",
        "1. Você pode solicitar ajuda para o professor, o estagiário em docência e seus colegas. Mande mensagens no nosso grupo no Telegram. Pode ser que sua dúvida seja a mesma de seus colegas;\n",
        "1. Antes de pedir ajuda, tente usar o que você aprendeu nas aulas anteriores e faça buscas no Google;\n",
        "1. Preencha todas as células que contêm o **TODO** (*to do* ou \"para fazer\");\n",
        "1. Ao terminar, envie o *notebook* <span style=\"text-decoration: underline\">completo</span>, incluindo as saídas das células, por meio do ColabWeb;\n",
        "1. A versão disponivel no Colaboratory também deve ser enviada pelo ColabWeb.\n",
        "\n",
        "**Esta atividade será sua primeira nota na disciplina.**"
      ]
    },
    {
      "cell_type": "markdown",
      "id": "human-cattle",
      "metadata": {
        "id": "human-cattle"
      },
      "source": [
        "## Configurações"
      ]
    },
    {
      "cell_type": "markdown",
      "id": "interesting-romance",
      "metadata": {
        "id": "interesting-romance"
      },
      "source": [
        "Obtenha o arquivo de dados no ColabWeb e certifique-o de que ele está disponível para o *notebook*."
      ]
    },
    {
      "cell_type": "markdown",
      "id": "institutional-vaccine",
      "metadata": {
        "id": "institutional-vaccine"
      },
      "source": [
        "**Opcional:** descomente e execute a célula abaixo para baixar do Google Drive (19&nbsp;MiB) — esse comando pode só estar disponível no Google Colaboratory."
      ]
    },
    {
      "cell_type": "code",
      "execution_count": 700,
      "id": "exciting-characteristic",
      "metadata": {
        "colab": {
          "base_uri": "https://localhost:8080/"
        },
        "id": "exciting-characteristic",
        "outputId": "2b07fee6-5e2b-45ce-eb18-288bda8609f1"
      },
      "outputs": [
        {
          "output_type": "stream",
          "name": "stdout",
          "text": [
            "Downloading...\n",
            "From: https://drive.google.com/uc?id=12-kdoeMWDC0iQPVIg_JBdK4H0SViYSMQ\n",
            "To: /content/diabetes130us.csv\n",
            "100% 19.2M/19.2M [00:00<00:00, 142MB/s]\n"
          ]
        }
      ],
      "source": [
        "!gdown 'https://drive.google.com/uc?id=12-kdoeMWDC0iQPVIg_JBdK4H0SViYSMQ'"
      ]
    },
    {
      "cell_type": "markdown",
      "id": "ahead-latvia",
      "metadata": {
        "id": "ahead-latvia"
      },
      "source": [
        "## Carregando a base"
      ]
    },
    {
      "cell_type": "markdown",
      "id": "behavioral-commander",
      "metadata": {
        "id": "behavioral-commander"
      },
      "source": [
        "A base `Diabetes 130-US` é uma base real que contém dados de casos clínicos em hospitais dos Estados Unidos. A base foi disponibilizada no [repositório de Aprendizado de Máquina da Universidade da Califória em Irvine](https://archive.ics.uci.edu/ml/datasets/Diabetes+130-US+hospitals+for+years+1999-2008) (UCI) em 2014 e está associada ao seguinte artigo:\n",
        "\n",
        "> Beata Strack, Jonathan P. DeShazo, Chris Gennings, Juan L. Olmo, Sebastian Ventura, Krzysztof J. Cios, and John N. Clore, “Impact of HbA1c Measurement on Hospital Readmission Rates: Analysis of 70,000 Clinical Database Patient Records,” BioMed Research International, vol. 2014, Article ID 781670, 11 pages, 2014.\n",
        "\n",
        "A leitura do artigo é recomendada. Em síntese, o problema proposto é prever se um paciente ou uma paciente (daqui pra frente apenas “o paciente”, pra simplificar) precisará de um novo atendimento após uma ter passado por uma consulta por alguma complicação de diabtes. O conjunto possui 101.766 instâncias e  65 atributos, vários dos quais vamos remover.\n",
        "\n",
        "A lista completa de atributos e os seus significados pode ser verificada no artigo. É essencial conhecer os dados antes de trabalhar com eles. Mas, antes de parar a tarefa e ler o artigo, vamos tentar ir por partes, um atributo por vez."
      ]
    },
    {
      "cell_type": "markdown",
      "id": "former-diabetes",
      "metadata": {
        "id": "former-diabetes"
      },
      "source": [
        "#### Exercício 1\n",
        "\n",
        "> Comece importando a biblioteca Pandas (`as pd`) e use `pd.read_csv()` para carregar o arquivo CSV como um *data frame*."
      ]
    },
    {
      "cell_type": "code",
      "execution_count": 701,
      "id": "nominated-implementation",
      "metadata": {
        "id": "nominated-implementation"
      },
      "outputs": [],
      "source": [
        "import pandas as pd"
      ]
    },
    {
      "cell_type": "code",
      "execution_count": 702,
      "id": "continuing-dietary",
      "metadata": {
        "id": "continuing-dietary"
      },
      "outputs": [],
      "source": [
        "data = pd.read_csv('diabetes130us.csv',keep_default_na=False)"
      ]
    },
    {
      "cell_type": "markdown",
      "id": "cosmetic-inflation",
      "metadata": {
        "id": "cosmetic-inflation"
      },
      "source": [
        "Não mude o nome da variável. Ao longo do restante deste notebook haverá várias menções à variável `data`."
      ]
    },
    {
      "cell_type": "code",
      "execution_count": 703,
      "id": "suited-colony",
      "metadata": {
        "colab": {
          "base_uri": "https://localhost:8080/",
          "height": 635
        },
        "id": "suited-colony",
        "outputId": "25c395db-42e8-4026-e0c5-8dad2883937a"
      },
      "outputs": [
        {
          "output_type": "execute_result",
          "data": {
            "text/plain": [
              "        encounter_id  patient_nbr             race  gender      age weight  \\\n",
              "0            2278392      8222157        Caucasian  Female   [0-10)      ?   \n",
              "1             149190     55629189        Caucasian  Female  [10-20)      ?   \n",
              "2              64410     86047875  AfricanAmerican  Female  [20-30)      ?   \n",
              "3             500364     82442376        Caucasian    Male  [30-40)      ?   \n",
              "4              16680     42519267        Caucasian    Male  [40-50)      ?   \n",
              "...              ...          ...              ...     ...      ...    ...   \n",
              "101761     443847548    100162476  AfricanAmerican    Male  [70-80)      ?   \n",
              "101762     443847782     74694222  AfricanAmerican  Female  [80-90)      ?   \n",
              "101763     443854148     41088789        Caucasian    Male  [70-80)      ?   \n",
              "101764     443857166     31693671        Caucasian  Female  [80-90)      ?   \n",
              "101765     443867222    175429310        Caucasian    Male  [70-80)      ?   \n",
              "\n",
              "        admission_type_id  discharge_disposition_id  admission_source_id  \\\n",
              "0                       6                        25                    1   \n",
              "1                       1                         1                    7   \n",
              "2                       1                         1                    7   \n",
              "3                       1                         1                    7   \n",
              "4                       1                         1                    7   \n",
              "...                   ...                       ...                  ...   \n",
              "101761                  1                         3                    7   \n",
              "101762                  1                         4                    5   \n",
              "101763                  1                         1                    7   \n",
              "101764                  2                         3                    7   \n",
              "101765                  1                         1                    7   \n",
              "\n",
              "        time_in_hospital  ... citoglipton insulin  glyburide-metformin  \\\n",
              "0                      1  ...          No      No                   No   \n",
              "1                      3  ...          No      Up                   No   \n",
              "2                      2  ...          No      No                   No   \n",
              "3                      2  ...          No      Up                   No   \n",
              "4                      1  ...          No  Steady                   No   \n",
              "...                  ...  ...         ...     ...                  ...   \n",
              "101761                 3  ...          No    Down                   No   \n",
              "101762                 5  ...          No  Steady                   No   \n",
              "101763                 1  ...          No    Down                   No   \n",
              "101764                10  ...          No      Up                   No   \n",
              "101765                 6  ...          No      No                   No   \n",
              "\n",
              "        glipizide-metformin  glimepiride-pioglitazone  \\\n",
              "0                        No                        No   \n",
              "1                        No                        No   \n",
              "2                        No                        No   \n",
              "3                        No                        No   \n",
              "4                        No                        No   \n",
              "...                     ...                       ...   \n",
              "101761                   No                        No   \n",
              "101762                   No                        No   \n",
              "101763                   No                        No   \n",
              "101764                   No                        No   \n",
              "101765                   No                        No   \n",
              "\n",
              "        metformin-rosiglitazone  metformin-pioglitazone  change diabetesMed  \\\n",
              "0                            No                      No      No          No   \n",
              "1                            No                      No      Ch         Yes   \n",
              "2                            No                      No      No         Yes   \n",
              "3                            No                      No      Ch         Yes   \n",
              "4                            No                      No      Ch         Yes   \n",
              "...                         ...                     ...     ...         ...   \n",
              "101761                       No                      No      Ch         Yes   \n",
              "101762                       No                      No      No         Yes   \n",
              "101763                       No                      No      Ch         Yes   \n",
              "101764                       No                      No      Ch         Yes   \n",
              "101765                       No                      No      No          No   \n",
              "\n",
              "       readmitted  \n",
              "0              NO  \n",
              "1             >30  \n",
              "2              NO  \n",
              "3              NO  \n",
              "4              NO  \n",
              "...           ...  \n",
              "101761        >30  \n",
              "101762         NO  \n",
              "101763         NO  \n",
              "101764         NO  \n",
              "101765         NO  \n",
              "\n",
              "[101766 rows x 50 columns]"
            ],
            "text/html": [
              "\n",
              "  <div id=\"df-bfa8d332-8a5e-4f13-8235-5f2fa26f3a54\" class=\"colab-df-container\">\n",
              "    <div>\n",
              "<style scoped>\n",
              "    .dataframe tbody tr th:only-of-type {\n",
              "        vertical-align: middle;\n",
              "    }\n",
              "\n",
              "    .dataframe tbody tr th {\n",
              "        vertical-align: top;\n",
              "    }\n",
              "\n",
              "    .dataframe thead th {\n",
              "        text-align: right;\n",
              "    }\n",
              "</style>\n",
              "<table border=\"1\" class=\"dataframe\">\n",
              "  <thead>\n",
              "    <tr style=\"text-align: right;\">\n",
              "      <th></th>\n",
              "      <th>encounter_id</th>\n",
              "      <th>patient_nbr</th>\n",
              "      <th>race</th>\n",
              "      <th>gender</th>\n",
              "      <th>age</th>\n",
              "      <th>weight</th>\n",
              "      <th>admission_type_id</th>\n",
              "      <th>discharge_disposition_id</th>\n",
              "      <th>admission_source_id</th>\n",
              "      <th>time_in_hospital</th>\n",
              "      <th>...</th>\n",
              "      <th>citoglipton</th>\n",
              "      <th>insulin</th>\n",
              "      <th>glyburide-metformin</th>\n",
              "      <th>glipizide-metformin</th>\n",
              "      <th>glimepiride-pioglitazone</th>\n",
              "      <th>metformin-rosiglitazone</th>\n",
              "      <th>metformin-pioglitazone</th>\n",
              "      <th>change</th>\n",
              "      <th>diabetesMed</th>\n",
              "      <th>readmitted</th>\n",
              "    </tr>\n",
              "  </thead>\n",
              "  <tbody>\n",
              "    <tr>\n",
              "      <th>0</th>\n",
              "      <td>2278392</td>\n",
              "      <td>8222157</td>\n",
              "      <td>Caucasian</td>\n",
              "      <td>Female</td>\n",
              "      <td>[0-10)</td>\n",
              "      <td>?</td>\n",
              "      <td>6</td>\n",
              "      <td>25</td>\n",
              "      <td>1</td>\n",
              "      <td>1</td>\n",
              "      <td>...</td>\n",
              "      <td>No</td>\n",
              "      <td>No</td>\n",
              "      <td>No</td>\n",
              "      <td>No</td>\n",
              "      <td>No</td>\n",
              "      <td>No</td>\n",
              "      <td>No</td>\n",
              "      <td>No</td>\n",
              "      <td>No</td>\n",
              "      <td>NO</td>\n",
              "    </tr>\n",
              "    <tr>\n",
              "      <th>1</th>\n",
              "      <td>149190</td>\n",
              "      <td>55629189</td>\n",
              "      <td>Caucasian</td>\n",
              "      <td>Female</td>\n",
              "      <td>[10-20)</td>\n",
              "      <td>?</td>\n",
              "      <td>1</td>\n",
              "      <td>1</td>\n",
              "      <td>7</td>\n",
              "      <td>3</td>\n",
              "      <td>...</td>\n",
              "      <td>No</td>\n",
              "      <td>Up</td>\n",
              "      <td>No</td>\n",
              "      <td>No</td>\n",
              "      <td>No</td>\n",
              "      <td>No</td>\n",
              "      <td>No</td>\n",
              "      <td>Ch</td>\n",
              "      <td>Yes</td>\n",
              "      <td>&gt;30</td>\n",
              "    </tr>\n",
              "    <tr>\n",
              "      <th>2</th>\n",
              "      <td>64410</td>\n",
              "      <td>86047875</td>\n",
              "      <td>AfricanAmerican</td>\n",
              "      <td>Female</td>\n",
              "      <td>[20-30)</td>\n",
              "      <td>?</td>\n",
              "      <td>1</td>\n",
              "      <td>1</td>\n",
              "      <td>7</td>\n",
              "      <td>2</td>\n",
              "      <td>...</td>\n",
              "      <td>No</td>\n",
              "      <td>No</td>\n",
              "      <td>No</td>\n",
              "      <td>No</td>\n",
              "      <td>No</td>\n",
              "      <td>No</td>\n",
              "      <td>No</td>\n",
              "      <td>No</td>\n",
              "      <td>Yes</td>\n",
              "      <td>NO</td>\n",
              "    </tr>\n",
              "    <tr>\n",
              "      <th>3</th>\n",
              "      <td>500364</td>\n",
              "      <td>82442376</td>\n",
              "      <td>Caucasian</td>\n",
              "      <td>Male</td>\n",
              "      <td>[30-40)</td>\n",
              "      <td>?</td>\n",
              "      <td>1</td>\n",
              "      <td>1</td>\n",
              "      <td>7</td>\n",
              "      <td>2</td>\n",
              "      <td>...</td>\n",
              "      <td>No</td>\n",
              "      <td>Up</td>\n",
              "      <td>No</td>\n",
              "      <td>No</td>\n",
              "      <td>No</td>\n",
              "      <td>No</td>\n",
              "      <td>No</td>\n",
              "      <td>Ch</td>\n",
              "      <td>Yes</td>\n",
              "      <td>NO</td>\n",
              "    </tr>\n",
              "    <tr>\n",
              "      <th>4</th>\n",
              "      <td>16680</td>\n",
              "      <td>42519267</td>\n",
              "      <td>Caucasian</td>\n",
              "      <td>Male</td>\n",
              "      <td>[40-50)</td>\n",
              "      <td>?</td>\n",
              "      <td>1</td>\n",
              "      <td>1</td>\n",
              "      <td>7</td>\n",
              "      <td>1</td>\n",
              "      <td>...</td>\n",
              "      <td>No</td>\n",
              "      <td>Steady</td>\n",
              "      <td>No</td>\n",
              "      <td>No</td>\n",
              "      <td>No</td>\n",
              "      <td>No</td>\n",
              "      <td>No</td>\n",
              "      <td>Ch</td>\n",
              "      <td>Yes</td>\n",
              "      <td>NO</td>\n",
              "    </tr>\n",
              "    <tr>\n",
              "      <th>...</th>\n",
              "      <td>...</td>\n",
              "      <td>...</td>\n",
              "      <td>...</td>\n",
              "      <td>...</td>\n",
              "      <td>...</td>\n",
              "      <td>...</td>\n",
              "      <td>...</td>\n",
              "      <td>...</td>\n",
              "      <td>...</td>\n",
              "      <td>...</td>\n",
              "      <td>...</td>\n",
              "      <td>...</td>\n",
              "      <td>...</td>\n",
              "      <td>...</td>\n",
              "      <td>...</td>\n",
              "      <td>...</td>\n",
              "      <td>...</td>\n",
              "      <td>...</td>\n",
              "      <td>...</td>\n",
              "      <td>...</td>\n",
              "      <td>...</td>\n",
              "    </tr>\n",
              "    <tr>\n",
              "      <th>101761</th>\n",
              "      <td>443847548</td>\n",
              "      <td>100162476</td>\n",
              "      <td>AfricanAmerican</td>\n",
              "      <td>Male</td>\n",
              "      <td>[70-80)</td>\n",
              "      <td>?</td>\n",
              "      <td>1</td>\n",
              "      <td>3</td>\n",
              "      <td>7</td>\n",
              "      <td>3</td>\n",
              "      <td>...</td>\n",
              "      <td>No</td>\n",
              "      <td>Down</td>\n",
              "      <td>No</td>\n",
              "      <td>No</td>\n",
              "      <td>No</td>\n",
              "      <td>No</td>\n",
              "      <td>No</td>\n",
              "      <td>Ch</td>\n",
              "      <td>Yes</td>\n",
              "      <td>&gt;30</td>\n",
              "    </tr>\n",
              "    <tr>\n",
              "      <th>101762</th>\n",
              "      <td>443847782</td>\n",
              "      <td>74694222</td>\n",
              "      <td>AfricanAmerican</td>\n",
              "      <td>Female</td>\n",
              "      <td>[80-90)</td>\n",
              "      <td>?</td>\n",
              "      <td>1</td>\n",
              "      <td>4</td>\n",
              "      <td>5</td>\n",
              "      <td>5</td>\n",
              "      <td>...</td>\n",
              "      <td>No</td>\n",
              "      <td>Steady</td>\n",
              "      <td>No</td>\n",
              "      <td>No</td>\n",
              "      <td>No</td>\n",
              "      <td>No</td>\n",
              "      <td>No</td>\n",
              "      <td>No</td>\n",
              "      <td>Yes</td>\n",
              "      <td>NO</td>\n",
              "    </tr>\n",
              "    <tr>\n",
              "      <th>101763</th>\n",
              "      <td>443854148</td>\n",
              "      <td>41088789</td>\n",
              "      <td>Caucasian</td>\n",
              "      <td>Male</td>\n",
              "      <td>[70-80)</td>\n",
              "      <td>?</td>\n",
              "      <td>1</td>\n",
              "      <td>1</td>\n",
              "      <td>7</td>\n",
              "      <td>1</td>\n",
              "      <td>...</td>\n",
              "      <td>No</td>\n",
              "      <td>Down</td>\n",
              "      <td>No</td>\n",
              "      <td>No</td>\n",
              "      <td>No</td>\n",
              "      <td>No</td>\n",
              "      <td>No</td>\n",
              "      <td>Ch</td>\n",
              "      <td>Yes</td>\n",
              "      <td>NO</td>\n",
              "    </tr>\n",
              "    <tr>\n",
              "      <th>101764</th>\n",
              "      <td>443857166</td>\n",
              "      <td>31693671</td>\n",
              "      <td>Caucasian</td>\n",
              "      <td>Female</td>\n",
              "      <td>[80-90)</td>\n",
              "      <td>?</td>\n",
              "      <td>2</td>\n",
              "      <td>3</td>\n",
              "      <td>7</td>\n",
              "      <td>10</td>\n",
              "      <td>...</td>\n",
              "      <td>No</td>\n",
              "      <td>Up</td>\n",
              "      <td>No</td>\n",
              "      <td>No</td>\n",
              "      <td>No</td>\n",
              "      <td>No</td>\n",
              "      <td>No</td>\n",
              "      <td>Ch</td>\n",
              "      <td>Yes</td>\n",
              "      <td>NO</td>\n",
              "    </tr>\n",
              "    <tr>\n",
              "      <th>101765</th>\n",
              "      <td>443867222</td>\n",
              "      <td>175429310</td>\n",
              "      <td>Caucasian</td>\n",
              "      <td>Male</td>\n",
              "      <td>[70-80)</td>\n",
              "      <td>?</td>\n",
              "      <td>1</td>\n",
              "      <td>1</td>\n",
              "      <td>7</td>\n",
              "      <td>6</td>\n",
              "      <td>...</td>\n",
              "      <td>No</td>\n",
              "      <td>No</td>\n",
              "      <td>No</td>\n",
              "      <td>No</td>\n",
              "      <td>No</td>\n",
              "      <td>No</td>\n",
              "      <td>No</td>\n",
              "      <td>No</td>\n",
              "      <td>No</td>\n",
              "      <td>NO</td>\n",
              "    </tr>\n",
              "  </tbody>\n",
              "</table>\n",
              "<p>101766 rows × 50 columns</p>\n",
              "</div>\n",
              "    <div class=\"colab-df-buttons\">\n",
              "\n",
              "  <div class=\"colab-df-container\">\n",
              "    <button class=\"colab-df-convert\" onclick=\"convertToInteractive('df-bfa8d332-8a5e-4f13-8235-5f2fa26f3a54')\"\n",
              "            title=\"Convert this dataframe to an interactive table.\"\n",
              "            style=\"display:none;\">\n",
              "\n",
              "  <svg xmlns=\"http://www.w3.org/2000/svg\" height=\"24px\" viewBox=\"0 -960 960 960\">\n",
              "    <path d=\"M120-120v-720h720v720H120Zm60-500h600v-160H180v160Zm220 220h160v-160H400v160Zm0 220h160v-160H400v160ZM180-400h160v-160H180v160Zm440 0h160v-160H620v160ZM180-180h160v-160H180v160Zm440 0h160v-160H620v160Z\"/>\n",
              "  </svg>\n",
              "    </button>\n",
              "\n",
              "  <style>\n",
              "    .colab-df-container {\n",
              "      display:flex;\n",
              "      gap: 12px;\n",
              "    }\n",
              "\n",
              "    .colab-df-convert {\n",
              "      background-color: #E8F0FE;\n",
              "      border: none;\n",
              "      border-radius: 50%;\n",
              "      cursor: pointer;\n",
              "      display: none;\n",
              "      fill: #1967D2;\n",
              "      height: 32px;\n",
              "      padding: 0 0 0 0;\n",
              "      width: 32px;\n",
              "    }\n",
              "\n",
              "    .colab-df-convert:hover {\n",
              "      background-color: #E2EBFA;\n",
              "      box-shadow: 0px 1px 2px rgba(60, 64, 67, 0.3), 0px 1px 3px 1px rgba(60, 64, 67, 0.15);\n",
              "      fill: #174EA6;\n",
              "    }\n",
              "\n",
              "    .colab-df-buttons div {\n",
              "      margin-bottom: 4px;\n",
              "    }\n",
              "\n",
              "    [theme=dark] .colab-df-convert {\n",
              "      background-color: #3B4455;\n",
              "      fill: #D2E3FC;\n",
              "    }\n",
              "\n",
              "    [theme=dark] .colab-df-convert:hover {\n",
              "      background-color: #434B5C;\n",
              "      box-shadow: 0px 1px 3px 1px rgba(0, 0, 0, 0.15);\n",
              "      filter: drop-shadow(0px 1px 2px rgba(0, 0, 0, 0.3));\n",
              "      fill: #FFFFFF;\n",
              "    }\n",
              "  </style>\n",
              "\n",
              "    <script>\n",
              "      const buttonEl =\n",
              "        document.querySelector('#df-bfa8d332-8a5e-4f13-8235-5f2fa26f3a54 button.colab-df-convert');\n",
              "      buttonEl.style.display =\n",
              "        google.colab.kernel.accessAllowed ? 'block' : 'none';\n",
              "\n",
              "      async function convertToInteractive(key) {\n",
              "        const element = document.querySelector('#df-bfa8d332-8a5e-4f13-8235-5f2fa26f3a54');\n",
              "        const dataTable =\n",
              "          await google.colab.kernel.invokeFunction('convertToInteractive',\n",
              "                                                    [key], {});\n",
              "        if (!dataTable) return;\n",
              "\n",
              "        const docLinkHtml = 'Like what you see? Visit the ' +\n",
              "          '<a target=\"_blank\" href=https://colab.research.google.com/notebooks/data_table.ipynb>data table notebook</a>'\n",
              "          + ' to learn more about interactive tables.';\n",
              "        element.innerHTML = '';\n",
              "        dataTable['output_type'] = 'display_data';\n",
              "        await google.colab.output.renderOutput(dataTable, element);\n",
              "        const docLink = document.createElement('div');\n",
              "        docLink.innerHTML = docLinkHtml;\n",
              "        element.appendChild(docLink);\n",
              "      }\n",
              "    </script>\n",
              "  </div>\n",
              "\n",
              "\n",
              "<div id=\"df-84438766-3c0c-4104-a576-d895f675a33d\">\n",
              "  <button class=\"colab-df-quickchart\" onclick=\"quickchart('df-84438766-3c0c-4104-a576-d895f675a33d')\"\n",
              "            title=\"Suggest charts\"\n",
              "            style=\"display:none;\">\n",
              "\n",
              "<svg xmlns=\"http://www.w3.org/2000/svg\" height=\"24px\"viewBox=\"0 0 24 24\"\n",
              "     width=\"24px\">\n",
              "    <g>\n",
              "        <path d=\"M19 3H5c-1.1 0-2 .9-2 2v14c0 1.1.9 2 2 2h14c1.1 0 2-.9 2-2V5c0-1.1-.9-2-2-2zM9 17H7v-7h2v7zm4 0h-2V7h2v10zm4 0h-2v-4h2v4z\"/>\n",
              "    </g>\n",
              "</svg>\n",
              "  </button>\n",
              "\n",
              "<style>\n",
              "  .colab-df-quickchart {\n",
              "      --bg-color: #E8F0FE;\n",
              "      --fill-color: #1967D2;\n",
              "      --hover-bg-color: #E2EBFA;\n",
              "      --hover-fill-color: #174EA6;\n",
              "      --disabled-fill-color: #AAA;\n",
              "      --disabled-bg-color: #DDD;\n",
              "  }\n",
              "\n",
              "  [theme=dark] .colab-df-quickchart {\n",
              "      --bg-color: #3B4455;\n",
              "      --fill-color: #D2E3FC;\n",
              "      --hover-bg-color: #434B5C;\n",
              "      --hover-fill-color: #FFFFFF;\n",
              "      --disabled-bg-color: #3B4455;\n",
              "      --disabled-fill-color: #666;\n",
              "  }\n",
              "\n",
              "  .colab-df-quickchart {\n",
              "    background-color: var(--bg-color);\n",
              "    border: none;\n",
              "    border-radius: 50%;\n",
              "    cursor: pointer;\n",
              "    display: none;\n",
              "    fill: var(--fill-color);\n",
              "    height: 32px;\n",
              "    padding: 0;\n",
              "    width: 32px;\n",
              "  }\n",
              "\n",
              "  .colab-df-quickchart:hover {\n",
              "    background-color: var(--hover-bg-color);\n",
              "    box-shadow: 0 1px 2px rgba(60, 64, 67, 0.3), 0 1px 3px 1px rgba(60, 64, 67, 0.15);\n",
              "    fill: var(--button-hover-fill-color);\n",
              "  }\n",
              "\n",
              "  .colab-df-quickchart-complete:disabled,\n",
              "  .colab-df-quickchart-complete:disabled:hover {\n",
              "    background-color: var(--disabled-bg-color);\n",
              "    fill: var(--disabled-fill-color);\n",
              "    box-shadow: none;\n",
              "  }\n",
              "\n",
              "  .colab-df-spinner {\n",
              "    border: 2px solid var(--fill-color);\n",
              "    border-color: transparent;\n",
              "    border-bottom-color: var(--fill-color);\n",
              "    animation:\n",
              "      spin 1s steps(1) infinite;\n",
              "  }\n",
              "\n",
              "  @keyframes spin {\n",
              "    0% {\n",
              "      border-color: transparent;\n",
              "      border-bottom-color: var(--fill-color);\n",
              "      border-left-color: var(--fill-color);\n",
              "    }\n",
              "    20% {\n",
              "      border-color: transparent;\n",
              "      border-left-color: var(--fill-color);\n",
              "      border-top-color: var(--fill-color);\n",
              "    }\n",
              "    30% {\n",
              "      border-color: transparent;\n",
              "      border-left-color: var(--fill-color);\n",
              "      border-top-color: var(--fill-color);\n",
              "      border-right-color: var(--fill-color);\n",
              "    }\n",
              "    40% {\n",
              "      border-color: transparent;\n",
              "      border-right-color: var(--fill-color);\n",
              "      border-top-color: var(--fill-color);\n",
              "    }\n",
              "    60% {\n",
              "      border-color: transparent;\n",
              "      border-right-color: var(--fill-color);\n",
              "    }\n",
              "    80% {\n",
              "      border-color: transparent;\n",
              "      border-right-color: var(--fill-color);\n",
              "      border-bottom-color: var(--fill-color);\n",
              "    }\n",
              "    90% {\n",
              "      border-color: transparent;\n",
              "      border-bottom-color: var(--fill-color);\n",
              "    }\n",
              "  }\n",
              "</style>\n",
              "\n",
              "  <script>\n",
              "    async function quickchart(key) {\n",
              "      const quickchartButtonEl =\n",
              "        document.querySelector('#' + key + ' button');\n",
              "      quickchartButtonEl.disabled = true;  // To prevent multiple clicks.\n",
              "      quickchartButtonEl.classList.add('colab-df-spinner');\n",
              "      try {\n",
              "        const charts = await google.colab.kernel.invokeFunction(\n",
              "            'suggestCharts', [key], {});\n",
              "      } catch (error) {\n",
              "        console.error('Error during call to suggestCharts:', error);\n",
              "      }\n",
              "      quickchartButtonEl.classList.remove('colab-df-spinner');\n",
              "      quickchartButtonEl.classList.add('colab-df-quickchart-complete');\n",
              "    }\n",
              "    (() => {\n",
              "      let quickchartButtonEl =\n",
              "        document.querySelector('#df-84438766-3c0c-4104-a576-d895f675a33d button');\n",
              "      quickchartButtonEl.style.display =\n",
              "        google.colab.kernel.accessAllowed ? 'block' : 'none';\n",
              "    })();\n",
              "  </script>\n",
              "</div>\n",
              "    </div>\n",
              "  </div>\n"
            ],
            "application/vnd.google.colaboratory.intrinsic+json": {
              "type": "dataframe",
              "variable_name": "data"
            }
          },
          "metadata": {},
          "execution_count": 703
        }
      ],
      "source": [
        "data"
      ]
    },
    {
      "cell_type": "markdown",
      "id": "medieval-temperature",
      "metadata": {
        "id": "medieval-temperature"
      },
      "source": [
        "#### Exercício 2\n",
        "\n",
        "> Use `data.columns` para ver a lista completa de atributos."
      ]
    },
    {
      "cell_type": "code",
      "execution_count": 704,
      "id": "89c465df",
      "metadata": {
        "colab": {
          "base_uri": "https://localhost:8080/"
        },
        "id": "89c465df",
        "outputId": "eff249a9-98fd-4db7-ab7b-6b955652d86c"
      },
      "outputs": [
        {
          "output_type": "stream",
          "name": "stdout",
          "text": [
            "50\n"
          ]
        }
      ],
      "source": [
        "data.columns\n",
        "print(len(data.columns))"
      ]
    },
    {
      "cell_type": "markdown",
      "id": "5ec6aacc",
      "metadata": {
        "id": "5ec6aacc"
      },
      "source": [
        "A lista deve conter 50 valores."
      ]
    },
    {
      "cell_type": "markdown",
      "id": "excessive-apache",
      "metadata": {
        "id": "excessive-apache"
      },
      "source": [
        "### Conversão de símbolos `?`"
      ]
    },
    {
      "cell_type": "markdown",
      "id": "printable-timer",
      "metadata": {
        "id": "printable-timer"
      },
      "source": [
        "Uma característica desse conjunto é que os valores ausentes são representados com o símbolo `?`. Essa é, na verdade, a representação usual em Aprendizado de Máquina. A representação por meio de NAN ou `None` é uma característica de iplementação das biblioteas em Python.\n",
        "\n",
        "Para facilitar a manipulação dos dados, a primeira coisa a se fazer é substituir as ocorrências da string `'?'` por `np.nan`."
      ]
    },
    {
      "cell_type": "markdown",
      "id": "loved-welcome",
      "metadata": {
        "id": "loved-welcome"
      },
      "source": [
        "#### Exercício 3\n",
        "\n",
        "> Importe o NumPy (`as np`)."
      ]
    },
    {
      "cell_type": "code",
      "execution_count": 705,
      "id": "22bc5c5a",
      "metadata": {
        "id": "22bc5c5a"
      },
      "outputs": [],
      "source": [
        "import numpy as np"
      ]
    },
    {
      "cell_type": "markdown",
      "id": "searching-tiffany",
      "metadata": {
        "id": "searching-tiffany"
      },
      "source": [
        "Usando `data == '?'`, podemos obter todas as ocorrências dessa string."
      ]
    },
    {
      "cell_type": "code",
      "execution_count": 706,
      "id": "severe-practice",
      "metadata": {
        "colab": {
          "base_uri": "https://localhost:8080/",
          "height": 461
        },
        "id": "severe-practice",
        "outputId": "09635d8e-d047-4c54-8910-1a578c7cfeb7"
      },
      "outputs": [
        {
          "output_type": "execute_result",
          "data": {
            "text/plain": [
              "        encounter_id  patient_nbr   race  gender    age  weight  \\\n",
              "0              False        False  False   False  False    True   \n",
              "1              False        False  False   False  False    True   \n",
              "2              False        False  False   False  False    True   \n",
              "3              False        False  False   False  False    True   \n",
              "4              False        False  False   False  False    True   \n",
              "...              ...          ...    ...     ...    ...     ...   \n",
              "101761         False        False  False   False  False    True   \n",
              "101762         False        False  False   False  False    True   \n",
              "101763         False        False  False   False  False    True   \n",
              "101764         False        False  False   False  False    True   \n",
              "101765         False        False  False   False  False    True   \n",
              "\n",
              "        admission_type_id  discharge_disposition_id  admission_source_id  \\\n",
              "0                   False                     False                False   \n",
              "1                   False                     False                False   \n",
              "2                   False                     False                False   \n",
              "3                   False                     False                False   \n",
              "4                   False                     False                False   \n",
              "...                   ...                       ...                  ...   \n",
              "101761              False                     False                False   \n",
              "101762              False                     False                False   \n",
              "101763              False                     False                False   \n",
              "101764              False                     False                False   \n",
              "101765              False                     False                False   \n",
              "\n",
              "        time_in_hospital  ...  citoglipton  insulin  glyburide-metformin  \\\n",
              "0                  False  ...        False    False                False   \n",
              "1                  False  ...        False    False                False   \n",
              "2                  False  ...        False    False                False   \n",
              "3                  False  ...        False    False                False   \n",
              "4                  False  ...        False    False                False   \n",
              "...                  ...  ...          ...      ...                  ...   \n",
              "101761             False  ...        False    False                False   \n",
              "101762             False  ...        False    False                False   \n",
              "101763             False  ...        False    False                False   \n",
              "101764             False  ...        False    False                False   \n",
              "101765             False  ...        False    False                False   \n",
              "\n",
              "        glipizide-metformin  glimepiride-pioglitazone  \\\n",
              "0                     False                     False   \n",
              "1                     False                     False   \n",
              "2                     False                     False   \n",
              "3                     False                     False   \n",
              "4                     False                     False   \n",
              "...                     ...                       ...   \n",
              "101761                False                     False   \n",
              "101762                False                     False   \n",
              "101763                False                     False   \n",
              "101764                False                     False   \n",
              "101765                False                     False   \n",
              "\n",
              "        metformin-rosiglitazone  metformin-pioglitazone  change  diabetesMed  \\\n",
              "0                         False                   False   False        False   \n",
              "1                         False                   False   False        False   \n",
              "2                         False                   False   False        False   \n",
              "3                         False                   False   False        False   \n",
              "4                         False                   False   False        False   \n",
              "...                         ...                     ...     ...          ...   \n",
              "101761                    False                   False   False        False   \n",
              "101762                    False                   False   False        False   \n",
              "101763                    False                   False   False        False   \n",
              "101764                    False                   False   False        False   \n",
              "101765                    False                   False   False        False   \n",
              "\n",
              "        readmitted  \n",
              "0            False  \n",
              "1            False  \n",
              "2            False  \n",
              "3            False  \n",
              "4            False  \n",
              "...            ...  \n",
              "101761       False  \n",
              "101762       False  \n",
              "101763       False  \n",
              "101764       False  \n",
              "101765       False  \n",
              "\n",
              "[101766 rows x 50 columns]"
            ],
            "text/html": [
              "\n",
              "  <div id=\"df-3c12f4ea-f2a5-4694-853f-7233b54a7c91\" class=\"colab-df-container\">\n",
              "    <div>\n",
              "<style scoped>\n",
              "    .dataframe tbody tr th:only-of-type {\n",
              "        vertical-align: middle;\n",
              "    }\n",
              "\n",
              "    .dataframe tbody tr th {\n",
              "        vertical-align: top;\n",
              "    }\n",
              "\n",
              "    .dataframe thead th {\n",
              "        text-align: right;\n",
              "    }\n",
              "</style>\n",
              "<table border=\"1\" class=\"dataframe\">\n",
              "  <thead>\n",
              "    <tr style=\"text-align: right;\">\n",
              "      <th></th>\n",
              "      <th>encounter_id</th>\n",
              "      <th>patient_nbr</th>\n",
              "      <th>race</th>\n",
              "      <th>gender</th>\n",
              "      <th>age</th>\n",
              "      <th>weight</th>\n",
              "      <th>admission_type_id</th>\n",
              "      <th>discharge_disposition_id</th>\n",
              "      <th>admission_source_id</th>\n",
              "      <th>time_in_hospital</th>\n",
              "      <th>...</th>\n",
              "      <th>citoglipton</th>\n",
              "      <th>insulin</th>\n",
              "      <th>glyburide-metformin</th>\n",
              "      <th>glipizide-metformin</th>\n",
              "      <th>glimepiride-pioglitazone</th>\n",
              "      <th>metformin-rosiglitazone</th>\n",
              "      <th>metformin-pioglitazone</th>\n",
              "      <th>change</th>\n",
              "      <th>diabetesMed</th>\n",
              "      <th>readmitted</th>\n",
              "    </tr>\n",
              "  </thead>\n",
              "  <tbody>\n",
              "    <tr>\n",
              "      <th>0</th>\n",
              "      <td>False</td>\n",
              "      <td>False</td>\n",
              "      <td>False</td>\n",
              "      <td>False</td>\n",
              "      <td>False</td>\n",
              "      <td>True</td>\n",
              "      <td>False</td>\n",
              "      <td>False</td>\n",
              "      <td>False</td>\n",
              "      <td>False</td>\n",
              "      <td>...</td>\n",
              "      <td>False</td>\n",
              "      <td>False</td>\n",
              "      <td>False</td>\n",
              "      <td>False</td>\n",
              "      <td>False</td>\n",
              "      <td>False</td>\n",
              "      <td>False</td>\n",
              "      <td>False</td>\n",
              "      <td>False</td>\n",
              "      <td>False</td>\n",
              "    </tr>\n",
              "    <tr>\n",
              "      <th>1</th>\n",
              "      <td>False</td>\n",
              "      <td>False</td>\n",
              "      <td>False</td>\n",
              "      <td>False</td>\n",
              "      <td>False</td>\n",
              "      <td>True</td>\n",
              "      <td>False</td>\n",
              "      <td>False</td>\n",
              "      <td>False</td>\n",
              "      <td>False</td>\n",
              "      <td>...</td>\n",
              "      <td>False</td>\n",
              "      <td>False</td>\n",
              "      <td>False</td>\n",
              "      <td>False</td>\n",
              "      <td>False</td>\n",
              "      <td>False</td>\n",
              "      <td>False</td>\n",
              "      <td>False</td>\n",
              "      <td>False</td>\n",
              "      <td>False</td>\n",
              "    </tr>\n",
              "    <tr>\n",
              "      <th>2</th>\n",
              "      <td>False</td>\n",
              "      <td>False</td>\n",
              "      <td>False</td>\n",
              "      <td>False</td>\n",
              "      <td>False</td>\n",
              "      <td>True</td>\n",
              "      <td>False</td>\n",
              "      <td>False</td>\n",
              "      <td>False</td>\n",
              "      <td>False</td>\n",
              "      <td>...</td>\n",
              "      <td>False</td>\n",
              "      <td>False</td>\n",
              "      <td>False</td>\n",
              "      <td>False</td>\n",
              "      <td>False</td>\n",
              "      <td>False</td>\n",
              "      <td>False</td>\n",
              "      <td>False</td>\n",
              "      <td>False</td>\n",
              "      <td>False</td>\n",
              "    </tr>\n",
              "    <tr>\n",
              "      <th>3</th>\n",
              "      <td>False</td>\n",
              "      <td>False</td>\n",
              "      <td>False</td>\n",
              "      <td>False</td>\n",
              "      <td>False</td>\n",
              "      <td>True</td>\n",
              "      <td>False</td>\n",
              "      <td>False</td>\n",
              "      <td>False</td>\n",
              "      <td>False</td>\n",
              "      <td>...</td>\n",
              "      <td>False</td>\n",
              "      <td>False</td>\n",
              "      <td>False</td>\n",
              "      <td>False</td>\n",
              "      <td>False</td>\n",
              "      <td>False</td>\n",
              "      <td>False</td>\n",
              "      <td>False</td>\n",
              "      <td>False</td>\n",
              "      <td>False</td>\n",
              "    </tr>\n",
              "    <tr>\n",
              "      <th>4</th>\n",
              "      <td>False</td>\n",
              "      <td>False</td>\n",
              "      <td>False</td>\n",
              "      <td>False</td>\n",
              "      <td>False</td>\n",
              "      <td>True</td>\n",
              "      <td>False</td>\n",
              "      <td>False</td>\n",
              "      <td>False</td>\n",
              "      <td>False</td>\n",
              "      <td>...</td>\n",
              "      <td>False</td>\n",
              "      <td>False</td>\n",
              "      <td>False</td>\n",
              "      <td>False</td>\n",
              "      <td>False</td>\n",
              "      <td>False</td>\n",
              "      <td>False</td>\n",
              "      <td>False</td>\n",
              "      <td>False</td>\n",
              "      <td>False</td>\n",
              "    </tr>\n",
              "    <tr>\n",
              "      <th>...</th>\n",
              "      <td>...</td>\n",
              "      <td>...</td>\n",
              "      <td>...</td>\n",
              "      <td>...</td>\n",
              "      <td>...</td>\n",
              "      <td>...</td>\n",
              "      <td>...</td>\n",
              "      <td>...</td>\n",
              "      <td>...</td>\n",
              "      <td>...</td>\n",
              "      <td>...</td>\n",
              "      <td>...</td>\n",
              "      <td>...</td>\n",
              "      <td>...</td>\n",
              "      <td>...</td>\n",
              "      <td>...</td>\n",
              "      <td>...</td>\n",
              "      <td>...</td>\n",
              "      <td>...</td>\n",
              "      <td>...</td>\n",
              "      <td>...</td>\n",
              "    </tr>\n",
              "    <tr>\n",
              "      <th>101761</th>\n",
              "      <td>False</td>\n",
              "      <td>False</td>\n",
              "      <td>False</td>\n",
              "      <td>False</td>\n",
              "      <td>False</td>\n",
              "      <td>True</td>\n",
              "      <td>False</td>\n",
              "      <td>False</td>\n",
              "      <td>False</td>\n",
              "      <td>False</td>\n",
              "      <td>...</td>\n",
              "      <td>False</td>\n",
              "      <td>False</td>\n",
              "      <td>False</td>\n",
              "      <td>False</td>\n",
              "      <td>False</td>\n",
              "      <td>False</td>\n",
              "      <td>False</td>\n",
              "      <td>False</td>\n",
              "      <td>False</td>\n",
              "      <td>False</td>\n",
              "    </tr>\n",
              "    <tr>\n",
              "      <th>101762</th>\n",
              "      <td>False</td>\n",
              "      <td>False</td>\n",
              "      <td>False</td>\n",
              "      <td>False</td>\n",
              "      <td>False</td>\n",
              "      <td>True</td>\n",
              "      <td>False</td>\n",
              "      <td>False</td>\n",
              "      <td>False</td>\n",
              "      <td>False</td>\n",
              "      <td>...</td>\n",
              "      <td>False</td>\n",
              "      <td>False</td>\n",
              "      <td>False</td>\n",
              "      <td>False</td>\n",
              "      <td>False</td>\n",
              "      <td>False</td>\n",
              "      <td>False</td>\n",
              "      <td>False</td>\n",
              "      <td>False</td>\n",
              "      <td>False</td>\n",
              "    </tr>\n",
              "    <tr>\n",
              "      <th>101763</th>\n",
              "      <td>False</td>\n",
              "      <td>False</td>\n",
              "      <td>False</td>\n",
              "      <td>False</td>\n",
              "      <td>False</td>\n",
              "      <td>True</td>\n",
              "      <td>False</td>\n",
              "      <td>False</td>\n",
              "      <td>False</td>\n",
              "      <td>False</td>\n",
              "      <td>...</td>\n",
              "      <td>False</td>\n",
              "      <td>False</td>\n",
              "      <td>False</td>\n",
              "      <td>False</td>\n",
              "      <td>False</td>\n",
              "      <td>False</td>\n",
              "      <td>False</td>\n",
              "      <td>False</td>\n",
              "      <td>False</td>\n",
              "      <td>False</td>\n",
              "    </tr>\n",
              "    <tr>\n",
              "      <th>101764</th>\n",
              "      <td>False</td>\n",
              "      <td>False</td>\n",
              "      <td>False</td>\n",
              "      <td>False</td>\n",
              "      <td>False</td>\n",
              "      <td>True</td>\n",
              "      <td>False</td>\n",
              "      <td>False</td>\n",
              "      <td>False</td>\n",
              "      <td>False</td>\n",
              "      <td>...</td>\n",
              "      <td>False</td>\n",
              "      <td>False</td>\n",
              "      <td>False</td>\n",
              "      <td>False</td>\n",
              "      <td>False</td>\n",
              "      <td>False</td>\n",
              "      <td>False</td>\n",
              "      <td>False</td>\n",
              "      <td>False</td>\n",
              "      <td>False</td>\n",
              "    </tr>\n",
              "    <tr>\n",
              "      <th>101765</th>\n",
              "      <td>False</td>\n",
              "      <td>False</td>\n",
              "      <td>False</td>\n",
              "      <td>False</td>\n",
              "      <td>False</td>\n",
              "      <td>True</td>\n",
              "      <td>False</td>\n",
              "      <td>False</td>\n",
              "      <td>False</td>\n",
              "      <td>False</td>\n",
              "      <td>...</td>\n",
              "      <td>False</td>\n",
              "      <td>False</td>\n",
              "      <td>False</td>\n",
              "      <td>False</td>\n",
              "      <td>False</td>\n",
              "      <td>False</td>\n",
              "      <td>False</td>\n",
              "      <td>False</td>\n",
              "      <td>False</td>\n",
              "      <td>False</td>\n",
              "    </tr>\n",
              "  </tbody>\n",
              "</table>\n",
              "<p>101766 rows × 50 columns</p>\n",
              "</div>\n",
              "    <div class=\"colab-df-buttons\">\n",
              "\n",
              "  <div class=\"colab-df-container\">\n",
              "    <button class=\"colab-df-convert\" onclick=\"convertToInteractive('df-3c12f4ea-f2a5-4694-853f-7233b54a7c91')\"\n",
              "            title=\"Convert this dataframe to an interactive table.\"\n",
              "            style=\"display:none;\">\n",
              "\n",
              "  <svg xmlns=\"http://www.w3.org/2000/svg\" height=\"24px\" viewBox=\"0 -960 960 960\">\n",
              "    <path d=\"M120-120v-720h720v720H120Zm60-500h600v-160H180v160Zm220 220h160v-160H400v160Zm0 220h160v-160H400v160ZM180-400h160v-160H180v160Zm440 0h160v-160H620v160ZM180-180h160v-160H180v160Zm440 0h160v-160H620v160Z\"/>\n",
              "  </svg>\n",
              "    </button>\n",
              "\n",
              "  <style>\n",
              "    .colab-df-container {\n",
              "      display:flex;\n",
              "      gap: 12px;\n",
              "    }\n",
              "\n",
              "    .colab-df-convert {\n",
              "      background-color: #E8F0FE;\n",
              "      border: none;\n",
              "      border-radius: 50%;\n",
              "      cursor: pointer;\n",
              "      display: none;\n",
              "      fill: #1967D2;\n",
              "      height: 32px;\n",
              "      padding: 0 0 0 0;\n",
              "      width: 32px;\n",
              "    }\n",
              "\n",
              "    .colab-df-convert:hover {\n",
              "      background-color: #E2EBFA;\n",
              "      box-shadow: 0px 1px 2px rgba(60, 64, 67, 0.3), 0px 1px 3px 1px rgba(60, 64, 67, 0.15);\n",
              "      fill: #174EA6;\n",
              "    }\n",
              "\n",
              "    .colab-df-buttons div {\n",
              "      margin-bottom: 4px;\n",
              "    }\n",
              "\n",
              "    [theme=dark] .colab-df-convert {\n",
              "      background-color: #3B4455;\n",
              "      fill: #D2E3FC;\n",
              "    }\n",
              "\n",
              "    [theme=dark] .colab-df-convert:hover {\n",
              "      background-color: #434B5C;\n",
              "      box-shadow: 0px 1px 3px 1px rgba(0, 0, 0, 0.15);\n",
              "      filter: drop-shadow(0px 1px 2px rgba(0, 0, 0, 0.3));\n",
              "      fill: #FFFFFF;\n",
              "    }\n",
              "  </style>\n",
              "\n",
              "    <script>\n",
              "      const buttonEl =\n",
              "        document.querySelector('#df-3c12f4ea-f2a5-4694-853f-7233b54a7c91 button.colab-df-convert');\n",
              "      buttonEl.style.display =\n",
              "        google.colab.kernel.accessAllowed ? 'block' : 'none';\n",
              "\n",
              "      async function convertToInteractive(key) {\n",
              "        const element = document.querySelector('#df-3c12f4ea-f2a5-4694-853f-7233b54a7c91');\n",
              "        const dataTable =\n",
              "          await google.colab.kernel.invokeFunction('convertToInteractive',\n",
              "                                                    [key], {});\n",
              "        if (!dataTable) return;\n",
              "\n",
              "        const docLinkHtml = 'Like what you see? Visit the ' +\n",
              "          '<a target=\"_blank\" href=https://colab.research.google.com/notebooks/data_table.ipynb>data table notebook</a>'\n",
              "          + ' to learn more about interactive tables.';\n",
              "        element.innerHTML = '';\n",
              "        dataTable['output_type'] = 'display_data';\n",
              "        await google.colab.output.renderOutput(dataTable, element);\n",
              "        const docLink = document.createElement('div');\n",
              "        docLink.innerHTML = docLinkHtml;\n",
              "        element.appendChild(docLink);\n",
              "      }\n",
              "    </script>\n",
              "  </div>\n",
              "\n",
              "\n",
              "<div id=\"df-c78b69f0-26c8-4ddb-8a06-611096fafbcc\">\n",
              "  <button class=\"colab-df-quickchart\" onclick=\"quickchart('df-c78b69f0-26c8-4ddb-8a06-611096fafbcc')\"\n",
              "            title=\"Suggest charts\"\n",
              "            style=\"display:none;\">\n",
              "\n",
              "<svg xmlns=\"http://www.w3.org/2000/svg\" height=\"24px\"viewBox=\"0 0 24 24\"\n",
              "     width=\"24px\">\n",
              "    <g>\n",
              "        <path d=\"M19 3H5c-1.1 0-2 .9-2 2v14c0 1.1.9 2 2 2h14c1.1 0 2-.9 2-2V5c0-1.1-.9-2-2-2zM9 17H7v-7h2v7zm4 0h-2V7h2v10zm4 0h-2v-4h2v4z\"/>\n",
              "    </g>\n",
              "</svg>\n",
              "  </button>\n",
              "\n",
              "<style>\n",
              "  .colab-df-quickchart {\n",
              "      --bg-color: #E8F0FE;\n",
              "      --fill-color: #1967D2;\n",
              "      --hover-bg-color: #E2EBFA;\n",
              "      --hover-fill-color: #174EA6;\n",
              "      --disabled-fill-color: #AAA;\n",
              "      --disabled-bg-color: #DDD;\n",
              "  }\n",
              "\n",
              "  [theme=dark] .colab-df-quickchart {\n",
              "      --bg-color: #3B4455;\n",
              "      --fill-color: #D2E3FC;\n",
              "      --hover-bg-color: #434B5C;\n",
              "      --hover-fill-color: #FFFFFF;\n",
              "      --disabled-bg-color: #3B4455;\n",
              "      --disabled-fill-color: #666;\n",
              "  }\n",
              "\n",
              "  .colab-df-quickchart {\n",
              "    background-color: var(--bg-color);\n",
              "    border: none;\n",
              "    border-radius: 50%;\n",
              "    cursor: pointer;\n",
              "    display: none;\n",
              "    fill: var(--fill-color);\n",
              "    height: 32px;\n",
              "    padding: 0;\n",
              "    width: 32px;\n",
              "  }\n",
              "\n",
              "  .colab-df-quickchart:hover {\n",
              "    background-color: var(--hover-bg-color);\n",
              "    box-shadow: 0 1px 2px rgba(60, 64, 67, 0.3), 0 1px 3px 1px rgba(60, 64, 67, 0.15);\n",
              "    fill: var(--button-hover-fill-color);\n",
              "  }\n",
              "\n",
              "  .colab-df-quickchart-complete:disabled,\n",
              "  .colab-df-quickchart-complete:disabled:hover {\n",
              "    background-color: var(--disabled-bg-color);\n",
              "    fill: var(--disabled-fill-color);\n",
              "    box-shadow: none;\n",
              "  }\n",
              "\n",
              "  .colab-df-spinner {\n",
              "    border: 2px solid var(--fill-color);\n",
              "    border-color: transparent;\n",
              "    border-bottom-color: var(--fill-color);\n",
              "    animation:\n",
              "      spin 1s steps(1) infinite;\n",
              "  }\n",
              "\n",
              "  @keyframes spin {\n",
              "    0% {\n",
              "      border-color: transparent;\n",
              "      border-bottom-color: var(--fill-color);\n",
              "      border-left-color: var(--fill-color);\n",
              "    }\n",
              "    20% {\n",
              "      border-color: transparent;\n",
              "      border-left-color: var(--fill-color);\n",
              "      border-top-color: var(--fill-color);\n",
              "    }\n",
              "    30% {\n",
              "      border-color: transparent;\n",
              "      border-left-color: var(--fill-color);\n",
              "      border-top-color: var(--fill-color);\n",
              "      border-right-color: var(--fill-color);\n",
              "    }\n",
              "    40% {\n",
              "      border-color: transparent;\n",
              "      border-right-color: var(--fill-color);\n",
              "      border-top-color: var(--fill-color);\n",
              "    }\n",
              "    60% {\n",
              "      border-color: transparent;\n",
              "      border-right-color: var(--fill-color);\n",
              "    }\n",
              "    80% {\n",
              "      border-color: transparent;\n",
              "      border-right-color: var(--fill-color);\n",
              "      border-bottom-color: var(--fill-color);\n",
              "    }\n",
              "    90% {\n",
              "      border-color: transparent;\n",
              "      border-bottom-color: var(--fill-color);\n",
              "    }\n",
              "  }\n",
              "</style>\n",
              "\n",
              "  <script>\n",
              "    async function quickchart(key) {\n",
              "      const quickchartButtonEl =\n",
              "        document.querySelector('#' + key + ' button');\n",
              "      quickchartButtonEl.disabled = true;  // To prevent multiple clicks.\n",
              "      quickchartButtonEl.classList.add('colab-df-spinner');\n",
              "      try {\n",
              "        const charts = await google.colab.kernel.invokeFunction(\n",
              "            'suggestCharts', [key], {});\n",
              "      } catch (error) {\n",
              "        console.error('Error during call to suggestCharts:', error);\n",
              "      }\n",
              "      quickchartButtonEl.classList.remove('colab-df-spinner');\n",
              "      quickchartButtonEl.classList.add('colab-df-quickchart-complete');\n",
              "    }\n",
              "    (() => {\n",
              "      let quickchartButtonEl =\n",
              "        document.querySelector('#df-c78b69f0-26c8-4ddb-8a06-611096fafbcc button');\n",
              "      quickchartButtonEl.style.display =\n",
              "        google.colab.kernel.accessAllowed ? 'block' : 'none';\n",
              "    })();\n",
              "  </script>\n",
              "</div>\n",
              "    </div>\n",
              "  </div>\n"
            ],
            "application/vnd.google.colaboratory.intrinsic+json": {
              "type": "dataframe"
            }
          },
          "metadata": {},
          "execution_count": 706
        }
      ],
      "source": [
        "data == '?'"
      ]
    },
    {
      "cell_type": "code",
      "execution_count": 707,
      "id": "qwNXdEqigWwA",
      "metadata": {
        "id": "qwNXdEqigWwA"
      },
      "outputs": [],
      "source": [
        "#data.isna().any()"
      ]
    },
    {
      "cell_type": "markdown",
      "id": "09f08a47",
      "metadata": {
        "id": "09f08a47"
      },
      "source": [
        "O resultado é um *data frame* que contém o mesmo formato do *data frame* original. As células que “casam” com a expressão `== '?'` contêm o valor `True` e todas as demais contêm o valor `false`.\n",
        "\n",
        "Esse tipo de estrutura é uma **máscara**. Máscaras podem ser usadas para indexar *data frames* e vetores multidimensionais, bastando para isso indexar a estrutura com a máscara."
      ]
    },
    {
      "cell_type": "markdown",
      "id": "206dcb94",
      "metadata": {
        "id": "206dcb94"
      },
      "source": [
        "Por exemplo, a seguir temos um vetor de números inteiros no intervalo $[0,100]$."
      ]
    },
    {
      "cell_type": "code",
      "execution_count": 708,
      "id": "563a9c2c",
      "metadata": {
        "colab": {
          "base_uri": "https://localhost:8080/"
        },
        "id": "563a9c2c",
        "outputId": "e89ac276-14ed-4fd8-83f9-cb58e51e0621"
      },
      "outputs": [
        {
          "output_type": "execute_result",
          "data": {
            "text/plain": [
              "array([  0,   1,   2,   3,   4,   5,   6,   7,   8,   9,  10,  11,  12,\n",
              "        13,  14,  15,  16,  17,  18,  19,  20,  21,  22,  23,  24,  25,\n",
              "        26,  27,  28,  29,  30,  31,  32,  33,  34,  35,  36,  37,  38,\n",
              "        39,  40,  41,  42,  43,  44,  45,  46,  47,  48,  49,  50,  51,\n",
              "        52,  53,  54,  55,  56,  57,  58,  59,  60,  61,  62,  63,  64,\n",
              "        65,  66,  67,  68,  69,  70,  71,  72,  73,  74,  75,  76,  77,\n",
              "        78,  79,  80,  81,  82,  83,  84,  85,  86,  87,  88,  89,  90,\n",
              "        91,  92,  93,  94,  95,  96,  97,  98,  99, 100])"
            ]
          },
          "metadata": {},
          "execution_count": 708
        }
      ],
      "source": [
        "numeros = np.arange(0, 101)\n",
        "numeros"
      ]
    },
    {
      "cell_type": "markdown",
      "id": "d4045ae1",
      "metadata": {
        "id": "d4045ae1"
      },
      "source": [
        "A máscara a seguir contém `True` nos índices dos números que são primos e `False` nos índices dos números que são compostos."
      ]
    },
    {
      "cell_type": "code",
      "execution_count": 709,
      "id": "e1286871",
      "metadata": {
        "id": "e1286871"
      },
      "outputs": [],
      "source": [
        "mascara = np.array([False, False, True, True, False, True, False, True, False, False, False, True, False,\n",
        "           True, False, False, False, True, False, True, False, False, False, True, False, False,\n",
        "           False, False, False, True, False, True, False, False, False, False, False, True, False,\n",
        "           False, False, True, False, True, False, False, False, True, False, False, False, False,\n",
        "           False, True, False, False, False, False, False, True, False, True, False, False, False,\n",
        "           False, False, True, False, False, False, True, False, True, False, False, False, False,\n",
        "           False, True, False, False, False, True, False, False, False, False, False, True, False,\n",
        "           False, False, False, False, False, False, True, False, False, False])"
      ]
    },
    {
      "cell_type": "markdown",
      "id": "8996fe56",
      "metadata": {
        "id": "8996fe56"
      },
      "source": [
        "Quando essa máscara é usada para indexar o vetor `numeros`, o resultado é uma lista que contém apenas as posições onde há `True`. Em outras palavras, o resultado é uma lista de números primos."
      ]
    },
    {
      "cell_type": "code",
      "execution_count": 710,
      "id": "5ba76676",
      "metadata": {
        "colab": {
          "base_uri": "https://localhost:8080/"
        },
        "id": "5ba76676",
        "outputId": "c9caccbe-60b5-4430-e447-dc55f8f5c3ca"
      },
      "outputs": [
        {
          "output_type": "execute_result",
          "data": {
            "text/plain": [
              "array([ 2,  3,  5,  7, 11, 13, 17, 19, 23, 29, 31, 37, 41, 43, 47, 53, 59,\n",
              "       61, 67, 71, 73, 79, 83, 89, 97])"
            ]
          },
          "metadata": {},
          "execution_count": 710
        }
      ],
      "source": [
        "numeros[mascara]"
      ]
    },
    {
      "cell_type": "markdown",
      "id": "0109cd17",
      "metadata": {
        "id": "0109cd17"
      },
      "source": [
        "O operador `~` (negação bit-a-bit) pode ser usado para indexar o \"inverso\" da máscara. Ou seja, os números compostos (além do zero e do um)."
      ]
    },
    {
      "cell_type": "code",
      "execution_count": 711,
      "id": "c01dc810",
      "metadata": {
        "colab": {
          "base_uri": "https://localhost:8080/"
        },
        "id": "c01dc810",
        "outputId": "b30f86d1-f5d7-4da2-e01d-48cab7370721"
      },
      "outputs": [
        {
          "output_type": "execute_result",
          "data": {
            "text/plain": [
              "array([  0,   1,   4,   6,   8,   9,  10,  12,  14,  15,  16,  18,  20,\n",
              "        21,  22,  24,  25,  26,  27,  28,  30,  32,  33,  34,  35,  36,\n",
              "        38,  39,  40,  42,  44,  45,  46,  48,  49,  50,  51,  52,  54,\n",
              "        55,  56,  57,  58,  60,  62,  63,  64,  65,  66,  68,  69,  70,\n",
              "        72,  74,  75,  76,  77,  78,  80,  81,  82,  84,  85,  86,  87,\n",
              "        88,  90,  91,  92,  93,  94,  95,  96,  98,  99, 100])"
            ]
          },
          "metadata": {},
          "execution_count": 711
        }
      ],
      "source": [
        "numeros[~mascara]"
      ]
    },
    {
      "cell_type": "markdown",
      "id": "86bbd634",
      "metadata": {
        "id": "86bbd634"
      },
      "source": [
        "Se usada em uma atribuição, a máscara pode ser usada para modificar as posições desejadas do vetor ou do *data frame*. Por exemplo, na célula abaixo, as posições dos números primos são trocadas por \"1\" e as posições dos números compostos são trocadas por \"0\"."
      ]
    },
    {
      "cell_type": "code",
      "execution_count": 712,
      "id": "6bcb9cd8",
      "metadata": {
        "colab": {
          "base_uri": "https://localhost:8080/"
        },
        "id": "6bcb9cd8",
        "outputId": "78e70b9d-e07c-40ca-e1d0-46b6a11ff9ad"
      },
      "outputs": [
        {
          "output_type": "execute_result",
          "data": {
            "text/plain": [
              "array([0, 0, 1, 1, 0, 1, 0, 1, 0, 0, 0, 1, 0, 1, 0, 0, 0, 1, 0, 1, 0, 0,\n",
              "       0, 1, 0, 0, 0, 0, 0, 1, 0, 1, 0, 0, 0, 0, 0, 1, 0, 0, 0, 1, 0, 1,\n",
              "       0, 0, 0, 1, 0, 0, 0, 0, 0, 1, 0, 0, 0, 0, 0, 1, 0, 1, 0, 0, 0, 0,\n",
              "       0, 1, 0, 0, 0, 1, 0, 1, 0, 0, 0, 0, 0, 1, 0, 0, 0, 1, 0, 0, 0, 0,\n",
              "       0, 1, 0, 0, 0, 0, 0, 0, 0, 1, 0, 0, 0])"
            ]
          },
          "metadata": {},
          "execution_count": 712
        }
      ],
      "source": [
        "numeros[mascara] = 1\n",
        "numeros[~mascara] = 0\n",
        "numeros"
      ]
    },
    {
      "cell_type": "markdown",
      "id": "primary-service",
      "metadata": {
        "id": "primary-service"
      },
      "source": [
        "A mesma coisa pode ser feita com o *data frame*. Novamente, a expressão\n",
        "\n",
        "```Python\n",
        "data == '?'\n",
        "```\n",
        "\n",
        "retorna uma máscara onde há `True` em cada célula de `data` que contém uma interrogação (valor ausente). Vamos usar essa máscara para substituir as interrogações por um valor mais útil."
      ]
    },
    {
      "cell_type": "markdown",
      "id": "searching-button",
      "metadata": {
        "id": "searching-button"
      },
      "source": [
        "#### Exercício 4\n",
        "\n",
        "> Use a uma máscara para substituir todas as ocorrências da string `'?'` por `np.nan`."
      ]
    },
    {
      "cell_type": "code",
      "execution_count": 713,
      "id": "hawaiian-mechanics",
      "metadata": {
        "colab": {
          "base_uri": "https://localhost:8080/",
          "height": 635
        },
        "id": "hawaiian-mechanics",
        "outputId": "38166145-7c8d-41fb-d89b-9665d1f44fe7"
      },
      "outputs": [
        {
          "output_type": "execute_result",
          "data": {
            "text/plain": [
              "        encounter_id  patient_nbr             race  gender      age weight  \\\n",
              "0            2278392      8222157        Caucasian  Female   [0-10)    NaN   \n",
              "1             149190     55629189        Caucasian  Female  [10-20)    NaN   \n",
              "2              64410     86047875  AfricanAmerican  Female  [20-30)    NaN   \n",
              "3             500364     82442376        Caucasian    Male  [30-40)    NaN   \n",
              "4              16680     42519267        Caucasian    Male  [40-50)    NaN   \n",
              "...              ...          ...              ...     ...      ...    ...   \n",
              "101761     443847548    100162476  AfricanAmerican    Male  [70-80)    NaN   \n",
              "101762     443847782     74694222  AfricanAmerican  Female  [80-90)    NaN   \n",
              "101763     443854148     41088789        Caucasian    Male  [70-80)    NaN   \n",
              "101764     443857166     31693671        Caucasian  Female  [80-90)    NaN   \n",
              "101765     443867222    175429310        Caucasian    Male  [70-80)    NaN   \n",
              "\n",
              "        admission_type_id  discharge_disposition_id  admission_source_id  \\\n",
              "0                       6                        25                    1   \n",
              "1                       1                         1                    7   \n",
              "2                       1                         1                    7   \n",
              "3                       1                         1                    7   \n",
              "4                       1                         1                    7   \n",
              "...                   ...                       ...                  ...   \n",
              "101761                  1                         3                    7   \n",
              "101762                  1                         4                    5   \n",
              "101763                  1                         1                    7   \n",
              "101764                  2                         3                    7   \n",
              "101765                  1                         1                    7   \n",
              "\n",
              "        time_in_hospital  ... citoglipton insulin  glyburide-metformin  \\\n",
              "0                      1  ...          No      No                   No   \n",
              "1                      3  ...          No      Up                   No   \n",
              "2                      2  ...          No      No                   No   \n",
              "3                      2  ...          No      Up                   No   \n",
              "4                      1  ...          No  Steady                   No   \n",
              "...                  ...  ...         ...     ...                  ...   \n",
              "101761                 3  ...          No    Down                   No   \n",
              "101762                 5  ...          No  Steady                   No   \n",
              "101763                 1  ...          No    Down                   No   \n",
              "101764                10  ...          No      Up                   No   \n",
              "101765                 6  ...          No      No                   No   \n",
              "\n",
              "        glipizide-metformin  glimepiride-pioglitazone  \\\n",
              "0                        No                        No   \n",
              "1                        No                        No   \n",
              "2                        No                        No   \n",
              "3                        No                        No   \n",
              "4                        No                        No   \n",
              "...                     ...                       ...   \n",
              "101761                   No                        No   \n",
              "101762                   No                        No   \n",
              "101763                   No                        No   \n",
              "101764                   No                        No   \n",
              "101765                   No                        No   \n",
              "\n",
              "        metformin-rosiglitazone  metformin-pioglitazone  change diabetesMed  \\\n",
              "0                            No                      No      No          No   \n",
              "1                            No                      No      Ch         Yes   \n",
              "2                            No                      No      No         Yes   \n",
              "3                            No                      No      Ch         Yes   \n",
              "4                            No                      No      Ch         Yes   \n",
              "...                         ...                     ...     ...         ...   \n",
              "101761                       No                      No      Ch         Yes   \n",
              "101762                       No                      No      No         Yes   \n",
              "101763                       No                      No      Ch         Yes   \n",
              "101764                       No                      No      Ch         Yes   \n",
              "101765                       No                      No      No          No   \n",
              "\n",
              "       readmitted  \n",
              "0              NO  \n",
              "1             >30  \n",
              "2              NO  \n",
              "3              NO  \n",
              "4              NO  \n",
              "...           ...  \n",
              "101761        >30  \n",
              "101762         NO  \n",
              "101763         NO  \n",
              "101764         NO  \n",
              "101765         NO  \n",
              "\n",
              "[101766 rows x 50 columns]"
            ],
            "text/html": [
              "\n",
              "  <div id=\"df-9dcb00d9-f851-4e3e-a977-1d4e9a01ed19\" class=\"colab-df-container\">\n",
              "    <div>\n",
              "<style scoped>\n",
              "    .dataframe tbody tr th:only-of-type {\n",
              "        vertical-align: middle;\n",
              "    }\n",
              "\n",
              "    .dataframe tbody tr th {\n",
              "        vertical-align: top;\n",
              "    }\n",
              "\n",
              "    .dataframe thead th {\n",
              "        text-align: right;\n",
              "    }\n",
              "</style>\n",
              "<table border=\"1\" class=\"dataframe\">\n",
              "  <thead>\n",
              "    <tr style=\"text-align: right;\">\n",
              "      <th></th>\n",
              "      <th>encounter_id</th>\n",
              "      <th>patient_nbr</th>\n",
              "      <th>race</th>\n",
              "      <th>gender</th>\n",
              "      <th>age</th>\n",
              "      <th>weight</th>\n",
              "      <th>admission_type_id</th>\n",
              "      <th>discharge_disposition_id</th>\n",
              "      <th>admission_source_id</th>\n",
              "      <th>time_in_hospital</th>\n",
              "      <th>...</th>\n",
              "      <th>citoglipton</th>\n",
              "      <th>insulin</th>\n",
              "      <th>glyburide-metformin</th>\n",
              "      <th>glipizide-metformin</th>\n",
              "      <th>glimepiride-pioglitazone</th>\n",
              "      <th>metformin-rosiglitazone</th>\n",
              "      <th>metformin-pioglitazone</th>\n",
              "      <th>change</th>\n",
              "      <th>diabetesMed</th>\n",
              "      <th>readmitted</th>\n",
              "    </tr>\n",
              "  </thead>\n",
              "  <tbody>\n",
              "    <tr>\n",
              "      <th>0</th>\n",
              "      <td>2278392</td>\n",
              "      <td>8222157</td>\n",
              "      <td>Caucasian</td>\n",
              "      <td>Female</td>\n",
              "      <td>[0-10)</td>\n",
              "      <td>NaN</td>\n",
              "      <td>6</td>\n",
              "      <td>25</td>\n",
              "      <td>1</td>\n",
              "      <td>1</td>\n",
              "      <td>...</td>\n",
              "      <td>No</td>\n",
              "      <td>No</td>\n",
              "      <td>No</td>\n",
              "      <td>No</td>\n",
              "      <td>No</td>\n",
              "      <td>No</td>\n",
              "      <td>No</td>\n",
              "      <td>No</td>\n",
              "      <td>No</td>\n",
              "      <td>NO</td>\n",
              "    </tr>\n",
              "    <tr>\n",
              "      <th>1</th>\n",
              "      <td>149190</td>\n",
              "      <td>55629189</td>\n",
              "      <td>Caucasian</td>\n",
              "      <td>Female</td>\n",
              "      <td>[10-20)</td>\n",
              "      <td>NaN</td>\n",
              "      <td>1</td>\n",
              "      <td>1</td>\n",
              "      <td>7</td>\n",
              "      <td>3</td>\n",
              "      <td>...</td>\n",
              "      <td>No</td>\n",
              "      <td>Up</td>\n",
              "      <td>No</td>\n",
              "      <td>No</td>\n",
              "      <td>No</td>\n",
              "      <td>No</td>\n",
              "      <td>No</td>\n",
              "      <td>Ch</td>\n",
              "      <td>Yes</td>\n",
              "      <td>&gt;30</td>\n",
              "    </tr>\n",
              "    <tr>\n",
              "      <th>2</th>\n",
              "      <td>64410</td>\n",
              "      <td>86047875</td>\n",
              "      <td>AfricanAmerican</td>\n",
              "      <td>Female</td>\n",
              "      <td>[20-30)</td>\n",
              "      <td>NaN</td>\n",
              "      <td>1</td>\n",
              "      <td>1</td>\n",
              "      <td>7</td>\n",
              "      <td>2</td>\n",
              "      <td>...</td>\n",
              "      <td>No</td>\n",
              "      <td>No</td>\n",
              "      <td>No</td>\n",
              "      <td>No</td>\n",
              "      <td>No</td>\n",
              "      <td>No</td>\n",
              "      <td>No</td>\n",
              "      <td>No</td>\n",
              "      <td>Yes</td>\n",
              "      <td>NO</td>\n",
              "    </tr>\n",
              "    <tr>\n",
              "      <th>3</th>\n",
              "      <td>500364</td>\n",
              "      <td>82442376</td>\n",
              "      <td>Caucasian</td>\n",
              "      <td>Male</td>\n",
              "      <td>[30-40)</td>\n",
              "      <td>NaN</td>\n",
              "      <td>1</td>\n",
              "      <td>1</td>\n",
              "      <td>7</td>\n",
              "      <td>2</td>\n",
              "      <td>...</td>\n",
              "      <td>No</td>\n",
              "      <td>Up</td>\n",
              "      <td>No</td>\n",
              "      <td>No</td>\n",
              "      <td>No</td>\n",
              "      <td>No</td>\n",
              "      <td>No</td>\n",
              "      <td>Ch</td>\n",
              "      <td>Yes</td>\n",
              "      <td>NO</td>\n",
              "    </tr>\n",
              "    <tr>\n",
              "      <th>4</th>\n",
              "      <td>16680</td>\n",
              "      <td>42519267</td>\n",
              "      <td>Caucasian</td>\n",
              "      <td>Male</td>\n",
              "      <td>[40-50)</td>\n",
              "      <td>NaN</td>\n",
              "      <td>1</td>\n",
              "      <td>1</td>\n",
              "      <td>7</td>\n",
              "      <td>1</td>\n",
              "      <td>...</td>\n",
              "      <td>No</td>\n",
              "      <td>Steady</td>\n",
              "      <td>No</td>\n",
              "      <td>No</td>\n",
              "      <td>No</td>\n",
              "      <td>No</td>\n",
              "      <td>No</td>\n",
              "      <td>Ch</td>\n",
              "      <td>Yes</td>\n",
              "      <td>NO</td>\n",
              "    </tr>\n",
              "    <tr>\n",
              "      <th>...</th>\n",
              "      <td>...</td>\n",
              "      <td>...</td>\n",
              "      <td>...</td>\n",
              "      <td>...</td>\n",
              "      <td>...</td>\n",
              "      <td>...</td>\n",
              "      <td>...</td>\n",
              "      <td>...</td>\n",
              "      <td>...</td>\n",
              "      <td>...</td>\n",
              "      <td>...</td>\n",
              "      <td>...</td>\n",
              "      <td>...</td>\n",
              "      <td>...</td>\n",
              "      <td>...</td>\n",
              "      <td>...</td>\n",
              "      <td>...</td>\n",
              "      <td>...</td>\n",
              "      <td>...</td>\n",
              "      <td>...</td>\n",
              "      <td>...</td>\n",
              "    </tr>\n",
              "    <tr>\n",
              "      <th>101761</th>\n",
              "      <td>443847548</td>\n",
              "      <td>100162476</td>\n",
              "      <td>AfricanAmerican</td>\n",
              "      <td>Male</td>\n",
              "      <td>[70-80)</td>\n",
              "      <td>NaN</td>\n",
              "      <td>1</td>\n",
              "      <td>3</td>\n",
              "      <td>7</td>\n",
              "      <td>3</td>\n",
              "      <td>...</td>\n",
              "      <td>No</td>\n",
              "      <td>Down</td>\n",
              "      <td>No</td>\n",
              "      <td>No</td>\n",
              "      <td>No</td>\n",
              "      <td>No</td>\n",
              "      <td>No</td>\n",
              "      <td>Ch</td>\n",
              "      <td>Yes</td>\n",
              "      <td>&gt;30</td>\n",
              "    </tr>\n",
              "    <tr>\n",
              "      <th>101762</th>\n",
              "      <td>443847782</td>\n",
              "      <td>74694222</td>\n",
              "      <td>AfricanAmerican</td>\n",
              "      <td>Female</td>\n",
              "      <td>[80-90)</td>\n",
              "      <td>NaN</td>\n",
              "      <td>1</td>\n",
              "      <td>4</td>\n",
              "      <td>5</td>\n",
              "      <td>5</td>\n",
              "      <td>...</td>\n",
              "      <td>No</td>\n",
              "      <td>Steady</td>\n",
              "      <td>No</td>\n",
              "      <td>No</td>\n",
              "      <td>No</td>\n",
              "      <td>No</td>\n",
              "      <td>No</td>\n",
              "      <td>No</td>\n",
              "      <td>Yes</td>\n",
              "      <td>NO</td>\n",
              "    </tr>\n",
              "    <tr>\n",
              "      <th>101763</th>\n",
              "      <td>443854148</td>\n",
              "      <td>41088789</td>\n",
              "      <td>Caucasian</td>\n",
              "      <td>Male</td>\n",
              "      <td>[70-80)</td>\n",
              "      <td>NaN</td>\n",
              "      <td>1</td>\n",
              "      <td>1</td>\n",
              "      <td>7</td>\n",
              "      <td>1</td>\n",
              "      <td>...</td>\n",
              "      <td>No</td>\n",
              "      <td>Down</td>\n",
              "      <td>No</td>\n",
              "      <td>No</td>\n",
              "      <td>No</td>\n",
              "      <td>No</td>\n",
              "      <td>No</td>\n",
              "      <td>Ch</td>\n",
              "      <td>Yes</td>\n",
              "      <td>NO</td>\n",
              "    </tr>\n",
              "    <tr>\n",
              "      <th>101764</th>\n",
              "      <td>443857166</td>\n",
              "      <td>31693671</td>\n",
              "      <td>Caucasian</td>\n",
              "      <td>Female</td>\n",
              "      <td>[80-90)</td>\n",
              "      <td>NaN</td>\n",
              "      <td>2</td>\n",
              "      <td>3</td>\n",
              "      <td>7</td>\n",
              "      <td>10</td>\n",
              "      <td>...</td>\n",
              "      <td>No</td>\n",
              "      <td>Up</td>\n",
              "      <td>No</td>\n",
              "      <td>No</td>\n",
              "      <td>No</td>\n",
              "      <td>No</td>\n",
              "      <td>No</td>\n",
              "      <td>Ch</td>\n",
              "      <td>Yes</td>\n",
              "      <td>NO</td>\n",
              "    </tr>\n",
              "    <tr>\n",
              "      <th>101765</th>\n",
              "      <td>443867222</td>\n",
              "      <td>175429310</td>\n",
              "      <td>Caucasian</td>\n",
              "      <td>Male</td>\n",
              "      <td>[70-80)</td>\n",
              "      <td>NaN</td>\n",
              "      <td>1</td>\n",
              "      <td>1</td>\n",
              "      <td>7</td>\n",
              "      <td>6</td>\n",
              "      <td>...</td>\n",
              "      <td>No</td>\n",
              "      <td>No</td>\n",
              "      <td>No</td>\n",
              "      <td>No</td>\n",
              "      <td>No</td>\n",
              "      <td>No</td>\n",
              "      <td>No</td>\n",
              "      <td>No</td>\n",
              "      <td>No</td>\n",
              "      <td>NO</td>\n",
              "    </tr>\n",
              "  </tbody>\n",
              "</table>\n",
              "<p>101766 rows × 50 columns</p>\n",
              "</div>\n",
              "    <div class=\"colab-df-buttons\">\n",
              "\n",
              "  <div class=\"colab-df-container\">\n",
              "    <button class=\"colab-df-convert\" onclick=\"convertToInteractive('df-9dcb00d9-f851-4e3e-a977-1d4e9a01ed19')\"\n",
              "            title=\"Convert this dataframe to an interactive table.\"\n",
              "            style=\"display:none;\">\n",
              "\n",
              "  <svg xmlns=\"http://www.w3.org/2000/svg\" height=\"24px\" viewBox=\"0 -960 960 960\">\n",
              "    <path d=\"M120-120v-720h720v720H120Zm60-500h600v-160H180v160Zm220 220h160v-160H400v160Zm0 220h160v-160H400v160ZM180-400h160v-160H180v160Zm440 0h160v-160H620v160ZM180-180h160v-160H180v160Zm440 0h160v-160H620v160Z\"/>\n",
              "  </svg>\n",
              "    </button>\n",
              "\n",
              "  <style>\n",
              "    .colab-df-container {\n",
              "      display:flex;\n",
              "      gap: 12px;\n",
              "    }\n",
              "\n",
              "    .colab-df-convert {\n",
              "      background-color: #E8F0FE;\n",
              "      border: none;\n",
              "      border-radius: 50%;\n",
              "      cursor: pointer;\n",
              "      display: none;\n",
              "      fill: #1967D2;\n",
              "      height: 32px;\n",
              "      padding: 0 0 0 0;\n",
              "      width: 32px;\n",
              "    }\n",
              "\n",
              "    .colab-df-convert:hover {\n",
              "      background-color: #E2EBFA;\n",
              "      box-shadow: 0px 1px 2px rgba(60, 64, 67, 0.3), 0px 1px 3px 1px rgba(60, 64, 67, 0.15);\n",
              "      fill: #174EA6;\n",
              "    }\n",
              "\n",
              "    .colab-df-buttons div {\n",
              "      margin-bottom: 4px;\n",
              "    }\n",
              "\n",
              "    [theme=dark] .colab-df-convert {\n",
              "      background-color: #3B4455;\n",
              "      fill: #D2E3FC;\n",
              "    }\n",
              "\n",
              "    [theme=dark] .colab-df-convert:hover {\n",
              "      background-color: #434B5C;\n",
              "      box-shadow: 0px 1px 3px 1px rgba(0, 0, 0, 0.15);\n",
              "      filter: drop-shadow(0px 1px 2px rgba(0, 0, 0, 0.3));\n",
              "      fill: #FFFFFF;\n",
              "    }\n",
              "  </style>\n",
              "\n",
              "    <script>\n",
              "      const buttonEl =\n",
              "        document.querySelector('#df-9dcb00d9-f851-4e3e-a977-1d4e9a01ed19 button.colab-df-convert');\n",
              "      buttonEl.style.display =\n",
              "        google.colab.kernel.accessAllowed ? 'block' : 'none';\n",
              "\n",
              "      async function convertToInteractive(key) {\n",
              "        const element = document.querySelector('#df-9dcb00d9-f851-4e3e-a977-1d4e9a01ed19');\n",
              "        const dataTable =\n",
              "          await google.colab.kernel.invokeFunction('convertToInteractive',\n",
              "                                                    [key], {});\n",
              "        if (!dataTable) return;\n",
              "\n",
              "        const docLinkHtml = 'Like what you see? Visit the ' +\n",
              "          '<a target=\"_blank\" href=https://colab.research.google.com/notebooks/data_table.ipynb>data table notebook</a>'\n",
              "          + ' to learn more about interactive tables.';\n",
              "        element.innerHTML = '';\n",
              "        dataTable['output_type'] = 'display_data';\n",
              "        await google.colab.output.renderOutput(dataTable, element);\n",
              "        const docLink = document.createElement('div');\n",
              "        docLink.innerHTML = docLinkHtml;\n",
              "        element.appendChild(docLink);\n",
              "      }\n",
              "    </script>\n",
              "  </div>\n",
              "\n",
              "\n",
              "<div id=\"df-cee3ddd6-546d-46d5-a946-e97dc72fbf17\">\n",
              "  <button class=\"colab-df-quickchart\" onclick=\"quickchart('df-cee3ddd6-546d-46d5-a946-e97dc72fbf17')\"\n",
              "            title=\"Suggest charts\"\n",
              "            style=\"display:none;\">\n",
              "\n",
              "<svg xmlns=\"http://www.w3.org/2000/svg\" height=\"24px\"viewBox=\"0 0 24 24\"\n",
              "     width=\"24px\">\n",
              "    <g>\n",
              "        <path d=\"M19 3H5c-1.1 0-2 .9-2 2v14c0 1.1.9 2 2 2h14c1.1 0 2-.9 2-2V5c0-1.1-.9-2-2-2zM9 17H7v-7h2v7zm4 0h-2V7h2v10zm4 0h-2v-4h2v4z\"/>\n",
              "    </g>\n",
              "</svg>\n",
              "  </button>\n",
              "\n",
              "<style>\n",
              "  .colab-df-quickchart {\n",
              "      --bg-color: #E8F0FE;\n",
              "      --fill-color: #1967D2;\n",
              "      --hover-bg-color: #E2EBFA;\n",
              "      --hover-fill-color: #174EA6;\n",
              "      --disabled-fill-color: #AAA;\n",
              "      --disabled-bg-color: #DDD;\n",
              "  }\n",
              "\n",
              "  [theme=dark] .colab-df-quickchart {\n",
              "      --bg-color: #3B4455;\n",
              "      --fill-color: #D2E3FC;\n",
              "      --hover-bg-color: #434B5C;\n",
              "      --hover-fill-color: #FFFFFF;\n",
              "      --disabled-bg-color: #3B4455;\n",
              "      --disabled-fill-color: #666;\n",
              "  }\n",
              "\n",
              "  .colab-df-quickchart {\n",
              "    background-color: var(--bg-color);\n",
              "    border: none;\n",
              "    border-radius: 50%;\n",
              "    cursor: pointer;\n",
              "    display: none;\n",
              "    fill: var(--fill-color);\n",
              "    height: 32px;\n",
              "    padding: 0;\n",
              "    width: 32px;\n",
              "  }\n",
              "\n",
              "  .colab-df-quickchart:hover {\n",
              "    background-color: var(--hover-bg-color);\n",
              "    box-shadow: 0 1px 2px rgba(60, 64, 67, 0.3), 0 1px 3px 1px rgba(60, 64, 67, 0.15);\n",
              "    fill: var(--button-hover-fill-color);\n",
              "  }\n",
              "\n",
              "  .colab-df-quickchart-complete:disabled,\n",
              "  .colab-df-quickchart-complete:disabled:hover {\n",
              "    background-color: var(--disabled-bg-color);\n",
              "    fill: var(--disabled-fill-color);\n",
              "    box-shadow: none;\n",
              "  }\n",
              "\n",
              "  .colab-df-spinner {\n",
              "    border: 2px solid var(--fill-color);\n",
              "    border-color: transparent;\n",
              "    border-bottom-color: var(--fill-color);\n",
              "    animation:\n",
              "      spin 1s steps(1) infinite;\n",
              "  }\n",
              "\n",
              "  @keyframes spin {\n",
              "    0% {\n",
              "      border-color: transparent;\n",
              "      border-bottom-color: var(--fill-color);\n",
              "      border-left-color: var(--fill-color);\n",
              "    }\n",
              "    20% {\n",
              "      border-color: transparent;\n",
              "      border-left-color: var(--fill-color);\n",
              "      border-top-color: var(--fill-color);\n",
              "    }\n",
              "    30% {\n",
              "      border-color: transparent;\n",
              "      border-left-color: var(--fill-color);\n",
              "      border-top-color: var(--fill-color);\n",
              "      border-right-color: var(--fill-color);\n",
              "    }\n",
              "    40% {\n",
              "      border-color: transparent;\n",
              "      border-right-color: var(--fill-color);\n",
              "      border-top-color: var(--fill-color);\n",
              "    }\n",
              "    60% {\n",
              "      border-color: transparent;\n",
              "      border-right-color: var(--fill-color);\n",
              "    }\n",
              "    80% {\n",
              "      border-color: transparent;\n",
              "      border-right-color: var(--fill-color);\n",
              "      border-bottom-color: var(--fill-color);\n",
              "    }\n",
              "    90% {\n",
              "      border-color: transparent;\n",
              "      border-bottom-color: var(--fill-color);\n",
              "    }\n",
              "  }\n",
              "</style>\n",
              "\n",
              "  <script>\n",
              "    async function quickchart(key) {\n",
              "      const quickchartButtonEl =\n",
              "        document.querySelector('#' + key + ' button');\n",
              "      quickchartButtonEl.disabled = true;  // To prevent multiple clicks.\n",
              "      quickchartButtonEl.classList.add('colab-df-spinner');\n",
              "      try {\n",
              "        const charts = await google.colab.kernel.invokeFunction(\n",
              "            'suggestCharts', [key], {});\n",
              "      } catch (error) {\n",
              "        console.error('Error during call to suggestCharts:', error);\n",
              "      }\n",
              "      quickchartButtonEl.classList.remove('colab-df-spinner');\n",
              "      quickchartButtonEl.classList.add('colab-df-quickchart-complete');\n",
              "    }\n",
              "    (() => {\n",
              "      let quickchartButtonEl =\n",
              "        document.querySelector('#df-cee3ddd6-546d-46d5-a946-e97dc72fbf17 button');\n",
              "      quickchartButtonEl.style.display =\n",
              "        google.colab.kernel.accessAllowed ? 'block' : 'none';\n",
              "    })();\n",
              "  </script>\n",
              "</div>\n",
              "    </div>\n",
              "  </div>\n"
            ],
            "application/vnd.google.colaboratory.intrinsic+json": {
              "type": "dataframe",
              "variable_name": "data"
            }
          },
          "metadata": {},
          "execution_count": 713
        }
      ],
      "source": [
        "data[data=='?'] = np.nan\n",
        "data"
      ]
    },
    {
      "cell_type": "markdown",
      "id": "becoming-pattern",
      "metadata": {
        "id": "becoming-pattern"
      },
      "source": [
        "Agora que o *data frame* está formatado de acordo com a representação do Pandas, podemos começar a estudar os atributos que possuem valores ausentes.\n",
        "\n",
        "A célula abaixo deverá mostrar a porcentagem de valores ausentes em cada atributo. A explicação do comando vem depois."
      ]
    },
    {
      "cell_type": "code",
      "execution_count": 714,
      "id": "directed-pathology",
      "metadata": {
        "colab": {
          "base_uri": "https://localhost:8080/"
        },
        "id": "directed-pathology",
        "outputId": "1600e264-ba11-411c-ae29-31ed0a0cbcaf"
      },
      "outputs": [
        {
          "output_type": "execute_result",
          "data": {
            "text/plain": [
              "encounter_id                 0.000000\n",
              "patient_nbr                  0.000000\n",
              "race                         2.233555\n",
              "gender                       0.000000\n",
              "age                          0.000000\n",
              "weight                      96.858479\n",
              "admission_type_id            0.000000\n",
              "discharge_disposition_id     0.000000\n",
              "admission_source_id          0.000000\n",
              "time_in_hospital             0.000000\n",
              "payer_code                  39.557416\n",
              "medical_specialty           49.082208\n",
              "num_lab_procedures           0.000000\n",
              "num_procedures               0.000000\n",
              "num_medications              0.000000\n",
              "number_outpatient            0.000000\n",
              "number_emergency             0.000000\n",
              "number_inpatient             0.000000\n",
              "diag_1                       0.020636\n",
              "diag_2                       0.351787\n",
              "diag_3                       1.398306\n",
              "number_diagnoses             0.000000\n",
              "max_glu_serum                0.000000\n",
              "A1Cresult                    0.000000\n",
              "metformin                    0.000000\n",
              "repaglinide                  0.000000\n",
              "nateglinide                  0.000000\n",
              "chlorpropamide               0.000000\n",
              "glimepiride                  0.000000\n",
              "acetohexamide                0.000000\n",
              "glipizide                    0.000000\n",
              "glyburide                    0.000000\n",
              "tolbutamide                  0.000000\n",
              "pioglitazone                 0.000000\n",
              "rosiglitazone                0.000000\n",
              "acarbose                     0.000000\n",
              "miglitol                     0.000000\n",
              "troglitazone                 0.000000\n",
              "tolazamide                   0.000000\n",
              "examide                      0.000000\n",
              "citoglipton                  0.000000\n",
              "insulin                      0.000000\n",
              "glyburide-metformin          0.000000\n",
              "glipizide-metformin          0.000000\n",
              "glimepiride-pioglitazone     0.000000\n",
              "metformin-rosiglitazone      0.000000\n",
              "metformin-pioglitazone       0.000000\n",
              "change                       0.000000\n",
              "diabetesMed                  0.000000\n",
              "readmitted                   0.000000\n",
              "dtype: float64"
            ]
          },
          "metadata": {},
          "execution_count": 714
        }
      ],
      "source": [
        "100 * data.isna().sum() / len(data)"
      ]
    },
    {
      "cell_type": "markdown",
      "id": "funny-boston",
      "metadata": {
        "id": "funny-boston"
      },
      "source": [
        "Observe que alguns atributos realmente possuem uma quantidade muito grande de valores ausentes. Você deve ter visto que aproximadamente 96,85% dos exemplos não possuem valor de peso (`weight`). Isso não é um erro. O dado não existe na base."
      ]
    },
    {
      "cell_type": "markdown",
      "id": "injured-stations",
      "metadata": {
        "id": "injured-stations"
      },
      "source": [
        "**Recapitulando o comando**\n",
        "\n",
        "O comando que usamos foi\n",
        "\n",
        "```Python\n",
        "100 * data.isna().sum() / len(data)\n",
        "```\n",
        "\n",
        "Parte por parte, esse comando faz o seguinte:\n",
        "\n",
        "- O método `DataFrame.isna` serve para indicar quais células possuem valores ausentes;\n",
        "- `data.isna()` retorna uma máscara que indica com `True` cada célula que possui valor ausente;\n",
        "- `data.isna().sum()` soma a quantidade de valores `True` em cada coluna, isto é, o número de valores ausentes por atributo;\n",
        "- `data.isna().sum() / len(data)` divide o número de valores ausentes por atributo pelo número total de exemplos.\n",
        "\n",
        "Esse resultado é multiplicado por 100 para dar o formato usual de portcentagem."
      ]
    },
    {
      "cell_type": "markdown",
      "id": "modern-community",
      "metadata": {
        "id": "modern-community"
      },
      "source": [
        "### Remoção de atributos"
      ]
    },
    {
      "cell_type": "markdown",
      "id": "89e1c576",
      "metadata": {
        "id": "89e1c576"
      },
      "source": [
        "Agora vamos considerar os atributos. É necessário compreender bem os atributos, identificar, por exemplo, quais são de entrada e quais são de saída. Além disso, precisamos considerar quais colunas não podem ser consideradas atributos e quais atributos são de má qualidade.\n",
        "\n",
        "O atributo de saída é `readmitted`."
      ]
    },
    {
      "cell_type": "code",
      "execution_count": 715,
      "id": "819e7b87",
      "metadata": {
        "colab": {
          "base_uri": "https://localhost:8080/"
        },
        "id": "819e7b87",
        "outputId": "1b9a039b-c101-424d-ac49-c0a2111b6169"
      },
      "outputs": [
        {
          "output_type": "execute_result",
          "data": {
            "text/plain": [
              "0          NO\n",
              "1         >30\n",
              "2          NO\n",
              "3          NO\n",
              "4          NO\n",
              "         ... \n",
              "101761    >30\n",
              "101762     NO\n",
              "101763     NO\n",
              "101764     NO\n",
              "101765     NO\n",
              "Name: readmitted, Length: 101766, dtype: object"
            ]
          },
          "metadata": {},
          "execution_count": 715
        }
      ],
      "source": [
        "data['readmitted']"
      ]
    },
    {
      "cell_type": "markdown",
      "id": "44a077ff",
      "metadata": {
        "id": "44a077ff"
      },
      "source": [
        "Ele é um atributo categórico, portanto é a classe do problema. Analisando-se a contagem de valores desse atributo, podemos verificar que trata-se de um problema com três classes:"
      ]
    },
    {
      "cell_type": "code",
      "execution_count": 716,
      "id": "b7db63dc",
      "metadata": {
        "colab": {
          "base_uri": "https://localhost:8080/"
        },
        "id": "b7db63dc",
        "outputId": "f5a641a6-6869-41f1-ce3d-07e6fdc8defa"
      },
      "outputs": [
        {
          "output_type": "execute_result",
          "data": {
            "text/plain": [
              "readmitted\n",
              "NO     54864\n",
              ">30    35545\n",
              "<30    11357\n",
              "Name: count, dtype: int64"
            ]
          },
          "metadata": {},
          "execution_count": 716
        }
      ],
      "source": [
        "data['readmitted'].value_counts()"
      ]
    },
    {
      "cell_type": "markdown",
      "id": "61612348",
      "metadata": {
        "id": "61612348"
      },
      "source": [
        "Dividindo pelo total de linhas do *data frame* podemos calcular a proporção de cada classe:"
      ]
    },
    {
      "cell_type": "code",
      "execution_count": 717,
      "id": "bdf6ae5c",
      "metadata": {
        "colab": {
          "base_uri": "https://localhost:8080/"
        },
        "id": "bdf6ae5c",
        "outputId": "3b445fac-0b43-4142-84bc-c2795139fecc"
      },
      "outputs": [
        {
          "output_type": "execute_result",
          "data": {
            "text/plain": [
              "readmitted\n",
              "NO     53.911916\n",
              ">30    34.928169\n",
              "<30    11.159916\n",
              "Name: count, dtype: float64"
            ]
          },
          "metadata": {},
          "execution_count": 717
        }
      ],
      "source": [
        "100 * (data['readmitted'].value_counts() / len(data))"
      ]
    },
    {
      "cell_type": "markdown",
      "id": "6f1f1f88",
      "metadata": {
        "id": "6f1f1f88"
      },
      "source": [
        "Trata-se de um problema bem desbalanceado. A classe majoritária é `NO`, com 53,91% dos exemplos; são os pacientes que *não* retornam após uma consulta inicial por diabetes. A classe minoritária é `<30`, com 11,16% dos exemplos; são os pacientes que retornam em até 30 dias do atendimento inicial."
      ]
    },
    {
      "cell_type": "markdown",
      "id": "virtual-practice",
      "metadata": {
        "id": "virtual-practice"
      },
      "source": [
        "Das demais colunas, duas não podem ser consideradas atributos:\n",
        "\n",
        "- `encounter_id`: registra unicamente cada atendimento e é um identificador da base de dados (possivelmente uma chave da relação);\n",
        "- `patient_nbr`: registra unicamente cada paciente e é outro tipo de identificador da base de dados (possivelmente uma chave externa).\n",
        "\n",
        "A primeira coluna contém um valor único para cada linha e, portanto, não traz absolutamente nenhuma informação para o mapeamento que queremos aprender.\n",
        "\n",
        "A segunda coluna até contém informação útil para o aprendizado, pois ela nos permitiria construir um histórico temporal de cada paciente, o que pode ser relevante para o mapeamento que desejamos aprender. Entretanto,  ainda não estudamos os conceitos necessários para fazer uso dessa informação.\n",
        "\n",
        "As duas colunas serão removidas do *data frame*."
      ]
    },
    {
      "cell_type": "markdown",
      "id": "85553329",
      "metadata": {
        "id": "85553329"
      },
      "source": [
        "A remoção pode ser feita com o método `DataFrame.drop`. Ele retorna uma cópia (ou uma visão) do *data frame* original. Mas pode alterar o próprio *data frame* original se especificarmos o parâmetro `inplace=True`."
      ]
    },
    {
      "cell_type": "markdown",
      "id": "handy-scoop",
      "metadata": {
        "id": "handy-scoop"
      },
      "source": [
        "#### Exercício 5\n",
        "\n",
        "> Complete a célua abaixo para remover as colunas `encounter_id` e `patient_nbr`. Passe uma lista como primeiro argumento."
      ]
    },
    {
      "cell_type": "code",
      "execution_count": 718,
      "id": "incident-analyst",
      "metadata": {
        "id": "incident-analyst"
      },
      "outputs": [],
      "source": [
        "\n",
        "data.drop(['encounter_id', 'patient_nbr'], axis=1, inplace=True)"
      ]
    },
    {
      "cell_type": "markdown",
      "id": "closed-sterling",
      "metadata": {
        "id": "closed-sterling"
      },
      "source": [
        "A célula abaixo deverá mostrar as duas novas primeiras colunas, que são `race` e `gender`."
      ]
    },
    {
      "cell_type": "code",
      "execution_count": 719,
      "id": "scientific-grocery",
      "metadata": {
        "colab": {
          "base_uri": "https://localhost:8080/"
        },
        "id": "scientific-grocery",
        "outputId": "f05dae4f-d045-48bb-cefe-e2002bbca647"
      },
      "outputs": [
        {
          "output_type": "execute_result",
          "data": {
            "text/plain": [
              "Index(['race', 'gender'], dtype='object')"
            ]
          },
          "metadata": {},
          "execution_count": 719
        }
      ],
      "source": [
        "data.columns[:2]"
      ]
    },
    {
      "cell_type": "markdown",
      "id": "integrated-minority",
      "metadata": {
        "id": "integrated-minority"
      },
      "source": [
        "Agora podemos voltar nossa atenção para os atributos que possuem um número excessivo de valores ausentes. Vamos verificar os três que possuem pelo menos 30% de valores ausentes:"
      ]
    },
    {
      "cell_type": "code",
      "execution_count": 720,
      "id": "exceptional-above",
      "metadata": {
        "colab": {
          "base_uri": "https://localhost:8080/"
        },
        "id": "exceptional-above",
        "outputId": "55783163-8962-4882-88a4-89caa19052a4"
      },
      "outputs": [
        {
          "output_type": "execute_result",
          "data": {
            "text/plain": [
              "weight               96.858479\n",
              "payer_code           39.557416\n",
              "medical_specialty    49.082208\n",
              "dtype: float64"
            ]
          },
          "metadata": {},
          "execution_count": 720
        }
      ],
      "source": [
        "missing_pct = 100 * data.isna().sum() / len(data)\n",
        "missing_pct[missing_pct > 30]"
      ]
    },
    {
      "cell_type": "markdown",
      "id": "aware-stuff",
      "metadata": {
        "id": "aware-stuff"
      },
      "source": [
        "Não existe uma regra fixa para lidar com valores ausente. Então o que vamos fazer com esses atributos dependerá de análise individual. Vamos proceder usando conhecimento gerais  de AM, bem como conhecimento de domínio adquiridos com a leitura do artigo:\n",
        "\n",
        "- O atributo `weight` provavelmente foi coletado de maneira opcional e praticamente todos os exemplos não possuem valor para ele (97% de ausência). É um atributo esparso demais para tentarmos tratar e o melhor a fazer é removê-lo;\n",
        "- O atributo `payer_code` indica como o paciente pagou a consulta e também contém uma quantidade muito grande de valores ausentes (40%). Aqui a decisão não é trivial; precisamos levar entra em questão a opinião do especialista de domínio (médico, neste caso) que participou da coleta dos dados. Os autores do artigo julgaram que o atributo não é suficientemente relevante e o removeram. Nós vamos fazer o mesmo;\n",
        "- O atributo `medical_specialty` também contém uma quantidade muito grande de valores ausentes (49%). Ele representa a especialidade do(a) profissional que encaminhou o paciente para consulta. Os autores do artigo julgaram que esse atributo é relevante e decidiram trocar os valores ausentes por uma categoria que representa um valor ausente. Vamos fazer a mesma coisa."
      ]
    },
    {
      "cell_type": "markdown",
      "id": "seasonal-underground",
      "metadata": {
        "id": "seasonal-underground"
      },
      "source": [
        "Vamos começar tratando os dois primeiros atributos."
      ]
    },
    {
      "cell_type": "markdown",
      "id": "formal-enlargement",
      "metadata": {
        "id": "formal-enlargement"
      },
      "source": [
        "#### Exercício 6\n",
        "\n",
        "> Remova as colunas `weight` e `payer_code` com o método `drop`. Não se esqueça de especificar o eixo (`axis=1`)."
      ]
    },
    {
      "cell_type": "code",
      "execution_count": 721,
      "id": "dress-target",
      "metadata": {
        "id": "dress-target"
      },
      "outputs": [],
      "source": [
        "data.drop(['weight', 'payer_code'], axis=1, inplace=True)"
      ]
    },
    {
      "cell_type": "markdown",
      "id": "italic-audio",
      "metadata": {
        "id": "italic-audio"
      },
      "source": [
        "Como um teste, a célula abaixo deverá indicar que o *data frame* contém 46 colunas e que os atributos que tentamos remover realmente não estão presentes."
      ]
    },
    {
      "cell_type": "code",
      "execution_count": 722,
      "id": "occupational-accuracy",
      "metadata": {
        "colab": {
          "base_uri": "https://localhost:8080/"
        },
        "id": "occupational-accuracy",
        "outputId": "44b60f7b-1544-4ae9-f29b-cd13b34110a5"
      },
      "outputs": [
        {
          "output_type": "stream",
          "name": "stdout",
          "text": [
            "Atributos restantes: 46\n",
            "O atributo encounter_id foi removido? True\n",
            "O atributo patient_nbr foi removido? True\n",
            "O atributo weight foi removido? True\n",
            "O atributo payer_code foi removido? True\n"
          ]
        }
      ],
      "source": [
        "removed = ['encounter_id', 'patient_nbr', 'weight', 'payer_code']\n",
        "print(f\"Atributos restantes: {data.shape[1]}\")\n",
        "for r in removed:\n",
        "    print(f\"O atributo {r} foi removido? {r not in data.columns}\")"
      ]
    },
    {
      "cell_type": "markdown",
      "id": "rolled-steam",
      "metadata": {
        "id": "rolled-steam"
      },
      "source": [
        "### Valores ausentes que não removeremos"
      ]
    },
    {
      "cell_type": "markdown",
      "id": "warming-medicare",
      "metadata": {
        "id": "warming-medicare"
      },
      "source": [
        "Todos os atributos que possuem valores ausentes devem ser verificados. Já removemos dois, mas os outros precisam de tratamento específico.\n",
        "\n",
        "Vamos começar listando todos os atributos que possuem pelo menos um valor ausente. Podemos fazer de várias formas. Por exemplo, você pode usar `data.isna()` para obter a máscara de todas as células que possuem valores ausentes e encadear o método `any()` para obter as colunas que têm pelo menos um valor ausente.\n",
        "\n",
        "***Dica***: no Jupyter Notebook, se estiver em modo de edição em uma célula, aperte `ESC`, depois use os atalhos `b` e `a` para criar novas células abaixo e acima. Para excluir uma célula, use `dd` (aperte `d` duas vezes).\n",
        "\n",
        "***Dica***: atalhos semelhantes existem no Colaboratory, mas em vez de `ESC`, você pode pressionar `Control+M`, seguido dos atalhos `b`, `a` ou `d`."
      ]
    },
    {
      "cell_type": "markdown",
      "id": "pressed-daisy",
      "metadata": {
        "id": "pressed-daisy"
      },
      "source": [
        "#### Exercício 7\n",
        "\n",
        "> Imprima os nomes de todos os atributos que ainda possuem valores ausentes.\n",
        ">\n",
        "> *Dica*: use uma máscara para indexar o índice `data.columns`."
      ]
    },
    {
      "cell_type": "code",
      "execution_count": 723,
      "id": "false-rebel",
      "metadata": {
        "colab": {
          "base_uri": "https://localhost:8080/"
        },
        "id": "false-rebel",
        "outputId": "c29965d6-ade9-4598-f0f3-dc4b213ed1ef"
      },
      "outputs": [
        {
          "output_type": "execute_result",
          "data": {
            "text/plain": [
              "Index(['race', 'medical_specialty', 'diag_1', 'diag_2', 'diag_3'], dtype='object')"
            ]
          },
          "metadata": {},
          "execution_count": 723
        }
      ],
      "source": [
        "ausentes = data.isna().any()\n",
        "data.columns[ausentes]"
      ]
    },
    {
      "cell_type": "markdown",
      "id": "swedish-emphasis",
      "metadata": {
        "id": "swedish-emphasis"
      },
      "source": [
        "#### Exercício 8\n",
        "\n",
        "**TODO**: guarde esses nomes em uma lista."
      ]
    },
    {
      "cell_type": "code",
      "execution_count": 724,
      "id": "specialized-diesel",
      "metadata": {
        "colab": {
          "base_uri": "https://localhost:8080/"
        },
        "id": "specialized-diesel",
        "outputId": "2c87f333-9e5f-45d7-cd4e-35dc763ddba7"
      },
      "outputs": [
        {
          "output_type": "execute_result",
          "data": {
            "text/plain": [
              "['race', 'medical_specialty', 'diag_1', 'diag_2', 'diag_3']"
            ]
          },
          "metadata": {},
          "execution_count": 724
        }
      ],
      "source": [
        "missfeat = list(data.columns[ausentes])\n",
        "missfeat"
      ]
    },
    {
      "cell_type": "markdown",
      "id": "suspended-pitch",
      "metadata": {
        "id": "suspended-pitch"
      },
      "source": [
        "Caso encontre dificuldades, a lista deve ser igual à seguinte:"
      ]
    },
    {
      "cell_type": "code",
      "execution_count": 725,
      "id": "ready-refrigerator",
      "metadata": {
        "id": "ready-refrigerator"
      },
      "outputs": [],
      "source": [
        "# missfeat = ['race', 'medical_specialty', 'diag_1', 'diag_2', 'diag_3']"
      ]
    },
    {
      "cell_type": "markdown",
      "id": "exact-character",
      "metadata": {
        "id": "exact-character"
      },
      "source": [
        "Vamos olhar especificamente para a fração de valores ausentes nesses atributos:"
      ]
    },
    {
      "cell_type": "code",
      "execution_count": 726,
      "id": "senior-practitioner",
      "metadata": {
        "colab": {
          "base_uri": "https://localhost:8080/"
        },
        "id": "senior-practitioner",
        "outputId": "757371bc-91ba-433f-ed40-76882ffaf12c"
      },
      "outputs": [
        {
          "output_type": "execute_result",
          "data": {
            "text/plain": [
              "race                  2.233555\n",
              "medical_specialty    49.082208\n",
              "diag_1                0.020636\n",
              "diag_2                0.351787\n",
              "diag_3                1.398306\n",
              "dtype: float64"
            ]
          },
          "metadata": {},
          "execution_count": 726
        }
      ],
      "source": [
        "100 * data[missfeat].isna().sum() / len(data)"
      ]
    },
    {
      "cell_type": "markdown",
      "id": "successful-sentence",
      "metadata": {
        "id": "successful-sentence"
      },
      "source": [
        "Os atributos que ainda possuem valores ausentes são os seguintes:\n",
        "\n",
        "- `race`, que indica a etnia do paciente;\n",
        "- `medical_specialty`, que, como já vimos, indica a especialidade do(a) médico que fez encaminhamento do paciente;\n",
        "- `diag_1`, `diag_2` e `diag_3`, que representam diagnósticos recebidos pelo paciente.\n",
        "\n",
        "Como já mencionamos, os autores do artigo de referência consideraram o atributo `medical_specialty` relevante, apesar do alto número de valores ausentes. Nós vamos substituir os valores ausentes pelo valor `'missing'`.\n",
        "\n",
        "Mas, antes de fazer isso, que outros valores estão presentes nesse atributo?"
      ]
    },
    {
      "cell_type": "markdown",
      "id": "photographic-message",
      "metadata": {
        "id": "photographic-message"
      },
      "source": [
        "#### Exercício 9\n",
        "\n",
        "> Use o méodo `value_counts()` no atributo `'medical_specialty'` para obter a lista de valores e o número de vezes que eles aparecem."
      ]
    },
    {
      "cell_type": "code",
      "execution_count": 727,
      "id": "informational-thomson",
      "metadata": {
        "colab": {
          "base_uri": "https://localhost:8080/"
        },
        "id": "informational-thomson",
        "outputId": "3fdb2b9a-05f3-4c0f-a7d5-463dff91f825"
      },
      "outputs": [
        {
          "output_type": "execute_result",
          "data": {
            "text/plain": [
              "medical_specialty\n",
              "InternalMedicine                    14635\n",
              "Emergency/Trauma                     7565\n",
              "Family/GeneralPractice               7440\n",
              "Cardiology                           5352\n",
              "Surgery-General                      3099\n",
              "                                    ...  \n",
              "Perinatology                            1\n",
              "Neurophysiology                         1\n",
              "Psychiatry-Addictive                    1\n",
              "Pediatrics-InfectiousDiseases           1\n",
              "Surgery-PlasticwithinHeadandNeck        1\n",
              "Name: count, Length: 72, dtype: int64"
            ]
          },
          "metadata": {},
          "execution_count": 727
        }
      ],
      "source": [
        "data.medical_specialty.value_counts()"
      ]
    },
    {
      "cell_type": "markdown",
      "id": "ddcdf145",
      "metadata": {
        "id": "ddcdf145"
      },
      "source": [
        "O resultado de `value_counts` é uma série (classe `pandas.Series`).\n",
        "\n",
        "Uma série possui dois elementos\n",
        "\n",
        "- Um índice, composto por chaves. Neste caso serão os nomes das especialidades, tais como `InternalMedicine`, `Emergency/Trauma`, `Family/GeneralPractice` etc.;\n",
        "- Os valores associados às chaves. Neste caso serão a quantidade de vezes que cada chave aparece na coluna.\n",
        "\n",
        "Nós vamos montar uma estrutura bem organizada para estudar esse atributo e vamos começar coletando os nomes das especialidades médicas que aparecem na base."
      ]
    },
    {
      "cell_type": "markdown",
      "id": "linear-workplace",
      "metadata": {
        "id": "linear-workplace"
      },
      "source": [
        "#### Exercício 10\n",
        "\n",
        "> Use o método `keys()` na saída da célula anterior para obter a lista completa de especialidades médicas."
      ]
    },
    {
      "cell_type": "code",
      "execution_count": 728,
      "id": "practical-thursday",
      "metadata": {
        "colab": {
          "base_uri": "https://localhost:8080/"
        },
        "id": "practical-thursday",
        "outputId": "98a9153d-9623-47e2-f060-4ee7d07ea5c9"
      },
      "outputs": [
        {
          "output_type": "execute_result",
          "data": {
            "text/plain": [
              "Index(['InternalMedicine', 'Emergency/Trauma', 'Family/GeneralPractice',\n",
              "       'Cardiology', 'Surgery-General', 'Nephrology', 'Orthopedics',\n",
              "       'Orthopedics-Reconstructive', 'Radiologist', 'Pulmonology',\n",
              "       'Psychiatry', 'Urology', 'ObstetricsandGynecology',\n",
              "       'Surgery-Cardiovascular/Thoracic', 'Gastroenterology',\n",
              "       'Surgery-Vascular', 'Surgery-Neuro',\n",
              "       'PhysicalMedicineandRehabilitation', 'Oncology', 'Pediatrics',\n",
              "       'Hematology/Oncology', 'Neurology', 'Pediatrics-Endocrinology',\n",
              "       'Otolaryngology', 'Endocrinology', 'Surgery-Thoracic', 'Psychology',\n",
              "       'Podiatry', 'Surgery-Cardiovascular', 'Pediatrics-CriticalCare',\n",
              "       'Hematology', 'Gynecology', 'Hospitalist', 'Radiology', 'Surgeon',\n",
              "       'Surgery-Plastic', 'Osteopath', 'Ophthalmology', 'InfectiousDiseases',\n",
              "       'SurgicalSpecialty', 'Obsterics&Gynecology-GynecologicOnco',\n",
              "       'Pediatrics-Pulmonology', 'Anesthesiology-Pediatric', 'Obstetrics',\n",
              "       'Pathology', 'Rheumatology', 'OutreachServices', 'Anesthesiology',\n",
              "       'Surgery-Maxillofacial', 'PhysicianNotFound', 'Surgery-Colon&Rectal',\n",
              "       'Pediatrics-Neurology', 'Endocrinology-Metabolism', 'Surgery-Pediatric',\n",
              "       'AllergyandImmunology', 'Psychiatry-Child/Adolescent',\n",
              "       'Cardiology-Pediatric', 'DCPTEAM', 'Dentistry',\n",
              "       'Pediatrics-Hematology-Oncology', 'Pediatrics-EmergencyMedicine',\n",
              "       'Pediatrics-AllergyandImmunology', 'Resident', 'Speech',\n",
              "       'SportsMedicine', 'Dermatology', 'Proctology', 'Perinatology',\n",
              "       'Neurophysiology', 'Psychiatry-Addictive',\n",
              "       'Pediatrics-InfectiousDiseases', 'Surgery-PlasticwithinHeadandNeck'],\n",
              "      dtype='object', name='medical_specialty')"
            ]
          },
          "metadata": {},
          "execution_count": 728
        }
      ],
      "source": [
        "data.medical_specialty.value_counts().keys()"
      ]
    },
    {
      "cell_type": "markdown",
      "id": "extended-kitty",
      "metadata": {
        "id": "extended-kitty"
      },
      "source": [
        "Podemos até ordenar os valores para que a visualização seja mais fácil:"
      ]
    },
    {
      "cell_type": "code",
      "execution_count": 729,
      "id": "explicit-lesbian",
      "metadata": {
        "colab": {
          "base_uri": "https://localhost:8080/"
        },
        "id": "explicit-lesbian",
        "outputId": "8ab4b1f4-dd4f-4f95-9c2b-b7554c828af6"
      },
      "outputs": [
        {
          "output_type": "execute_result",
          "data": {
            "text/plain": [
              "array(['AllergyandImmunology', 'Anesthesiology',\n",
              "       'Anesthesiology-Pediatric', 'Cardiology', 'Cardiology-Pediatric',\n",
              "       'DCPTEAM', 'Dentistry', 'Dermatology', 'Emergency/Trauma',\n",
              "       'Endocrinology', 'Endocrinology-Metabolism',\n",
              "       'Family/GeneralPractice', 'Gastroenterology', 'Gynecology',\n",
              "       'Hematology', 'Hematology/Oncology', 'Hospitalist',\n",
              "       'InfectiousDiseases', 'InternalMedicine', 'Nephrology',\n",
              "       'Neurology', 'Neurophysiology',\n",
              "       'Obsterics&Gynecology-GynecologicOnco', 'Obstetrics',\n",
              "       'ObstetricsandGynecology', 'Oncology', 'Ophthalmology',\n",
              "       'Orthopedics', 'Orthopedics-Reconstructive', 'Osteopath',\n",
              "       'Otolaryngology', 'OutreachServices', 'Pathology', 'Pediatrics',\n",
              "       'Pediatrics-AllergyandImmunology', 'Pediatrics-CriticalCare',\n",
              "       'Pediatrics-EmergencyMedicine', 'Pediatrics-Endocrinology',\n",
              "       'Pediatrics-Hematology-Oncology', 'Pediatrics-InfectiousDiseases',\n",
              "       'Pediatrics-Neurology', 'Pediatrics-Pulmonology', 'Perinatology',\n",
              "       'PhysicalMedicineandRehabilitation', 'PhysicianNotFound',\n",
              "       'Podiatry', 'Proctology', 'Psychiatry', 'Psychiatry-Addictive',\n",
              "       'Psychiatry-Child/Adolescent', 'Psychology', 'Pulmonology',\n",
              "       'Radiologist', 'Radiology', 'Resident', 'Rheumatology', 'Speech',\n",
              "       'SportsMedicine', 'Surgeon', 'Surgery-Cardiovascular',\n",
              "       'Surgery-Cardiovascular/Thoracic', 'Surgery-Colon&Rectal',\n",
              "       'Surgery-General', 'Surgery-Maxillofacial', 'Surgery-Neuro',\n",
              "       'Surgery-Pediatric', 'Surgery-Plastic',\n",
              "       'Surgery-PlasticwithinHeadandNeck', 'Surgery-Thoracic',\n",
              "       'Surgery-Vascular', 'SurgicalSpecialty', 'Urology'], dtype=object)"
            ]
          },
          "metadata": {},
          "execution_count": 729
        }
      ],
      "source": [
        "np.sort(data['medical_specialty'].value_counts().keys())"
      ]
    },
    {
      "cell_type": "markdown",
      "id": "mediterranean-estimate",
      "metadata": {
        "id": "mediterranean-estimate"
      },
      "source": [
        "Os valores desse atributo são bem curiosos. Alguns parecem repetidos ou talvez excessivamente diferenciados. Por exemplo, o que significa `PhysicianNotFound` (médico não encontrado) e por que existem tantas especificações de especialidades pediátricas?\n",
        "\n",
        "Esse tipo de análise é importante quando se trabalha com Aprendizado de Máquinas e com Mineração de Dados. Deve haver diálogo entre você, hoje aspirante a especialista em AMMD, e o(a) especialista da área. Neste caso, como não temos acesso direto a nenhum especialista, faremos o que foi relatado no artigo, que é manter os valores presentes na base, mas substituir os valores ausentes pela string `'missing'`.\n",
        "\n",
        "A forma mais fácil de substituir valores ausentes é com o método `fillna`. Ele recebe um valor e substitui todas as ocorrências de valores ausentes pelo parâmetro especificado."
      ]
    },
    {
      "cell_type": "markdown",
      "id": "e63eb5b2",
      "metadata": {
        "id": "e63eb5b2"
      },
      "source": [
        "*Primeiro, um backup...*"
      ]
    },
    {
      "cell_type": "code",
      "execution_count": 730,
      "id": "8ae0c0c9",
      "metadata": {
        "id": "8ae0c0c9"
      },
      "outputs": [],
      "source": [
        "data_backup = data.copy(deep=True)\n",
        "data = data_backup"
      ]
    },
    {
      "cell_type": "markdown",
      "id": "electoral-teens",
      "metadata": {
        "id": "electoral-teens"
      },
      "source": [
        "#### Exercício 11\n",
        "\n",
        "> Substitua os valores ausentes *do atributo* `'medical_specialty'` pelo valor `'missing'`. Use o método `fillna()` *apenas nessa coluna*, tomando cuidado para não alterar as outras colunas."
      ]
    },
    {
      "cell_type": "code",
      "execution_count": 731,
      "id": "champion-flavor",
      "metadata": {
        "id": "champion-flavor"
      },
      "outputs": [],
      "source": [
        "data['medical_specialty'].fillna('missing', inplace=True)"
      ]
    },
    {
      "cell_type": "markdown",
      "id": "herbal-manual",
      "metadata": {
        "id": "herbal-manual"
      },
      "source": [
        "Para confirmar, a célula abaixo deve dizer que existem 49.949 ocorrências do valor `'missing'` no atributo `'medical_specialty'` e ainda deve haver 4.075 valores ausentes no conjunto."
      ]
    },
    {
      "cell_type": "code",
      "execution_count": 732,
      "id": "russian-retirement",
      "metadata": {
        "colab": {
          "base_uri": "https://localhost:8080/"
        },
        "id": "russian-retirement",
        "outputId": "d2a0eaed-4c50-4dbc-85ad-f2687c97ec13"
      },
      "outputs": [
        {
          "output_type": "stream",
          "name": "stdout",
          "text": [
            "Ocorrências do valor 'missing': 49949\n",
            "Valores ausentes no Data Frame: 4075\n"
          ]
        }
      ],
      "source": [
        "a = (data['medical_specialty'] == 'missing').sum()\n",
        "b = data.isna().sum().sum()\n",
        "\n",
        "print(f\"Ocorrências do valor 'missing': {a}\")\n",
        "print(f\"Valores ausentes no Data Frame: {b}\")\n",
        "if a != 49949 or b != 4075:\n",
        "    print(\"Algo de errado não está certo!\")"
      ]
    },
    {
      "cell_type": "markdown",
      "id": "5bee85ea",
      "metadata": {
        "id": "5bee85ea"
      },
      "source": [
        "Caso a saída esteja incorreta, recupere o backup e tente novamente."
      ]
    },
    {
      "cell_type": "markdown",
      "id": "7f60ddff",
      "metadata": {
        "id": "7f60ddff"
      },
      "source": [
        "E os outros atributos? Ainda há quatro atributos que possuem valores ausentes (`['race', 'diag_1', 'diag_2', 'diag_3']`)."
      ]
    },
    {
      "cell_type": "markdown",
      "id": "antique-zimbabwe",
      "metadata": {
        "id": "antique-zimbabwe"
      },
      "source": [
        "Vamos tratar esses atributos substituindo os valores ausentes pelas modas de cada coluna. A moda é o valor mais frequente. Por exemplo, na coleção `[azul, azul, azul, verde, vermelho, vermelho, amarelo]`, a cor `azul` é a moda.\n",
        "\n",
        "A moda de cada atributo pode ser calculada com o método `mode`."
      ]
    },
    {
      "cell_type": "code",
      "execution_count": 733,
      "id": "illegal-namibia",
      "metadata": {
        "colab": {
          "base_uri": "https://localhost:8080/"
        },
        "id": "illegal-namibia",
        "outputId": "75eaa547-88d2-4ef1-e65f-1af1c3bc732c"
      },
      "outputs": [
        {
          "output_type": "execute_result",
          "data": {
            "text/plain": [
              "0    Caucasian\n",
              "Name: race, dtype: object"
            ]
          },
          "metadata": {},
          "execution_count": 733
        }
      ],
      "source": [
        "race_mode_series = data['race'].mode()\n",
        "race_mode_series"
      ]
    },
    {
      "cell_type": "markdown",
      "id": "264ced61",
      "metadata": {
        "id": "264ced61"
      },
      "source": [
        "O resultado é uma série, indexado posicionalmente. Isso porque um atributo pode ter mais de uma moda. Por exemplo, na coleção `[azul, azul, verde, vermelho, vermelho, amarelo]`, tanto `azul` quanto `vermelho` são modas.\n",
        "\n",
        "Neste exercício não estamos preocupados com modas múltiplas. Então podemos pegar a primeira linha da série retornada por `.mode()` e usar como a moda"
      ]
    },
    {
      "cell_type": "code",
      "execution_count": 734,
      "id": "20165978",
      "metadata": {
        "colab": {
          "base_uri": "https://localhost:8080/",
          "height": 35
        },
        "id": "20165978",
        "outputId": "edd42cb3-19c5-4ab1-c6da-f5f50d58aa75"
      },
      "outputs": [
        {
          "output_type": "execute_result",
          "data": {
            "text/plain": [
              "'Caucasian'"
            ],
            "application/vnd.google.colaboratory.intrinsic+json": {
              "type": "string"
            }
          },
          "metadata": {},
          "execution_count": 734
        }
      ],
      "source": [
        "race_mode = data['race'].mode()[0]\n",
        "race_mode"
      ]
    },
    {
      "cell_type": "markdown",
      "id": "median-breathing",
      "metadata": {
        "id": "median-breathing"
      },
      "source": [
        "#### Exercício 12\n",
        "\n",
        "> Encontre a moda dos atributos `['race', 'diag_1', 'diag_2', 'diag_3']`. Faça com que o valor ausente de cada um desses atributos seja substituído pela moda."
      ]
    },
    {
      "cell_type": "code",
      "execution_count": 735,
      "id": "polished-instrument",
      "metadata": {
        "id": "polished-instrument"
      },
      "outputs": [],
      "source": [
        "for f in ['race', 'diag_1', 'diag_2', 'diag_3']:\n",
        "    moda = data[f].mode()[0]\n",
        "    data[f].fillna(moda, inplace=True)"
      ]
    },
    {
      "cell_type": "markdown",
      "id": "attractive-wildlife",
      "metadata": {
        "id": "attractive-wildlife"
      },
      "source": [
        "A céula abaixo irá verificar as modas e as contagens. Todas as linhas devem ter um `True`."
      ]
    },
    {
      "cell_type": "code",
      "execution_count": 736,
      "id": "oriental-router",
      "metadata": {
        "colab": {
          "base_uri": "https://localhost:8080/"
        },
        "id": "oriental-router",
        "outputId": "d318b79c-4279-4ccc-858d-f4a741b090eb"
      },
      "outputs": [
        {
          "output_type": "stream",
          "name": "stdout",
          "text": [
            "Moda de race é Caucasian? True\n",
            "A contagem da moda é 78372? True\n",
            "\n",
            "Moda de diag_1 é 428? True\n",
            "A contagem da moda é 6883? True\n",
            "\n",
            "Moda de diag_2 é 276? True\n",
            "A contagem da moda é 7110? True\n",
            "\n",
            "Moda de diag_3 é 250? True\n",
            "A contagem da moda é 12978? True\n",
            "\n"
          ]
        }
      ],
      "source": [
        "mode_expected = {\n",
        "    'race': 'Caucasian',\n",
        "    'diag_1': '428',\n",
        "    'diag_2': '276',\n",
        "    'diag_3': '250'\n",
        "}\n",
        "mode_expected_count = {\n",
        "    'race': 76099 + 2273,\n",
        "    'diag_1': 6862 + 21,\n",
        "    'diag_2': 6752 + 358,\n",
        "    'diag_3': 11555 + 1423\n",
        "}\n",
        "\n",
        "for f in ['race', 'diag_1', 'diag_2', 'diag_3']:\n",
        "    counts = data[f].value_counts()\n",
        "    confirm_mode = (counts.index[0] == mode_expected[f])\n",
        "    confirm_count = (counts[0] == mode_expected_count[f])\n",
        "\n",
        "    print(f\"Moda de {f} é {mode_expected[f]}? {confirm_mode}\")\n",
        "    print(f\"A contagem da moda é {mode_expected_count[f]}? {confirm_count}\")\n",
        "    print()"
      ]
    },
    {
      "cell_type": "markdown",
      "id": "above-auction",
      "metadata": {
        "id": "above-auction"
      },
      "source": [
        "Antes de finalizar, confirme que não há mais valores ausentes:"
      ]
    },
    {
      "cell_type": "code",
      "execution_count": 737,
      "id": "color-pizza",
      "metadata": {
        "colab": {
          "base_uri": "https://localhost:8080/"
        },
        "id": "color-pizza",
        "outputId": "89ca3d5c-a919-4647-8ed7-32948e058d4a"
      },
      "outputs": [
        {
          "output_type": "execute_result",
          "data": {
            "text/plain": [
              "False"
            ]
          },
          "metadata": {},
          "execution_count": 737
        }
      ],
      "source": [
        "data.isna().any(axis=None)"
      ]
    },
    {
      "cell_type": "markdown",
      "id": "db9c0e48",
      "metadata": {
        "id": "db9c0e48"
      },
      "source": [
        "A saída correta é `False`."
      ]
    },
    {
      "cell_type": "markdown",
      "id": "demanding-deposit",
      "metadata": {
        "id": "demanding-deposit"
      },
      "source": [
        "### Atributos com pouca informação"
      ]
    },
    {
      "cell_type": "markdown",
      "id": "daily-weather",
      "metadata": {
        "id": "daily-weather"
      },
      "source": [
        "Uma outra questão é a de atributos pouco representativos. Alguns atributos podem não ter valores ausentes na base, mas mesmo assim a informação contida neles é tão mal distribuída que pouco ajudará o modelo.\n",
        "\n",
        "É o caso de alguns atributos que contêm informações de medicamentos utilizados pelos pacientes. São estes:"
      ]
    },
    {
      "cell_type": "code",
      "execution_count": 738,
      "id": "faced-pontiac",
      "metadata": {
        "id": "faced-pontiac"
      },
      "outputs": [],
      "source": [
        "medicine_features = np.sort(['metformin', 'repaglinide', 'nateglinide',\n",
        "       'chlorpropamide', 'glimepiride', 'acetohexamide', 'glipizide',\n",
        "       'glyburide', 'tolbutamide', 'pioglitazone', 'rosiglitazone', 'acarbose',\n",
        "       'miglitol', 'troglitazone', 'tolazamide', 'examide', 'citoglipton',\n",
        "       'insulin', 'glyburide-metformin', 'glipizide-metformin',\n",
        "       'glimepiride-pioglitazone', 'metformin-rosiglitazone',\n",
        "       'metformin-pioglitazone'])"
      ]
    },
    {
      "cell_type": "markdown",
      "id": "7e128625",
      "metadata": {
        "id": "7e128625"
      },
      "source": [
        "Essa informação não é algo que se espera que você saiba. Ela foi adquirida durante a elaboração do *notebook* pela análise dos dados e leitura do artigo."
      ]
    },
    {
      "cell_type": "code",
      "execution_count": 739,
      "id": "adolescent-stretch",
      "metadata": {
        "colab": {
          "base_uri": "https://localhost:8080/"
        },
        "id": "adolescent-stretch",
        "outputId": "ac836a6a-df1a-474b-ac98-8f238882fcaa"
      },
      "outputs": [
        {
          "output_type": "execute_result",
          "data": {
            "text/plain": [
              "23"
            ]
          },
          "metadata": {},
          "execution_count": 739
        }
      ],
      "source": [
        "len(medicine_features)"
      ]
    },
    {
      "cell_type": "markdown",
      "id": "honest-string",
      "metadata": {
        "id": "honest-string"
      },
      "source": [
        "Esses 23 atributos são categóricos. As categorias permitidas para esses atributos  são poucas e podem ser coletadas facilmente com ajuda do NumPy:"
      ]
    },
    {
      "cell_type": "code",
      "execution_count": 740,
      "id": "flexible-anime",
      "metadata": {
        "colab": {
          "base_uri": "https://localhost:8080/"
        },
        "id": "flexible-anime",
        "outputId": "34272fe7-1b4a-433f-88f8-fcbdbfb4055c"
      },
      "outputs": [
        {
          "output_type": "execute_result",
          "data": {
            "text/plain": [
              "array(['Down', 'No', 'Steady', 'Up'], dtype=object)"
            ]
          },
          "metadata": {},
          "execution_count": 740
        }
      ],
      "source": [
        "np.unique(data[medicine_features])"
      ]
    },
    {
      "cell_type": "markdown",
      "id": "creative-sixth",
      "metadata": {
        "id": "creative-sixth"
      },
      "source": [
        "O valor `No` indica que o paciente não faz uso da medicação e não recebeu indicação para fazer uso durante a visita. O valor `Steady` indica que o paciente faz uso da medicação e a dosagem permaneceu a mesma. Os valores `Down` e `Up` indicam que o paciente faz uso da medicação e, durante a consulta, foi aconselhado a diminuir ou aumentar a dosagem.\n",
        "\n",
        "Veja alguns exemplos:\n",
        "\n",
        "1. Paciente que não faz uso de nenhuma medicação listada:"
      ]
    },
    {
      "cell_type": "code",
      "execution_count": 741,
      "id": "collaborative-helicopter",
      "metadata": {
        "colab": {
          "base_uri": "https://localhost:8080/"
        },
        "id": "collaborative-helicopter",
        "outputId": "869bc374-b7d1-4109-8325-fe65c12bf03d"
      },
      "outputs": [
        {
          "output_type": "execute_result",
          "data": {
            "text/plain": [
              "acarbose                    No\n",
              "acetohexamide               No\n",
              "chlorpropamide              No\n",
              "citoglipton                 No\n",
              "examide                     No\n",
              "glimepiride                 No\n",
              "glimepiride-pioglitazone    No\n",
              "glipizide                   No\n",
              "glipizide-metformin         No\n",
              "glyburide                   No\n",
              "glyburide-metformin         No\n",
              "insulin                     No\n",
              "metformin                   No\n",
              "metformin-pioglitazone      No\n",
              "metformin-rosiglitazone     No\n",
              "miglitol                    No\n",
              "nateglinide                 No\n",
              "pioglitazone                No\n",
              "repaglinide                 No\n",
              "rosiglitazone               No\n",
              "tolazamide                  No\n",
              "tolbutamide                 No\n",
              "troglitazone                No\n",
              "Name: 356, dtype: object"
            ]
          },
          "metadata": {},
          "execution_count": 741
        }
      ],
      "source": [
        "data.loc[356, medicine_features]"
      ]
    },
    {
      "cell_type": "markdown",
      "id": "qualified-first",
      "metadata": {
        "id": "qualified-first"
      },
      "source": [
        "2. Caso em que o uso de insulina foi mantido e o paciente não fazia uso de nenhuma das outras medicações."
      ]
    },
    {
      "cell_type": "code",
      "execution_count": 742,
      "id": "liable-level",
      "metadata": {
        "colab": {
          "base_uri": "https://localhost:8080/"
        },
        "id": "liable-level",
        "outputId": "e84908e0-99cb-4c9f-a989-c340cec98aee"
      },
      "outputs": [
        {
          "output_type": "execute_result",
          "data": {
            "text/plain": [
              "acarbose                        No\n",
              "acetohexamide                   No\n",
              "chlorpropamide                  No\n",
              "citoglipton                     No\n",
              "examide                         No\n",
              "glimepiride                     No\n",
              "glimepiride-pioglitazone        No\n",
              "glipizide                       No\n",
              "glipizide-metformin             No\n",
              "glyburide                       No\n",
              "glyburide-metformin             No\n",
              "insulin                     Steady\n",
              "metformin                       No\n",
              "metformin-pioglitazone          No\n",
              "metformin-rosiglitazone         No\n",
              "miglitol                        No\n",
              "nateglinide                     No\n",
              "pioglitazone                    No\n",
              "repaglinide                     No\n",
              "rosiglitazone                   No\n",
              "tolazamide                      No\n",
              "tolbutamide                     No\n",
              "troglitazone                    No\n",
              "Name: 52, dtype: object"
            ]
          },
          "metadata": {},
          "execution_count": 742
        }
      ],
      "source": [
        "data.loc[52, medicine_features]"
      ]
    },
    {
      "cell_type": "markdown",
      "id": "therapeutic-arcade",
      "metadata": {
        "id": "therapeutic-arcade"
      },
      "source": [
        "3. Caso em que houve manutenção de um medicamento (`metformin`) e redução da insulina."
      ]
    },
    {
      "cell_type": "code",
      "execution_count": 743,
      "id": "welcome-duplicate",
      "metadata": {
        "colab": {
          "base_uri": "https://localhost:8080/"
        },
        "id": "welcome-duplicate",
        "outputId": "16746f90-b5f1-409f-e60c-b16bcfc872cd"
      },
      "outputs": [
        {
          "output_type": "execute_result",
          "data": {
            "text/plain": [
              "acarbose                        No\n",
              "acetohexamide                   No\n",
              "chlorpropamide                  No\n",
              "citoglipton                     No\n",
              "examide                         No\n",
              "glimepiride                     No\n",
              "glimepiride-pioglitazone        No\n",
              "glipizide                       No\n",
              "glipizide-metformin             No\n",
              "glyburide                       No\n",
              "glyburide-metformin             No\n",
              "insulin                       Down\n",
              "metformin                   Steady\n",
              "metformin-pioglitazone          No\n",
              "metformin-rosiglitazone         No\n",
              "miglitol                        No\n",
              "nateglinide                     No\n",
              "pioglitazone                    No\n",
              "repaglinide                     Up\n",
              "rosiglitazone                   No\n",
              "tolazamide                      No\n",
              "tolbutamide                     No\n",
              "troglitazone                    No\n",
              "Name: 12, dtype: object"
            ]
          },
          "metadata": {},
          "execution_count": 743
        }
      ],
      "source": [
        "data.loc[12, medicine_features]"
      ]
    },
    {
      "cell_type": "markdown",
      "id": "increased-monster",
      "metadata": {
        "id": "increased-monster"
      },
      "source": [
        "#### Exercício 13\n",
        "\n",
        "> Explore mais alguns casos da base. Sem especificações, apenas use sua criatividade para encontrar mais alguns exemplos de pacientes que têm pelo menos um valor diferente de `No` para um dos medicamentos."
      ]
    },
    {
      "cell_type": "code",
      "execution_count": 744,
      "id": "editorial-question",
      "metadata": {
        "colab": {
          "base_uri": "https://localhost:8080/"
        },
        "id": "editorial-question",
        "outputId": "5f36fbfa-6b7e-4262-c36f-19481582c1a2"
      },
      "outputs": [
        {
          "output_type": "execute_result",
          "data": {
            "text/plain": [
              "acarbose                        No\n",
              "acetohexamide                   No\n",
              "chlorpropamide                  No\n",
              "citoglipton                     No\n",
              "examide                         No\n",
              "glimepiride                     No\n",
              "glimepiride-pioglitazone        No\n",
              "glipizide                       No\n",
              "glipizide-metformin             No\n",
              "glyburide                       No\n",
              "glyburide-metformin             No\n",
              "insulin                     Steady\n",
              "metformin                       No\n",
              "metformin-pioglitazone          No\n",
              "metformin-rosiglitazone         No\n",
              "miglitol                        No\n",
              "nateglinide                     No\n",
              "pioglitazone                    No\n",
              "repaglinide                     No\n",
              "rosiglitazone                   No\n",
              "tolazamide                      No\n",
              "tolbutamide                     No\n",
              "troglitazone                    No\n",
              "Name: 10, dtype: object"
            ]
          },
          "metadata": {},
          "execution_count": 744
        }
      ],
      "source": [
        "data.loc[10, medicine_features]"
      ]
    },
    {
      "cell_type": "code",
      "execution_count": 745,
      "id": "concerned-wells",
      "metadata": {
        "colab": {
          "base_uri": "https://localhost:8080/"
        },
        "id": "concerned-wells",
        "outputId": "c9c890bf-d972-49e0-997a-f179d75e9836"
      },
      "outputs": [
        {
          "output_type": "execute_result",
          "data": {
            "text/plain": [
              "acarbose                        No\n",
              "acetohexamide                   No\n",
              "chlorpropamide                  No\n",
              "citoglipton                     No\n",
              "examide                         No\n",
              "glimepiride                     No\n",
              "glimepiride-pioglitazone        No\n",
              "glipizide                       No\n",
              "glipizide-metformin             No\n",
              "glyburide                   Steady\n",
              "glyburide-metformin             No\n",
              "insulin                     Steady\n",
              "metformin                   Steady\n",
              "metformin-pioglitazone          No\n",
              "metformin-rosiglitazone         No\n",
              "miglitol                        No\n",
              "nateglinide                     No\n",
              "pioglitazone                    No\n",
              "repaglinide                     No\n",
              "rosiglitazone                   No\n",
              "tolazamide                      No\n",
              "tolbutamide                     No\n",
              "troglitazone                    No\n",
              "Name: 42, dtype: object"
            ]
          },
          "metadata": {},
          "execution_count": 745
        }
      ],
      "source": [
        "data.loc[42, medicine_features]"
      ]
    },
    {
      "cell_type": "code",
      "execution_count": 746,
      "id": "canadian-essence",
      "metadata": {
        "colab": {
          "base_uri": "https://localhost:8080/"
        },
        "id": "canadian-essence",
        "outputId": "e342e0b3-ebfc-40b4-c970-666776ca3347"
      },
      "outputs": [
        {
          "output_type": "execute_result",
          "data": {
            "text/plain": [
              "acarbose                        No\n",
              "acetohexamide                   No\n",
              "chlorpropamide                  No\n",
              "citoglipton                     No\n",
              "examide                         No\n",
              "glimepiride                     No\n",
              "glimepiride-pioglitazone        No\n",
              "glipizide                   Steady\n",
              "glipizide-metformin             No\n",
              "glyburide                       No\n",
              "glyburide-metformin             No\n",
              "insulin                         No\n",
              "metformin                       No\n",
              "metformin-pioglitazone          No\n",
              "metformin-rosiglitazone         No\n",
              "miglitol                        No\n",
              "nateglinide                     No\n",
              "pioglitazone                    No\n",
              "repaglinide                     No\n",
              "rosiglitazone                   No\n",
              "tolazamide                      No\n",
              "tolbutamide                     No\n",
              "troglitazone                    No\n",
              "Name: 500, dtype: object"
            ]
          },
          "metadata": {},
          "execution_count": 746
        }
      ],
      "source": [
        "data.loc[500, medicine_features]"
      ]
    },
    {
      "cell_type": "markdown",
      "id": "eastern-dover",
      "metadata": {
        "id": "eastern-dover"
      },
      "source": [
        "Como você deve ter visto, a maioria dos pacientes faz uso de poucos ou nenhum medicamento. Na verdade, o valor `'No'` aparece **muitas** vezes nesses 23 atributos."
      ]
    },
    {
      "cell_type": "markdown",
      "id": "laden-retreat",
      "metadata": {
        "id": "laden-retreat"
      },
      "source": [
        "#### Exercício 14\n",
        "\n",
        "> Calcule quantas vezes o valor `'No'` aparece nessas 23 colunas listadas em `medicine_features`."
      ]
    },
    {
      "cell_type": "code",
      "execution_count": 747,
      "id": "utility-journal",
      "metadata": {
        "colab": {
          "base_uri": "https://localhost:8080/"
        },
        "id": "utility-journal",
        "outputId": "27f68ed1-bf56-47f7-87e5-20e679e167b3"
      },
      "outputs": [
        {
          "output_type": "execute_result",
          "data": {
            "text/plain": [
              "2220564"
            ]
          },
          "metadata": {},
          "execution_count": 747
        }
      ],
      "source": [
        "data[medicine_features].apply(lambda x: (x == 'No').sum()).sum()"
      ]
    },
    {
      "cell_type": "markdown",
      "id": "covered-stupid",
      "metadata": {
        "id": "covered-stupid"
      },
      "source": [
        "O resultado deve ter sido 2.220.564. Fazendo algumas continhas, você poderá concluir que 95% das células desses atributos contêm o valor `'No'`."
      ]
    },
    {
      "cell_type": "markdown",
      "id": "gross-smile",
      "metadata": {
        "id": "gross-smile"
      },
      "source": [
        "Isso é suspeito e precisamos olhar com mais atenção. Um jeito é montar uma tabela com o número de ocorrências de cada valor para cada medicamento. E, veja, temos a ferramenta ideal para isso: um *data frame*!\n",
        "\n",
        "Vamos montar o *data frame* juntos. Ele deverá ser mais ou menos assim:"
      ]
    },
    {
      "cell_type": "markdown",
      "id": "proud-farmer",
      "metadata": {
        "id": "proud-farmer"
      },
      "source": [
        "![image.png](data:image/png;base64,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)"
      ]
    },
    {
      "cell_type": "markdown",
      "id": "foreign-faculty",
      "metadata": {
        "id": "foreign-faculty"
      },
      "source": [
        "Funciona da seguinte maneira: o *data frame* possui dois índices. Os valores em negrito na parte de cima são as chaves do índice das colunas. Os valores em negrito nas linhas são as chaves do índice das linhas. A palavra \"Medicine\" no topo é o nome que vamos dar ao índice das linhas. Esse nome não é importante, mas deixa o nosso *data frame* mais elegante.\n",
        "\n",
        "Vamos começa instanciando um *data frame* com os nomes das colunas e do índice."
      ]
    },
    {
      "cell_type": "code",
      "execution_count": 748,
      "id": "physical-underground",
      "metadata": {
        "colab": {
          "base_uri": "https://localhost:8080/",
          "height": 81
        },
        "id": "physical-underground",
        "outputId": "bbd7b3cf-5351-4a9f-c57c-9ffd97696795"
      },
      "outputs": [
        {
          "output_type": "execute_result",
          "data": {
            "text/plain": [
              "Empty DataFrame\n",
              "Columns: [No, Down, Steady, Up]\n",
              "Index: []"
            ],
            "text/html": [
              "\n",
              "  <div id=\"df-473d8d77-2557-499c-8b70-b5a6ff1e9708\" class=\"colab-df-container\">\n",
              "    <div>\n",
              "<style scoped>\n",
              "    .dataframe tbody tr th:only-of-type {\n",
              "        vertical-align: middle;\n",
              "    }\n",
              "\n",
              "    .dataframe tbody tr th {\n",
              "        vertical-align: top;\n",
              "    }\n",
              "\n",
              "    .dataframe thead th {\n",
              "        text-align: right;\n",
              "    }\n",
              "</style>\n",
              "<table border=\"1\" class=\"dataframe\">\n",
              "  <thead>\n",
              "    <tr style=\"text-align: right;\">\n",
              "      <th></th>\n",
              "      <th>No</th>\n",
              "      <th>Down</th>\n",
              "      <th>Steady</th>\n",
              "      <th>Up</th>\n",
              "    </tr>\n",
              "    <tr>\n",
              "      <th>Medicine</th>\n",
              "      <th></th>\n",
              "      <th></th>\n",
              "      <th></th>\n",
              "      <th></th>\n",
              "    </tr>\n",
              "  </thead>\n",
              "  <tbody>\n",
              "  </tbody>\n",
              "</table>\n",
              "</div>\n",
              "    <div class=\"colab-df-buttons\">\n",
              "\n",
              "  <div class=\"colab-df-container\">\n",
              "    <button class=\"colab-df-convert\" onclick=\"convertToInteractive('df-473d8d77-2557-499c-8b70-b5a6ff1e9708')\"\n",
              "            title=\"Convert this dataframe to an interactive table.\"\n",
              "            style=\"display:none;\">\n",
              "\n",
              "  <svg xmlns=\"http://www.w3.org/2000/svg\" height=\"24px\" viewBox=\"0 -960 960 960\">\n",
              "    <path d=\"M120-120v-720h720v720H120Zm60-500h600v-160H180v160Zm220 220h160v-160H400v160Zm0 220h160v-160H400v160ZM180-400h160v-160H180v160Zm440 0h160v-160H620v160ZM180-180h160v-160H180v160Zm440 0h160v-160H620v160Z\"/>\n",
              "  </svg>\n",
              "    </button>\n",
              "\n",
              "  <style>\n",
              "    .colab-df-container {\n",
              "      display:flex;\n",
              "      gap: 12px;\n",
              "    }\n",
              "\n",
              "    .colab-df-convert {\n",
              "      background-color: #E8F0FE;\n",
              "      border: none;\n",
              "      border-radius: 50%;\n",
              "      cursor: pointer;\n",
              "      display: none;\n",
              "      fill: #1967D2;\n",
              "      height: 32px;\n",
              "      padding: 0 0 0 0;\n",
              "      width: 32px;\n",
              "    }\n",
              "\n",
              "    .colab-df-convert:hover {\n",
              "      background-color: #E2EBFA;\n",
              "      box-shadow: 0px 1px 2px rgba(60, 64, 67, 0.3), 0px 1px 3px 1px rgba(60, 64, 67, 0.15);\n",
              "      fill: #174EA6;\n",
              "    }\n",
              "\n",
              "    .colab-df-buttons div {\n",
              "      margin-bottom: 4px;\n",
              "    }\n",
              "\n",
              "    [theme=dark] .colab-df-convert {\n",
              "      background-color: #3B4455;\n",
              "      fill: #D2E3FC;\n",
              "    }\n",
              "\n",
              "    [theme=dark] .colab-df-convert:hover {\n",
              "      background-color: #434B5C;\n",
              "      box-shadow: 0px 1px 3px 1px rgba(0, 0, 0, 0.15);\n",
              "      filter: drop-shadow(0px 1px 2px rgba(0, 0, 0, 0.3));\n",
              "      fill: #FFFFFF;\n",
              "    }\n",
              "  </style>\n",
              "\n",
              "    <script>\n",
              "      const buttonEl =\n",
              "        document.querySelector('#df-473d8d77-2557-499c-8b70-b5a6ff1e9708 button.colab-df-convert');\n",
              "      buttonEl.style.display =\n",
              "        google.colab.kernel.accessAllowed ? 'block' : 'none';\n",
              "\n",
              "      async function convertToInteractive(key) {\n",
              "        const element = document.querySelector('#df-473d8d77-2557-499c-8b70-b5a6ff1e9708');\n",
              "        const dataTable =\n",
              "          await google.colab.kernel.invokeFunction('convertToInteractive',\n",
              "                                                    [key], {});\n",
              "        if (!dataTable) return;\n",
              "\n",
              "        const docLinkHtml = 'Like what you see? Visit the ' +\n",
              "          '<a target=\"_blank\" href=https://colab.research.google.com/notebooks/data_table.ipynb>data table notebook</a>'\n",
              "          + ' to learn more about interactive tables.';\n",
              "        element.innerHTML = '';\n",
              "        dataTable['output_type'] = 'display_data';\n",
              "        await google.colab.output.renderOutput(dataTable, element);\n",
              "        const docLink = document.createElement('div');\n",
              "        docLink.innerHTML = docLinkHtml;\n",
              "        element.appendChild(docLink);\n",
              "      }\n",
              "    </script>\n",
              "  </div>\n",
              "\n",
              "    </div>\n",
              "  </div>\n"
            ],
            "application/vnd.google.colaboratory.intrinsic+json": {
              "type": "dataframe",
              "variable_name": "medicine_counts",
              "repr_error": "Out of range float values are not JSON compliant: nan"
            }
          },
          "metadata": {},
          "execution_count": 748
        }
      ],
      "source": [
        "medicine_counts = pd.DataFrame(columns=['No', 'Down', 'Steady', 'Up'])\n",
        "medicine_counts.index.name = 'Medicine'\n",
        "medicine_counts"
      ]
    },
    {
      "cell_type": "markdown",
      "id": "heavy-mobility",
      "metadata": {
        "id": "heavy-mobility"
      },
      "source": [
        "Esse é o “esqueleto” do *data frame*. Agora precisamos preenchê-lo com valores. Para isso, vamos selecionar cada coluna que representa um medicamento e efetuar a contagem dos valores.\n",
        "\n",
        "Primeiro, lembre-se (ou descubra) que, quando selecionamos uma coluna do *data frame*, o resultado é uma série do Pandas."
      ]
    },
    {
      "cell_type": "code",
      "execution_count": 749,
      "id": "continuous-limitation",
      "metadata": {
        "colab": {
          "base_uri": "https://localhost:8080/",
          "height": 204
        },
        "id": "continuous-limitation",
        "outputId": "868394df-2552-47be-9128-c61f5ede1288"
      },
      "outputs": [
        {
          "output_type": "execute_result",
          "data": {
            "text/plain": [
              "pandas.core.series.Series"
            ],
            "text/html": [
              "<div style=\"max-width:800px; border: 1px solid var(--colab-border-color);\"><style>\n",
              "      pre.function-repr-contents {\n",
              "        overflow-x: auto;\n",
              "        padding: 8px 12px;\n",
              "        max-height: 500px;\n",
              "      }\n",
              "\n",
              "      pre.function-repr-contents.function-repr-contents-collapsed {\n",
              "        cursor: pointer;\n",
              "        max-height: 100px;\n",
              "      }\n",
              "    </style>\n",
              "    <pre style=\"white-space: initial; background:\n",
              "         var(--colab-secondary-surface-color); padding: 8px 12px;\n",
              "         border-bottom: 1px solid var(--colab-border-color);\"><b>pandas.core.series.Series</b><br/>def __init__(data=None, index=None, dtype: Dtype | None=None, name=None, copy: bool | None=None, fastpath: bool=False) -&gt; None</pre><pre class=\"function-repr-contents function-repr-contents-collapsed\" style=\"\"><a class=\"filepath\" style=\"display:none\" href=\"#\">/usr/local/lib/python3.10/dist-packages/pandas/core/series.py</a>One-dimensional ndarray with axis labels (including time series).\n",
              "\n",
              "Labels need not be unique but must be a hashable type. The object\n",
              "supports both integer- and label-based indexing and provides a host of\n",
              "methods for performing operations involving the index. Statistical\n",
              "methods from ndarray have been overridden to automatically exclude\n",
              "missing data (currently represented as NaN).\n",
              "\n",
              "Operations between Series (+, -, /, \\*, \\*\\*) align values based on their\n",
              "associated index values-- they need not be the same length. The result\n",
              "index will be the sorted union of the two indexes.\n",
              "\n",
              "Parameters\n",
              "----------\n",
              "data : array-like, Iterable, dict, or scalar value\n",
              "    Contains data stored in Series. If data is a dict, argument order is\n",
              "    maintained.\n",
              "index : array-like or Index (1d)\n",
              "    Values must be hashable and have the same length as `data`.\n",
              "    Non-unique index values are allowed. Will default to\n",
              "    RangeIndex (0, 1, 2, ..., n) if not provided. If data is dict-like\n",
              "    and index is None, then the keys in the data are used as the index. If the\n",
              "    index is not None, the resulting Series is reindexed with the index values.\n",
              "dtype : str, numpy.dtype, or ExtensionDtype, optional\n",
              "    Data type for the output Series. If not specified, this will be\n",
              "    inferred from `data`.\n",
              "    See the :ref:`user guide &lt;basics.dtypes&gt;` for more usages.\n",
              "name : Hashable, default None\n",
              "    The name to give to the Series.\n",
              "copy : bool, default False\n",
              "    Copy input data. Only affects Series or 1d ndarray input. See examples.\n",
              "\n",
              "Notes\n",
              "-----\n",
              "Please reference the :ref:`User Guide &lt;basics.series&gt;` for more information.\n",
              "\n",
              "Examples\n",
              "--------\n",
              "Constructing Series from a dictionary with an Index specified\n",
              "\n",
              "&gt;&gt;&gt; d = {&#x27;a&#x27;: 1, &#x27;b&#x27;: 2, &#x27;c&#x27;: 3}\n",
              "&gt;&gt;&gt; ser = pd.Series(data=d, index=[&#x27;a&#x27;, &#x27;b&#x27;, &#x27;c&#x27;])\n",
              "&gt;&gt;&gt; ser\n",
              "a   1\n",
              "b   2\n",
              "c   3\n",
              "dtype: int64\n",
              "\n",
              "The keys of the dictionary match with the Index values, hence the Index\n",
              "values have no effect.\n",
              "\n",
              "&gt;&gt;&gt; d = {&#x27;a&#x27;: 1, &#x27;b&#x27;: 2, &#x27;c&#x27;: 3}\n",
              "&gt;&gt;&gt; ser = pd.Series(data=d, index=[&#x27;x&#x27;, &#x27;y&#x27;, &#x27;z&#x27;])\n",
              "&gt;&gt;&gt; ser\n",
              "x   NaN\n",
              "y   NaN\n",
              "z   NaN\n",
              "dtype: float64\n",
              "\n",
              "Note that the Index is first build with the keys from the dictionary.\n",
              "After this the Series is reindexed with the given Index values, hence we\n",
              "get all NaN as a result.\n",
              "\n",
              "Constructing Series from a list with `copy=False`.\n",
              "\n",
              "&gt;&gt;&gt; r = [1, 2]\n",
              "&gt;&gt;&gt; ser = pd.Series(r, copy=False)\n",
              "&gt;&gt;&gt; ser.iloc[0] = 999\n",
              "&gt;&gt;&gt; r\n",
              "[1, 2]\n",
              "&gt;&gt;&gt; ser\n",
              "0    999\n",
              "1      2\n",
              "dtype: int64\n",
              "\n",
              "Due to input data type the Series has a `copy` of\n",
              "the original data even though `copy=False`, so\n",
              "the data is unchanged.\n",
              "\n",
              "Constructing Series from a 1d ndarray with `copy=False`.\n",
              "\n",
              "&gt;&gt;&gt; r = np.array([1, 2])\n",
              "&gt;&gt;&gt; ser = pd.Series(r, copy=False)\n",
              "&gt;&gt;&gt; ser.iloc[0] = 999\n",
              "&gt;&gt;&gt; r\n",
              "array([999,   2])\n",
              "&gt;&gt;&gt; ser\n",
              "0    999\n",
              "1      2\n",
              "dtype: int64\n",
              "\n",
              "Due to input data type the Series has a `view` on\n",
              "the original data, so\n",
              "the data is changed as well.</pre>\n",
              "      <script>\n",
              "      if (google.colab.kernel.accessAllowed && google.colab.files && google.colab.files.view) {\n",
              "        for (const element of document.querySelectorAll('.filepath')) {\n",
              "          element.style.display = 'block'\n",
              "          element.onclick = (event) => {\n",
              "            event.preventDefault();\n",
              "            event.stopPropagation();\n",
              "            google.colab.files.view(element.textContent, 244);\n",
              "          };\n",
              "        }\n",
              "      }\n",
              "      for (const element of document.querySelectorAll('.function-repr-contents')) {\n",
              "        element.onclick = (event) => {\n",
              "          event.preventDefault();\n",
              "          event.stopPropagation();\n",
              "          element.classList.toggle('function-repr-contents-collapsed');\n",
              "        };\n",
              "      }\n",
              "      </script>\n",
              "      </div>"
            ]
          },
          "metadata": {},
          "execution_count": 749
        }
      ],
      "source": [
        "type(data['tolazamide'])"
      ]
    },
    {
      "cell_type": "markdown",
      "id": "agricultural-acceptance",
      "metadata": {
        "id": "agricultural-acceptance"
      },
      "source": [
        "Se usarmos o método `value_counts()` nessa série, o resultado também será uma série:\n",
        "\n",
        "Veja:"
      ]
    },
    {
      "cell_type": "code",
      "execution_count": 750,
      "id": "instructional-fellowship",
      "metadata": {
        "colab": {
          "base_uri": "https://localhost:8080/"
        },
        "id": "instructional-fellowship",
        "outputId": "15d21629-88fd-4c3a-99e4-cb18074de340"
      },
      "outputs": [
        {
          "output_type": "execute_result",
          "data": {
            "text/plain": [
              "tolazamide\n",
              "No        101727\n",
              "Steady        38\n",
              "Up             1\n",
              "Name: count, dtype: int64"
            ]
          },
          "metadata": {},
          "execution_count": 750
        }
      ],
      "source": [
        "data['tolazamide'].value_counts()"
      ]
    },
    {
      "cell_type": "markdown",
      "id": "banner-rebate",
      "metadata": {
        "id": "banner-rebate"
      },
      "source": [
        "Note que o índice dessa série contém valores dos atributos. São os valores que o `value_counts()` encontrou na coluna `data['acarbose']`. O nome da série, por sua vez, é o nome da coluna.\n",
        "\n",
        "Agora vem a mágica... &nbsp; &nbsp; :-)\n",
        "\n",
        "Podemos criar uma nova linha no *data frame* `medicine_counts` fazendo uma atribuição em `.loc`. O nome da chave da nova linha será o nome do medicamento cuja contagem queremos adicionar (`tolazamide`).\n",
        "\n",
        "Assim:"
      ]
    },
    {
      "cell_type": "code",
      "execution_count": 751,
      "id": "79f0a764",
      "metadata": {
        "id": "79f0a764"
      },
      "outputs": [],
      "source": [
        "medicine_counts.loc['tolazamide'] = data['tolazamide'].value_counts()"
      ]
    },
    {
      "cell_type": "code",
      "execution_count": 752,
      "id": "674e27fe",
      "metadata": {
        "colab": {
          "base_uri": "https://localhost:8080/",
          "height": 112
        },
        "id": "674e27fe",
        "outputId": "f858446d-aff4-45d3-ccb3-ca3d32150ccf"
      },
      "outputs": [
        {
          "output_type": "execute_result",
          "data": {
            "text/plain": [
              "                  No  Down  Steady   Up\n",
              "Medicine                               \n",
              "tolazamide  101727.0   NaN    38.0  1.0"
            ],
            "text/html": [
              "\n",
              "  <div id=\"df-d52cc551-be69-4422-84e2-b871f4ab8d28\" class=\"colab-df-container\">\n",
              "    <div>\n",
              "<style scoped>\n",
              "    .dataframe tbody tr th:only-of-type {\n",
              "        vertical-align: middle;\n",
              "    }\n",
              "\n",
              "    .dataframe tbody tr th {\n",
              "        vertical-align: top;\n",
              "    }\n",
              "\n",
              "    .dataframe thead th {\n",
              "        text-align: right;\n",
              "    }\n",
              "</style>\n",
              "<table border=\"1\" class=\"dataframe\">\n",
              "  <thead>\n",
              "    <tr style=\"text-align: right;\">\n",
              "      <th></th>\n",
              "      <th>No</th>\n",
              "      <th>Down</th>\n",
              "      <th>Steady</th>\n",
              "      <th>Up</th>\n",
              "    </tr>\n",
              "    <tr>\n",
              "      <th>Medicine</th>\n",
              "      <th></th>\n",
              "      <th></th>\n",
              "      <th></th>\n",
              "      <th></th>\n",
              "    </tr>\n",
              "  </thead>\n",
              "  <tbody>\n",
              "    <tr>\n",
              "      <th>tolazamide</th>\n",
              "      <td>101727.0</td>\n",
              "      <td>NaN</td>\n",
              "      <td>38.0</td>\n",
              "      <td>1.0</td>\n",
              "    </tr>\n",
              "  </tbody>\n",
              "</table>\n",
              "</div>\n",
              "    <div class=\"colab-df-buttons\">\n",
              "\n",
              "  <div class=\"colab-df-container\">\n",
              "    <button class=\"colab-df-convert\" onclick=\"convertToInteractive('df-d52cc551-be69-4422-84e2-b871f4ab8d28')\"\n",
              "            title=\"Convert this dataframe to an interactive table.\"\n",
              "            style=\"display:none;\">\n",
              "\n",
              "  <svg xmlns=\"http://www.w3.org/2000/svg\" height=\"24px\" viewBox=\"0 -960 960 960\">\n",
              "    <path d=\"M120-120v-720h720v720H120Zm60-500h600v-160H180v160Zm220 220h160v-160H400v160Zm0 220h160v-160H400v160ZM180-400h160v-160H180v160Zm440 0h160v-160H620v160ZM180-180h160v-160H180v160Zm440 0h160v-160H620v160Z\"/>\n",
              "  </svg>\n",
              "    </button>\n",
              "\n",
              "  <style>\n",
              "    .colab-df-container {\n",
              "      display:flex;\n",
              "      gap: 12px;\n",
              "    }\n",
              "\n",
              "    .colab-df-convert {\n",
              "      background-color: #E8F0FE;\n",
              "      border: none;\n",
              "      border-radius: 50%;\n",
              "      cursor: pointer;\n",
              "      display: none;\n",
              "      fill: #1967D2;\n",
              "      height: 32px;\n",
              "      padding: 0 0 0 0;\n",
              "      width: 32px;\n",
              "    }\n",
              "\n",
              "    .colab-df-convert:hover {\n",
              "      background-color: #E2EBFA;\n",
              "      box-shadow: 0px 1px 2px rgba(60, 64, 67, 0.3), 0px 1px 3px 1px rgba(60, 64, 67, 0.15);\n",
              "      fill: #174EA6;\n",
              "    }\n",
              "\n",
              "    .colab-df-buttons div {\n",
              "      margin-bottom: 4px;\n",
              "    }\n",
              "\n",
              "    [theme=dark] .colab-df-convert {\n",
              "      background-color: #3B4455;\n",
              "      fill: #D2E3FC;\n",
              "    }\n",
              "\n",
              "    [theme=dark] .colab-df-convert:hover {\n",
              "      background-color: #434B5C;\n",
              "      box-shadow: 0px 1px 3px 1px rgba(0, 0, 0, 0.15);\n",
              "      filter: drop-shadow(0px 1px 2px rgba(0, 0, 0, 0.3));\n",
              "      fill: #FFFFFF;\n",
              "    }\n",
              "  </style>\n",
              "\n",
              "    <script>\n",
              "      const buttonEl =\n",
              "        document.querySelector('#df-d52cc551-be69-4422-84e2-b871f4ab8d28 button.colab-df-convert');\n",
              "      buttonEl.style.display =\n",
              "        google.colab.kernel.accessAllowed ? 'block' : 'none';\n",
              "\n",
              "      async function convertToInteractive(key) {\n",
              "        const element = document.querySelector('#df-d52cc551-be69-4422-84e2-b871f4ab8d28');\n",
              "        const dataTable =\n",
              "          await google.colab.kernel.invokeFunction('convertToInteractive',\n",
              "                                                    [key], {});\n",
              "        if (!dataTable) return;\n",
              "\n",
              "        const docLinkHtml = 'Like what you see? Visit the ' +\n",
              "          '<a target=\"_blank\" href=https://colab.research.google.com/notebooks/data_table.ipynb>data table notebook</a>'\n",
              "          + ' to learn more about interactive tables.';\n",
              "        element.innerHTML = '';\n",
              "        dataTable['output_type'] = 'display_data';\n",
              "        await google.colab.output.renderOutput(dataTable, element);\n",
              "        const docLink = document.createElement('div');\n",
              "        docLink.innerHTML = docLinkHtml;\n",
              "        element.appendChild(docLink);\n",
              "      }\n",
              "    </script>\n",
              "  </div>\n",
              "\n",
              "    </div>\n",
              "  </div>\n"
            ],
            "application/vnd.google.colaboratory.intrinsic+json": {
              "type": "dataframe",
              "variable_name": "medicine_counts",
              "summary": "{\n  \"name\": \"medicine_counts\",\n  \"rows\": 1,\n  \"fields\": [\n    {\n      \"column\": \"Medicine\",\n      \"properties\": {\n        \"dtype\": \"string\",\n        \"num_unique_values\": 1,\n        \"samples\": [\n          \"tolazamide\"\n        ],\n        \"semantic_type\": \"\",\n        \"description\": \"\"\n      }\n    },\n    {\n      \"column\": \"No\",\n      \"properties\": {\n        \"dtype\": \"number\",\n        \"std\": null,\n        \"min\": 101727.0,\n        \"max\": 101727.0,\n        \"num_unique_values\": 1,\n        \"samples\": [\n          101727.0\n        ],\n        \"semantic_type\": \"\",\n        \"description\": \"\"\n      }\n    },\n    {\n      \"column\": \"Down\",\n      \"properties\": {\n        \"dtype\": \"number\",\n        \"std\": null,\n        \"min\": null,\n        \"max\": null,\n        \"num_unique_values\": 0,\n        \"samples\": [],\n        \"semantic_type\": \"\",\n        \"description\": \"\"\n      }\n    },\n    {\n      \"column\": \"Steady\",\n      \"properties\": {\n        \"dtype\": \"number\",\n        \"std\": null,\n        \"min\": 38.0,\n        \"max\": 38.0,\n        \"num_unique_values\": 1,\n        \"samples\": [],\n        \"semantic_type\": \"\",\n        \"description\": \"\"\n      }\n    },\n    {\n      \"column\": \"Up\",\n      \"properties\": {\n        \"dtype\": \"number\",\n        \"std\": null,\n        \"min\": 1.0,\n        \"max\": 1.0,\n        \"num_unique_values\": 1,\n        \"samples\": [],\n        \"semantic_type\": \"\",\n        \"description\": \"\"\n      }\n    }\n  ]\n}"
            }
          },
          "metadata": {},
          "execution_count": 752
        }
      ],
      "source": [
        "medicine_counts"
      ]
    },
    {
      "cell_type": "markdown",
      "id": "painted-basis",
      "metadata": {
        "id": "painted-basis"
      },
      "source": [
        "Uau.\n",
        "\n",
        "O Pandas \"casou\" o índice da série com o índice das colunas do *data frame* e criou uma nova linha! Se fizermos isso para todos os atibutos dos remédios, então teremos nossa tabela."
      ]
    },
    {
      "cell_type": "markdown",
      "id": "surface-friendship",
      "metadata": {
        "id": "surface-friendship"
      },
      "source": [
        "#### Exercício 15\n",
        "\n",
        "> Itere sobre os valores da lista `medicine_features` e acrescente a contagem de cada remédio no *data frame*. (não se preocupe se aparecerem valores `NaN`)"
      ]
    },
    {
      "cell_type": "code",
      "execution_count": 753,
      "id": "russian-northern",
      "metadata": {
        "id": "russian-northern"
      },
      "outputs": [],
      "source": [
        "for feature in medicine_features:\n",
        "    medicine_counts.loc[feature] = data[feature].value_counts()"
      ]
    },
    {
      "cell_type": "markdown",
      "id": "simple-reunion",
      "metadata": {
        "id": "simple-reunion"
      },
      "source": [
        "O resultado deve ser um *data frame* com 23 linhas e 4 colunas. Deve haver 2.220.564 ocorrências do valor `No`, 14.387 do valor `Down`, 90.802 do valor `Steady` e 14.865 do valor `Up`."
      ]
    },
    {
      "cell_type": "code",
      "execution_count": 754,
      "id": "legal-danish",
      "metadata": {
        "colab": {
          "base_uri": "https://localhost:8080/"
        },
        "id": "legal-danish",
        "outputId": "2f694d1a-1ff1-459f-98e1-3bde52b39b50"
      },
      "outputs": [
        {
          "output_type": "execute_result",
          "data": {
            "text/plain": [
              "(23, 4)"
            ]
          },
          "metadata": {},
          "execution_count": 754
        }
      ],
      "source": [
        "medicine_counts.shape"
      ]
    },
    {
      "cell_type": "code",
      "execution_count": 755,
      "id": "dental-generic",
      "metadata": {
        "colab": {
          "base_uri": "https://localhost:8080/"
        },
        "id": "dental-generic",
        "outputId": "16b86bd9-80f9-42ad-dc3d-373ea75a792d"
      },
      "outputs": [
        {
          "output_type": "execute_result",
          "data": {
            "text/plain": [
              "No        2220564.0\n",
              "Down        14387.0\n",
              "Steady      90802.0\n",
              "Up          14865.0\n",
              "dtype: float64"
            ]
          },
          "metadata": {},
          "execution_count": 755
        }
      ],
      "source": [
        "medicine_counts.sum()"
      ]
    },
    {
      "cell_type": "markdown",
      "id": "freelance-climb",
      "metadata": {
        "id": "freelance-climb"
      },
      "source": [
        "Só tem um porém... se você observou atentamente a primeira atribuição que fizemos, há um valor `NaN` ali.  Isso porque o atributo `data['tolazamide']` não possui nenhuma ocorrência do valor `Down`. Então quando essa e outras linhas foram adicionadas ao *data frame*, ganhamos valores ausentes.\n",
        "\n",
        "Mas tudo bem. Se esses valores ausentes advém do fato que não há ocorrências de `No`, `Down`, `Steady` ou `Up`, então basta substituí-los por zero!"
      ]
    },
    {
      "cell_type": "code",
      "execution_count": 756,
      "id": "general-soviet",
      "metadata": {
        "colab": {
          "base_uri": "https://localhost:8080/",
          "height": 802
        },
        "id": "general-soviet",
        "outputId": "2c03adfb-20e2-41df-c968-fe9a528e1f99"
      },
      "outputs": [
        {
          "output_type": "execute_result",
          "data": {
            "text/plain": [
              "                              No   Down  Steady     Up\n",
              "Medicine                                              \n",
              "tolazamide                101727      0      38      1\n",
              "acarbose                  101458      3     295     10\n",
              "acetohexamide             101765      0       1      0\n",
              "chlorpropamide            101680      1      79      6\n",
              "citoglipton               101766      0       0      0\n",
              "examide                   101766      0       0      0\n",
              "glimepiride                96575    194    4670    327\n",
              "glimepiride-pioglitazone  101765      0       1      0\n",
              "glipizide                  89080    560   11356    770\n",
              "glipizide-metformin       101753      0      13      0\n",
              "glyburide                  91116    564    9274    812\n",
              "glyburide-metformin       101060      6     692      8\n",
              "insulin                    47383  12218   30849  11316\n",
              "metformin                  81778    575   18346   1067\n",
              "metformin-pioglitazone    101765      0       1      0\n",
              "metformin-rosiglitazone   101764      0       2      0\n",
              "miglitol                  101728      5      31      2\n",
              "nateglinide               101063     11     668     24\n",
              "pioglitazone               94438    118    6976    234\n",
              "repaglinide               100227     45    1384    110\n",
              "rosiglitazone              95401     87    6100    178\n",
              "tolbutamide               101743      0      23      0\n",
              "troglitazone              101763      0       3      0"
            ],
            "text/html": [
              "\n",
              "  <div id=\"df-f60e0bf8-087c-4d31-8e44-d1e018549050\" class=\"colab-df-container\">\n",
              "    <div>\n",
              "<style scoped>\n",
              "    .dataframe tbody tr th:only-of-type {\n",
              "        vertical-align: middle;\n",
              "    }\n",
              "\n",
              "    .dataframe tbody tr th {\n",
              "        vertical-align: top;\n",
              "    }\n",
              "\n",
              "    .dataframe thead th {\n",
              "        text-align: right;\n",
              "    }\n",
              "</style>\n",
              "<table border=\"1\" class=\"dataframe\">\n",
              "  <thead>\n",
              "    <tr style=\"text-align: right;\">\n",
              "      <th></th>\n",
              "      <th>No</th>\n",
              "      <th>Down</th>\n",
              "      <th>Steady</th>\n",
              "      <th>Up</th>\n",
              "    </tr>\n",
              "    <tr>\n",
              "      <th>Medicine</th>\n",
              "      <th></th>\n",
              "      <th></th>\n",
              "      <th></th>\n",
              "      <th></th>\n",
              "    </tr>\n",
              "  </thead>\n",
              "  <tbody>\n",
              "    <tr>\n",
              "      <th>tolazamide</th>\n",
              "      <td>101727</td>\n",
              "      <td>0</td>\n",
              "      <td>38</td>\n",
              "      <td>1</td>\n",
              "    </tr>\n",
              "    <tr>\n",
              "      <th>acarbose</th>\n",
              "      <td>101458</td>\n",
              "      <td>3</td>\n",
              "      <td>295</td>\n",
              "      <td>10</td>\n",
              "    </tr>\n",
              "    <tr>\n",
              "      <th>acetohexamide</th>\n",
              "      <td>101765</td>\n",
              "      <td>0</td>\n",
              "      <td>1</td>\n",
              "      <td>0</td>\n",
              "    </tr>\n",
              "    <tr>\n",
              "      <th>chlorpropamide</th>\n",
              "      <td>101680</td>\n",
              "      <td>1</td>\n",
              "      <td>79</td>\n",
              "      <td>6</td>\n",
              "    </tr>\n",
              "    <tr>\n",
              "      <th>citoglipton</th>\n",
              "      <td>101766</td>\n",
              "      <td>0</td>\n",
              "      <td>0</td>\n",
              "      <td>0</td>\n",
              "    </tr>\n",
              "    <tr>\n",
              "      <th>examide</th>\n",
              "      <td>101766</td>\n",
              "      <td>0</td>\n",
              "      <td>0</td>\n",
              "      <td>0</td>\n",
              "    </tr>\n",
              "    <tr>\n",
              "      <th>glimepiride</th>\n",
              "      <td>96575</td>\n",
              "      <td>194</td>\n",
              "      <td>4670</td>\n",
              "      <td>327</td>\n",
              "    </tr>\n",
              "    <tr>\n",
              "      <th>glimepiride-pioglitazone</th>\n",
              "      <td>101765</td>\n",
              "      <td>0</td>\n",
              "      <td>1</td>\n",
              "      <td>0</td>\n",
              "    </tr>\n",
              "    <tr>\n",
              "      <th>glipizide</th>\n",
              "      <td>89080</td>\n",
              "      <td>560</td>\n",
              "      <td>11356</td>\n",
              "      <td>770</td>\n",
              "    </tr>\n",
              "    <tr>\n",
              "      <th>glipizide-metformin</th>\n",
              "      <td>101753</td>\n",
              "      <td>0</td>\n",
              "      <td>13</td>\n",
              "      <td>0</td>\n",
              "    </tr>\n",
              "    <tr>\n",
              "      <th>glyburide</th>\n",
              "      <td>91116</td>\n",
              "      <td>564</td>\n",
              "      <td>9274</td>\n",
              "      <td>812</td>\n",
              "    </tr>\n",
              "    <tr>\n",
              "      <th>glyburide-metformin</th>\n",
              "      <td>101060</td>\n",
              "      <td>6</td>\n",
              "      <td>692</td>\n",
              "      <td>8</td>\n",
              "    </tr>\n",
              "    <tr>\n",
              "      <th>insulin</th>\n",
              "      <td>47383</td>\n",
              "      <td>12218</td>\n",
              "      <td>30849</td>\n",
              "      <td>11316</td>\n",
              "    </tr>\n",
              "    <tr>\n",
              "      <th>metformin</th>\n",
              "      <td>81778</td>\n",
              "      <td>575</td>\n",
              "      <td>18346</td>\n",
              "      <td>1067</td>\n",
              "    </tr>\n",
              "    <tr>\n",
              "      <th>metformin-pioglitazone</th>\n",
              "      <td>101765</td>\n",
              "      <td>0</td>\n",
              "      <td>1</td>\n",
              "      <td>0</td>\n",
              "    </tr>\n",
              "    <tr>\n",
              "      <th>metformin-rosiglitazone</th>\n",
              "      <td>101764</td>\n",
              "      <td>0</td>\n",
              "      <td>2</td>\n",
              "      <td>0</td>\n",
              "    </tr>\n",
              "    <tr>\n",
              "      <th>miglitol</th>\n",
              "      <td>101728</td>\n",
              "      <td>5</td>\n",
              "      <td>31</td>\n",
              "      <td>2</td>\n",
              "    </tr>\n",
              "    <tr>\n",
              "      <th>nateglinide</th>\n",
              "      <td>101063</td>\n",
              "      <td>11</td>\n",
              "      <td>668</td>\n",
              "      <td>24</td>\n",
              "    </tr>\n",
              "    <tr>\n",
              "      <th>pioglitazone</th>\n",
              "      <td>94438</td>\n",
              "      <td>118</td>\n",
              "      <td>6976</td>\n",
              "      <td>234</td>\n",
              "    </tr>\n",
              "    <tr>\n",
              "      <th>repaglinide</th>\n",
              "      <td>100227</td>\n",
              "      <td>45</td>\n",
              "      <td>1384</td>\n",
              "      <td>110</td>\n",
              "    </tr>\n",
              "    <tr>\n",
              "      <th>rosiglitazone</th>\n",
              "      <td>95401</td>\n",
              "      <td>87</td>\n",
              "      <td>6100</td>\n",
              "      <td>178</td>\n",
              "    </tr>\n",
              "    <tr>\n",
              "      <th>tolbutamide</th>\n",
              "      <td>101743</td>\n",
              "      <td>0</td>\n",
              "      <td>23</td>\n",
              "      <td>0</td>\n",
              "    </tr>\n",
              "    <tr>\n",
              "      <th>troglitazone</th>\n",
              "      <td>101763</td>\n",
              "      <td>0</td>\n",
              "      <td>3</td>\n",
              "      <td>0</td>\n",
              "    </tr>\n",
              "  </tbody>\n",
              "</table>\n",
              "</div>\n",
              "    <div class=\"colab-df-buttons\">\n",
              "\n",
              "  <div class=\"colab-df-container\">\n",
              "    <button class=\"colab-df-convert\" onclick=\"convertToInteractive('df-f60e0bf8-087c-4d31-8e44-d1e018549050')\"\n",
              "            title=\"Convert this dataframe to an interactive table.\"\n",
              "            style=\"display:none;\">\n",
              "\n",
              "  <svg xmlns=\"http://www.w3.org/2000/svg\" height=\"24px\" viewBox=\"0 -960 960 960\">\n",
              "    <path d=\"M120-120v-720h720v720H120Zm60-500h600v-160H180v160Zm220 220h160v-160H400v160Zm0 220h160v-160H400v160ZM180-400h160v-160H180v160Zm440 0h160v-160H620v160ZM180-180h160v-160H180v160Zm440 0h160v-160H620v160Z\"/>\n",
              "  </svg>\n",
              "    </button>\n",
              "\n",
              "  <style>\n",
              "    .colab-df-container {\n",
              "      display:flex;\n",
              "      gap: 12px;\n",
              "    }\n",
              "\n",
              "    .colab-df-convert {\n",
              "      background-color: #E8F0FE;\n",
              "      border: none;\n",
              "      border-radius: 50%;\n",
              "      cursor: pointer;\n",
              "      display: none;\n",
              "      fill: #1967D2;\n",
              "      height: 32px;\n",
              "      padding: 0 0 0 0;\n",
              "      width: 32px;\n",
              "    }\n",
              "\n",
              "    .colab-df-convert:hover {\n",
              "      background-color: #E2EBFA;\n",
              "      box-shadow: 0px 1px 2px rgba(60, 64, 67, 0.3), 0px 1px 3px 1px rgba(60, 64, 67, 0.15);\n",
              "      fill: #174EA6;\n",
              "    }\n",
              "\n",
              "    .colab-df-buttons div {\n",
              "      margin-bottom: 4px;\n",
              "    }\n",
              "\n",
              "    [theme=dark] .colab-df-convert {\n",
              "      background-color: #3B4455;\n",
              "      fill: #D2E3FC;\n",
              "    }\n",
              "\n",
              "    [theme=dark] .colab-df-convert:hover {\n",
              "      background-color: #434B5C;\n",
              "      box-shadow: 0px 1px 3px 1px rgba(0, 0, 0, 0.15);\n",
              "      filter: drop-shadow(0px 1px 2px rgba(0, 0, 0, 0.3));\n",
              "      fill: #FFFFFF;\n",
              "    }\n",
              "  </style>\n",
              "\n",
              "    <script>\n",
              "      const buttonEl =\n",
              "        document.querySelector('#df-f60e0bf8-087c-4d31-8e44-d1e018549050 button.colab-df-convert');\n",
              "      buttonEl.style.display =\n",
              "        google.colab.kernel.accessAllowed ? 'block' : 'none';\n",
              "\n",
              "      async function convertToInteractive(key) {\n",
              "        const element = document.querySelector('#df-f60e0bf8-087c-4d31-8e44-d1e018549050');\n",
              "        const dataTable =\n",
              "          await google.colab.kernel.invokeFunction('convertToInteractive',\n",
              "                                                    [key], {});\n",
              "        if (!dataTable) return;\n",
              "\n",
              "        const docLinkHtml = 'Like what you see? Visit the ' +\n",
              "          '<a target=\"_blank\" href=https://colab.research.google.com/notebooks/data_table.ipynb>data table notebook</a>'\n",
              "          + ' to learn more about interactive tables.';\n",
              "        element.innerHTML = '';\n",
              "        dataTable['output_type'] = 'display_data';\n",
              "        await google.colab.output.renderOutput(dataTable, element);\n",
              "        const docLink = document.createElement('div');\n",
              "        docLink.innerHTML = docLinkHtml;\n",
              "        element.appendChild(docLink);\n",
              "      }\n",
              "    </script>\n",
              "  </div>\n",
              "\n",
              "\n",
              "<div id=\"df-3974fa05-64e5-4bb4-a315-ebb50facbe33\">\n",
              "  <button class=\"colab-df-quickchart\" onclick=\"quickchart('df-3974fa05-64e5-4bb4-a315-ebb50facbe33')\"\n",
              "            title=\"Suggest charts\"\n",
              "            style=\"display:none;\">\n",
              "\n",
              "<svg xmlns=\"http://www.w3.org/2000/svg\" height=\"24px\"viewBox=\"0 0 24 24\"\n",
              "     width=\"24px\">\n",
              "    <g>\n",
              "        <path d=\"M19 3H5c-1.1 0-2 .9-2 2v14c0 1.1.9 2 2 2h14c1.1 0 2-.9 2-2V5c0-1.1-.9-2-2-2zM9 17H7v-7h2v7zm4 0h-2V7h2v10zm4 0h-2v-4h2v4z\"/>\n",
              "    </g>\n",
              "</svg>\n",
              "  </button>\n",
              "\n",
              "<style>\n",
              "  .colab-df-quickchart {\n",
              "      --bg-color: #E8F0FE;\n",
              "      --fill-color: #1967D2;\n",
              "      --hover-bg-color: #E2EBFA;\n",
              "      --hover-fill-color: #174EA6;\n",
              "      --disabled-fill-color: #AAA;\n",
              "      --disabled-bg-color: #DDD;\n",
              "  }\n",
              "\n",
              "  [theme=dark] .colab-df-quickchart {\n",
              "      --bg-color: #3B4455;\n",
              "      --fill-color: #D2E3FC;\n",
              "      --hover-bg-color: #434B5C;\n",
              "      --hover-fill-color: #FFFFFF;\n",
              "      --disabled-bg-color: #3B4455;\n",
              "      --disabled-fill-color: #666;\n",
              "  }\n",
              "\n",
              "  .colab-df-quickchart {\n",
              "    background-color: var(--bg-color);\n",
              "    border: none;\n",
              "    border-radius: 50%;\n",
              "    cursor: pointer;\n",
              "    display: none;\n",
              "    fill: var(--fill-color);\n",
              "    height: 32px;\n",
              "    padding: 0;\n",
              "    width: 32px;\n",
              "  }\n",
              "\n",
              "  .colab-df-quickchart:hover {\n",
              "    background-color: var(--hover-bg-color);\n",
              "    box-shadow: 0 1px 2px rgba(60, 64, 67, 0.3), 0 1px 3px 1px rgba(60, 64, 67, 0.15);\n",
              "    fill: var(--button-hover-fill-color);\n",
              "  }\n",
              "\n",
              "  .colab-df-quickchart-complete:disabled,\n",
              "  .colab-df-quickchart-complete:disabled:hover {\n",
              "    background-color: var(--disabled-bg-color);\n",
              "    fill: var(--disabled-fill-color);\n",
              "    box-shadow: none;\n",
              "  }\n",
              "\n",
              "  .colab-df-spinner {\n",
              "    border: 2px solid var(--fill-color);\n",
              "    border-color: transparent;\n",
              "    border-bottom-color: var(--fill-color);\n",
              "    animation:\n",
              "      spin 1s steps(1) infinite;\n",
              "  }\n",
              "\n",
              "  @keyframes spin {\n",
              "    0% {\n",
              "      border-color: transparent;\n",
              "      border-bottom-color: var(--fill-color);\n",
              "      border-left-color: var(--fill-color);\n",
              "    }\n",
              "    20% {\n",
              "      border-color: transparent;\n",
              "      border-left-color: var(--fill-color);\n",
              "      border-top-color: var(--fill-color);\n",
              "    }\n",
              "    30% {\n",
              "      border-color: transparent;\n",
              "      border-left-color: var(--fill-color);\n",
              "      border-top-color: var(--fill-color);\n",
              "      border-right-color: var(--fill-color);\n",
              "    }\n",
              "    40% {\n",
              "      border-color: transparent;\n",
              "      border-right-color: var(--fill-color);\n",
              "      border-top-color: var(--fill-color);\n",
              "    }\n",
              "    60% {\n",
              "      border-color: transparent;\n",
              "      border-right-color: var(--fill-color);\n",
              "    }\n",
              "    80% {\n",
              "      border-color: transparent;\n",
              "      border-right-color: var(--fill-color);\n",
              "      border-bottom-color: var(--fill-color);\n",
              "    }\n",
              "    90% {\n",
              "      border-color: transparent;\n",
              "      border-bottom-color: var(--fill-color);\n",
              "    }\n",
              "  }\n",
              "</style>\n",
              "\n",
              "  <script>\n",
              "    async function quickchart(key) {\n",
              "      const quickchartButtonEl =\n",
              "        document.querySelector('#' + key + ' button');\n",
              "      quickchartButtonEl.disabled = true;  // To prevent multiple clicks.\n",
              "      quickchartButtonEl.classList.add('colab-df-spinner');\n",
              "      try {\n",
              "        const charts = await google.colab.kernel.invokeFunction(\n",
              "            'suggestCharts', [key], {});\n",
              "      } catch (error) {\n",
              "        console.error('Error during call to suggestCharts:', error);\n",
              "      }\n",
              "      quickchartButtonEl.classList.remove('colab-df-spinner');\n",
              "      quickchartButtonEl.classList.add('colab-df-quickchart-complete');\n",
              "    }\n",
              "    (() => {\n",
              "      let quickchartButtonEl =\n",
              "        document.querySelector('#df-3974fa05-64e5-4bb4-a315-ebb50facbe33 button');\n",
              "      quickchartButtonEl.style.display =\n",
              "        google.colab.kernel.accessAllowed ? 'block' : 'none';\n",
              "    })();\n",
              "  </script>\n",
              "</div>\n",
              "    </div>\n",
              "  </div>\n"
            ],
            "application/vnd.google.colaboratory.intrinsic+json": {
              "type": "dataframe",
              "variable_name": "medicine_counts",
              "summary": "{\n  \"name\": \"medicine_counts\",\n  \"rows\": 23,\n  \"fields\": [\n    {\n      \"column\": \"Medicine\",\n      \"properties\": {\n        \"dtype\": \"string\",\n        \"num_unique_values\": 23,\n        \"samples\": [\n          \"metformin-rosiglitazone\",\n          \"glipizide-metformin\",\n          \"tolazamide\"\n        ],\n        \"semantic_type\": \"\",\n        \"description\": \"\"\n      }\n    },\n    {\n      \"column\": \"No\",\n      \"properties\": {\n        \"dtype\": \"number\",\n        \"std\": 11926,\n        \"min\": 47383,\n        \"max\": 101766,\n        \"num_unique_values\": 20,\n        \"samples\": [\n          101727,\n          95401,\n          94438\n        ],\n        \"semantic_type\": \"\",\n        \"description\": \"\"\n      }\n    },\n    {\n      \"column\": \"Down\",\n      \"properties\": {\n        \"dtype\": \"number\",\n        \"std\": 2534,\n        \"min\": 0,\n        \"max\": 12218,\n        \"num_unique_values\": 14,\n        \"samples\": [\n          5,\n          118,\n          0\n        ],\n        \"semantic_type\": \"\",\n        \"description\": \"\"\n      }\n    },\n    {\n      \"column\": \"Steady\",\n      \"properties\": {\n        \"dtype\": \"number\",\n        \"std\": 7553,\n        \"min\": 0,\n        \"max\": 30849,\n        \"num_unique_values\": 20,\n        \"samples\": [\n          38,\n          6100,\n          6976\n        ],\n        \"semantic_type\": \"\",\n        \"description\": \"\"\n      }\n    },\n    {\n      \"column\": \"Up\",\n      \"properties\": {\n        \"dtype\": \"number\",\n        \"std\": 2345,\n        \"min\": 0,\n        \"max\": 11316,\n        \"num_unique_values\": 15,\n        \"samples\": [\n          1067,\n          24,\n          1\n        ],\n        \"semantic_type\": \"\",\n        \"description\": \"\"\n      }\n    }\n  ]\n}"
            }
          },
          "metadata": {},
          "execution_count": 756
        }
      ],
      "source": [
        "medicine_counts = medicine_counts.fillna(0).astype('int')\n",
        "medicine_counts"
      ]
    },
    {
      "cell_type": "markdown",
      "id": "e8d6a566",
      "metadata": {
        "id": "e8d6a566"
      },
      "source": [
        "Aí, sim."
      ]
    },
    {
      "cell_type": "markdown",
      "id": "tracked-assets",
      "metadata": {
        "id": "tracked-assets"
      },
      "source": [
        "Então agora podemos fazer algumas observações. A primeira delas é que existem duas medicações que não são utilizadas por nenhum paciente."
      ]
    },
    {
      "cell_type": "code",
      "execution_count": 757,
      "id": "olympic-circulation",
      "metadata": {
        "colab": {
          "base_uri": "https://localhost:8080/",
          "height": 143
        },
        "id": "olympic-circulation",
        "outputId": "8e9a151d-4fa8-4a20-9559-c8cfc275379a"
      },
      "outputs": [
        {
          "output_type": "execute_result",
          "data": {
            "text/plain": [
              "                 No  Down  Steady  Up\n",
              "Medicine                             \n",
              "citoglipton  101766     0       0   0\n",
              "examide      101766     0       0   0"
            ],
            "text/html": [
              "\n",
              "  <div id=\"df-80599133-cc07-444b-9bc2-326848273dea\" class=\"colab-df-container\">\n",
              "    <div>\n",
              "<style scoped>\n",
              "    .dataframe tbody tr th:only-of-type {\n",
              "        vertical-align: middle;\n",
              "    }\n",
              "\n",
              "    .dataframe tbody tr th {\n",
              "        vertical-align: top;\n",
              "    }\n",
              "\n",
              "    .dataframe thead th {\n",
              "        text-align: right;\n",
              "    }\n",
              "</style>\n",
              "<table border=\"1\" class=\"dataframe\">\n",
              "  <thead>\n",
              "    <tr style=\"text-align: right;\">\n",
              "      <th></th>\n",
              "      <th>No</th>\n",
              "      <th>Down</th>\n",
              "      <th>Steady</th>\n",
              "      <th>Up</th>\n",
              "    </tr>\n",
              "    <tr>\n",
              "      <th>Medicine</th>\n",
              "      <th></th>\n",
              "      <th></th>\n",
              "      <th></th>\n",
              "      <th></th>\n",
              "    </tr>\n",
              "  </thead>\n",
              "  <tbody>\n",
              "    <tr>\n",
              "      <th>citoglipton</th>\n",
              "      <td>101766</td>\n",
              "      <td>0</td>\n",
              "      <td>0</td>\n",
              "      <td>0</td>\n",
              "    </tr>\n",
              "    <tr>\n",
              "      <th>examide</th>\n",
              "      <td>101766</td>\n",
              "      <td>0</td>\n",
              "      <td>0</td>\n",
              "      <td>0</td>\n",
              "    </tr>\n",
              "  </tbody>\n",
              "</table>\n",
              "</div>\n",
              "    <div class=\"colab-df-buttons\">\n",
              "\n",
              "  <div class=\"colab-df-container\">\n",
              "    <button class=\"colab-df-convert\" onclick=\"convertToInteractive('df-80599133-cc07-444b-9bc2-326848273dea')\"\n",
              "            title=\"Convert this dataframe to an interactive table.\"\n",
              "            style=\"display:none;\">\n",
              "\n",
              "  <svg xmlns=\"http://www.w3.org/2000/svg\" height=\"24px\" viewBox=\"0 -960 960 960\">\n",
              "    <path d=\"M120-120v-720h720v720H120Zm60-500h600v-160H180v160Zm220 220h160v-160H400v160Zm0 220h160v-160H400v160ZM180-400h160v-160H180v160Zm440 0h160v-160H620v160ZM180-180h160v-160H180v160Zm440 0h160v-160H620v160Z\"/>\n",
              "  </svg>\n",
              "    </button>\n",
              "\n",
              "  <style>\n",
              "    .colab-df-container {\n",
              "      display:flex;\n",
              "      gap: 12px;\n",
              "    }\n",
              "\n",
              "    .colab-df-convert {\n",
              "      background-color: #E8F0FE;\n",
              "      border: none;\n",
              "      border-radius: 50%;\n",
              "      cursor: pointer;\n",
              "      display: none;\n",
              "      fill: #1967D2;\n",
              "      height: 32px;\n",
              "      padding: 0 0 0 0;\n",
              "      width: 32px;\n",
              "    }\n",
              "\n",
              "    .colab-df-convert:hover {\n",
              "      background-color: #E2EBFA;\n",
              "      box-shadow: 0px 1px 2px rgba(60, 64, 67, 0.3), 0px 1px 3px 1px rgba(60, 64, 67, 0.15);\n",
              "      fill: #174EA6;\n",
              "    }\n",
              "\n",
              "    .colab-df-buttons div {\n",
              "      margin-bottom: 4px;\n",
              "    }\n",
              "\n",
              "    [theme=dark] .colab-df-convert {\n",
              "      background-color: #3B4455;\n",
              "      fill: #D2E3FC;\n",
              "    }\n",
              "\n",
              "    [theme=dark] .colab-df-convert:hover {\n",
              "      background-color: #434B5C;\n",
              "      box-shadow: 0px 1px 3px 1px rgba(0, 0, 0, 0.15);\n",
              "      filter: drop-shadow(0px 1px 2px rgba(0, 0, 0, 0.3));\n",
              "      fill: #FFFFFF;\n",
              "    }\n",
              "  </style>\n",
              "\n",
              "    <script>\n",
              "      const buttonEl =\n",
              "        document.querySelector('#df-80599133-cc07-444b-9bc2-326848273dea button.colab-df-convert');\n",
              "      buttonEl.style.display =\n",
              "        google.colab.kernel.accessAllowed ? 'block' : 'none';\n",
              "\n",
              "      async function convertToInteractive(key) {\n",
              "        const element = document.querySelector('#df-80599133-cc07-444b-9bc2-326848273dea');\n",
              "        const dataTable =\n",
              "          await google.colab.kernel.invokeFunction('convertToInteractive',\n",
              "                                                    [key], {});\n",
              "        if (!dataTable) return;\n",
              "\n",
              "        const docLinkHtml = 'Like what you see? Visit the ' +\n",
              "          '<a target=\"_blank\" href=https://colab.research.google.com/notebooks/data_table.ipynb>data table notebook</a>'\n",
              "          + ' to learn more about interactive tables.';\n",
              "        element.innerHTML = '';\n",
              "        dataTable['output_type'] = 'display_data';\n",
              "        await google.colab.output.renderOutput(dataTable, element);\n",
              "        const docLink = document.createElement('div');\n",
              "        docLink.innerHTML = docLinkHtml;\n",
              "        element.appendChild(docLink);\n",
              "      }\n",
              "    </script>\n",
              "  </div>\n",
              "\n",
              "\n",
              "<div id=\"df-24815306-4cd1-497e-b75f-60fb031a963d\">\n",
              "  <button class=\"colab-df-quickchart\" onclick=\"quickchart('df-24815306-4cd1-497e-b75f-60fb031a963d')\"\n",
              "            title=\"Suggest charts\"\n",
              "            style=\"display:none;\">\n",
              "\n",
              "<svg xmlns=\"http://www.w3.org/2000/svg\" height=\"24px\"viewBox=\"0 0 24 24\"\n",
              "     width=\"24px\">\n",
              "    <g>\n",
              "        <path d=\"M19 3H5c-1.1 0-2 .9-2 2v14c0 1.1.9 2 2 2h14c1.1 0 2-.9 2-2V5c0-1.1-.9-2-2-2zM9 17H7v-7h2v7zm4 0h-2V7h2v10zm4 0h-2v-4h2v4z\"/>\n",
              "    </g>\n",
              "</svg>\n",
              "  </button>\n",
              "\n",
              "<style>\n",
              "  .colab-df-quickchart {\n",
              "      --bg-color: #E8F0FE;\n",
              "      --fill-color: #1967D2;\n",
              "      --hover-bg-color: #E2EBFA;\n",
              "      --hover-fill-color: #174EA6;\n",
              "      --disabled-fill-color: #AAA;\n",
              "      --disabled-bg-color: #DDD;\n",
              "  }\n",
              "\n",
              "  [theme=dark] .colab-df-quickchart {\n",
              "      --bg-color: #3B4455;\n",
              "      --fill-color: #D2E3FC;\n",
              "      --hover-bg-color: #434B5C;\n",
              "      --hover-fill-color: #FFFFFF;\n",
              "      --disabled-bg-color: #3B4455;\n",
              "      --disabled-fill-color: #666;\n",
              "  }\n",
              "\n",
              "  .colab-df-quickchart {\n",
              "    background-color: var(--bg-color);\n",
              "    border: none;\n",
              "    border-radius: 50%;\n",
              "    cursor: pointer;\n",
              "    display: none;\n",
              "    fill: var(--fill-color);\n",
              "    height: 32px;\n",
              "    padding: 0;\n",
              "    width: 32px;\n",
              "  }\n",
              "\n",
              "  .colab-df-quickchart:hover {\n",
              "    background-color: var(--hover-bg-color);\n",
              "    box-shadow: 0 1px 2px rgba(60, 64, 67, 0.3), 0 1px 3px 1px rgba(60, 64, 67, 0.15);\n",
              "    fill: var(--button-hover-fill-color);\n",
              "  }\n",
              "\n",
              "  .colab-df-quickchart-complete:disabled,\n",
              "  .colab-df-quickchart-complete:disabled:hover {\n",
              "    background-color: var(--disabled-bg-color);\n",
              "    fill: var(--disabled-fill-color);\n",
              "    box-shadow: none;\n",
              "  }\n",
              "\n",
              "  .colab-df-spinner {\n",
              "    border: 2px solid var(--fill-color);\n",
              "    border-color: transparent;\n",
              "    border-bottom-color: var(--fill-color);\n",
              "    animation:\n",
              "      spin 1s steps(1) infinite;\n",
              "  }\n",
              "\n",
              "  @keyframes spin {\n",
              "    0% {\n",
              "      border-color: transparent;\n",
              "      border-bottom-color: var(--fill-color);\n",
              "      border-left-color: var(--fill-color);\n",
              "    }\n",
              "    20% {\n",
              "      border-color: transparent;\n",
              "      border-left-color: var(--fill-color);\n",
              "      border-top-color: var(--fill-color);\n",
              "    }\n",
              "    30% {\n",
              "      border-color: transparent;\n",
              "      border-left-color: var(--fill-color);\n",
              "      border-top-color: var(--fill-color);\n",
              "      border-right-color: var(--fill-color);\n",
              "    }\n",
              "    40% {\n",
              "      border-color: transparent;\n",
              "      border-right-color: var(--fill-color);\n",
              "      border-top-color: var(--fill-color);\n",
              "    }\n",
              "    60% {\n",
              "      border-color: transparent;\n",
              "      border-right-color: var(--fill-color);\n",
              "    }\n",
              "    80% {\n",
              "      border-color: transparent;\n",
              "      border-right-color: var(--fill-color);\n",
              "      border-bottom-color: var(--fill-color);\n",
              "    }\n",
              "    90% {\n",
              "      border-color: transparent;\n",
              "      border-bottom-color: var(--fill-color);\n",
              "    }\n",
              "  }\n",
              "</style>\n",
              "\n",
              "  <script>\n",
              "    async function quickchart(key) {\n",
              "      const quickchartButtonEl =\n",
              "        document.querySelector('#' + key + ' button');\n",
              "      quickchartButtonEl.disabled = true;  // To prevent multiple clicks.\n",
              "      quickchartButtonEl.classList.add('colab-df-spinner');\n",
              "      try {\n",
              "        const charts = await google.colab.kernel.invokeFunction(\n",
              "            'suggestCharts', [key], {});\n",
              "      } catch (error) {\n",
              "        console.error('Error during call to suggestCharts:', error);\n",
              "      }\n",
              "      quickchartButtonEl.classList.remove('colab-df-spinner');\n",
              "      quickchartButtonEl.classList.add('colab-df-quickchart-complete');\n",
              "    }\n",
              "    (() => {\n",
              "      let quickchartButtonEl =\n",
              "        document.querySelector('#df-24815306-4cd1-497e-b75f-60fb031a963d button');\n",
              "      quickchartButtonEl.style.display =\n",
              "        google.colab.kernel.accessAllowed ? 'block' : 'none';\n",
              "    })();\n",
              "  </script>\n",
              "</div>\n",
              "    </div>\n",
              "  </div>\n"
            ],
            "application/vnd.google.colaboratory.intrinsic+json": {
              "type": "dataframe",
              "summary": "{\n  \"name\": \"medicine_counts[medicine_counts['No'] == len(data)]\",\n  \"rows\": 2,\n  \"fields\": [\n    {\n      \"column\": \"Medicine\",\n      \"properties\": {\n        \"dtype\": \"string\",\n        \"num_unique_values\": 2,\n        \"samples\": [\n          \"examide\",\n          \"citoglipton\"\n        ],\n        \"semantic_type\": \"\",\n        \"description\": \"\"\n      }\n    },\n    {\n      \"column\": \"No\",\n      \"properties\": {\n        \"dtype\": \"number\",\n        \"std\": 0,\n        \"min\": 101766,\n        \"max\": 101766,\n        \"num_unique_values\": 1,\n        \"samples\": [\n          101766\n        ],\n        \"semantic_type\": \"\",\n        \"description\": \"\"\n      }\n    },\n    {\n      \"column\": \"Down\",\n      \"properties\": {\n        \"dtype\": \"number\",\n        \"std\": 0,\n        \"min\": 0,\n        \"max\": 0,\n        \"num_unique_values\": 1,\n        \"samples\": [\n          0\n        ],\n        \"semantic_type\": \"\",\n        \"description\": \"\"\n      }\n    },\n    {\n      \"column\": \"Steady\",\n      \"properties\": {\n        \"dtype\": \"number\",\n        \"std\": 0,\n        \"min\": 0,\n        \"max\": 0,\n        \"num_unique_values\": 1,\n        \"samples\": [\n          0\n        ],\n        \"semantic_type\": \"\",\n        \"description\": \"\"\n      }\n    },\n    {\n      \"column\": \"Up\",\n      \"properties\": {\n        \"dtype\": \"number\",\n        \"std\": 0,\n        \"min\": 0,\n        \"max\": 0,\n        \"num_unique_values\": 1,\n        \"samples\": [\n          0\n        ],\n        \"semantic_type\": \"\",\n        \"description\": \"\"\n      }\n    }\n  ]\n}"
            }
          },
          "metadata": {},
          "execution_count": 757
        }
      ],
      "source": [
        "medicine_counts[medicine_counts['No'] == len(data)]"
      ]
    },
    {
      "cell_type": "markdown",
      "id": "collected-applicant",
      "metadata": {
        "id": "collected-applicant"
      },
      "source": [
        "Isso não é bom. Como nós veremos ao longo do curso, o indutor generaliza os exemplos fazendo observações sobre como os valores dos atributos mudam para as diferentes classes. Se um atributo só tem uma categoria ou um valor, então ele não deveiria estar na base!"
      ]
    },
    {
      "cell_type": "code",
      "execution_count": 758,
      "id": "df41fe21",
      "metadata": {
        "id": "df41fe21"
      },
      "outputs": [],
      "source": [
        "data_backup = data.copy(deep=True)"
      ]
    },
    {
      "cell_type": "markdown",
      "id": "positive-accessory",
      "metadata": {
        "id": "positive-accessory"
      },
      "source": [
        "#### Exercício 16\n",
        "\n",
        "> Remova os atributos `['citoglipton', 'examide']` do *data frame* `data`. Use `drop()`. Não se esqueça de especificar o eixo das colunas (`axis=1` ou `axis='columns'`)."
      ]
    },
    {
      "cell_type": "code",
      "execution_count": 759,
      "id": "bound-timing",
      "metadata": {
        "id": "bound-timing"
      },
      "outputs": [],
      "source": [
        "data.drop(['citoglipton', 'examide'], axis=1, inplace=True)"
      ]
    },
    {
      "cell_type": "markdown",
      "id": "emotional-partition",
      "metadata": {
        "id": "emotional-partition"
      },
      "source": [
        "Confirme que apenas as colunas  desejadas foram removidas:"
      ]
    },
    {
      "cell_type": "code",
      "execution_count": 760,
      "id": "professional-anthropology",
      "metadata": {
        "colab": {
          "base_uri": "https://localhost:8080/"
        },
        "id": "professional-anthropology",
        "outputId": "8b10fc76-ef5b-4381-91d1-622e15cb7a29"
      },
      "outputs": [
        {
          "output_type": "stream",
          "name": "stdout",
          "text": [
            "Atributi citoglipton removido: True\n",
            "Atributi examide removido: True\n",
            "Os 44 atributos restantes ainda estão no data frame: True\n"
          ]
        }
      ],
      "source": [
        "for f in ['citoglipton', 'examide']:\n",
        "    print(f\"Atributi {f} removido: {f not in data}\")\n",
        "print(\"Os 44 atributos restantes ainda estão no data frame:\", data.shape[1] == 44)"
      ]
    },
    {
      "cell_type": "markdown",
      "id": "persistent-diana",
      "metadata": {
        "id": "persistent-diana"
      },
      "source": [
        "Vamos atualizar a contagem de medicamentos também:"
      ]
    },
    {
      "cell_type": "code",
      "execution_count": 761,
      "id": "norman-topic",
      "metadata": {
        "id": "norman-topic"
      },
      "outputs": [],
      "source": [
        "medicine_counts.drop(['citoglipton', 'examide'], axis=0, inplace=True)"
      ]
    },
    {
      "cell_type": "markdown",
      "id": "prospective-vessel",
      "metadata": {
        "id": "prospective-vessel"
      },
      "source": [
        "Ok, mais dois atributos corretamente manipulados."
      ]
    },
    {
      "cell_type": "markdown",
      "id": "impaired-concentrate",
      "metadata": {
        "id": "impaired-concentrate"
      },
      "source": [
        "Agora tem a questão dos medicamentos que são usados por alguns pacientes, mas poucos deles. A decisão de como proceder nesse tipo de caso é delicada. Normalmente requer a opinião de um especialista. Mas como não temos nenhum especialista disponível (e o artigo não aborda isso com detalhes), então podemos empregar uma heurística simples. Vamos remover também os medicamentos que foram receitados em menos de 1% das consultas.\n",
        "\n",
        "Precisamos descobrir que medicamentos são esses. Em outras palavras, queremos saber quais são as linhas de `medicine_counts` nas quais a coluna `No` tem um  valor acima de 99% do tamanho do *data frame* original."
      ]
    },
    {
      "cell_type": "code",
      "execution_count": 762,
      "id": "educational-ensemble",
      "metadata": {
        "colab": {
          "base_uri": "https://localhost:8080/",
          "height": 488
        },
        "id": "educational-ensemble",
        "outputId": "bef9b8ca-24ee-495d-94ca-36855e411c1d"
      },
      "outputs": [
        {
          "output_type": "execute_result",
          "data": {
            "text/plain": [
              "                              No  Down  Steady  Up\n",
              "Medicine                                          \n",
              "tolazamide                101727     0      38   1\n",
              "acarbose                  101458     3     295  10\n",
              "acetohexamide             101765     0       1   0\n",
              "chlorpropamide            101680     1      79   6\n",
              "glimepiride-pioglitazone  101765     0       1   0\n",
              "glipizide-metformin       101753     0      13   0\n",
              "glyburide-metformin       101060     6     692   8\n",
              "metformin-pioglitazone    101765     0       1   0\n",
              "metformin-rosiglitazone   101764     0       2   0\n",
              "miglitol                  101728     5      31   2\n",
              "nateglinide               101063    11     668  24\n",
              "tolbutamide               101743     0      23   0\n",
              "troglitazone              101763     0       3   0"
            ],
            "text/html": [
              "\n",
              "  <div id=\"df-c15ea1b7-e83a-469d-8395-3ddfa1d91602\" class=\"colab-df-container\">\n",
              "    <div>\n",
              "<style scoped>\n",
              "    .dataframe tbody tr th:only-of-type {\n",
              "        vertical-align: middle;\n",
              "    }\n",
              "\n",
              "    .dataframe tbody tr th {\n",
              "        vertical-align: top;\n",
              "    }\n",
              "\n",
              "    .dataframe thead th {\n",
              "        text-align: right;\n",
              "    }\n",
              "</style>\n",
              "<table border=\"1\" class=\"dataframe\">\n",
              "  <thead>\n",
              "    <tr style=\"text-align: right;\">\n",
              "      <th></th>\n",
              "      <th>No</th>\n",
              "      <th>Down</th>\n",
              "      <th>Steady</th>\n",
              "      <th>Up</th>\n",
              "    </tr>\n",
              "    <tr>\n",
              "      <th>Medicine</th>\n",
              "      <th></th>\n",
              "      <th></th>\n",
              "      <th></th>\n",
              "      <th></th>\n",
              "    </tr>\n",
              "  </thead>\n",
              "  <tbody>\n",
              "    <tr>\n",
              "      <th>tolazamide</th>\n",
              "      <td>101727</td>\n",
              "      <td>0</td>\n",
              "      <td>38</td>\n",
              "      <td>1</td>\n",
              "    </tr>\n",
              "    <tr>\n",
              "      <th>acarbose</th>\n",
              "      <td>101458</td>\n",
              "      <td>3</td>\n",
              "      <td>295</td>\n",
              "      <td>10</td>\n",
              "    </tr>\n",
              "    <tr>\n",
              "      <th>acetohexamide</th>\n",
              "      <td>101765</td>\n",
              "      <td>0</td>\n",
              "      <td>1</td>\n",
              "      <td>0</td>\n",
              "    </tr>\n",
              "    <tr>\n",
              "      <th>chlorpropamide</th>\n",
              "      <td>101680</td>\n",
              "      <td>1</td>\n",
              "      <td>79</td>\n",
              "      <td>6</td>\n",
              "    </tr>\n",
              "    <tr>\n",
              "      <th>glimepiride-pioglitazone</th>\n",
              "      <td>101765</td>\n",
              "      <td>0</td>\n",
              "      <td>1</td>\n",
              "      <td>0</td>\n",
              "    </tr>\n",
              "    <tr>\n",
              "      <th>glipizide-metformin</th>\n",
              "      <td>101753</td>\n",
              "      <td>0</td>\n",
              "      <td>13</td>\n",
              "      <td>0</td>\n",
              "    </tr>\n",
              "    <tr>\n",
              "      <th>glyburide-metformin</th>\n",
              "      <td>101060</td>\n",
              "      <td>6</td>\n",
              "      <td>692</td>\n",
              "      <td>8</td>\n",
              "    </tr>\n",
              "    <tr>\n",
              "      <th>metformin-pioglitazone</th>\n",
              "      <td>101765</td>\n",
              "      <td>0</td>\n",
              "      <td>1</td>\n",
              "      <td>0</td>\n",
              "    </tr>\n",
              "    <tr>\n",
              "      <th>metformin-rosiglitazone</th>\n",
              "      <td>101764</td>\n",
              "      <td>0</td>\n",
              "      <td>2</td>\n",
              "      <td>0</td>\n",
              "    </tr>\n",
              "    <tr>\n",
              "      <th>miglitol</th>\n",
              "      <td>101728</td>\n",
              "      <td>5</td>\n",
              "      <td>31</td>\n",
              "      <td>2</td>\n",
              "    </tr>\n",
              "    <tr>\n",
              "      <th>nateglinide</th>\n",
              "      <td>101063</td>\n",
              "      <td>11</td>\n",
              "      <td>668</td>\n",
              "      <td>24</td>\n",
              "    </tr>\n",
              "    <tr>\n",
              "      <th>tolbutamide</th>\n",
              "      <td>101743</td>\n",
              "      <td>0</td>\n",
              "      <td>23</td>\n",
              "      <td>0</td>\n",
              "    </tr>\n",
              "    <tr>\n",
              "      <th>troglitazone</th>\n",
              "      <td>101763</td>\n",
              "      <td>0</td>\n",
              "      <td>3</td>\n",
              "      <td>0</td>\n",
              "    </tr>\n",
              "  </tbody>\n",
              "</table>\n",
              "</div>\n",
              "    <div class=\"colab-df-buttons\">\n",
              "\n",
              "  <div class=\"colab-df-container\">\n",
              "    <button class=\"colab-df-convert\" onclick=\"convertToInteractive('df-c15ea1b7-e83a-469d-8395-3ddfa1d91602')\"\n",
              "            title=\"Convert this dataframe to an interactive table.\"\n",
              "            style=\"display:none;\">\n",
              "\n",
              "  <svg xmlns=\"http://www.w3.org/2000/svg\" height=\"24px\" viewBox=\"0 -960 960 960\">\n",
              "    <path d=\"M120-120v-720h720v720H120Zm60-500h600v-160H180v160Zm220 220h160v-160H400v160Zm0 220h160v-160H400v160ZM180-400h160v-160H180v160Zm440 0h160v-160H620v160ZM180-180h160v-160H180v160Zm440 0h160v-160H620v160Z\"/>\n",
              "  </svg>\n",
              "    </button>\n",
              "\n",
              "  <style>\n",
              "    .colab-df-container {\n",
              "      display:flex;\n",
              "      gap: 12px;\n",
              "    }\n",
              "\n",
              "    .colab-df-convert {\n",
              "      background-color: #E8F0FE;\n",
              "      border: none;\n",
              "      border-radius: 50%;\n",
              "      cursor: pointer;\n",
              "      display: none;\n",
              "      fill: #1967D2;\n",
              "      height: 32px;\n",
              "      padding: 0 0 0 0;\n",
              "      width: 32px;\n",
              "    }\n",
              "\n",
              "    .colab-df-convert:hover {\n",
              "      background-color: #E2EBFA;\n",
              "      box-shadow: 0px 1px 2px rgba(60, 64, 67, 0.3), 0px 1px 3px 1px rgba(60, 64, 67, 0.15);\n",
              "      fill: #174EA6;\n",
              "    }\n",
              "\n",
              "    .colab-df-buttons div {\n",
              "      margin-bottom: 4px;\n",
              "    }\n",
              "\n",
              "    [theme=dark] .colab-df-convert {\n",
              "      background-color: #3B4455;\n",
              "      fill: #D2E3FC;\n",
              "    }\n",
              "\n",
              "    [theme=dark] .colab-df-convert:hover {\n",
              "      background-color: #434B5C;\n",
              "      box-shadow: 0px 1px 3px 1px rgba(0, 0, 0, 0.15);\n",
              "      filter: drop-shadow(0px 1px 2px rgba(0, 0, 0, 0.3));\n",
              "      fill: #FFFFFF;\n",
              "    }\n",
              "  </style>\n",
              "\n",
              "    <script>\n",
              "      const buttonEl =\n",
              "        document.querySelector('#df-c15ea1b7-e83a-469d-8395-3ddfa1d91602 button.colab-df-convert');\n",
              "      buttonEl.style.display =\n",
              "        google.colab.kernel.accessAllowed ? 'block' : 'none';\n",
              "\n",
              "      async function convertToInteractive(key) {\n",
              "        const element = document.querySelector('#df-c15ea1b7-e83a-469d-8395-3ddfa1d91602');\n",
              "        const dataTable =\n",
              "          await google.colab.kernel.invokeFunction('convertToInteractive',\n",
              "                                                    [key], {});\n",
              "        if (!dataTable) return;\n",
              "\n",
              "        const docLinkHtml = 'Like what you see? Visit the ' +\n",
              "          '<a target=\"_blank\" href=https://colab.research.google.com/notebooks/data_table.ipynb>data table notebook</a>'\n",
              "          + ' to learn more about interactive tables.';\n",
              "        element.innerHTML = '';\n",
              "        dataTable['output_type'] = 'display_data';\n",
              "        await google.colab.output.renderOutput(dataTable, element);\n",
              "        const docLink = document.createElement('div');\n",
              "        docLink.innerHTML = docLinkHtml;\n",
              "        element.appendChild(docLink);\n",
              "      }\n",
              "    </script>\n",
              "  </div>\n",
              "\n",
              "\n",
              "<div id=\"df-db56bcef-5802-4dd4-9a0a-3940890d6959\">\n",
              "  <button class=\"colab-df-quickchart\" onclick=\"quickchart('df-db56bcef-5802-4dd4-9a0a-3940890d6959')\"\n",
              "            title=\"Suggest charts\"\n",
              "            style=\"display:none;\">\n",
              "\n",
              "<svg xmlns=\"http://www.w3.org/2000/svg\" height=\"24px\"viewBox=\"0 0 24 24\"\n",
              "     width=\"24px\">\n",
              "    <g>\n",
              "        <path d=\"M19 3H5c-1.1 0-2 .9-2 2v14c0 1.1.9 2 2 2h14c1.1 0 2-.9 2-2V5c0-1.1-.9-2-2-2zM9 17H7v-7h2v7zm4 0h-2V7h2v10zm4 0h-2v-4h2v4z\"/>\n",
              "    </g>\n",
              "</svg>\n",
              "  </button>\n",
              "\n",
              "<style>\n",
              "  .colab-df-quickchart {\n",
              "      --bg-color: #E8F0FE;\n",
              "      --fill-color: #1967D2;\n",
              "      --hover-bg-color: #E2EBFA;\n",
              "      --hover-fill-color: #174EA6;\n",
              "      --disabled-fill-color: #AAA;\n",
              "      --disabled-bg-color: #DDD;\n",
              "  }\n",
              "\n",
              "  [theme=dark] .colab-df-quickchart {\n",
              "      --bg-color: #3B4455;\n",
              "      --fill-color: #D2E3FC;\n",
              "      --hover-bg-color: #434B5C;\n",
              "      --hover-fill-color: #FFFFFF;\n",
              "      --disabled-bg-color: #3B4455;\n",
              "      --disabled-fill-color: #666;\n",
              "  }\n",
              "\n",
              "  .colab-df-quickchart {\n",
              "    background-color: var(--bg-color);\n",
              "    border: none;\n",
              "    border-radius: 50%;\n",
              "    cursor: pointer;\n",
              "    display: none;\n",
              "    fill: var(--fill-color);\n",
              "    height: 32px;\n",
              "    padding: 0;\n",
              "    width: 32px;\n",
              "  }\n",
              "\n",
              "  .colab-df-quickchart:hover {\n",
              "    background-color: var(--hover-bg-color);\n",
              "    box-shadow: 0 1px 2px rgba(60, 64, 67, 0.3), 0 1px 3px 1px rgba(60, 64, 67, 0.15);\n",
              "    fill: var(--button-hover-fill-color);\n",
              "  }\n",
              "\n",
              "  .colab-df-quickchart-complete:disabled,\n",
              "  .colab-df-quickchart-complete:disabled:hover {\n",
              "    background-color: var(--disabled-bg-color);\n",
              "    fill: var(--disabled-fill-color);\n",
              "    box-shadow: none;\n",
              "  }\n",
              "\n",
              "  .colab-df-spinner {\n",
              "    border: 2px solid var(--fill-color);\n",
              "    border-color: transparent;\n",
              "    border-bottom-color: var(--fill-color);\n",
              "    animation:\n",
              "      spin 1s steps(1) infinite;\n",
              "  }\n",
              "\n",
              "  @keyframes spin {\n",
              "    0% {\n",
              "      border-color: transparent;\n",
              "      border-bottom-color: var(--fill-color);\n",
              "      border-left-color: var(--fill-color);\n",
              "    }\n",
              "    20% {\n",
              "      border-color: transparent;\n",
              "      border-left-color: var(--fill-color);\n",
              "      border-top-color: var(--fill-color);\n",
              "    }\n",
              "    30% {\n",
              "      border-color: transparent;\n",
              "      border-left-color: var(--fill-color);\n",
              "      border-top-color: var(--fill-color);\n",
              "      border-right-color: var(--fill-color);\n",
              "    }\n",
              "    40% {\n",
              "      border-color: transparent;\n",
              "      border-right-color: var(--fill-color);\n",
              "      border-top-color: var(--fill-color);\n",
              "    }\n",
              "    60% {\n",
              "      border-color: transparent;\n",
              "      border-right-color: var(--fill-color);\n",
              "    }\n",
              "    80% {\n",
              "      border-color: transparent;\n",
              "      border-right-color: var(--fill-color);\n",
              "      border-bottom-color: var(--fill-color);\n",
              "    }\n",
              "    90% {\n",
              "      border-color: transparent;\n",
              "      border-bottom-color: var(--fill-color);\n",
              "    }\n",
              "  }\n",
              "</style>\n",
              "\n",
              "  <script>\n",
              "    async function quickchart(key) {\n",
              "      const quickchartButtonEl =\n",
              "        document.querySelector('#' + key + ' button');\n",
              "      quickchartButtonEl.disabled = true;  // To prevent multiple clicks.\n",
              "      quickchartButtonEl.classList.add('colab-df-spinner');\n",
              "      try {\n",
              "        const charts = await google.colab.kernel.invokeFunction(\n",
              "            'suggestCharts', [key], {});\n",
              "      } catch (error) {\n",
              "        console.error('Error during call to suggestCharts:', error);\n",
              "      }\n",
              "      quickchartButtonEl.classList.remove('colab-df-spinner');\n",
              "      quickchartButtonEl.classList.add('colab-df-quickchart-complete');\n",
              "    }\n",
              "    (() => {\n",
              "      let quickchartButtonEl =\n",
              "        document.querySelector('#df-db56bcef-5802-4dd4-9a0a-3940890d6959 button');\n",
              "      quickchartButtonEl.style.display =\n",
              "        google.colab.kernel.accessAllowed ? 'block' : 'none';\n",
              "    })();\n",
              "  </script>\n",
              "</div>\n",
              "    </div>\n",
              "  </div>\n"
            ],
            "application/vnd.google.colaboratory.intrinsic+json": {
              "type": "dataframe",
              "summary": "{\n  \"name\": \"medicine_counts[medicine_counts['No'] >= 0\",\n  \"rows\": 13,\n  \"fields\": [\n    {\n      \"column\": \"Medicine\",\n      \"properties\": {\n        \"dtype\": \"string\",\n        \"num_unique_values\": 13,\n        \"samples\": [\n          \"tolbutamide\",\n          \"miglitol\",\n          \"tolazamide\"\n        ],\n        \"semantic_type\": \"\",\n        \"description\": \"\"\n      }\n    },\n    {\n      \"column\": \"No\",\n      \"properties\": {\n        \"dtype\": \"number\",\n        \"std\": 260,\n        \"min\": 101060,\n        \"max\": 101765,\n        \"num_unique_values\": 11,\n        \"samples\": [\n          101060,\n          101727,\n          101743\n        ],\n        \"semantic_type\": \"\",\n        \"description\": \"\"\n      }\n    },\n    {\n      \"column\": \"Down\",\n      \"properties\": {\n        \"dtype\": \"number\",\n        \"std\": 3,\n        \"min\": 0,\n        \"max\": 11,\n        \"num_unique_values\": 6,\n        \"samples\": [\n          0,\n          3,\n          11\n        ],\n        \"semantic_type\": \"\",\n        \"description\": \"\"\n      }\n    },\n    {\n      \"column\": \"Steady\",\n      \"properties\": {\n        \"dtype\": \"number\",\n        \"std\": 251,\n        \"min\": 1,\n        \"max\": 692,\n        \"num_unique_values\": 11,\n        \"samples\": [\n          692,\n          38,\n          23\n        ],\n        \"semantic_type\": \"\",\n        \"description\": \"\"\n      }\n    },\n    {\n      \"column\": \"Up\",\n      \"properties\": {\n        \"dtype\": \"number\",\n        \"std\": 6,\n        \"min\": 0,\n        \"max\": 24,\n        \"num_unique_values\": 7,\n        \"samples\": [\n          1,\n          10,\n          2\n        ],\n        \"semantic_type\": \"\",\n        \"description\": \"\"\n      }\n    }\n  ]\n}"
            }
          },
          "metadata": {},
          "execution_count": 762
        }
      ],
      "source": [
        "medicine_counts[medicine_counts['No'] >= 0.99 * len(data)]"
      ]
    },
    {
      "cell_type": "markdown",
      "id": "phantom-airfare",
      "metadata": {
        "id": "phantom-airfare"
      },
      "source": [
        "Vamos coletar os nomes desses medicamentos em uma lista:"
      ]
    },
    {
      "cell_type": "code",
      "execution_count": 763,
      "id": "banned-reading",
      "metadata": {
        "id": "banned-reading"
      },
      "outputs": [],
      "source": [
        "medicine_few = list((medicine_counts[medicine_counts['No'] >= 0.99 * len(data)]).index)"
      ]
    },
    {
      "cell_type": "code",
      "execution_count": 764,
      "id": "transparent-trademark",
      "metadata": {
        "colab": {
          "base_uri": "https://localhost:8080/"
        },
        "id": "transparent-trademark",
        "outputId": "08a4a02b-d7d6-4e83-bcfc-b1a4835ea537"
      },
      "outputs": [
        {
          "output_type": "execute_result",
          "data": {
            "text/plain": [
              "['tolazamide',\n",
              " 'acarbose',\n",
              " 'acetohexamide',\n",
              " 'chlorpropamide',\n",
              " 'glimepiride-pioglitazone',\n",
              " 'glipizide-metformin',\n",
              " 'glyburide-metformin',\n",
              " 'metformin-pioglitazone',\n",
              " 'metformin-rosiglitazone',\n",
              " 'miglitol',\n",
              " 'nateglinide',\n",
              " 'tolbutamide',\n",
              " 'troglitazone']"
            ]
          },
          "metadata": {},
          "execution_count": 764
        }
      ],
      "source": [
        "medicine_few"
      ]
    },
    {
      "cell_type": "markdown",
      "id": "49200159",
      "metadata": {
        "id": "49200159"
      },
      "source": [
        "E agora vamos remover todas essas colunas. Mas, primeiro, outro backup."
      ]
    },
    {
      "cell_type": "code",
      "execution_count": 765,
      "id": "f57d7ccb",
      "metadata": {
        "id": "f57d7ccb"
      },
      "outputs": [],
      "source": [
        "data_backup = data.copy(deep=True)"
      ]
    },
    {
      "cell_type": "markdown",
      "id": "toxic-ministry",
      "metadata": {
        "id": "toxic-ministry"
      },
      "source": [
        "#### Exercício 17\n",
        "\n",
        "\n",
        "> Remova do *data frame* original todos os atributos listados em `medicine_few`."
      ]
    },
    {
      "cell_type": "code",
      "execution_count": 766,
      "id": "architectural-employer",
      "metadata": {
        "id": "architectural-employer"
      },
      "outputs": [],
      "source": [
        "data.drop(medicine_few, axis=1, inplace=True)"
      ]
    },
    {
      "cell_type": "markdown",
      "id": "innocent-bicycle",
      "metadata": {
        "id": "innocent-bicycle"
      },
      "source": [
        "A célula a seguir irá verificar se alguma coluna está faltando ou sobrando."
      ]
    },
    {
      "cell_type": "code",
      "execution_count": 767,
      "id": "convenient-mountain",
      "metadata": {
        "colab": {
          "base_uri": "https://localhost:8080/"
        },
        "id": "convenient-mountain",
        "outputId": "4a85d006-ba28-4ba7-d7d7-b72a01788049"
      },
      "outputs": [
        {
          "output_type": "stream",
          "name": "stdout",
          "text": [
            "Colunas a mais: nenhuma\n",
            "Coluna faltando: nenhuma\n"
          ]
        }
      ],
      "source": [
        "expected_columns = set(['race', 'gender', 'age', 'admission_type_id', 'discharge_disposition_id', 'admission_source_id', 'time_in_hospital', 'medical_specialty', 'num_lab_procedures', 'num_procedures', 'num_medications', 'number_outpatient', 'number_emergency', 'number_inpatient', 'diag_1', 'diag_2', 'diag_3', 'number_diagnoses', 'max_glu_serum', 'A1Cresult', 'metformin', 'repaglinide', 'glimepiride', 'glipizide', 'glyburide', 'pioglitazone', 'rosiglitazone', 'insulin', 'change', 'diabetesMed', 'readmitted'])\n",
        "found_columns = set(data.columns)\n",
        "\n",
        "missing = expected_columns.difference(found_columns)\n",
        "extra = found_columns.difference(expected_columns)\n",
        "\n",
        "print(f\"Colunas a mais: {'nenhuma' if len(extra) == 0 else extra}\")\n",
        "print(f\"Coluna faltando: {'nenhuma' if len(missing) == 0 else missing}\")"
      ]
    },
    {
      "cell_type": "markdown",
      "id": "pleasant-cholesterol",
      "metadata": {
        "id": "pleasant-cholesterol"
      },
      "source": [
        "Quais são os atributos que sobraram?"
      ]
    },
    {
      "cell_type": "code",
      "execution_count": 768,
      "id": "electrical-wholesale",
      "metadata": {
        "colab": {
          "base_uri": "https://localhost:8080/"
        },
        "id": "electrical-wholesale",
        "outputId": "0e479b47-62e3-4707-80b6-cc266b8cccad"
      },
      "outputs": [
        {
          "output_type": "stream",
          "name": "stdout",
          "text": [
            "<class 'pandas.core.frame.DataFrame'>\n",
            "RangeIndex: 101766 entries, 0 to 101765\n",
            "Data columns (total 31 columns):\n",
            " #   Column                    Non-Null Count   Dtype \n",
            "---  ------                    --------------   ----- \n",
            " 0   race                      101766 non-null  object\n",
            " 1   gender                    101766 non-null  object\n",
            " 2   age                       101766 non-null  object\n",
            " 3   admission_type_id         101766 non-null  int64 \n",
            " 4   discharge_disposition_id  101766 non-null  int64 \n",
            " 5   admission_source_id       101766 non-null  int64 \n",
            " 6   time_in_hospital          101766 non-null  int64 \n",
            " 7   medical_specialty         101766 non-null  object\n",
            " 8   num_lab_procedures        101766 non-null  int64 \n",
            " 9   num_procedures            101766 non-null  int64 \n",
            " 10  num_medications           101766 non-null  int64 \n",
            " 11  number_outpatient         101766 non-null  int64 \n",
            " 12  number_emergency          101766 non-null  int64 \n",
            " 13  number_inpatient          101766 non-null  int64 \n",
            " 14  diag_1                    101766 non-null  object\n",
            " 15  diag_2                    101766 non-null  object\n",
            " 16  diag_3                    101766 non-null  object\n",
            " 17  number_diagnoses          101766 non-null  int64 \n",
            " 18  max_glu_serum             101766 non-null  object\n",
            " 19  A1Cresult                 101766 non-null  object\n",
            " 20  metformin                 101766 non-null  object\n",
            " 21  repaglinide               101766 non-null  object\n",
            " 22  glimepiride               101766 non-null  object\n",
            " 23  glipizide                 101766 non-null  object\n",
            " 24  glyburide                 101766 non-null  object\n",
            " 25  pioglitazone              101766 non-null  object\n",
            " 26  rosiglitazone             101766 non-null  object\n",
            " 27  insulin                   101766 non-null  object\n",
            " 28  change                    101766 non-null  object\n",
            " 29  diabetesMed               101766 non-null  object\n",
            " 30  readmitted                101766 non-null  object\n",
            "dtypes: int64(11), object(20)\n",
            "memory usage: 24.1+ MB\n"
          ]
        }
      ],
      "source": [
        "data.info()"
      ]
    },
    {
      "cell_type": "markdown",
      "id": "aware-matter",
      "metadata": {
        "id": "aware-matter"
      },
      "source": [
        "### Últimos passos: atributos numéricos"
      ]
    },
    {
      "cell_type": "markdown",
      "id": "f5eb061c",
      "metadata": {
        "id": "f5eb061c"
      },
      "source": [
        "Ainda não terminamos!\n",
        "\n",
        "Todo o processo que fizemos até agora foi pensando na usabilidade dos dados. Nós lidamos com colunas que são identificadores, colunas que possuem informações que não podemos usar, valores ausentes e colunas com pouca informação.\n",
        "\n",
        "Agora chegou a hora de nos preocuparmos com as necessidades do modelo.\n",
        "\n",
        "O classificador que vamos utilizar aqui é o Naive Bayes categórico.\n",
        "\n",
        "O que é o Naive Bayes categórico? É um modelo de classificação baseado em probabilidades. O primeiro passo para usar o Naive Bayes categórico é aprender as probabilidades dos atributos. Por exemplo, temos o atributo `insulin`, que indica que o paciente fez uso de insulina. Qual a probabilidade de um paciente com classe `NO` ter aumentado o uso de insulina?"
      ]
    },
    {
      "cell_type": "code",
      "execution_count": 769,
      "id": "3b425f9d",
      "metadata": {
        "id": "3b425f9d"
      },
      "outputs": [],
      "source": [
        "pacientes_classe_NO = data[data['readmitted'] == 'NO']"
      ]
    },
    {
      "cell_type": "code",
      "execution_count": 770,
      "id": "87d1d5bf",
      "metadata": {
        "colab": {
          "base_uri": "https://localhost:8080/"
        },
        "id": "87d1d5bf",
        "outputId": "f942d78c-a20b-4014-b3b7-f6e53e60067b"
      },
      "outputs": [
        {
          "output_type": "execute_result",
          "data": {
            "text/plain": [
              "54864"
            ]
          },
          "metadata": {},
          "execution_count": 770
        }
      ],
      "source": [
        "# Quantidade de exemplos da classe NO\n",
        "len(pacientes_classe_NO)"
      ]
    },
    {
      "cell_type": "code",
      "execution_count": 771,
      "id": "3ecc4dfe",
      "metadata": {
        "id": "3ecc4dfe"
      },
      "outputs": [],
      "source": [
        "pacientes_insulina_e_NO = pacientes_classe_NO[pacientes_classe_NO['insulin'] == 'Up']"
      ]
    },
    {
      "cell_type": "code",
      "execution_count": 772,
      "id": "ae9b05d4",
      "metadata": {
        "colab": {
          "base_uri": "https://localhost:8080/"
        },
        "id": "ae9b05d4",
        "outputId": "b0a75bfc-2ba7-46f6-b516-17e59137872f"
      },
      "outputs": [
        {
          "output_type": "execute_result",
          "data": {
            "text/plain": [
              "5484"
            ]
          },
          "metadata": {},
          "execution_count": 772
        }
      ],
      "source": [
        "# Quantidade de pacientes da classe NO que teve aumento no uso de insulina\n",
        "len(pacientes_insulina_e_NO)"
      ]
    },
    {
      "cell_type": "markdown",
      "id": "8b368caf",
      "metadata": {
        "id": "8b368caf"
      },
      "source": [
        "Com essas duas informações, podemos calcular:\n",
        "\n",
        "$$p(\\text{insulina}=Up|\\text{classe}=No) = \\displaystyle\\frac{\\left|\\text{classe}=No~\\bigcap~\\text{insulina}=Up\\right|}{|\\text{classe}=No|}$$"
      ]
    },
    {
      "cell_type": "code",
      "execution_count": 773,
      "id": "f2835461",
      "metadata": {
        "colab": {
          "base_uri": "https://localhost:8080/"
        },
        "id": "f2835461",
        "outputId": "207afed7-783b-4b03-8200-22001cfc29fe"
      },
      "outputs": [
        {
          "output_type": "execute_result",
          "data": {
            "text/plain": [
              "0.0999562554680665"
            ]
          },
          "metadata": {},
          "execution_count": 773
        }
      ],
      "source": [
        "len(pacientes_insulina_e_NO) / len(pacientes_classe_NO)"
      ]
    },
    {
      "cell_type": "markdown",
      "id": "e4ad98c9",
      "metadata": {
        "id": "e4ad98c9"
      },
      "source": [
        "Essa probabilidade chama-se *verossimilhança* e é uma informação importante para o Naive Bayes. O modelo precisa calcular esse tipo de probabilidade para todas as combinações de valores dos atributos e de classes.\n",
        "\n",
        "Note que o cálculo é feito por contagem de valores ($|\\text{classe}=No|$ significa “o tamanho do conjunto de todos os exemplos que contem o valor `NO` para a classe). Portanto o Naive Bayes categórico não pode ter atributos numéricos."
      ]
    },
    {
      "cell_type": "markdown",
      "id": "about-travel",
      "metadata": {
        "id": "about-travel"
      },
      "source": [
        "Então precisamos identificar os tipos numéricos. Como? Bem, através do método `info`, você pode verificar que algumas colunas do *data frame* possuem tipos inteiros. *Porém*, isso não quer dizer que eles sejam realmente numéricos. Alguns, como `admission_type_id`, são valores categóricos que estão sendo representados como valores numéricos. Para saber quais atributos são realmente numéricos, você deve entender o que eles significam. Felizmente, isso já foi feito para você. Os atributos numéricos desse conjunto são os seguintes:"
      ]
    },
    {
      "cell_type": "code",
      "execution_count": 774,
      "id": "smooth-spray",
      "metadata": {
        "id": "smooth-spray"
      },
      "outputs": [],
      "source": [
        "numeric_features = ['time_in_hospital', 'num_lab_procedures', 'num_procedures', 'num_medications', 'number_outpatient', 'number_emergency', 'number_inpatient', 'number_diagnoses']"
      ]
    },
    {
      "cell_type": "markdown",
      "id": "hollywood-joshua",
      "metadata": {
        "id": "hollywood-joshua"
      },
      "source": [
        "Podemos explorar esses atributos usando histogramas:"
      ]
    },
    {
      "cell_type": "code",
      "execution_count": 775,
      "id": "fifth-alliance",
      "metadata": {
        "id": "fifth-alliance",
        "colab": {
          "base_uri": "https://localhost:8080/",
          "height": 808
        },
        "outputId": "582af024-3b3c-41b5-be36-10d269c9aa79"
      },
      "outputs": [
        {
          "output_type": "display_data",
          "data": {
            "text/plain": [
              "<Figure size 1600x1000 with 9 Axes>"
            ],
            "image/png": "[encoded data removed]"
          },
          "metadata": {}
        }
      ],
      "source": [
        "data[numeric_features].hist(figsize=(16, 10), bins=14);"
      ]
    },
    {
      "cell_type": "markdown",
      "id": "floating-warning",
      "metadata": {
        "id": "floating-warning"
      },
      "source": [
        "Temos três opções:\n",
        "\n",
        "1. Fingir que esses valores são categóricos. Isso é ruim porque muitos atributos acabariam com uma quantidade muito grande de categorias;\n",
        "1. Remover os atributos. Isso pode ser necessário, mas em geral é algo que queremos evitar, pois cada atributo removido é informação perdida. Vamos tentar fazer uso desses atributos;\n",
        "1. Quantizar os atributos. Essa será nossa saída.\n",
        "\n",
        "Quantizar um atributo significa mapear os valores originais para um conjunto de intervalos de valores inteiros. O próprio *data frame* original já possui alguns valores quantizados. Um exemplo é o atributo `'age'`. Se você verificar os valores presentes nesse atributo, poderá confirmar que eles foram transformados em intervalos de dez em dez anos."
      ]
    },
    {
      "cell_type": "markdown",
      "id": "macro-opening",
      "metadata": {
        "id": "macro-opening"
      },
      "source": [
        "#### Exercício 18\n",
        "\n",
        "> Verifique quais são os valores presentes no atributo `age` (usando `value_counts` ou outro método)."
      ]
    },
    {
      "cell_type": "code",
      "execution_count": 776,
      "id": "59303af2",
      "metadata": {
        "id": "59303af2",
        "colab": {
          "base_uri": "https://localhost:8080/"
        },
        "outputId": "41672f32-a809-478f-9385-bc4e2617bd65"
      },
      "outputs": [
        {
          "output_type": "execute_result",
          "data": {
            "text/plain": [
              "age\n",
              "[70-80)     26068\n",
              "[60-70)     22483\n",
              "[50-60)     17256\n",
              "[80-90)     17197\n",
              "[40-50)      9685\n",
              "[30-40)      3775\n",
              "[90-100)     2793\n",
              "[20-30)      1657\n",
              "[10-20)       691\n",
              "[0-10)        161\n",
              "Name: count, dtype: int64"
            ]
          },
          "metadata": {},
          "execution_count": 776
        }
      ],
      "source": [
        "age_counts = data['age'].value_counts()\n",
        "age_counts"
      ]
    },
    {
      "cell_type": "markdown",
      "id": "1dad171b",
      "metadata": {
        "id": "1dad171b"
      },
      "source": [
        "Você poderá notar que os pacientes estão em faixas como `[0-10)`, que inclui pessoas de 0 a 9 anos e `[40-50)`, que inclui pessoas de 40 a 49 anos.\n",
        "\n",
        "Por que essas faixas foram escolhidas? Essa pergunta deveria ser feita aos autores da base!"
      ]
    },
    {
      "cell_type": "markdown",
      "id": "proof-alexander",
      "metadata": {
        "id": "proof-alexander"
      },
      "source": [
        "De maneira geral, é importante considerar o significado dos atributos antes de fazer a quantização. Mas, como não dispomos de muita informação do domínio médico, vamos adotar algumas práticas genéricas com base no que observamos no histograma."
      ]
    },
    {
      "cell_type": "markdown",
      "id": "compatible-constant",
      "metadata": {
        "id": "compatible-constant"
      },
      "source": [
        "Primeiro, quantize os atributos `'num_lab_procedures'` e `'num_medications'` em intervalos de 10 em 10. Não é necessário formatá-los como feito com `'age'`. Apenas troque os valores exatos por valores de dez em dez."
      ]
    },
    {
      "cell_type": "code",
      "execution_count": 777,
      "id": "listed-implementation",
      "metadata": {
        "id": "listed-implementation"
      },
      "outputs": [],
      "source": [
        "f = ['num_lab_procedures', 'num_medications']\n",
        "data[f] = 10 * np.ceil(data[f] / 10)"
      ]
    },
    {
      "cell_type": "markdown",
      "id": "passive-bones",
      "metadata": {
        "id": "passive-bones"
      },
      "source": [
        "Observe que todos os valores no intervalo $[0, 10]$ foram representados como `10.0`, valores no intervalo $[11, 20]$ foram representados como `20.0` e assim por diante:"
      ]
    },
    {
      "cell_type": "code",
      "execution_count": 778,
      "id": "global-functionality",
      "metadata": {
        "id": "global-functionality",
        "colab": {
          "base_uri": "https://localhost:8080/",
          "height": 424
        },
        "outputId": "3050634e-85bd-4157-fcb3-90f6d4a10161"
      },
      "outputs": [
        {
          "output_type": "execute_result",
          "data": {
            "text/plain": [
              "        num_lab_procedures  num_medications\n",
              "0                     50.0             10.0\n",
              "1                     60.0             20.0\n",
              "2                     20.0             20.0\n",
              "3                     50.0             20.0\n",
              "4                     60.0             10.0\n",
              "...                    ...              ...\n",
              "101761                60.0             20.0\n",
              "101762                40.0             20.0\n",
              "101763                60.0             10.0\n",
              "101764                50.0             30.0\n",
              "101765                20.0             10.0\n",
              "\n",
              "[101766 rows x 2 columns]"
            ],
            "text/html": [
              "\n",
              "  <div id=\"df-668db496-afaf-454e-bfb6-070819d46e0e\" class=\"colab-df-container\">\n",
              "    <div>\n",
              "<style scoped>\n",
              "    .dataframe tbody tr th:only-of-type {\n",
              "        vertical-align: middle;\n",
              "    }\n",
              "\n",
              "    .dataframe tbody tr th {\n",
              "        vertical-align: top;\n",
              "    }\n",
              "\n",
              "    .dataframe thead th {\n",
              "        text-align: right;\n",
              "    }\n",
              "</style>\n",
              "<table border=\"1\" class=\"dataframe\">\n",
              "  <thead>\n",
              "    <tr style=\"text-align: right;\">\n",
              "      <th></th>\n",
              "      <th>num_lab_procedures</th>\n",
              "      <th>num_medications</th>\n",
              "    </tr>\n",
              "  </thead>\n",
              "  <tbody>\n",
              "    <tr>\n",
              "      <th>0</th>\n",
              "      <td>50.0</td>\n",
              "      <td>10.0</td>\n",
              "    </tr>\n",
              "    <tr>\n",
              "      <th>1</th>\n",
              "      <td>60.0</td>\n",
              "      <td>20.0</td>\n",
              "    </tr>\n",
              "    <tr>\n",
              "      <th>2</th>\n",
              "      <td>20.0</td>\n",
              "      <td>20.0</td>\n",
              "    </tr>\n",
              "    <tr>\n",
              "      <th>3</th>\n",
              "      <td>50.0</td>\n",
              "      <td>20.0</td>\n",
              "    </tr>\n",
              "    <tr>\n",
              "      <th>4</th>\n",
              "      <td>60.0</td>\n",
              "      <td>10.0</td>\n",
              "    </tr>\n",
              "    <tr>\n",
              "      <th>...</th>\n",
              "      <td>...</td>\n",
              "      <td>...</td>\n",
              "    </tr>\n",
              "    <tr>\n",
              "      <th>101761</th>\n",
              "      <td>60.0</td>\n",
              "      <td>20.0</td>\n",
              "    </tr>\n",
              "    <tr>\n",
              "      <th>101762</th>\n",
              "      <td>40.0</td>\n",
              "      <td>20.0</td>\n",
              "    </tr>\n",
              "    <tr>\n",
              "      <th>101763</th>\n",
              "      <td>60.0</td>\n",
              "      <td>10.0</td>\n",
              "    </tr>\n",
              "    <tr>\n",
              "      <th>101764</th>\n",
              "      <td>50.0</td>\n",
              "      <td>30.0</td>\n",
              "    </tr>\n",
              "    <tr>\n",
              "      <th>101765</th>\n",
              "      <td>20.0</td>\n",
              "      <td>10.0</td>\n",
              "    </tr>\n",
              "  </tbody>\n",
              "</table>\n",
              "<p>101766 rows × 2 columns</p>\n",
              "</div>\n",
              "    <div class=\"colab-df-buttons\">\n",
              "\n",
              "  <div class=\"colab-df-container\">\n",
              "    <button class=\"colab-df-convert\" onclick=\"convertToInteractive('df-668db496-afaf-454e-bfb6-070819d46e0e')\"\n",
              "            title=\"Convert this dataframe to an interactive table.\"\n",
              "            style=\"display:none;\">\n",
              "\n",
              "  <svg xmlns=\"http://www.w3.org/2000/svg\" height=\"24px\" viewBox=\"0 -960 960 960\">\n",
              "    <path d=\"M120-120v-720h720v720H120Zm60-500h600v-160H180v160Zm220 220h160v-160H400v160Zm0 220h160v-160H400v160ZM180-400h160v-160H180v160Zm440 0h160v-160H620v160ZM180-180h160v-160H180v160Zm440 0h160v-160H620v160Z\"/>\n",
              "  </svg>\n",
              "    </button>\n",
              "\n",
              "  <style>\n",
              "    .colab-df-container {\n",
              "      display:flex;\n",
              "      gap: 12px;\n",
              "    }\n",
              "\n",
              "    .colab-df-convert {\n",
              "      background-color: #E8F0FE;\n",
              "      border: none;\n",
              "      border-radius: 50%;\n",
              "      cursor: pointer;\n",
              "      display: none;\n",
              "      fill: #1967D2;\n",
              "      height: 32px;\n",
              "      padding: 0 0 0 0;\n",
              "      width: 32px;\n",
              "    }\n",
              "\n",
              "    .colab-df-convert:hover {\n",
              "      background-color: #E2EBFA;\n",
              "      box-shadow: 0px 1px 2px rgba(60, 64, 67, 0.3), 0px 1px 3px 1px rgba(60, 64, 67, 0.15);\n",
              "      fill: #174EA6;\n",
              "    }\n",
              "\n",
              "    .colab-df-buttons div {\n",
              "      margin-bottom: 4px;\n",
              "    }\n",
              "\n",
              "    [theme=dark] .colab-df-convert {\n",
              "      background-color: #3B4455;\n",
              "      fill: #D2E3FC;\n",
              "    }\n",
              "\n",
              "    [theme=dark] .colab-df-convert:hover {\n",
              "      background-color: #434B5C;\n",
              "      box-shadow: 0px 1px 3px 1px rgba(0, 0, 0, 0.15);\n",
              "      filter: drop-shadow(0px 1px 2px rgba(0, 0, 0, 0.3));\n",
              "      fill: #FFFFFF;\n",
              "    }\n",
              "  </style>\n",
              "\n",
              "    <script>\n",
              "      const buttonEl =\n",
              "        document.querySelector('#df-668db496-afaf-454e-bfb6-070819d46e0e button.colab-df-convert');\n",
              "      buttonEl.style.display =\n",
              "        google.colab.kernel.accessAllowed ? 'block' : 'none';\n",
              "\n",
              "      async function convertToInteractive(key) {\n",
              "        const element = document.querySelector('#df-668db496-afaf-454e-bfb6-070819d46e0e');\n",
              "        const dataTable =\n",
              "          await google.colab.kernel.invokeFunction('convertToInteractive',\n",
              "                                                    [key], {});\n",
              "        if (!dataTable) return;\n",
              "\n",
              "        const docLinkHtml = 'Like what you see? Visit the ' +\n",
              "          '<a target=\"_blank\" href=https://colab.research.google.com/notebooks/data_table.ipynb>data table notebook</a>'\n",
              "          + ' to learn more about interactive tables.';\n",
              "        element.innerHTML = '';\n",
              "        dataTable['output_type'] = 'display_data';\n",
              "        await google.colab.output.renderOutput(dataTable, element);\n",
              "        const docLink = document.createElement('div');\n",
              "        docLink.innerHTML = docLinkHtml;\n",
              "        element.appendChild(docLink);\n",
              "      }\n",
              "    </script>\n",
              "  </div>\n",
              "\n",
              "\n",
              "<div id=\"df-571cb2a1-436f-436c-8c10-5e75af91d8ad\">\n",
              "  <button class=\"colab-df-quickchart\" onclick=\"quickchart('df-571cb2a1-436f-436c-8c10-5e75af91d8ad')\"\n",
              "            title=\"Suggest charts\"\n",
              "            style=\"display:none;\">\n",
              "\n",
              "<svg xmlns=\"http://www.w3.org/2000/svg\" height=\"24px\"viewBox=\"0 0 24 24\"\n",
              "     width=\"24px\">\n",
              "    <g>\n",
              "        <path d=\"M19 3H5c-1.1 0-2 .9-2 2v14c0 1.1.9 2 2 2h14c1.1 0 2-.9 2-2V5c0-1.1-.9-2-2-2zM9 17H7v-7h2v7zm4 0h-2V7h2v10zm4 0h-2v-4h2v4z\"/>\n",
              "    </g>\n",
              "</svg>\n",
              "  </button>\n",
              "\n",
              "<style>\n",
              "  .colab-df-quickchart {\n",
              "      --bg-color: #E8F0FE;\n",
              "      --fill-color: #1967D2;\n",
              "      --hover-bg-color: #E2EBFA;\n",
              "      --hover-fill-color: #174EA6;\n",
              "      --disabled-fill-color: #AAA;\n",
              "      --disabled-bg-color: #DDD;\n",
              "  }\n",
              "\n",
              "  [theme=dark] .colab-df-quickchart {\n",
              "      --bg-color: #3B4455;\n",
              "      --fill-color: #D2E3FC;\n",
              "      --hover-bg-color: #434B5C;\n",
              "      --hover-fill-color: #FFFFFF;\n",
              "      --disabled-bg-color: #3B4455;\n",
              "      --disabled-fill-color: #666;\n",
              "  }\n",
              "\n",
              "  .colab-df-quickchart {\n",
              "    background-color: var(--bg-color);\n",
              "    border: none;\n",
              "    border-radius: 50%;\n",
              "    cursor: pointer;\n",
              "    display: none;\n",
              "    fill: var(--fill-color);\n",
              "    height: 32px;\n",
              "    padding: 0;\n",
              "    width: 32px;\n",
              "  }\n",
              "\n",
              "  .colab-df-quickchart:hover {\n",
              "    background-color: var(--hover-bg-color);\n",
              "    box-shadow: 0 1px 2px rgba(60, 64, 67, 0.3), 0 1px 3px 1px rgba(60, 64, 67, 0.15);\n",
              "    fill: var(--button-hover-fill-color);\n",
              "  }\n",
              "\n",
              "  .colab-df-quickchart-complete:disabled,\n",
              "  .colab-df-quickchart-complete:disabled:hover {\n",
              "    background-color: var(--disabled-bg-color);\n",
              "    fill: var(--disabled-fill-color);\n",
              "    box-shadow: none;\n",
              "  }\n",
              "\n",
              "  .colab-df-spinner {\n",
              "    border: 2px solid var(--fill-color);\n",
              "    border-color: transparent;\n",
              "    border-bottom-color: var(--fill-color);\n",
              "    animation:\n",
              "      spin 1s steps(1) infinite;\n",
              "  }\n",
              "\n",
              "  @keyframes spin {\n",
              "    0% {\n",
              "      border-color: transparent;\n",
              "      border-bottom-color: var(--fill-color);\n",
              "      border-left-color: var(--fill-color);\n",
              "    }\n",
              "    20% {\n",
              "      border-color: transparent;\n",
              "      border-left-color: var(--fill-color);\n",
              "      border-top-color: var(--fill-color);\n",
              "    }\n",
              "    30% {\n",
              "      border-color: transparent;\n",
              "      border-left-color: var(--fill-color);\n",
              "      border-top-color: var(--fill-color);\n",
              "      border-right-color: var(--fill-color);\n",
              "    }\n",
              "    40% {\n",
              "      border-color: transparent;\n",
              "      border-right-color: var(--fill-color);\n",
              "      border-top-color: var(--fill-color);\n",
              "    }\n",
              "    60% {\n",
              "      border-color: transparent;\n",
              "      border-right-color: var(--fill-color);\n",
              "    }\n",
              "    80% {\n",
              "      border-color: transparent;\n",
              "      border-right-color: var(--fill-color);\n",
              "      border-bottom-color: var(--fill-color);\n",
              "    }\n",
              "    90% {\n",
              "      border-color: transparent;\n",
              "      border-bottom-color: var(--fill-color);\n",
              "    }\n",
              "  }\n",
              "</style>\n",
              "\n",
              "  <script>\n",
              "    async function quickchart(key) {\n",
              "      const quickchartButtonEl =\n",
              "        document.querySelector('#' + key + ' button');\n",
              "      quickchartButtonEl.disabled = true;  // To prevent multiple clicks.\n",
              "      quickchartButtonEl.classList.add('colab-df-spinner');\n",
              "      try {\n",
              "        const charts = await google.colab.kernel.invokeFunction(\n",
              "            'suggestCharts', [key], {});\n",
              "      } catch (error) {\n",
              "        console.error('Error during call to suggestCharts:', error);\n",
              "      }\n",
              "      quickchartButtonEl.classList.remove('colab-df-spinner');\n",
              "      quickchartButtonEl.classList.add('colab-df-quickchart-complete');\n",
              "    }\n",
              "    (() => {\n",
              "      let quickchartButtonEl =\n",
              "        document.querySelector('#df-571cb2a1-436f-436c-8c10-5e75af91d8ad button');\n",
              "      quickchartButtonEl.style.display =\n",
              "        google.colab.kernel.accessAllowed ? 'block' : 'none';\n",
              "    })();\n",
              "  </script>\n",
              "</div>\n",
              "    </div>\n",
              "  </div>\n"
            ],
            "application/vnd.google.colaboratory.intrinsic+json": {
              "type": "dataframe"
            }
          },
          "metadata": {},
          "execution_count": 778
        }
      ],
      "source": [
        "data[['num_lab_procedures', 'num_medications']]"
      ]
    },
    {
      "cell_type": "code",
      "execution_count": 779,
      "id": "heard-impression",
      "metadata": {
        "id": "heard-impression",
        "colab": {
          "base_uri": "https://localhost:8080/"
        },
        "outputId": "ee7ec2af-7a87-4e70-e748-d0bcb8befd2c"
      },
      "outputs": [
        {
          "output_type": "execute_result",
          "data": {
            "text/plain": [
              "num_lab_procedures\n",
              "50.0     22249\n",
              "40.0     18084\n",
              "60.0     17817\n",
              "70.0     12259\n",
              "30.0      9665\n",
              "10.0      8383\n",
              "20.0      6153\n",
              "80.0      5216\n",
              "90.0      1513\n",
              "100.0      363\n",
              "110.0       50\n",
              "120.0       10\n",
              "130.0        3\n",
              "140.0        1\n",
              "Name: count, dtype: int64"
            ]
          },
          "metadata": {},
          "execution_count": 779
        }
      ],
      "source": [
        "data['num_lab_procedures'].value_counts()"
      ]
    },
    {
      "cell_type": "code",
      "execution_count": 780,
      "id": "aboriginal-layer",
      "metadata": {
        "id": "aboriginal-layer",
        "colab": {
          "base_uri": "https://localhost:8080/"
        },
        "outputId": "ff98832f-2d9f-4acd-9dc6-d2f9b9bd6f4e"
      },
      "outputs": [
        {
          "output_type": "execute_result",
          "data": {
            "text/plain": [
              "num_medications\n",
              "20.0    52025\n",
              "10.0    25861\n",
              "30.0    18643\n",
              "40.0     3876\n",
              "50.0      931\n",
              "60.0      333\n",
              "70.0       89\n",
              "80.0        7\n",
              "90.0        1\n",
              "Name: count, dtype: int64"
            ]
          },
          "metadata": {},
          "execution_count": 780
        }
      ],
      "source": [
        "data['num_medications'].value_counts()"
      ]
    },
    {
      "cell_type": "markdown",
      "id": "tender-lambda",
      "metadata": {
        "id": "tender-lambda"
      },
      "source": [
        "Os atributos `['number_outpatient', 'number_emergency', 'number_inpatient', 'number_diagnoses']` merecem atenção especial. Vamos olhar seus histogramas novamente."
      ]
    },
    {
      "cell_type": "code",
      "execution_count": 781,
      "id": "swedish-appraisal",
      "metadata": {
        "id": "swedish-appraisal",
        "colab": {
          "base_uri": "https://localhost:8080/",
          "height": 802
        },
        "outputId": "01e66cd9-d24a-4b72-99d9-76cd7c51ca10"
      },
      "outputs": [
        {
          "output_type": "display_data",
          "data": {
            "text/plain": [
              "<Figure size 1600x1000 with 4 Axes>"
            ],
            "image/png": "[encoded data removed]"
          },
          "metadata": {}
        }
      ],
      "source": [
        "special_features = ['number_outpatient', 'number_emergency', 'number_inpatient', 'number_diagnoses']\n",
        "data[special_features].hist(figsize=(16, 10));"
      ]
    },
    {
      "cell_type": "markdown",
      "id": "manufactured-payday",
      "metadata": {
        "id": "manufactured-payday"
      },
      "source": [
        "A distribuição é muito desigual. Assim fica difícil enxergar os histogramas.\n",
        "\n",
        "Podemos visualizar melhor os dados se plotarmos o histograma em escala logarítmica. Para isso, precisamos manipular um pouquinho as figuras produzidas pelo PyPlot. O código está abaixo com comentários. Você pode estudar o código e quebrá-lo em partes para explorar o que ele faz e o que é retornado em cada comando."
      ]
    },
    {
      "cell_type": "code",
      "execution_count": 782,
      "id": "crude-evolution",
      "metadata": {
        "id": "crude-evolution"
      },
      "outputs": [],
      "source": [
        "# Importa o PyPlot\n",
        "import matplotlib.pyplot as plt"
      ]
    },
    {
      "cell_type": "code",
      "execution_count": 784,
      "id": "breathing-atlantic",
      "metadata": {
        "colab": {
          "base_uri": "https://localhost:8080/",
          "height": 819
        },
        "id": "breathing-atlantic",
        "outputId": "51fc0d26-ed9a-4781-9192-344d53fecfa9"
      },
      "outputs": [
        {
          "output_type": "display_data",
          "data": {
            "text/plain": [
              "<Figure size 1600x1000 with 4 Axes>"
            ],
            "image/png": "[encoded data removed]"
          },
          "metadata": {}
        }
      ],
      "source": [
        "# Cria um \"subplot\" com duas linhas e duas colunas. No exemplo anterior\n",
        "# o Pandas fez isso automaticamente, mas agora queremos ter acesso aos\n",
        "# objetos que representam os gráficos para podermos alterar o eixo y.\n",
        "#\n",
        "# O plt.subplots() retorna dois valores. O primeiro representa a figura\n",
        "# e o segundo representa os eixos que queremos manipular\n",
        "_, ax = plt.subplots(2, 2, figsize=(16, 10));\n",
        "\n",
        "# Usamos o método hist() do própio data frame, especificando onde\n",
        "# estão os eixos nos quais ele deve desenhar os histogramas\n",
        "data[special_features].hist(ax=ax, figsize=(16, 10));\n",
        "\n",
        "# Agora vamos em cada eixo e definimos a escala y como logarítmica\n",
        "for plot_row in range(2):\n",
        "    for plot_col in range(2):\n",
        "        ax[plot_row][plot_col].set_yscale('log');"
      ]
    },
    {
      "cell_type": "markdown",
      "id": "expanded-washer",
      "metadata": {
        "id": "expanded-washer"
      },
      "source": [
        "Aqui a decisão será um pouco mais arbitrária. Vamos tentar fazer julgamento desses atributos:\n",
        "\n",
        "- `number_outpatient`: quantas vezes o paciente foi ao hospital no ano anterior;\n",
        "- `number_inpatient`: quantas internações (pelo menos um dia) o paciente teve no ano anterior;\n",
        "- `number_emergency`: quantas vezes o paciente precisou de atendimento de urgência;\n",
        "- `number_diagnosis`: quantos diagnósticos o paciente tem registrados no sistema.\n",
        "\n"
      ]
    },
    {
      "cell_type": "markdown",
      "id": "departmental-ethics",
      "metadata": {
        "id": "departmental-ethics"
      },
      "source": [
        "Para os três primeiros, vamos converter na seguinte escala:\n",
        "\n",
        "| Intervalo original ||  Valor transformado || Significado |\n",
        "| - | - | :-: | - | :- |\n",
        "| $[0]$ || `'0'` || Nenhuma ocorrência |\n",
        "| $[1, 11]$ || `'<1'` || Menos de uma por mês |\n",
        "| $[12, 23]$ || `'1-2'` || Ao menos uma por mês, menos que duas|\n",
        "| $[24, \\infty)$ || `'2+'` || Duas ou mais ocorrências or mês |"
      ]
    },
    {
      "cell_type": "markdown",
      "id": "c0170f50",
      "metadata": {
        "id": "c0170f50"
      },
      "source": [
        "Isso pode ser feito com `pd.cut()`. Ela recebe como entrada uma série e uma lista de intervalos e retorna uma série com os valores convertidos para esses intervalos. É quase um \"histograma inverso\". Em vez de analisar os valores e contar quantos caem em cada *bin*, ele força os valores a serem colocados em cada *bin*."
      ]
    },
    {
      "cell_type": "markdown",
      "id": "8fe9f939",
      "metadata": {
        "id": "8fe9f939"
      },
      "source": [
        "---------\n",
        "**Uma demonstração**"
      ]
    },
    {
      "cell_type": "markdown",
      "id": "opposed-process",
      "metadata": {
        "id": "opposed-process"
      },
      "source": [
        "Para ilustrar, veja a seguinte série de exemplo, que possui alguns valores compatíveis com os intervalos dos atributos que estamos querendo quantizar."
      ]
    },
    {
      "cell_type": "code",
      "execution_count": 786,
      "id": "stopped-revelation",
      "metadata": {
        "colab": {
          "base_uri": "https://localhost:8080/"
        },
        "id": "stopped-revelation",
        "outputId": "faf82390-d078-452d-bf68-342674ed8fb5"
      },
      "outputs": [
        {
          "output_type": "execute_result",
          "data": {
            "text/plain": [
              "0      0\n",
              "1      1\n",
              "2      2\n",
              "3      3\n",
              "4      4\n",
              "5      5\n",
              "6      6\n",
              "7      7\n",
              "8      8\n",
              "9      9\n",
              "10    10\n",
              "11    11\n",
              "12    12\n",
              "13    13\n",
              "14    14\n",
              "15    15\n",
              "16    16\n",
              "17    17\n",
              "18    18\n",
              "19    19\n",
              "20    20\n",
              "21    21\n",
              "22    22\n",
              "23    23\n",
              "24    24\n",
              "25    25\n",
              "26    26\n",
              "27    27\n",
              "28    28\n",
              "29    29\n",
              "dtype: int64"
            ]
          },
          "metadata": {},
          "execution_count": 786
        }
      ],
      "source": [
        "serie = pd.Series(range(30))\n",
        "serie"
      ]
    },
    {
      "cell_type": "markdown",
      "id": "liable-indianapolis",
      "metadata": {
        "id": "liable-indianapolis"
      },
      "source": [
        "Vamos empregar `pd.cut()` nessa série com os pontos de corte acima especificados."
      ]
    },
    {
      "cell_type": "code",
      "execution_count": 787,
      "id": "polyphonic-thompson",
      "metadata": {
        "colab": {
          "base_uri": "https://localhost:8080/"
        },
        "id": "polyphonic-thompson",
        "outputId": "3d4c1112-8afe-4223-bf66-5e15344e0b11"
      },
      "outputs": [
        {
          "output_type": "execute_result",
          "data": {
            "text/plain": [
              "0       [0, 1)\n",
              "1      [1, 12)\n",
              "2      [1, 12)\n",
              "3      [1, 12)\n",
              "4      [1, 12)\n",
              "5      [1, 12)\n",
              "6      [1, 12)\n",
              "7      [1, 12)\n",
              "8      [1, 12)\n",
              "9      [1, 12)\n",
              "10     [1, 12)\n",
              "11     [1, 12)\n",
              "12    [12, 24)\n",
              "13    [12, 24)\n",
              "14    [12, 24)\n",
              "15    [12, 24)\n",
              "16    [12, 24)\n",
              "17    [12, 24)\n",
              "18    [12, 24)\n",
              "19    [12, 24)\n",
              "20    [12, 24)\n",
              "21    [12, 24)\n",
              "22    [12, 24)\n",
              "23    [12, 24)\n",
              "24    [24, 30)\n",
              "25    [24, 30)\n",
              "26    [24, 30)\n",
              "27    [24, 30)\n",
              "28    [24, 30)\n",
              "29    [24, 30)\n",
              "dtype: category\n",
              "Categories (4, interval[int64, left]): [[0, 1) < [1, 12) < [12, 24) < [24, 30)]"
            ]
          },
          "metadata": {},
          "execution_count": 787
        }
      ],
      "source": [
        "pd.cut(serie, bins=[0, 1, 12, 24, serie.max()+1], right=False)"
      ]
    },
    {
      "cell_type": "markdown",
      "id": "fe50ac0f",
      "metadata": {
        "id": "fe50ac0f"
      },
      "source": [
        "O parâmetro `right=False` é usado para indicar que não queremos incluir o valor à direita, de modo que cada intervalo é fechado à esquerda e aberto à direita (o padrão é `right=True`).\n",
        "\n",
        "Desse modo, o primeiro intrvalo definido pelo Pandas, `[0, 1)`, corresponde a “nenhuma ocorrência”. O segundo, `[1, 12)`, corresponde a “menos de uma ocorrência por mês” e assim por diante. O último intervalo precisa ser especificado com base no maior valor presente na série.\n",
        "\n",
        "(*fim da demonstração*)\n",
        "\n",
        "---------"
      ]
    },
    {
      "cell_type": "markdown",
      "id": "acknowledged-gates",
      "metadata": {
        "id": "acknowledged-gates"
      },
      "source": [
        "Com esse método, podemos quantizar cada um dos atributos anteriormente mencionados. Porém, em vez de deixar o Pandas especificar rótulos com base nos intervalos,  vamos especificar os rótulos como na tabela acima."
      ]
    },
    {
      "cell_type": "code",
      "execution_count": 789,
      "id": "thrown-gamma",
      "metadata": {
        "id": "thrown-gamma"
      },
      "outputs": [],
      "source": [
        "quantize_features =  ['number_outpatient', 'number_emergency', 'number_inpatient']\n",
        "for f in quantize_features:\n",
        "    lim = max(data[f].max() +1, 25)\n",
        "    data[f] = pd.cut(data[f], bins=[0, 1, 12, 24, lim], labels=['0', '<1', '1-2', '2+'], right=False)"
      ]
    },
    {
      "cell_type": "markdown",
      "id": "intermediate-snapshot",
      "metadata": {
        "id": "intermediate-snapshot"
      },
      "source": [
        "Distribuição final dos valores:"
      ]
    },
    {
      "cell_type": "code",
      "execution_count": 790,
      "id": "straight-valuable",
      "metadata": {
        "colab": {
          "base_uri": "https://localhost:8080/"
        },
        "id": "straight-valuable",
        "outputId": "9b53e21a-2a02-4f94-caae-1da98580094f"
      },
      "outputs": [
        {
          "output_type": "stream",
          "name": "stdout",
          "text": [
            "number_outpatient\n",
            "0      85027\n",
            "<1     16553\n",
            "1-2      161\n",
            "2+        25\n",
            "Name: count, dtype: int64\n",
            "\n",
            "number_emergency\n",
            "0      90383\n",
            "<1     11317\n",
            "1-2       54\n",
            "2+        12\n",
            "Name: count, dtype: int64\n",
            "\n",
            "number_inpatient\n",
            "0      67630\n",
            "<1     34052\n",
            "1-2       84\n",
            "2+         0\n",
            "Name: count, dtype: int64\n",
            "\n"
          ]
        }
      ],
      "source": [
        "for f in quantize_features:\n",
        "    print(data[f].value_counts())\n",
        "    print()"
      ]
    },
    {
      "cell_type": "markdown",
      "id": "another-terror",
      "metadata": {
        "id": "another-terror"
      },
      "source": [
        "Existe uma última coisa que não fizemos neste *notebook*, que é filtrar instâncias com base em algum atributo. Às vezes é necessário descartar *outliers* ou outros valores fora do padrão.\n",
        "\n",
        "Novamente, isso tipicamente exige conhecimento do domínio e uma análise estatística dos atributos. Como um exercício, vamos supor, com base no histograma, que todas as instâncias com valores acima de 10 no atributo `'number_diagnoses'` são *outliers*  e vamos descartá-las."
      ]
    },
    {
      "cell_type": "markdown",
      "id": "contrary-wayne",
      "metadata": {
        "id": "contrary-wayne"
      },
      "source": [
        "#### Exercício 19\n",
        "\n",
        "> Remova do *data frame* todas as instâncias que possuem valor maior que 10 para o atributo `'number_diagnoses'`.\n",
        ">\n",
        "> *Dica*: você pode tentar *remover* os exemplos que possuem valor maior que 10 **ou** você pode gerar uma cópia contendo apenas os exemplos com valor menor-ou-igual a 10."
      ]
    },
    {
      "cell_type": "code",
      "execution_count": 791,
      "id": "tribal-giant",
      "metadata": {
        "id": "tribal-giant"
      },
      "outputs": [],
      "source": [
        "data = data[data['number_diagnoses'] <= 10]"
      ]
    },
    {
      "cell_type": "markdown",
      "id": "tamil-beach",
      "metadata": {
        "id": "tamil-beach"
      },
      "source": [
        "Se você verificou antes de fazer a remoção, descobriu que existem apenas 98 instâncias com esses valores. O *data frame* resultante deve ter exatamente 101.668 instâncias."
      ]
    },
    {
      "cell_type": "code",
      "execution_count": 792,
      "id": "spiritual-basement",
      "metadata": {
        "colab": {
          "base_uri": "https://localhost:8080/"
        },
        "id": "spiritual-basement",
        "outputId": "94a820b9-ece0-49ec-a4b3-30db1191f4be"
      },
      "outputs": [
        {
          "output_type": "stream",
          "name": "stdout",
          "text": [
            "Seu data frame contém 101.668 exemplos, como esperado.\n"
          ]
        }
      ],
      "source": [
        "if len(data) != 101668:\n",
        "    print('Seu data frame não contém o número certo de exemplos.')\n",
        "    print('Deveriam ser 101.668, mas são', len(data))\n",
        "else:\n",
        "    print('Seu data frame contém 101.668 exemplos, como esperado.')"
      ]
    },
    {
      "cell_type": "markdown",
      "id": "sealed-receipt",
      "metadata": {
        "id": "sealed-receipt"
      },
      "source": [
        "## Separação e codificação dos dados"
      ]
    },
    {
      "cell_type": "markdown",
      "id": "split-brush",
      "metadata": {
        "id": "split-brush"
      },
      "source": [
        "Finalmente, chegamos ao ponto de treinar e testar o modelo!!\n",
        "\n",
        "Novamente, nesta atividade você deverá fazer o procedimento como uma “caixa preta“, sem procurar entender exatamente o que está acontecendo. Depois tudo ficará mais claro.\n",
        "\n",
        "Os passo serão os seguintes.\n",
        "\n",
        "1. Separar o *data frame* em uma matriz que contém os atributos de entrada e um vetor que contém o atributo de saída;\n",
        "1. Utilizar `OrdinalEncoder` para codificar todos as strings  em inteiros;\n",
        "1. Separar exemplos em um conjunto de treino e um conjunto de teste;\n",
        "1. Treinar e testar o modelo;\n",
        "1. Calcular a taxa de acerto."
      ]
    },
    {
      "cell_type": "markdown",
      "id": "63c9c611",
      "metadata": {
        "id": "63c9c611"
      },
      "source": [
        "Vamos começar separando os exemplos em uma matriz de características e um vetor de atributos."
      ]
    },
    {
      "cell_type": "markdown",
      "id": "extra-dispatch",
      "metadata": {
        "id": "extra-dispatch"
      },
      "source": [
        "#### Exercício 20\n",
        "\n",
        "> Execute as células abaixo e separe os dados em matriz de características (`X`) e vetor de atributos (`y`)."
      ]
    },
    {
      "cell_type": "code",
      "execution_count": 793,
      "id": "integral-charlotte",
      "metadata": {
        "id": "integral-charlotte"
      },
      "outputs": [],
      "source": [
        "# Seleciona todas as colunas, exceto a última\n",
        "X = data.iloc[:, :-1]"
      ]
    },
    {
      "cell_type": "markdown",
      "id": "three-microphone",
      "metadata": {
        "id": "three-microphone"
      },
      "source": [
        "A matriz `X` deve ter 101.668 linhas e 30 colunas."
      ]
    },
    {
      "cell_type": "code",
      "execution_count": 794,
      "id": "internal-martin",
      "metadata": {
        "colab": {
          "base_uri": "https://localhost:8080/"
        },
        "id": "internal-martin",
        "outputId": "eaca1e76-f43d-45fa-ba73-602f94a07b60"
      },
      "outputs": [
        {
          "output_type": "execute_result",
          "data": {
            "text/plain": [
              "(101668, 30)"
            ]
          },
          "metadata": {},
          "execution_count": 794
        }
      ],
      "source": [
        "X.shape"
      ]
    },
    {
      "cell_type": "markdown",
      "id": "616f9871",
      "metadata": {
        "id": "616f9871"
      },
      "source": [
        "Seleciona a última coluna (classe)"
      ]
    },
    {
      "cell_type": "code",
      "execution_count": 795,
      "id": "196f0b5b",
      "metadata": {
        "id": "196f0b5b"
      },
      "outputs": [],
      "source": [
        "y = data.iloc[:, -1]"
      ]
    },
    {
      "cell_type": "markdown",
      "id": "cardiovascular-supplier",
      "metadata": {
        "id": "cardiovascular-supplier"
      },
      "source": [
        "O vetor `y` deve conter 101.668 elementos."
      ]
    },
    {
      "cell_type": "code",
      "execution_count": 796,
      "id": "turned-compiler",
      "metadata": {
        "colab": {
          "base_uri": "https://localhost:8080/"
        },
        "id": "turned-compiler",
        "outputId": "63fb84a9-e808-4b92-c1ed-5683d555c3f2"
      },
      "outputs": [
        {
          "output_type": "execute_result",
          "data": {
            "text/plain": [
              "(101668,)"
            ]
          },
          "metadata": {},
          "execution_count": 796
        }
      ],
      "source": [
        "y.shape"
      ]
    },
    {
      "cell_type": "markdown",
      "id": "35cc04e4",
      "metadata": {
        "id": "35cc04e4"
      },
      "source": [
        "Estamos quase lá.\n",
        "\n",
        "Porém o Scikit-Learn possui uma peculiaridade. Mesmo métodos que trabalham com valores categóricos exigem valores numéricos para trabalhar. Quer dizer, o `sklearn` não admite strings, apenas `float`s e `int`s.\n",
        "\n",
        "Se tivermos um atributo categórico representado com strings, ele precisa ser mapeado para valores inteiros. Por exemplo, tome a classe (`readmitted`). Um possível mapeamento para ela é o seguinte:\n",
        "\n",
        "| **Valor original** | **Valor mapeado** |\n",
        "| :- | :-|\n",
        "| `'<30'` | `0` |\n",
        "| `'>30'` | `1` |\n",
        "| `'NO'` | `2` |\n",
        "\n",
        "Isso pode ser feito com duas classes. Uma para matrizes, outra para vetores.\n",
        "\n",
        "- `OrdinalEncoder`: codifica as strings da matriz para valores numéricos;\n",
        "- `LabelEncoder`: codifica as strings do vetor para atributos numéricos.\n",
        "\n",
        "A codificação é feita em dois passos:\n",
        "\n",
        "1. O método `fit` é aplicado nos dados de treinamento para **aprender** a codificação\n",
        "1. O método `transform` é aplicado em todos os dados para **aplicar** a codificação"
      ]
    },
    {
      "cell_type": "markdown",
      "id": "incorrect-music",
      "metadata": {
        "id": "incorrect-music"
      },
      "source": [
        "#### Exercício 21\n",
        "\n",
        "> Execute as células abaixo para usar `OrdinalEncoder` com a matriz `X` e codificar as características."
      ]
    },
    {
      "cell_type": "code",
      "execution_count": 797,
      "id": "wanted-infection",
      "metadata": {
        "id": "wanted-infection"
      },
      "outputs": [],
      "source": [
        "from sklearn.preprocessing import OrdinalEncoder"
      ]
    },
    {
      "cell_type": "code",
      "execution_count": 798,
      "id": "facial-necessity",
      "metadata": {
        "id": "facial-necessity"
      },
      "outputs": [],
      "source": [
        "oe = OrdinalEncoder()"
      ]
    },
    {
      "cell_type": "code",
      "execution_count": 799,
      "id": "9ba50e17",
      "metadata": {
        "id": "9ba50e17"
      },
      "outputs": [],
      "source": [
        "oe.fit(X);"
      ]
    },
    {
      "cell_type": "code",
      "execution_count": 800,
      "id": "b9ab1563",
      "metadata": {
        "id": "b9ab1563"
      },
      "outputs": [],
      "source": [
        "X = oe.transform(X)"
      ]
    },
    {
      "cell_type": "markdown",
      "id": "ee77a5ec",
      "metadata": {
        "id": "ee77a5ec"
      },
      "source": [
        "Observe que agora a matriz `X` contém apenas valores numéricos:"
      ]
    },
    {
      "cell_type": "code",
      "execution_count": 802,
      "id": "c6f25628",
      "metadata": {
        "colab": {
          "base_uri": "https://localhost:8080/"
        },
        "id": "c6f25628",
        "outputId": "0b26ea04-78aa-46b2-d620-9bcd820bea97"
      },
      "outputs": [
        {
          "output_type": "execute_result",
          "data": {
            "text/plain": [
              "array([[2., 0., 0., ..., 1., 1., 0.],\n",
              "       [2., 0., 1., ..., 3., 0., 1.],\n",
              "       [0., 0., 2., ..., 1., 1., 1.],\n",
              "       ...,\n",
              "       [0., 0., 8., ..., 2., 1., 1.],\n",
              "       [2., 0., 8., ..., 3., 0., 1.],\n",
              "       [2., 1., 7., ..., 1., 1., 0.]])"
            ]
          },
          "metadata": {},
          "execution_count": 802
        }
      ],
      "source": [
        "X\n"
      ]
    },
    {
      "cell_type": "markdown",
      "id": "e41378a6",
      "metadata": {
        "id": "e41378a6"
      },
      "source": [
        "Se quisermos, podemos usar o método `inverse_transform` para recuperar as strings. A célula abaixo mostra os dados da primeira linha:"
      ]
    },
    {
      "cell_type": "code",
      "execution_count": 803,
      "id": "b79344d4",
      "metadata": {
        "colab": {
          "base_uri": "https://localhost:8080/"
        },
        "id": "b79344d4",
        "outputId": "4b9cc31d-53df-4f6e-a86d-de1670c1e023"
      },
      "outputs": [
        {
          "output_type": "execute_result",
          "data": {
            "text/plain": [
              "array([['Caucasian', 'Female', '[0-10)', 6, 25, 1, 1,\n",
              "        'Pediatrics-Endocrinology', 50.0, 0, 10.0, '0', '0', '0',\n",
              "        '250.83', '276', '250', 1, 'None', 'None', 'No', 'No', 'No',\n",
              "        'No', 'No', 'No', 'No', 'No', 'No', 'No']], dtype=object)"
            ]
          },
          "metadata": {},
          "execution_count": 803
        }
      ],
      "source": [
        "oe.inverse_transform([X[0]])"
      ]
    },
    {
      "cell_type": "markdown",
      "id": "15339e55",
      "metadata": {
        "id": "15339e55"
      },
      "source": [
        "Compare com a primeira linha do *data frame*:"
      ]
    },
    {
      "cell_type": "code",
      "execution_count": 804,
      "id": "6ceab4c6",
      "metadata": {
        "colab": {
          "base_uri": "https://localhost:8080/"
        },
        "id": "6ceab4c6",
        "outputId": "ea5eb105-3dcd-4ff6-9e1e-3ae9a6ef9dca"
      },
      "outputs": [
        {
          "output_type": "execute_result",
          "data": {
            "text/plain": [
              "race                                       Caucasian\n",
              "gender                                        Female\n",
              "age                                           [0-10)\n",
              "admission_type_id                                  6\n",
              "discharge_disposition_id                          25\n",
              "admission_source_id                                1\n",
              "time_in_hospital                                   1\n",
              "medical_specialty           Pediatrics-Endocrinology\n",
              "num_lab_procedures                              50.0\n",
              "num_procedures                                     0\n",
              "num_medications                                 10.0\n",
              "number_outpatient                                  0\n",
              "number_emergency                                   0\n",
              "number_inpatient                                   0\n",
              "diag_1                                        250.83\n",
              "diag_2                                           276\n",
              "diag_3                                           250\n",
              "number_diagnoses                                   1\n",
              "max_glu_serum                                   None\n",
              "A1Cresult                                       None\n",
              "metformin                                         No\n",
              "repaglinide                                       No\n",
              "glimepiride                                       No\n",
              "glipizide                                         No\n",
              "glyburide                                         No\n",
              "pioglitazone                                      No\n",
              "rosiglitazone                                     No\n",
              "insulin                                           No\n",
              "change                                            No\n",
              "diabetesMed                                       No\n",
              "readmitted                                        NO\n",
              "Name: 0, dtype: object"
            ]
          },
          "metadata": {},
          "execution_count": 804
        }
      ],
      "source": [
        "data.iloc[0]"
      ]
    },
    {
      "cell_type": "markdown",
      "id": "revised-offset",
      "metadata": {
        "id": "revised-offset"
      },
      "source": [
        "#### Exercício 22\n",
        "\n",
        "> Execute as células abaixo para usar `LabelEncoder` com o vetor `y` e codificar as strings da classe."
      ]
    },
    {
      "cell_type": "code",
      "execution_count": 805,
      "id": "derived-thumb",
      "metadata": {
        "id": "derived-thumb"
      },
      "outputs": [],
      "source": [
        "from sklearn.preprocessing import LabelEncoder"
      ]
    },
    {
      "cell_type": "code",
      "execution_count": 806,
      "id": "higher-setting",
      "metadata": {
        "id": "higher-setting"
      },
      "outputs": [],
      "source": [
        "le = LabelEncoder()"
      ]
    },
    {
      "cell_type": "code",
      "execution_count": 807,
      "id": "74f5f629",
      "metadata": {
        "id": "74f5f629"
      },
      "outputs": [],
      "source": [
        "le.fit(y);"
      ]
    },
    {
      "cell_type": "code",
      "execution_count": 808,
      "id": "94226de4",
      "metadata": {
        "id": "94226de4"
      },
      "outputs": [],
      "source": [
        "y = le.transform(y)"
      ]
    },
    {
      "cell_type": "markdown",
      "id": "cb7381f2",
      "metadata": {
        "id": "cb7381f2"
      },
      "source": [
        "A exemplo do caso anterior, repare que o vetor `y` contém apenas valores numéricos"
      ]
    },
    {
      "cell_type": "code",
      "execution_count": 809,
      "id": "316d88b0",
      "metadata": {
        "colab": {
          "base_uri": "https://localhost:8080/"
        },
        "id": "316d88b0",
        "outputId": "abca5dfc-be16-4423-e2dd-389c00d24f48"
      },
      "outputs": [
        {
          "output_type": "execute_result",
          "data": {
            "text/plain": [
              "array([2, 1, 2, ..., 2, 2, 2])"
            ]
          },
          "metadata": {},
          "execution_count": 809
        }
      ],
      "source": [
        "y"
      ]
    },
    {
      "cell_type": "markdown",
      "id": "3cc3a453",
      "metadata": {
        "id": "3cc3a453"
      },
      "source": [
        "Podemos usar `inverse_transform` para explorar o mapeamento:"
      ]
    },
    {
      "cell_type": "code",
      "execution_count": 810,
      "id": "7e0d3907",
      "metadata": {
        "colab": {
          "base_uri": "https://localhost:8080/"
        },
        "id": "7e0d3907",
        "outputId": "42fc312c-2397-4de9-addb-85e2dcf1ca48"
      },
      "outputs": [
        {
          "output_type": "execute_result",
          "data": {
            "text/plain": [
              "array(['<30', '>30', 'NO'], dtype=object)"
            ]
          },
          "metadata": {},
          "execution_count": 810
        }
      ],
      "source": [
        "le.inverse_transform([0, 1, 2])"
      ]
    },
    {
      "cell_type": "markdown",
      "id": "023566fa",
      "metadata": {
        "id": "023566fa"
      },
      "source": [
        "Agora vamos gerar os conjuntos de treinamento e de teste. Normalmente nós faríamos isso com uma técnica de reamostragem. Mas como ainda não estudamos esse conceito, vamos fazer o seguinte:\n",
        "\n",
        "1. Os primeiros 30 mil exemplos serão usados para teste\n",
        "1. O restante será usado para treinamento"
      ]
    },
    {
      "cell_type": "markdown",
      "id": "b226ea65",
      "metadata": {
        "id": "b226ea65"
      },
      "source": [
        "Primeiro, vamos selecionar 30 mil linhas da matriz `X` em uma matriz de teste:"
      ]
    },
    {
      "cell_type": "code",
      "execution_count": 811,
      "id": "346e5747",
      "metadata": {
        "id": "346e5747"
      },
      "outputs": [],
      "source": [
        "Xteste = X[:30000]"
      ]
    },
    {
      "cell_type": "markdown",
      "id": "7fd19f6b",
      "metadata": {
        "id": "7fd19f6b"
      },
      "source": [
        "E 30 mil valores do vetor `y` em um vetor de teste:"
      ]
    },
    {
      "cell_type": "code",
      "execution_count": 812,
      "id": "74ad6aaf",
      "metadata": {
        "id": "74ad6aaf"
      },
      "outputs": [],
      "source": [
        "yteste = y[:30000]"
      ]
    },
    {
      "cell_type": "markdown",
      "id": "muslim-comfort",
      "metadata": {
        "id": "muslim-comfort"
      },
      "source": [
        "#### Exercício 23\n",
        "\n",
        "> Selecione todas as linhas restantes da matriz `X` e do vetor `y` para treinamento."
      ]
    },
    {
      "cell_type": "code",
      "execution_count": 813,
      "id": "c5538364",
      "metadata": {
        "id": "c5538364"
      },
      "outputs": [],
      "source": [
        "Xtreino = X[30000:]"
      ]
    },
    {
      "cell_type": "code",
      "execution_count": 814,
      "id": "973bf2ec",
      "metadata": {
        "id": "973bf2ec"
      },
      "outputs": [],
      "source": [
        "ytreino = y[30000:]"
      ]
    },
    {
      "cell_type": "markdown",
      "id": "72372fd4",
      "metadata": {
        "id": "72372fd4"
      },
      "source": [
        "Agora vamos treinar o modelo.\n",
        "\n",
        "O Naive Bayes categórico está implementado no `sklearn` pela classe `sklearn.naive_bayes.CategoricalNB`.\n",
        "\n",
        "O procedimento é parecido com o que fizemos para os codificadores (`OrdinalEncoder` e `LabelEncoder`):\n",
        "\n",
        "1. Tomando cuidado de não misturar dados de treino e de teste, usaremos o método `fit` **no treino** para treinar o modelo\n",
        "1. Tomando cuidado de não misturar dados de treino e de teste, usaremos o método `predict` para testar o modelo"
      ]
    },
    {
      "cell_type": "markdown",
      "id": "loose-dublin",
      "metadata": {
        "id": "loose-dublin"
      },
      "source": [
        "#### Exercício 24\n",
        "\n",
        "> Estude e execute as células abaixo para treinar e testar o modelo."
      ]
    },
    {
      "cell_type": "markdown",
      "id": "d836a6b2",
      "metadata": {
        "id": "d836a6b2"
      },
      "source": [
        "1. Instanciaremos um objeto da classe `CategoricalNB`. Aqui seria o momento de definir os hiperparâmetros do modelo, mas vamos deixar os valores padrões do `sklearn` por enquanto."
      ]
    },
    {
      "cell_type": "code",
      "execution_count": 815,
      "id": "fatal-transition",
      "metadata": {
        "id": "fatal-transition"
      },
      "outputs": [],
      "source": [
        "from sklearn.naive_bayes import CategoricalNB"
      ]
    },
    {
      "cell_type": "code",
      "execution_count": 816,
      "id": "extensive-bonus",
      "metadata": {
        "id": "extensive-bonus"
      },
      "outputs": [],
      "source": [
        "clf = CategoricalNB()"
      ]
    },
    {
      "cell_type": "markdown",
      "id": "ea3b0e87",
      "metadata": {
        "id": "ea3b0e87"
      },
      "source": [
        "2. Vamos usar o método `fit` nos dados **de treino**. A palavra *fit* significa \"ajuste\". Ele *ajusta* o modelo aos dados, encontrando os parâmetros ideais para a nossa amostra. Isso é o **treinamento** do modelo."
      ]
    },
    {
      "cell_type": "code",
      "execution_count": 817,
      "id": "5e3495bf",
      "metadata": {
        "id": "5e3495bf"
      },
      "outputs": [],
      "source": [
        "clf.fit(Xtreino, ytreino);"
      ]
    },
    {
      "cell_type": "markdown",
      "id": "663344cf",
      "metadata": {
        "id": "663344cf"
      },
      "source": [
        "Observe que o método `fit` recebe dois argumentos: a matriz de entrada e o vetor de saída. Será sempre assim para classificadores, pois estamos trabalhando com aprendizado supervisionado. O algoritmo precisa saber qual é a classe correta para cada exemplo."
      ]
    },
    {
      "cell_type": "markdown",
      "id": "0336974f",
      "metadata": {
        "id": "0336974f"
      },
      "source": [
        "3. Vamos usar o método `predict` nos dados de teste. A palavra *predict*  significa \"prever\". Um modelo faz previsões. E o objetivo de modelos de classificação é justamente prever a classe correta para exemplos (idealmente) novos."
      ]
    },
    {
      "cell_type": "code",
      "execution_count": 818,
      "id": "5d60baab",
      "metadata": {
        "id": "5d60baab"
      },
      "outputs": [],
      "source": [
        "ypred = clf.predict(Xteste)"
      ]
    },
    {
      "cell_type": "markdown",
      "id": "500ef11e",
      "metadata": {
        "id": "500ef11e"
      },
      "source": [
        "Observe que o método `predict` só recebe um argumento, que é uma matriz de dados de entrada. O retorno desse método é a previsão."
      ]
    },
    {
      "cell_type": "markdown",
      "id": "fc175af0",
      "metadata": {
        "id": "fc175af0"
      },
      "source": [
        "A matriz de entrada (conjunto de teste) possui 30 mil linhas:"
      ]
    },
    {
      "cell_type": "code",
      "execution_count": 819,
      "id": "5044e254",
      "metadata": {
        "colab": {
          "base_uri": "https://localhost:8080/"
        },
        "id": "5044e254",
        "outputId": "9e58d952-bb68-409f-ac9c-b33e6e0a9a03"
      },
      "outputs": [
        {
          "output_type": "execute_result",
          "data": {
            "text/plain": [
              "30000"
            ]
          },
          "metadata": {},
          "execution_count": 819
        }
      ],
      "source": [
        "len(Xteste)"
      ]
    },
    {
      "cell_type": "markdown",
      "id": "6f34a35e",
      "metadata": {
        "id": "6f34a35e"
      },
      "source": [
        "A saída do método `predict` também possui 30 mil linhas:"
      ]
    },
    {
      "cell_type": "code",
      "execution_count": 820,
      "id": "1e8d01c1",
      "metadata": {
        "colab": {
          "base_uri": "https://localhost:8080/"
        },
        "id": "1e8d01c1",
        "outputId": "69484a2a-c78b-4975-bb8d-9472ea3caec3"
      },
      "outputs": [
        {
          "output_type": "execute_result",
          "data": {
            "text/plain": [
              "30000"
            ]
          },
          "metadata": {},
          "execution_count": 820
        }
      ],
      "source": [
        "len(ypred)"
      ]
    },
    {
      "cell_type": "markdown",
      "id": "05db3f25",
      "metadata": {
        "id": "05db3f25"
      },
      "source": [
        "Cada valor do vetor `ypred` é uma previsão para a linha respectiva da matriz `Xteste`. Vejamos... o primeiro exemplo do conjunto de treinamento, como vimos anteriormente, é uma menina caucasiana com menos de 10 anos:"
      ]
    },
    {
      "cell_type": "code",
      "execution_count": 821,
      "id": "fbf7bf94",
      "metadata": {
        "colab": {
          "base_uri": "https://localhost:8080/"
        },
        "id": "fbf7bf94",
        "outputId": "c156d7d2-a03d-4870-bc76-e99ac49b257f"
      },
      "outputs": [
        {
          "output_type": "execute_result",
          "data": {
            "text/plain": [
              "array([['Caucasian', 'Female', '[0-10)', 6, 25, 1, 1,\n",
              "        'Pediatrics-Endocrinology', 50.0, 0, 10.0, '0', '0', '0',\n",
              "        '250.83', '276', '250', 1, 'None', 'None', 'No', 'No', 'No',\n",
              "        'No', 'No', 'No', 'No', 'No', 'No', 'No']], dtype=object)"
            ]
          },
          "metadata": {},
          "execution_count": 821
        }
      ],
      "source": [
        "oe.inverse_transform([Xteste[0]])"
      ]
    },
    {
      "cell_type": "markdown",
      "id": "c6a67cbc",
      "metadata": {
        "id": "c6a67cbc"
      },
      "source": [
        "A classe correta desse paciente (de acordo com a nossa base) é `NO`:"
      ]
    },
    {
      "cell_type": "code",
      "execution_count": 822,
      "id": "5e6aebd0",
      "metadata": {
        "colab": {
          "base_uri": "https://localhost:8080/"
        },
        "id": "5e6aebd0",
        "outputId": "cf695a65-72b3-4d74-e613-6fa01cd93807"
      },
      "outputs": [
        {
          "output_type": "execute_result",
          "data": {
            "text/plain": [
              "array(['NO'], dtype=object)"
            ]
          },
          "metadata": {},
          "execution_count": 822
        }
      ],
      "source": [
        "le.inverse_transform([yteste[0]])"
      ]
    },
    {
      "cell_type": "markdown",
      "id": "c509d82a",
      "metadata": {
        "id": "c509d82a"
      },
      "source": [
        "A saída obtida pelo modelo está na primeira posição do vetor `ypred`:"
      ]
    },
    {
      "cell_type": "code",
      "execution_count": 823,
      "id": "22eaecec",
      "metadata": {
        "colab": {
          "base_uri": "https://localhost:8080/"
        },
        "id": "22eaecec",
        "outputId": "fe1a4d7d-d34d-4943-f251-86b2930594e9"
      },
      "outputs": [
        {
          "output_type": "execute_result",
          "data": {
            "text/plain": [
              "array(['NO'], dtype=object)"
            ]
          },
          "metadata": {},
          "execution_count": 823
        }
      ],
      "source": [
        "le.inverse_transform([ypred[0]])"
      ]
    },
    {
      "cell_type": "markdown",
      "id": "698d63be",
      "metadata": {
        "id": "698d63be"
      },
      "source": [
        "Vejam só... o modelo acertou!\n",
        "\n",
        "Será que isso se repete para todos os exemplos? Vamos calcular a porcentagem de acertos do modelo. Essa é uma métrica chamada **acurácia** e o `sklearn` possui uma função que faz esse cálculo:"
      ]
    },
    {
      "cell_type": "markdown",
      "id": "suspected-reporter",
      "metadata": {
        "id": "suspected-reporter"
      },
      "source": [
        "#### Exercício 25\n",
        "\n",
        "> Exeute a célula abaixo para calcular a acurácia do modelo no conjunto de teste."
      ]
    },
    {
      "cell_type": "code",
      "execution_count": 824,
      "id": "serial-system",
      "metadata": {
        "id": "serial-system"
      },
      "outputs": [],
      "source": [
        "from sklearn.metrics import accuracy_score"
      ]
    },
    {
      "cell_type": "code",
      "execution_count": 825,
      "id": "charming-fetish",
      "metadata": {
        "colab": {
          "base_uri": "https://localhost:8080/"
        },
        "id": "charming-fetish",
        "outputId": "1ae7df51-c1f1-4cbc-a761-d29c577e9d4e"
      },
      "outputs": [
        {
          "output_type": "execute_result",
          "data": {
            "text/plain": [
              "0.5655666666666667"
            ]
          },
          "metadata": {},
          "execution_count": 825
        }
      ],
      "source": [
        "accuracy_score(yteste, ypred)"
      ]
    },
    {
      "cell_type": "markdown",
      "id": "9188c960",
      "metadata": {
        "id": "9188c960"
      },
      "source": [
        "A função `accuracy_score` recebe sempre dois argumentos: um vetor de rótulos verdadeiros (da base) e um vetor de rótulos preditos (do classificador), nessa ordem. O resultado é a porcentagem de valores que coincidem nos dois vetores; isto é, a taxa de acerto do classificador."
      ]
    },
    {
      "cell_type": "markdown",
      "id": "6b927975",
      "metadata": {
        "id": "6b927975"
      },
      "source": [
        "A acurácia encontrada será próxima de 56,56%.\n",
        "\n",
        "É um valor de acurácia bem baixo. Como comentamos, o conjunto ainda está longe de ser ideal. Por exemplo, tem muita informação dos mesmos pacientes ocorrendo diversas vezes ao longo das instâncias. Isso introduz um certo viés ao modelo. Além disso, existem atributos que seriam melhor representados como valores inteiros do que categóricos e atributos que deveriam ser mesclados. Nós também não testamos diferentes formas de quantizar os atributos numéricos.\n",
        "\n",
        "Para sabermos se isso é um caso de *underfitting* ou *overfitting*, precisamos verificar a acurácia no conjunto de treinamento. Os passos são os mesmos:\n",
        "\n",
        "1. Testamos o modelo no conjunto de treino (com `predict`)\n",
        "1. Comparamos a saída do modelo com as classes corretas (em `ytreino`)\n",
        "\n",
        "A célula abaixo faz tudo de uma vez:"
      ]
    },
    {
      "cell_type": "code",
      "execution_count": 826,
      "id": "3bd6b019",
      "metadata": {
        "colab": {
          "base_uri": "https://localhost:8080/"
        },
        "id": "3bd6b019",
        "outputId": "37ddcbdf-9d1d-4fb7-e02b-967cfbc188b7"
      },
      "outputs": [
        {
          "output_type": "execute_result",
          "data": {
            "text/plain": [
              "0.5860774683261707"
            ]
          },
          "metadata": {},
          "execution_count": 826
        }
      ],
      "source": [
        "accuracy_score(clf.predict(Xtreino), ytreino)"
      ]
    },
    {
      "cell_type": "markdown",
      "id": "c9ab876b",
      "metadata": {
        "id": "c9ab876b"
      },
      "source": [
        "O resultado deve ter sido aproximadamente 58,61%. Será que isso é baixo? Ora, se você se recordar de várias células atrás, a classe majoritária do conjunto de dados era `NO`, com aproximadamente 53% dos exemplos pertencentes a ela. Isso significa que um classificador \"burro\" que simplesmente \"chuta\" todos os exemplos como `NO` teria uma acurácia de aproximadamente 53%.\n",
        "\n",
        "O nosso classificador, conseguido com relativo esforço, teve um desempenho não muito superior a isso. É uma baixa acurácia, tanto no treino, quanto no teste, portanto estamos muito provavelmente diante de um caso de *underfitting*."
      ]
    },
    {
      "cell_type": "markdown",
      "id": "animated-brunswick",
      "metadata": {
        "id": "animated-brunswick"
      },
      "source": [
        "Mas o foco desta aula não era o modelo.\n",
        "\n",
        "Aqui você aprendeu diversas técnicas para pré-processar um conjunto de dados. Vamos focar, no restante do curso, em como usar essas técnicas de maneira apropriada, em conjunto com todas as outras técncias que vamos estudar, para obter modelos precisos!\n",
        "\n",
        "Não se esqueça das lições obtidas aqui. O pré-processamento é uma das etapas mais importantes do processo de aprendizado de máquina.\n",
        "\n",
        "Para finalizar, envie o seu *notebook* completo pelo ColabWeb. Não se esqueça de baixar do Google Drive caso tenha completado a atividade no Colaboratory."
      ]
    }
  ],
  "metadata": {
    "colab": {
      "provenance": []
    },
    "kernelspec": {
      "display_name": "Python 3 (ipykernel)",
      "language": "python",
      "name": "python3"
    },
    "language_info": {
      "codemirror_mode": {
        "name": "ipython",
        "version": 3
      },
      "file_extension": ".py",
      "mimetype": "text/x-python",
      "name": "python",
      "nbconvert_exporter": "python",
      "pygments_lexer": "ipython3",
      "version": "3.11.2"
    }
  },
  "nbformat": 4,
  "nbformat_minor": 5
}
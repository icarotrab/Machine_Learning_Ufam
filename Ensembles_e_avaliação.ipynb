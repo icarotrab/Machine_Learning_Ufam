{
  "cells": [
    {
      "cell_type": "markdown",
      "metadata": {
        "id": "5Q936NDXKXYD"
      },
      "source": [
        "# Atividade 3 — *Ensembles* e avaliação"
      ]
    },
    {
      "cell_type": "markdown",
      "metadata": {
        "id": "XTx-HBE1CZaM"
      },
      "source": [
        "O objetivo desta atividade é fazer uma comparação entre diferentes métodos de classificação a fim de desenvolver todo o ***pipeline*** do processo: pré-processamento, definição de hiperâmetros, treino, avaliação e comparação dos métodos."
      ]
    },
    {
      "cell_type": "markdown",
      "metadata": {
        "id": "MFDOVvYwC6D9"
      },
      "source": [
        "Você investigará o comportamento dos seguintes **quatro** métodos, dentre os quais, dois são métodos de combinação de preditores.\n",
        "\n",
        "\n",
        "*  SVM\n",
        "*  Árvore de Decisão\n",
        "*  Florestas Aleatórias\n",
        "*  Gradient Boosting\n",
        "\n",
        "\n"
      ]
    },
    {
      "cell_type": "markdown",
      "metadata": {
        "id": "IUVdOAfoDxKb"
      },
      "source": [
        "Vamos iniciar importando as bibliotecas e a base de dados que será utilizada."
      ]
    },
    {
      "cell_type": "code",
      "execution_count": 1,
      "metadata": {
        "id": "B_pypY8nZ2v3"
      },
      "outputs": [],
      "source": [
        "import numpy as np\n",
        "import matplotlib.pyplot as plt\n",
        "\n",
        "from sklearn.datasets import load_breast_cancer\n",
        "\n",
        "from sklearn.preprocessing import StandardScaler\n",
        "\n",
        "from sklearn.svm import SVC\n",
        "from sklearn.neighbors import KNeighborsClassifier\n",
        "from sklearn.tree import DecisionTreeClassifier\n",
        "from sklearn.ensemble import RandomForestClassifier\n",
        "from sklearn.ensemble import GradientBoostingClassifier\n",
        "\n",
        "from sklearn.model_selection import train_test_split\n",
        "from sklearn.model_selection import GridSearchCV\n",
        "\n",
        "from sklearn.metrics import classification_report, confusion_matrix, accuracy_score"
      ]
    },
    {
      "cell_type": "markdown",
      "metadata": {
        "id": "F45dV2t5vlkG"
      },
      "source": [
        "## Parte 1"
      ]
    },
    {
      "cell_type": "markdown",
      "metadata": {
        "id": "neX2378I_3H5"
      },
      "source": [
        "### Carregando os dados\n",
        "\n",
        "Neste exemplo, será utilizada a base **Breast Cancer**, a qual está disponível no sklearn mas é originária do repositório da UCI (https://archive.ics.uci.edu/ml/datasets/breast+cancer). Trata-se de uma base de dados que foi obtida a partir de imagens digitalizadas de massas mamárias e que descrevem **dois** tipos de classe: maligno (*harmful*) e benigno (not harmful). Os atributos descrevem características dos núcleos celulares presentes nas imagens.\n",
        "\n",
        "No total, são **30 atributos** ordenados: raio médio, textura média, perímetro médio, área média, suavidade média, compacidade média, concavidade média, pontos côncavos médios, simetria média, dimensão fractal média, erro de raio, erro de textura, erro de perímetro, erro de área, erro de suavidade, erro de compactação, erro de concavidade, erro de pontos côncavos, erro de simetria, erro de dimensão fractal, pior raio, pior textura, pior perímetro, pior área, pior suavidade, pior compacidade, pior concavidade, piores pontos côncavos, pior simetria e pior dimensão fractal) e um alvo (tipo de tumor)."
      ]
    },
    {
      "cell_type": "code",
      "execution_count": 2,
      "metadata": {
        "id": "5q4zYHzOTxwW"
      },
      "outputs": [],
      "source": [
        "from sklearn import datasets"
      ]
    },
    {
      "cell_type": "code",
      "execution_count": 3,
      "metadata": {
        "id": "vTOHcJQOvlkH"
      },
      "outputs": [],
      "source": [
        "breast = load_breast_cancer()"
      ]
    },
    {
      "cell_type": "markdown",
      "metadata": {
        "id": "CwVpqr9gvlkI"
      },
      "source": [
        "Conteúdo do *bunch*:"
      ]
    },
    {
      "cell_type": "code",
      "execution_count": 4,
      "metadata": {
        "id": "oJoo4WWMNXIm"
      },
      "outputs": [],
      "source": [
        " X = breast.data"
      ]
    },
    {
      "cell_type": "code",
      "execution_count": 5,
      "metadata": {
        "id": "60aEZfrZNfNW"
      },
      "outputs": [],
      "source": [
        "y = breast.target"
      ]
    },
    {
      "cell_type": "markdown",
      "metadata": {
        "id": "x-0xTdY2wuig"
      },
      "source": [
        "### Reamostragem com *hold-out*\n",
        "\n",
        "Como será necessário fazer ajustes dos hiperparâmetros dos métodos de classificação investigados, você deverá dividir a base de dados em três conjuntos: treino, validação e teste. A base de treino terá 60% das instâncias, enquanto as bases de teste e de validação terão 20% cada."
      ]
    },
    {
      "cell_type": "markdown",
      "metadata": {
        "id": "Nuk6nhfDvlkI"
      },
      "source": [
        "> **Separe, com hold-out**, o conjunto de teste do restante dos dados. Deixe 20% para teste. Especifique a semente aleatória `42`."
      ]
    },
    {
      "cell_type": "code",
      "execution_count": 6,
      "metadata": {
        "id": "NBeQv4W2vO6a"
      },
      "outputs": [],
      "source": [
        "from sklearn.model_selection import train_test_split"
      ]
    },
    {
      "cell_type": "code",
      "execution_count": 7,
      "metadata": {
        "id": "yu_AuYACvlkI"
      },
      "outputs": [],
      "source": [
        "X_trainval, X_test, y_trainval, y_test = train_test_split(\n",
        "     X, y, test_size=0.2, random_state=42\n",
        "    )"
      ]
    },
    {
      "cell_type": "markdown",
      "metadata": {
        "id": "eOgtkkkevlkJ"
      },
      "source": [
        "Se feito corretamente, o teste deve ter 114 exemplos e o restante deverá ter 455 exemplos. Ambos deverão ter 30 atributos."
      ]
    },
    {
      "cell_type": "code",
      "execution_count": 8,
      "metadata": {
        "colab": {
          "base_uri": "https://localhost:8080/"
        },
        "outputId": "74c6ab82-902c-4a7a-e337-df1c429c759e",
        "id": "Sus9o1V9vlkJ"
      },
      "outputs": [
        {
          "output_type": "stream",
          "name": "stdout",
          "text": [
            "(455, 30) (455,)\n",
            "(114, 30) (114,)\n"
          ]
        }
      ],
      "source": [
        "print(X_trainval.shape, y_trainval.shape)\n",
        "print(X_test.shape, y_test.shape)"
      ]
    },
    {
      "cell_type": "markdown",
      "metadata": {
        "id": "NU0HLZYVvlkJ"
      },
      "source": [
        "Agora vamos separar o conjunto de treino e o conjunto de validação. Para isso, faça uma nova divisão em hold-out, reservando 25% para o conjunto de validação (`test_size=0.25`)."
      ]
    },
    {
      "cell_type": "markdown",
      "metadata": {
        "id": "AiyCsoMtvlkJ"
      },
      "source": [
        "> **Faça *hold-out*** para obter um conjunto de treino e um conjunto de validação."
      ]
    },
    {
      "cell_type": "code",
      "execution_count": 9,
      "metadata": {
        "id": "7VVR8HldvlkK"
      },
      "outputs": [],
      "source": [
        "X_train, X_val, y_train, y_val = train_test_split(\n",
        "    X_trainval, y_trainval, test_size=0.25, random_state=42\n",
        "    )"
      ]
    },
    {
      "cell_type": "markdown",
      "metadata": {
        "id": "RxIC--4avlkK"
      },
      "source": [
        "O conjunto de validação deverá ter 114 instâncias e o conjunto de treino deverá ter 341 instâncias."
      ]
    },
    {
      "cell_type": "code",
      "execution_count": 10,
      "metadata": {
        "colab": {
          "base_uri": "https://localhost:8080/"
        },
        "id": "xStACprbVCSm",
        "outputId": "d566b971-e9ae-4d60-c75c-ad7b7f28b1cd"
      },
      "outputs": [
        {
          "output_type": "stream",
          "name": "stdout",
          "text": [
            "(341, 30) (341,)\n",
            "(114, 30) (114,)\n"
          ]
        }
      ],
      "source": [
        "print(X_train.shape, y_train.shape)\n",
        "print(X_val.shape, y_val.shape)"
      ]
    },
    {
      "cell_type": "markdown",
      "metadata": {
        "id": "MdYfsDzcFJEi"
      },
      "source": [
        "### Normalização dos dados"
      ]
    },
    {
      "cell_type": "markdown",
      "metadata": {
        "id": "gdZvNebavlkL"
      },
      "source": [
        "Uma vez que os dados foram separados em subconjuntos, nós vamos fazer o pré-processamento. Um dos passos que necessitamos fazer é a normalização, pois os atributos estão em escalas muito distintas. Você pode observar a grande variação dos atributos nos diagramas de caixas a seguir."
      ]
    },
    {
      "cell_type": "markdown",
      "metadata": {
        "id": "jhQWpbUJvlkL"
      },
      "source": [
        "> **Execute as células** abaixo para gerar os diagramas de caixas dos atributos da base *breast cancer*."
      ]
    },
    {
      "cell_type": "code",
      "execution_count": 11,
      "metadata": {
        "colab": {
          "base_uri": "https://localhost:8080/",
          "height": 1000
        },
        "id": "471Jsg87vlkL",
        "outputId": "31b105e8-b929-40cc-d92c-9e93b86d333b"
      },
      "outputs": [
        {
          "output_type": "display_data",
          "data": {
            "text/plain": [
              "<Figure size 1500x1000 with 1 Axes>"
            ],
            "image/png": "[encoded data removed]"
          },
          "metadata": {}
        },
        {
          "output_type": "display_data",
          "data": {
            "text/plain": [
              "<Figure size 1500x1000 with 1 Axes>"
            ],
            "image/png": "[encoded data removed]"
          },
          "metadata": {}
        }
      ],
      "source": [
        "import matplotlib.pyplot as plt\n",
        "\n",
        "plt.figure(figsize=(15,10));\n",
        "plt.boxplot(breast.data[:, :15], labels=breast.feature_names[:15]);\n",
        "plt.xticks(rotation=25);\n",
        "plt.ylim(-1, 20);\n",
        "\n",
        "plt.figure(figsize=(15,10))\n",
        "plt.boxplot(breast.data[:, 15:], labels=breast.feature_names[15:]);\n",
        "plt.xticks(rotation=25);\n",
        "plt.ylim(-1, 20);"
      ]
    },
    {
      "cell_type": "markdown",
      "metadata": {
        "id": "DYT5dALXvlkL"
      },
      "source": [
        "Observe que a variação de alguns atributos é tão extrema que alguns diagramas nem mesmo aparecem na figura."
      ]
    },
    {
      "cell_type": "markdown",
      "metadata": {
        "id": "Ir3SssyBvlkL"
      },
      "source": [
        "Como os atributos originais estão em diferentes escalas, você deverá normalizar os dados. Existem diferentes técnicas de normalização. Uma delas é a **normalização minmax**, vista na aula de técnicas de reamostragem. Ela é empregada para trazer todos os dados para uma escala definida por um limite inferior e um limite superior. Tipicamente esse limite é dado pelo intervalo $[0,1]$."
      ]
    },
    {
      "cell_type": "markdown",
      "metadata": {
        "id": "2MsYxMspvlkL"
      },
      "source": [
        "Um atributo $X$ pode ser trazido para o intervalo $[0,1]$ de acordo com o seguinte procedimento:\n",
        "\n",
        "$$x' = \\displaystyle\\frac{x - x_\\text{min}}{x_\\text{max} - x_\\text{min}}$$"
      ]
    },
    {
      "cell_type": "markdown",
      "metadata": {
        "id": "eVlIUqI5vlkM"
      },
      "source": [
        "Por exemplo, dada a seguinte coleção:\n",
        "\n",
        "$$X = [3, 3, 3, 7, 10, 15, 17, 18]$$\n",
        "\n",
        "Cada valor pode ser normalizado de acordo com a seguinte equação:\n",
        "\n",
        "$$x' = \\displaystyle\\frac{x - 3}{18 - 3}$$"
      ]
    },
    {
      "cell_type": "markdown",
      "metadata": {
        "id": "E2FFbMSNvlkM"
      },
      "source": [
        "Uma outra estratégia de normalização é a **z-normalização**, na qual os dados são normalizados de acordo com a média e o desvio padrão de uma amostra. Após a z-normalização, a amostra terá média $m=0$ e desvio padrão amostral $s=1$."
      ]
    },
    {
      "cell_type": "markdown",
      "metadata": {
        "id": "YkCigi6EvlkM"
      },
      "source": [
        "Um atributo $X$ pode ser z-normalizado de acordo com o seguinte procedimento:\n",
        "\n",
        "$$x' = \\displaystyle\\frac{x - m_x}{s_x}$$\n",
        "\n",
        "Sendo que $m_x$ é a média do atributo $X$ e $s_x$ é o desvio padrão amostragem de $X$."
      ]
    },
    {
      "cell_type": "markdown",
      "metadata": {
        "id": "QzBq9nuVvlkM"
      },
      "source": [
        "$$X =[3,3,3,7,10,12,13,17]$$\n",
        "\n",
        "Cada valor pode ser normalizado de acordo com a seguinte equação:\n",
        "\n",
        "$$x' = \\displaystyle\\frac{x - 8{,}5}{5}$$"
      ]
    },
    {
      "cell_type": "markdown",
      "metadata": {
        "id": "T6Ulv37vvlkM"
      },
      "source": [
        "Para obter z-normalização dos dados no `sklearn` você pode utilizar a classe `StandardScaler`. Ela possui um método `fit` que \"aprende\" os valores da distribuição (média e desvio padrão) e um método `transform` que aplica a transformação em uma matriz de atributos."
      ]
    },
    {
      "cell_type": "markdown",
      "metadata": {
        "id": "1U3AJp-BvlkM"
      },
      "source": [
        "> **Faça z-normalização** dos conjuntos de treino, teste e validação. Selecione corretamente os conjuntos nos quais você deve aplicar `fit` e nos quais você deve aplicar `transform`.\n",
        ">\n",
        "> *Dica*: lembre-se da \"história\" do seu modelo. Em cada teste, quais serão os dados do presente e quais são os dados que simulam o futuro do modelo?"
      ]
    },
    {
      "cell_type": "code",
      "execution_count": 12,
      "metadata": {
        "id": "e53ZA1IEM2Wh"
      },
      "outputs": [],
      "source": [
        "from sklearn.preprocessing import StandardScaler"
      ]
    },
    {
      "cell_type": "code",
      "execution_count": 13,
      "metadata": {
        "id": "NeOLsZxvvlkM"
      },
      "outputs": [],
      "source": [
        "scaler = StandardScaler()\n",
        "X_train = scaler.fit_transform(X_train)\n",
        "X_val = scaler.transform(X_val)\n",
        "X_test = scaler.transform(X_test)"
      ]
    },
    {
      "cell_type": "markdown",
      "metadata": {
        "id": "MgzrUQjN2dal"
      },
      "source": [
        "### Avaliação do SVM\n",
        "\n",
        "Nós utilizaremos inicialmente SVM. Embora nós não tenhamos muitas explicações sobre a distribuição dos dados, nós vamos utilizar SVM não linear. Neste exemplo, nós utilizaremos o **kernel polinomial** para exemplificar o processo de ajuste de hiperparâmetros.\n",
        "\n",
        "Para avaliar o resultado nós observaremos a **matriz de confusão**, e o **relatório de métricas**."
      ]
    },
    {
      "cell_type": "code",
      "execution_count": 14,
      "metadata": {
        "id": "S-1giRv0tyY0"
      },
      "outputs": [],
      "source": [
        "from sklearn.svm import SVC\n",
        "from sklearn.metrics import accuracy_score"
      ]
    },
    {
      "cell_type": "markdown",
      "metadata": {
        "id": "JEiD_IzpJ-SN"
      },
      "source": [
        "Independentemente do tipo de kernel, SVM tem o hiperparâmetro C a ser definido. Além disso, no caso do kernel polinomial, há a necessidade de definição do grau do polinômio. Por fim, além do grau do polinômio, há o parâmetro gamma. Neste caso, nós deixaremos gamma com o valor padrão, o grau do polinômio como 2 e C=1.\n"
      ]
    },
    {
      "cell_type": "markdown",
      "metadata": {
        "id": "xs8loTnzvlkR"
      },
      "source": [
        "> **Treine o SVM** com kernel polinomial de grau 2. Especifique hiperparâmetro `C=1`."
      ]
    },
    {
      "cell_type": "code",
      "execution_count": 15,
      "metadata": {
        "id": "lpmdeye5vlkR"
      },
      "outputs": [],
      "source": [
        "modelo_polinomial = SVC(kernel='poly', degree=2, C=1, gamma='scale', random_state=42)\n",
        "modelo_polinomial.fit(X_train, y_train);"
      ]
    },
    {
      "cell_type": "markdown",
      "metadata": {
        "id": "MDyYYom4vlkR"
      },
      "source": [
        "Agora vamos fazer a primeira inferência. Vamos testar o modelo no conjunto de treino e também no conjunto de validação. E vamos comparar as acurácias obtidas."
      ]
    },
    {
      "cell_type": "markdown",
      "metadata": {
        "id": "k9kfPp8yvlkR"
      },
      "source": [
        "> **Teste o modelo** no conjuto de treino."
      ]
    },
    {
      "cell_type": "code",
      "execution_count": 16,
      "metadata": {
        "id": "UDdNUv_dvlkR"
      },
      "outputs": [],
      "source": [
        "ypred_train = modelo_polinomial.predict(X_train)"
      ]
    },
    {
      "cell_type": "markdown",
      "metadata": {
        "id": "kQGAJ9V5vlkR"
      },
      "source": [
        "> **Teste o modelo** no conjunto de validação."
      ]
    },
    {
      "cell_type": "code",
      "execution_count": 17,
      "metadata": {
        "id": "-tRFjV49vlkR"
      },
      "outputs": [],
      "source": [
        "ypred = modelo_polinomial.predict(X_val)"
      ]
    },
    {
      "cell_type": "markdown",
      "metadata": {
        "id": "7ciFdHVevlkS"
      },
      "source": [
        "> **Execute a célula** abaixo para comparar as acurácias."
      ]
    },
    {
      "cell_type": "code",
      "execution_count": 18,
      "metadata": {
        "colab": {
          "base_uri": "https://localhost:8080/"
        },
        "id": "mE4FLluZWX62",
        "outputId": "e4bf794b-ef73-41a3-f467-945b91336872"
      },
      "outputs": [
        {
          "output_type": "stream",
          "name": "stdout",
          "text": [
            "Acurácia no treino 0.8563049853372434\n",
            "Acurácia na validação 0.8421052631578947\n"
          ]
        }
      ],
      "source": [
        "print(\"Acurácia no treino\", accuracy_score(y_train, ypred_train))\n",
        "print(\"Acurácia na validação\", accuracy_score(y_val, ypred))"
      ]
    },
    {
      "cell_type": "markdown",
      "metadata": {
        "id": "PX39BImRvlkS"
      },
      "source": [
        "A acurácia dá uma visão geral sobre o desempenho do modelo, mas não nos permite tirar muitas conclusões. Isso é especialmente verdade em conjuntos desbalanceados (nosso conjunto não está *muito* desbalanceado, mas ainda assim há uma fração razoavelmente maior da classe positiva).\n",
        "\n",
        "Uma visão um pouco mais abrangente pode ser obtida pela matriz de confusão. Ela tem a contagem das seguintes ocorrências:\n",
        "\n",
        "               Previsão\n",
        "              0         1\n",
        "    Real. +--------+--------+\n",
        "      0   |   VN   |   FP   |\n",
        "          +--------+--------+\n",
        "      1   |   FN   |   VP   |\n",
        "          +--------+--------+\n",
        "          \n",
        "No `sklearn` a matriz pode ser obtida pela função `confusion_matrix`."
      ]
    },
    {
      "cell_type": "markdown",
      "metadata": {
        "id": "YiIYjOEivlkS"
      },
      "source": [
        "> **Execute a célula** abaixo para gerar a matriz de confusão dp modelo no conjunto de validação. Observe que o primeiro argumento deve ser o conjunto de rótulos verdadeiros."
      ]
    },
    {
      "cell_type": "code",
      "execution_count": 19,
      "metadata": {
        "colab": {
          "base_uri": "https://localhost:8080/"
        },
        "id": "Jkb_b-cavlkS",
        "outputId": "06bc6134-55bf-4c9b-afd1-6a28d9eb2105"
      },
      "outputs": [
        {
          "output_type": "stream",
          "name": "stdout",
          "text": [
            "[[27 17]\n",
            " [ 1 69]]\n"
          ]
        }
      ],
      "source": [
        "from sklearn.metrics import confusion_matrix\n",
        "\n",
        "print(confusion_matrix(y_val, ypred))"
      ]
    },
    {
      "cell_type": "markdown",
      "metadata": {
        "id": "0Vsa-y2gvlkS"
      },
      "source": [
        "Uma visão ainda mais detalhada do modelo pode ser obtida pela função `classification_report`."
      ]
    },
    {
      "cell_type": "markdown",
      "metadata": {
        "id": "v2ETNqt_vlkS"
      },
      "source": [
        "> **Complete a célula** abaixo e use a função `classification_report`."
      ]
    },
    {
      "cell_type": "code",
      "execution_count": 20,
      "metadata": {
        "colab": {
          "base_uri": "https://localhost:8080/"
        },
        "id": "s-i8chTXvlkS",
        "outputId": "b646bb96-bcb6-4aff-98f5-4321e498409e"
      },
      "outputs": [
        {
          "output_type": "stream",
          "name": "stdout",
          "text": [
            "              precision    recall  f1-score   support\n",
            "\n",
            "           0       0.96      0.61      0.75        44\n",
            "           1       0.80      0.99      0.88        70\n",
            "\n",
            "    accuracy                           0.84       114\n",
            "   macro avg       0.88      0.80      0.82       114\n",
            "weighted avg       0.86      0.84      0.83       114\n",
            "\n"
          ]
        }
      ],
      "source": [
        "print(classification_report(y_val, ypred))"
      ]
    },
    {
      "cell_type": "markdown",
      "metadata": {
        "id": "4z5q69LtvlkS"
      },
      "source": [
        "A saída da função `classification_report` contém:"
      ]
    },
    {
      "cell_type": "markdown",
      "metadata": {
        "id": "9Hg0G0fsvlkT"
      },
      "source": [
        "- Precisão: calculada tanto para a classe positiva $\\left(\\frac{\\text{VP}}{\\text{VP} + \\text{FP}}\\right)$ quanto para a classe negativa $\\left(\\frac{\\text{VN}}{\\text{VN} + \\text{FN}}\\right)$.\n",
        "- Revocação: calculada tanto para a classe positiva $\\left(\\frac{\\text{VP}}{\\text{VP} + \\text{FN}}\\right)$ quanto para a classe negativa $\\left(\\frac{\\text{VN}}{\\text{VN} + \\text{FP}}\\right)$.\n",
        "- F1-score: média harmônica de precisão e revocação.\n",
        "- Suporte: o número de instâncias de cada classe (devem ser 43 da classe 0 e 71 da classe 1, se você fez corretamente o *hold-out*)\n",
        "- Acurácia: fração dos exemplos corretamente classificados.\n",
        "- Média macro: média aritmética entre as medidas.\n",
        "- Média ponderada: média ponderada pelo suporte de cada classe."
      ]
    },
    {
      "cell_type": "markdown",
      "metadata": {
        "id": "czQiOKgsZiWu"
      },
      "source": [
        "## Ajuste de Hiperparâmetros com Validação Cruzada\n",
        "\n",
        "Ajustar os hiperparâmetros manualmente até que se encontre uma ótima combinação de valores seria uma tarefa bastante difícil. Para evitar ter que fazer essa busca de forma manual, você deverá utilizar o **GridSearchCV** do Scikit-Learn para pesquisar os valores. É suficiente informar quais hiperparâmetros deseja-se experimentar e quais valores devem ser testados. O **GridSearchCV** avaliará todas as combinações possíveis de valores de hiperparâmetros usando a abordagem de validação cruzada."
      ]
    },
    {
      "cell_type": "markdown",
      "metadata": {
        "id": "_LyAVZNROWEu"
      },
      "source": [
        "É importante observar que, como será utilizada a validação cruzada durante a definição de hiperparâmetros, você deverá juntar os conjuntos de treino e de validação em um único conjunto."
      ]
    },
    {
      "cell_type": "markdown",
      "metadata": {
        "id": "mf0gtyJMQQ9a"
      },
      "source": [
        "Para ilustrar o uso do GridSearchCV, nós faremos um exemplo utilizando kNN. O objetivo é escolher o melhor valor para k."
      ]
    },
    {
      "cell_type": "code",
      "execution_count": 21,
      "metadata": {
        "id": "6gSGij7CSD1o"
      },
      "outputs": [],
      "source": [
        "from sklearn.neighbors import KNeighborsClassifier\n",
        "from sklearn.model_selection import GridSearchCV"
      ]
    },
    {
      "cell_type": "markdown",
      "metadata": {
        "id": "SEGJKBt1vlkT"
      },
      "source": [
        "A classe `KNeighborsClassifier` tem o hiperparâmetro `n_neighbors` que define o valor de $k$. Queremos testar todos os possíveis valores de $k$ no intervalo $[1,40]$. Então vamos criar um dicionário no qual o nome do hiperparâmetro `n_neighbors` é a chave e o valor é uma lista que contém esse intervalo."
      ]
    },
    {
      "cell_type": "markdown",
      "metadata": {
        "id": "xGu4h2ANvlkT"
      },
      "source": [
        "> **Execute a célula** abaixo para criar um dicionário que configura o *Grid Search*."
      ]
    },
    {
      "cell_type": "code",
      "execution_count": 22,
      "metadata": {
        "id": "5-eLkvl-UfKX"
      },
      "outputs": [],
      "source": [
        "param_grid = {'n_neighbors':list(range(1, 41))}"
      ]
    },
    {
      "cell_type": "markdown",
      "metadata": {
        "id": "Jmf3rSlovlkU"
      },
      "source": [
        "Agora vamos instanciar um objeto da classe `GridSearchCV`. Ela deve receber:\n",
        "\n",
        "- O primeiro argumento deve ser um objeto do modelo\n",
        "- O segundo argumento deve ser o dicionário que especifica os hiperparâmetros a serem ajustados\n",
        "- O argumento nomeado `verbose=1` pode ser usado para que o *Grid Search* imprima mensagens de diagnóstico\n",
        "- O argumento nomeado `cv=5` pode ser usado para especificar que o *Grid Search* faça ajuste de hiperparâmetros com validação cruzada em cinco vias (*5-fold CV*; você pode especificar outro valor)"
      ]
    },
    {
      "cell_type": "markdown",
      "metadata": {
        "id": "yZsGD4a5vlkU"
      },
      "source": [
        "> **Execute a célula** abaixo que instancia um objeto de *grid search*."
      ]
    },
    {
      "cell_type": "code",
      "execution_count": 23,
      "metadata": {
        "id": "uCWdUMvOU30A"
      },
      "outputs": [],
      "source": [
        "knn_clf = GridSearchCV(KNeighborsClassifier(), param_grid,  verbose=1, cv=5)"
      ]
    },
    {
      "cell_type": "markdown",
      "metadata": {
        "id": "N_OynXxYvlkU"
      },
      "source": [
        "> **Execute o método `fit`** abaixo para que o *grid search* encontre a melhor configuração do hiperparâmetro nos dados de treino e validação.\n",
        ">\n",
        "> *Dica*: observe que os dados de teste ficam guardados."
      ]
    },
    {
      "cell_type": "code",
      "execution_count": 24,
      "metadata": {
        "id": "wAMV8Mc5vlkU",
        "colab": {
          "base_uri": "https://localhost:8080/"
        },
        "outputId": "94612b24-ce28-4066-a7e0-a506434692ca"
      },
      "outputs": [
        {
          "output_type": "stream",
          "name": "stdout",
          "text": [
            "Fitting 5 folds for each of 40 candidates, totalling 200 fits\n"
          ]
        }
      ],
      "source": [
        "knn_clf.fit(X_trainval, y_trainval);"
      ]
    },
    {
      "cell_type": "markdown",
      "metadata": {
        "id": "v8_MssqTvlkU"
      },
      "source": [
        "Você deve ter visto a seguinte mensagem:\n",
        "\n",
        "> Fitting 5 folds for each of 40 candidates, totalling 200 fits\n",
        "\n",
        "Isso porque nós temos 40 modelos k-NN para serem verificados ($k$ variando de 1 a 40) e eles serão verificados em 5 conjuntos de treinamento (deriviados da validação cruzada)."
      ]
    },
    {
      "cell_type": "markdown",
      "metadata": {
        "id": "Lt_hj1t7vlkU"
      },
      "source": [
        "Para sabermos qual foi o melhor modelo encontrados, verificamos o atributo `best_estimator_`:"
      ]
    },
    {
      "cell_type": "markdown",
      "metadata": {
        "id": "9UTfjLAXvlkV"
      },
      "source": [
        "> **Execute a célula** abaixo para saber qual foi o melhor modelo encontrado pelo *grid search*."
      ]
    },
    {
      "cell_type": "code",
      "execution_count": 25,
      "metadata": {
        "id": "gxX2uGAPCp0L",
        "colab": {
          "base_uri": "https://localhost:8080/",
          "height": 75
        },
        "outputId": "c0c02ed0-0b88-4e7d-b3a8-8114c27d3d2d"
      },
      "outputs": [
        {
          "output_type": "execute_result",
          "data": {
            "text/plain": [
              "KNeighborsClassifier(n_neighbors=9)"
            ],
            "text/html": [
              "<style>#sk-container-id-1 {color: black;background-color: white;}#sk-container-id-1 pre{padding: 0;}#sk-container-id-1 div.sk-toggleable {background-color: white;}#sk-container-id-1 label.sk-toggleable__label {cursor: pointer;display: block;width: 100%;margin-bottom: 0;padding: 0.3em;box-sizing: border-box;text-align: center;}#sk-container-id-1 label.sk-toggleable__label-arrow:before {content: \"▸\";float: left;margin-right: 0.25em;color: #696969;}#sk-container-id-1 label.sk-toggleable__label-arrow:hover:before {color: black;}#sk-container-id-1 div.sk-estimator:hover label.sk-toggleable__label-arrow:before {color: black;}#sk-container-id-1 div.sk-toggleable__content {max-height: 0;max-width: 0;overflow: hidden;text-align: left;background-color: #f0f8ff;}#sk-container-id-1 div.sk-toggleable__content pre {margin: 0.2em;color: black;border-radius: 0.25em;background-color: #f0f8ff;}#sk-container-id-1 input.sk-toggleable__control:checked~div.sk-toggleable__content {max-height: 200px;max-width: 100%;overflow: auto;}#sk-container-id-1 input.sk-toggleable__control:checked~label.sk-toggleable__label-arrow:before {content: \"▾\";}#sk-container-id-1 div.sk-estimator input.sk-toggleable__control:checked~label.sk-toggleable__label {background-color: #d4ebff;}#sk-container-id-1 div.sk-label input.sk-toggleable__control:checked~label.sk-toggleable__label {background-color: #d4ebff;}#sk-container-id-1 input.sk-hidden--visually {border: 0;clip: rect(1px 1px 1px 1px);clip: rect(1px, 1px, 1px, 1px);height: 1px;margin: -1px;overflow: hidden;padding: 0;position: absolute;width: 1px;}#sk-container-id-1 div.sk-estimator {font-family: monospace;background-color: #f0f8ff;border: 1px dotted black;border-radius: 0.25em;box-sizing: border-box;margin-bottom: 0.5em;}#sk-container-id-1 div.sk-estimator:hover {background-color: #d4ebff;}#sk-container-id-1 div.sk-parallel-item::after {content: \"\";width: 100%;border-bottom: 1px solid gray;flex-grow: 1;}#sk-container-id-1 div.sk-label:hover label.sk-toggleable__label {background-color: #d4ebff;}#sk-container-id-1 div.sk-serial::before {content: \"\";position: absolute;border-left: 1px solid gray;box-sizing: border-box;top: 0;bottom: 0;left: 50%;z-index: 0;}#sk-container-id-1 div.sk-serial {display: flex;flex-direction: column;align-items: center;background-color: white;padding-right: 0.2em;padding-left: 0.2em;position: relative;}#sk-container-id-1 div.sk-item {position: relative;z-index: 1;}#sk-container-id-1 div.sk-parallel {display: flex;align-items: stretch;justify-content: center;background-color: white;position: relative;}#sk-container-id-1 div.sk-item::before, #sk-container-id-1 div.sk-parallel-item::before {content: \"\";position: absolute;border-left: 1px solid gray;box-sizing: border-box;top: 0;bottom: 0;left: 50%;z-index: -1;}#sk-container-id-1 div.sk-parallel-item {display: flex;flex-direction: column;z-index: 1;position: relative;background-color: white;}#sk-container-id-1 div.sk-parallel-item:first-child::after {align-self: flex-end;width: 50%;}#sk-container-id-1 div.sk-parallel-item:last-child::after {align-self: flex-start;width: 50%;}#sk-container-id-1 div.sk-parallel-item:only-child::after {width: 0;}#sk-container-id-1 div.sk-dashed-wrapped {border: 1px dashed gray;margin: 0 0.4em 0.5em 0.4em;box-sizing: border-box;padding-bottom: 0.4em;background-color: white;}#sk-container-id-1 div.sk-label label {font-family: monospace;font-weight: bold;display: inline-block;line-height: 1.2em;}#sk-container-id-1 div.sk-label-container {text-align: center;}#sk-container-id-1 div.sk-container {/* jupyter's `normalize.less` sets `[hidden] { display: none; }` but bootstrap.min.css set `[hidden] { display: none !important; }` so we also need the `!important` here to be able to override the default hidden behavior on the sphinx rendered scikit-learn.org. See: https://github.com/scikit-learn/scikit-learn/issues/21755 */display: inline-block !important;position: relative;}#sk-container-id-1 div.sk-text-repr-fallback {display: none;}</style><div id=\"sk-container-id-1\" class=\"sk-top-container\"><div class=\"sk-text-repr-fallback\"><pre>KNeighborsClassifier(n_neighbors=9)</pre><b>In a Jupyter environment, please rerun this cell to show the HTML representation or trust the notebook. <br />On GitHub, the HTML representation is unable to render, please try loading this page with nbviewer.org.</b></div><div class=\"sk-container\" hidden><div class=\"sk-item\"><div class=\"sk-estimator sk-toggleable\"><input class=\"sk-toggleable__control sk-hidden--visually\" id=\"sk-estimator-id-1\" type=\"checkbox\" checked><label for=\"sk-estimator-id-1\" class=\"sk-toggleable__label sk-toggleable__label-arrow\">KNeighborsClassifier</label><div class=\"sk-toggleable__content\"><pre>KNeighborsClassifier(n_neighbors=9)</pre></div></div></div></div></div>"
            ]
          },
          "metadata": {},
          "execution_count": 25
        }
      ],
      "source": [
        "knn_clf.best_estimator_"
      ]
    },
    {
      "cell_type": "markdown",
      "metadata": {
        "id": "Wi326fpoPcXH"
      },
      "source": [
        "O *best_estimator* retorna o melhor valor para o hiperparâmetro. Uma vez definido esse valor, nós podemos testar o melhor modelo encontrado."
      ]
    },
    {
      "cell_type": "markdown",
      "metadata": {
        "id": "3Ji5H4F3vlkV"
      },
      "source": [
        "> **Teste o melhor modelo** encontrado pelo *grid search* no conjunto de teste (definido por `X_test` e `y_test`).\n",
        ">\n",
        "> *Dica*: não é necessário especificar qual é o melhor modelo. O método `predict` do `GridSearchCV` automaticamente emprega o melhor modelo que foi encontrado com o *grid search*."
      ]
    },
    {
      "cell_type": "code",
      "execution_count": 28,
      "metadata": {
        "id": "QbOsHu42vlkV"
      },
      "outputs": [],
      "source": [
        "ypred = knn_clf.predict(X_test)"
      ]
    },
    {
      "cell_type": "markdown",
      "metadata": {
        "id": "H-BaElU6vlkV"
      },
      "source": [
        "> **Execute a célula** abaixo para testar o melhor modelo."
      ]
    },
    {
      "cell_type": "code",
      "execution_count": 29,
      "metadata": {
        "id": "XDAczsE7PcAR",
        "colab": {
          "base_uri": "https://localhost:8080/"
        },
        "outputId": "5639d69c-aff0-4083-f8fa-76a703fa7985"
      },
      "outputs": [
        {
          "output_type": "stream",
          "name": "stdout",
          "text": [
            "[[ 0 43]\n",
            " [ 0 71]]\n",
            "              precision    recall  f1-score   support\n",
            "\n",
            "           0       0.00      0.00      0.00        43\n",
            "           1       0.62      1.00      0.77        71\n",
            "\n",
            "    accuracy                           0.62       114\n",
            "   macro avg       0.31      0.50      0.38       114\n",
            "weighted avg       0.39      0.62      0.48       114\n",
            "\n"
          ]
        },
        {
          "output_type": "stream",
          "name": "stderr",
          "text": [
            "/usr/local/lib/python3.10/dist-packages/sklearn/metrics/_classification.py:1344: UndefinedMetricWarning: Precision and F-score are ill-defined and being set to 0.0 in labels with no predicted samples. Use `zero_division` parameter to control this behavior.\n",
            "  _warn_prf(average, modifier, msg_start, len(result))\n",
            "/usr/local/lib/python3.10/dist-packages/sklearn/metrics/_classification.py:1344: UndefinedMetricWarning: Precision and F-score are ill-defined and being set to 0.0 in labels with no predicted samples. Use `zero_division` parameter to control this behavior.\n",
            "  _warn_prf(average, modifier, msg_start, len(result))\n",
            "/usr/local/lib/python3.10/dist-packages/sklearn/metrics/_classification.py:1344: UndefinedMetricWarning: Precision and F-score are ill-defined and being set to 0.0 in labels with no predicted samples. Use `zero_division` parameter to control this behavior.\n",
            "  _warn_prf(average, modifier, msg_start, len(result))\n"
          ]
        }
      ],
      "source": [
        "print(confusion_matrix(y_test, ypred))\n",
        "print(classification_report(y_test, ypred))"
      ]
    },
    {
      "cell_type": "markdown",
      "metadata": {
        "id": "J03oVxkfKKrx"
      },
      "source": [
        "## *Your turn*"
      ]
    },
    {
      "cell_type": "markdown",
      "metadata": {
        "id": "vxB7KqzPKSD5"
      },
      "source": [
        "Você deverá fazer o seguinte:\n",
        "\n",
        "\n",
        "1.   Ajustar os hiperparâmetros com o GridSearch e validação cruzada de 5 partições nos seguintes métodos:\n",
        "\n",
        "\n",
        "*   SVM: testar kernel polinomial e kernel RBF; para cada tipo de kernel definir o valor de C e o valor do hiperparâmetro de cada kernel.\n",
        "*   Árvore de Decisão: Testar diferentes valores para *max_leaf_nodes* e para *min_samples_split*.\n",
        "*  Random Forest: Testar diferentes valores para *n_estimators*.\n",
        "*   Gradient Boosting: Testar diferentes valores para *n_estimators* e *learning_rate*.\n",
        "\n",
        "\n",
        "2.  Comparar a melhor versão de cada método na base de teste utilizando **matriz de confusão** e o **relatório de métricas**.\n",
        "\n"
      ]
    },
    {
      "cell_type": "markdown",
      "metadata": {
        "id": "LrXm6t8QvlkW"
      },
      "source": [
        "> **Faça ajuste do SVM RBF** usando `GridSearchCV`.\n",
        ">\n",
        "> *Dicas:* crie um dicionário especificando diferentes valores para os hiperparâmetros `C` e `gamma`. Na hora de instanciar o `GridSearchCV`, você deverá passar um modelo SVM com o argumento `kernel='rbf'`.\n",
        ">"
      ]
    },
    {
      "cell_type": "code",
      "execution_count": 31,
      "metadata": {
        "id": "G1N5PfGYvlkW"
      },
      "outputs": [],
      "source": [
        "param_grid = {'C': [0.1, 1, 10, 100]\n",
        "              , 'gamma': [1, 0.1, 0.01, 0.001]\n",
        "             }"
      ]
    },
    {
      "cell_type": "code",
      "execution_count": 32,
      "metadata": {
        "id": "kp8LpkiTvlkW"
      },
      "outputs": [],
      "source": [
        "modelo_rbf = SVC(kernel='rbf')"
      ]
    },
    {
      "cell_type": "code",
      "execution_count": 33,
      "metadata": {
        "id": "leLOFpHjvlkW"
      },
      "outputs": [],
      "source": [
        "svm_rbf = GridSearchCV(modelo_rbf, param_grid, cv=5)"
      ]
    },
    {
      "cell_type": "code",
      "execution_count": 34,
      "metadata": {
        "id": "fi0WoeO_vlkX",
        "colab": {
          "base_uri": "https://localhost:8080/",
          "height": 118
        },
        "outputId": "0dc0b478-6cf9-478e-bc51-8169b48ea5a8"
      },
      "outputs": [
        {
          "output_type": "execute_result",
          "data": {
            "text/plain": [
              "GridSearchCV(cv=5, estimator=SVC(),\n",
              "             param_grid={'C': [0.1, 1, 10, 100],\n",
              "                         'gamma': [1, 0.1, 0.01, 0.001]})"
            ],
            "text/html": [
              "<style>#sk-container-id-2 {color: black;background-color: white;}#sk-container-id-2 pre{padding: 0;}#sk-container-id-2 div.sk-toggleable {background-color: white;}#sk-container-id-2 label.sk-toggleable__label {cursor: pointer;display: block;width: 100%;margin-bottom: 0;padding: 0.3em;box-sizing: border-box;text-align: center;}#sk-container-id-2 label.sk-toggleable__label-arrow:before {content: \"▸\";float: left;margin-right: 0.25em;color: #696969;}#sk-container-id-2 label.sk-toggleable__label-arrow:hover:before {color: black;}#sk-container-id-2 div.sk-estimator:hover label.sk-toggleable__label-arrow:before {color: black;}#sk-container-id-2 div.sk-toggleable__content {max-height: 0;max-width: 0;overflow: hidden;text-align: left;background-color: #f0f8ff;}#sk-container-id-2 div.sk-toggleable__content pre {margin: 0.2em;color: black;border-radius: 0.25em;background-color: #f0f8ff;}#sk-container-id-2 input.sk-toggleable__control:checked~div.sk-toggleable__content {max-height: 200px;max-width: 100%;overflow: auto;}#sk-container-id-2 input.sk-toggleable__control:checked~label.sk-toggleable__label-arrow:before {content: \"▾\";}#sk-container-id-2 div.sk-estimator input.sk-toggleable__control:checked~label.sk-toggleable__label {background-color: #d4ebff;}#sk-container-id-2 div.sk-label input.sk-toggleable__control:checked~label.sk-toggleable__label {background-color: #d4ebff;}#sk-container-id-2 input.sk-hidden--visually {border: 0;clip: rect(1px 1px 1px 1px);clip: rect(1px, 1px, 1px, 1px);height: 1px;margin: -1px;overflow: hidden;padding: 0;position: absolute;width: 1px;}#sk-container-id-2 div.sk-estimator {font-family: monospace;background-color: #f0f8ff;border: 1px dotted black;border-radius: 0.25em;box-sizing: border-box;margin-bottom: 0.5em;}#sk-container-id-2 div.sk-estimator:hover {background-color: #d4ebff;}#sk-container-id-2 div.sk-parallel-item::after {content: \"\";width: 100%;border-bottom: 1px solid gray;flex-grow: 1;}#sk-container-id-2 div.sk-label:hover label.sk-toggleable__label {background-color: #d4ebff;}#sk-container-id-2 div.sk-serial::before {content: \"\";position: absolute;border-left: 1px solid gray;box-sizing: border-box;top: 0;bottom: 0;left: 50%;z-index: 0;}#sk-container-id-2 div.sk-serial {display: flex;flex-direction: column;align-items: center;background-color: white;padding-right: 0.2em;padding-left: 0.2em;position: relative;}#sk-container-id-2 div.sk-item {position: relative;z-index: 1;}#sk-container-id-2 div.sk-parallel {display: flex;align-items: stretch;justify-content: center;background-color: white;position: relative;}#sk-container-id-2 div.sk-item::before, #sk-container-id-2 div.sk-parallel-item::before {content: \"\";position: absolute;border-left: 1px solid gray;box-sizing: border-box;top: 0;bottom: 0;left: 50%;z-index: -1;}#sk-container-id-2 div.sk-parallel-item {display: flex;flex-direction: column;z-index: 1;position: relative;background-color: white;}#sk-container-id-2 div.sk-parallel-item:first-child::after {align-self: flex-end;width: 50%;}#sk-container-id-2 div.sk-parallel-item:last-child::after {align-self: flex-start;width: 50%;}#sk-container-id-2 div.sk-parallel-item:only-child::after {width: 0;}#sk-container-id-2 div.sk-dashed-wrapped {border: 1px dashed gray;margin: 0 0.4em 0.5em 0.4em;box-sizing: border-box;padding-bottom: 0.4em;background-color: white;}#sk-container-id-2 div.sk-label label {font-family: monospace;font-weight: bold;display: inline-block;line-height: 1.2em;}#sk-container-id-2 div.sk-label-container {text-align: center;}#sk-container-id-2 div.sk-container {/* jupyter's `normalize.less` sets `[hidden] { display: none; }` but bootstrap.min.css set `[hidden] { display: none !important; }` so we also need the `!important` here to be able to override the default hidden behavior on the sphinx rendered scikit-learn.org. See: https://github.com/scikit-learn/scikit-learn/issues/21755 */display: inline-block !important;position: relative;}#sk-container-id-2 div.sk-text-repr-fallback {display: none;}</style><div id=\"sk-container-id-2\" class=\"sk-top-container\"><div class=\"sk-text-repr-fallback\"><pre>GridSearchCV(cv=5, estimator=SVC(),\n",
              "             param_grid={&#x27;C&#x27;: [0.1, 1, 10, 100],\n",
              "                         &#x27;gamma&#x27;: [1, 0.1, 0.01, 0.001]})</pre><b>In a Jupyter environment, please rerun this cell to show the HTML representation or trust the notebook. <br />On GitHub, the HTML representation is unable to render, please try loading this page with nbviewer.org.</b></div><div class=\"sk-container\" hidden><div class=\"sk-item sk-dashed-wrapped\"><div class=\"sk-label-container\"><div class=\"sk-label sk-toggleable\"><input class=\"sk-toggleable__control sk-hidden--visually\" id=\"sk-estimator-id-2\" type=\"checkbox\" ><label for=\"sk-estimator-id-2\" class=\"sk-toggleable__label sk-toggleable__label-arrow\">GridSearchCV</label><div class=\"sk-toggleable__content\"><pre>GridSearchCV(cv=5, estimator=SVC(),\n",
              "             param_grid={&#x27;C&#x27;: [0.1, 1, 10, 100],\n",
              "                         &#x27;gamma&#x27;: [1, 0.1, 0.01, 0.001]})</pre></div></div></div><div class=\"sk-parallel\"><div class=\"sk-parallel-item\"><div class=\"sk-item\"><div class=\"sk-label-container\"><div class=\"sk-label sk-toggleable\"><input class=\"sk-toggleable__control sk-hidden--visually\" id=\"sk-estimator-id-3\" type=\"checkbox\" ><label for=\"sk-estimator-id-3\" class=\"sk-toggleable__label sk-toggleable__label-arrow\">estimator: SVC</label><div class=\"sk-toggleable__content\"><pre>SVC()</pre></div></div></div><div class=\"sk-serial\"><div class=\"sk-item\"><div class=\"sk-estimator sk-toggleable\"><input class=\"sk-toggleable__control sk-hidden--visually\" id=\"sk-estimator-id-4\" type=\"checkbox\" ><label for=\"sk-estimator-id-4\" class=\"sk-toggleable__label sk-toggleable__label-arrow\">SVC</label><div class=\"sk-toggleable__content\"><pre>SVC()</pre></div></div></div></div></div></div></div></div></div></div>"
            ]
          },
          "metadata": {},
          "execution_count": 34
        }
      ],
      "source": [
        "svm_rbf.fit(X_trainval, y_trainval)"
      ]
    },
    {
      "cell_type": "code",
      "execution_count": 35,
      "metadata": {
        "id": "exDQHzoIvlkX"
      },
      "outputs": [],
      "source": [
        "y_pred_rbf = svm_rbf.predict(X_test)"
      ]
    },
    {
      "cell_type": "code",
      "execution_count": 36,
      "metadata": {
        "id": "m2BgIlysvlkX",
        "colab": {
          "base_uri": "https://localhost:8080/"
        },
        "outputId": "bf1a6434-3416-4402-b344-e43db7aef90d"
      },
      "outputs": [
        {
          "output_type": "execute_result",
          "data": {
            "text/plain": [
              "0.37719298245614036"
            ]
          },
          "metadata": {},
          "execution_count": 36
        }
      ],
      "source": [
        "test_acc = accuracy_score(y_test, y_pred_rbf)\n",
        "test_acc"
      ]
    },
    {
      "cell_type": "code",
      "execution_count": 37,
      "metadata": {
        "id": "LwKJdTNOvlkX",
        "colab": {
          "base_uri": "https://localhost:8080/"
        },
        "outputId": "a2ba137c-1b2b-407f-bd98-78b9aac7dbf1"
      },
      "outputs": [
        {
          "output_type": "stream",
          "name": "stdout",
          "text": [
            "              precision    recall  f1-score   support\n",
            "\n",
            "           0       0.38      1.00      0.55        43\n",
            "           1       0.00      0.00      0.00        71\n",
            "\n",
            "    accuracy                           0.38       114\n",
            "   macro avg       0.19      0.50      0.27       114\n",
            "weighted avg       0.14      0.38      0.21       114\n",
            "\n"
          ]
        },
        {
          "output_type": "stream",
          "name": "stderr",
          "text": [
            "/usr/local/lib/python3.10/dist-packages/sklearn/metrics/_classification.py:1344: UndefinedMetricWarning: Precision and F-score are ill-defined and being set to 0.0 in labels with no predicted samples. Use `zero_division` parameter to control this behavior.\n",
            "  _warn_prf(average, modifier, msg_start, len(result))\n",
            "/usr/local/lib/python3.10/dist-packages/sklearn/metrics/_classification.py:1344: UndefinedMetricWarning: Precision and F-score are ill-defined and being set to 0.0 in labels with no predicted samples. Use `zero_division` parameter to control this behavior.\n",
            "  _warn_prf(average, modifier, msg_start, len(result))\n",
            "/usr/local/lib/python3.10/dist-packages/sklearn/metrics/_classification.py:1344: UndefinedMetricWarning: Precision and F-score are ill-defined and being set to 0.0 in labels with no predicted samples. Use `zero_division` parameter to control this behavior.\n",
            "  _warn_prf(average, modifier, msg_start, len(result))\n"
          ]
        }
      ],
      "source": [
        "test_report = classification_report(y_test, y_pred_rbf)\n",
        "print(test_report)"
      ]
    },
    {
      "cell_type": "code",
      "source": [
        "print(\"Melhores hiperparametros: \", svm_rbf.best_params_)"
      ],
      "metadata": {
        "colab": {
          "base_uri": "https://localhost:8080/"
        },
        "id": "uKjh8coLpDIZ",
        "outputId": "de98ab34-02f2-43ab-e468-752346ff5cc6"
      },
      "execution_count": 38,
      "outputs": [
        {
          "output_type": "stream",
          "name": "stdout",
          "text": [
            "Melhores hiperparametros:  {'C': 1, 'gamma': 0.001}\n"
          ]
        }
      ]
    },
    {
      "cell_type": "markdown",
      "metadata": {
        "id": "MHwCRJZtvlkX"
      },
      "source": [
        "> **Faça ajuste do SVM polinomial** usando `GridSearchCV`.\n",
        ">\n",
        "> *Dicas:* crie um dicionário especificando diferentes valores para os hiperparâmetros `C` e `degree`. Na hora de instanciar o `GridSearchCV`, você deverá passar um modelo SVM com o argumento `kernel='poly'`.\n",
        ">"
      ]
    },
    {
      "cell_type": "code",
      "execution_count": 39,
      "metadata": {
        "id": "ze_uHrhgvlkX"
      },
      "outputs": [],
      "source": [
        "param_grid = {'C': [0.1, 1, 10, 100]\n",
        "              , 'degree': [1, 0.1, 0.01, 0.001]\n",
        "             }"
      ]
    },
    {
      "cell_type": "code",
      "execution_count": 41,
      "metadata": {
        "id": "UihXgu9lvlkX"
      },
      "outputs": [],
      "source": [
        "modelo_poli = SVC(kernel='poly')"
      ]
    },
    {
      "cell_type": "code",
      "execution_count": 42,
      "metadata": {
        "id": "c-1pTAwkvlkX"
      },
      "outputs": [],
      "source": [
        "svm_clf_poli = GridSearchCV(modelo_poli, param_grid, cv=5)\n"
      ]
    },
    {
      "cell_type": "code",
      "execution_count": 43,
      "metadata": {
        "id": "vXaBXOA5vlkX",
        "colab": {
          "base_uri": "https://localhost:8080/",
          "height": 1000
        },
        "outputId": "ee0357e7-bb4d-4de9-e9dd-70b30cac6e47"
      },
      "outputs": [
        {
          "output_type": "stream",
          "name": "stderr",
          "text": [
            "/usr/local/lib/python3.10/dist-packages/sklearn/model_selection/_validation.py:378: FitFailedWarning: \n",
            "60 fits failed out of a total of 80.\n",
            "The score on these train-test partitions for these parameters will be set to nan.\n",
            "If these failures are not expected, you can try to debug them by setting error_score='raise'.\n",
            "\n",
            "Below are more details about the failures:\n",
            "--------------------------------------------------------------------------------\n",
            "20 fits failed with the following error:\n",
            "Traceback (most recent call last):\n",
            "  File \"/usr/local/lib/python3.10/dist-packages/sklearn/model_selection/_validation.py\", line 686, in _fit_and_score\n",
            "    estimator.fit(X_train, y_train, **fit_params)\n",
            "  File \"/usr/local/lib/python3.10/dist-packages/sklearn/svm/_base.py\", line 180, in fit\n",
            "    self._validate_params()\n",
            "  File \"/usr/local/lib/python3.10/dist-packages/sklearn/base.py\", line 600, in _validate_params\n",
            "    validate_parameter_constraints(\n",
            "  File \"/usr/local/lib/python3.10/dist-packages/sklearn/utils/_param_validation.py\", line 97, in validate_parameter_constraints\n",
            "    raise InvalidParameterError(\n",
            "sklearn.utils._param_validation.InvalidParameterError: The 'degree' parameter of SVC must be an int in the range [0, inf). Got 0.1 instead.\n",
            "\n",
            "--------------------------------------------------------------------------------\n",
            "20 fits failed with the following error:\n",
            "Traceback (most recent call last):\n",
            "  File \"/usr/local/lib/python3.10/dist-packages/sklearn/model_selection/_validation.py\", line 686, in _fit_and_score\n",
            "    estimator.fit(X_train, y_train, **fit_params)\n",
            "  File \"/usr/local/lib/python3.10/dist-packages/sklearn/svm/_base.py\", line 180, in fit\n",
            "    self._validate_params()\n",
            "  File \"/usr/local/lib/python3.10/dist-packages/sklearn/base.py\", line 600, in _validate_params\n",
            "    validate_parameter_constraints(\n",
            "  File \"/usr/local/lib/python3.10/dist-packages/sklearn/utils/_param_validation.py\", line 97, in validate_parameter_constraints\n",
            "    raise InvalidParameterError(\n",
            "sklearn.utils._param_validation.InvalidParameterError: The 'degree' parameter of SVC must be an int in the range [0, inf). Got 0.01 instead.\n",
            "\n",
            "--------------------------------------------------------------------------------\n",
            "20 fits failed with the following error:\n",
            "Traceback (most recent call last):\n",
            "  File \"/usr/local/lib/python3.10/dist-packages/sklearn/model_selection/_validation.py\", line 686, in _fit_and_score\n",
            "    estimator.fit(X_train, y_train, **fit_params)\n",
            "  File \"/usr/local/lib/python3.10/dist-packages/sklearn/svm/_base.py\", line 180, in fit\n",
            "    self._validate_params()\n",
            "  File \"/usr/local/lib/python3.10/dist-packages/sklearn/base.py\", line 600, in _validate_params\n",
            "    validate_parameter_constraints(\n",
            "  File \"/usr/local/lib/python3.10/dist-packages/sklearn/utils/_param_validation.py\", line 97, in validate_parameter_constraints\n",
            "    raise InvalidParameterError(\n",
            "sklearn.utils._param_validation.InvalidParameterError: The 'degree' parameter of SVC must be an int in the range [0, inf). Got 0.001 instead.\n",
            "\n",
            "  warnings.warn(some_fits_failed_message, FitFailedWarning)\n",
            "/usr/local/lib/python3.10/dist-packages/sklearn/model_selection/_search.py:952: UserWarning: One or more of the test scores are non-finite: [0.86373626        nan        nan        nan 0.8989011         nan\n",
            "        nan        nan 0.91208791        nan        nan        nan\n",
            " 0.92527473        nan        nan        nan]\n",
            "  warnings.warn(\n"
          ]
        },
        {
          "output_type": "execute_result",
          "data": {
            "text/plain": [
              "GridSearchCV(cv=5, estimator=SVC(kernel='poly'),\n",
              "             param_grid={'C': [0.1, 1, 10, 100],\n",
              "                         'degree': [1, 0.1, 0.01, 0.001]})"
            ],
            "text/html": [
              "<style>#sk-container-id-3 {color: black;background-color: white;}#sk-container-id-3 pre{padding: 0;}#sk-container-id-3 div.sk-toggleable {background-color: white;}#sk-container-id-3 label.sk-toggleable__label {cursor: pointer;display: block;width: 100%;margin-bottom: 0;padding: 0.3em;box-sizing: border-box;text-align: center;}#sk-container-id-3 label.sk-toggleable__label-arrow:before {content: \"▸\";float: left;margin-right: 0.25em;color: #696969;}#sk-container-id-3 label.sk-toggleable__label-arrow:hover:before {color: black;}#sk-container-id-3 div.sk-estimator:hover label.sk-toggleable__label-arrow:before {color: black;}#sk-container-id-3 div.sk-toggleable__content {max-height: 0;max-width: 0;overflow: hidden;text-align: left;background-color: #f0f8ff;}#sk-container-id-3 div.sk-toggleable__content pre {margin: 0.2em;color: black;border-radius: 0.25em;background-color: #f0f8ff;}#sk-container-id-3 input.sk-toggleable__control:checked~div.sk-toggleable__content {max-height: 200px;max-width: 100%;overflow: auto;}#sk-container-id-3 input.sk-toggleable__control:checked~label.sk-toggleable__label-arrow:before {content: \"▾\";}#sk-container-id-3 div.sk-estimator input.sk-toggleable__control:checked~label.sk-toggleable__label {background-color: #d4ebff;}#sk-container-id-3 div.sk-label input.sk-toggleable__control:checked~label.sk-toggleable__label {background-color: #d4ebff;}#sk-container-id-3 input.sk-hidden--visually {border: 0;clip: rect(1px 1px 1px 1px);clip: rect(1px, 1px, 1px, 1px);height: 1px;margin: -1px;overflow: hidden;padding: 0;position: absolute;width: 1px;}#sk-container-id-3 div.sk-estimator {font-family: monospace;background-color: #f0f8ff;border: 1px dotted black;border-radius: 0.25em;box-sizing: border-box;margin-bottom: 0.5em;}#sk-container-id-3 div.sk-estimator:hover {background-color: #d4ebff;}#sk-container-id-3 div.sk-parallel-item::after {content: \"\";width: 100%;border-bottom: 1px solid gray;flex-grow: 1;}#sk-container-id-3 div.sk-label:hover label.sk-toggleable__label {background-color: #d4ebff;}#sk-container-id-3 div.sk-serial::before {content: \"\";position: absolute;border-left: 1px solid gray;box-sizing: border-box;top: 0;bottom: 0;left: 50%;z-index: 0;}#sk-container-id-3 div.sk-serial {display: flex;flex-direction: column;align-items: center;background-color: white;padding-right: 0.2em;padding-left: 0.2em;position: relative;}#sk-container-id-3 div.sk-item {position: relative;z-index: 1;}#sk-container-id-3 div.sk-parallel {display: flex;align-items: stretch;justify-content: center;background-color: white;position: relative;}#sk-container-id-3 div.sk-item::before, #sk-container-id-3 div.sk-parallel-item::before {content: \"\";position: absolute;border-left: 1px solid gray;box-sizing: border-box;top: 0;bottom: 0;left: 50%;z-index: -1;}#sk-container-id-3 div.sk-parallel-item {display: flex;flex-direction: column;z-index: 1;position: relative;background-color: white;}#sk-container-id-3 div.sk-parallel-item:first-child::after {align-self: flex-end;width: 50%;}#sk-container-id-3 div.sk-parallel-item:last-child::after {align-self: flex-start;width: 50%;}#sk-container-id-3 div.sk-parallel-item:only-child::after {width: 0;}#sk-container-id-3 div.sk-dashed-wrapped {border: 1px dashed gray;margin: 0 0.4em 0.5em 0.4em;box-sizing: border-box;padding-bottom: 0.4em;background-color: white;}#sk-container-id-3 div.sk-label label {font-family: monospace;font-weight: bold;display: inline-block;line-height: 1.2em;}#sk-container-id-3 div.sk-label-container {text-align: center;}#sk-container-id-3 div.sk-container {/* jupyter's `normalize.less` sets `[hidden] { display: none; }` but bootstrap.min.css set `[hidden] { display: none !important; }` so we also need the `!important` here to be able to override the default hidden behavior on the sphinx rendered scikit-learn.org. See: https://github.com/scikit-learn/scikit-learn/issues/21755 */display: inline-block !important;position: relative;}#sk-container-id-3 div.sk-text-repr-fallback {display: none;}</style><div id=\"sk-container-id-3\" class=\"sk-top-container\"><div class=\"sk-text-repr-fallback\"><pre>GridSearchCV(cv=5, estimator=SVC(kernel=&#x27;poly&#x27;),\n",
              "             param_grid={&#x27;C&#x27;: [0.1, 1, 10, 100],\n",
              "                         &#x27;degree&#x27;: [1, 0.1, 0.01, 0.001]})</pre><b>In a Jupyter environment, please rerun this cell to show the HTML representation or trust the notebook. <br />On GitHub, the HTML representation is unable to render, please try loading this page with nbviewer.org.</b></div><div class=\"sk-container\" hidden><div class=\"sk-item sk-dashed-wrapped\"><div class=\"sk-label-container\"><div class=\"sk-label sk-toggleable\"><input class=\"sk-toggleable__control sk-hidden--visually\" id=\"sk-estimator-id-5\" type=\"checkbox\" ><label for=\"sk-estimator-id-5\" class=\"sk-toggleable__label sk-toggleable__label-arrow\">GridSearchCV</label><div class=\"sk-toggleable__content\"><pre>GridSearchCV(cv=5, estimator=SVC(kernel=&#x27;poly&#x27;),\n",
              "             param_grid={&#x27;C&#x27;: [0.1, 1, 10, 100],\n",
              "                         &#x27;degree&#x27;: [1, 0.1, 0.01, 0.001]})</pre></div></div></div><div class=\"sk-parallel\"><div class=\"sk-parallel-item\"><div class=\"sk-item\"><div class=\"sk-label-container\"><div class=\"sk-label sk-toggleable\"><input class=\"sk-toggleable__control sk-hidden--visually\" id=\"sk-estimator-id-6\" type=\"checkbox\" ><label for=\"sk-estimator-id-6\" class=\"sk-toggleable__label sk-toggleable__label-arrow\">estimator: SVC</label><div class=\"sk-toggleable__content\"><pre>SVC(kernel=&#x27;poly&#x27;)</pre></div></div></div><div class=\"sk-serial\"><div class=\"sk-item\"><div class=\"sk-estimator sk-toggleable\"><input class=\"sk-toggleable__control sk-hidden--visually\" id=\"sk-estimator-id-7\" type=\"checkbox\" ><label for=\"sk-estimator-id-7\" class=\"sk-toggleable__label sk-toggleable__label-arrow\">SVC</label><div class=\"sk-toggleable__content\"><pre>SVC(kernel=&#x27;poly&#x27;)</pre></div></div></div></div></div></div></div></div></div></div>"
            ]
          },
          "metadata": {},
          "execution_count": 43
        }
      ],
      "source": [
        "svm_clf_poli.fit(X_trainval, y_trainval)"
      ]
    },
    {
      "cell_type": "code",
      "execution_count": 44,
      "metadata": {
        "id": "xXk4O864vlkX"
      },
      "outputs": [],
      "source": [
        "y_pred_poli = svm_clf_poli.predict(X_test)"
      ]
    },
    {
      "cell_type": "code",
      "execution_count": 45,
      "metadata": {
        "id": "U-AYQitHvlkX",
        "colab": {
          "base_uri": "https://localhost:8080/"
        },
        "outputId": "0e36cb19-84d7-4512-9b23-f70baf577d02"
      },
      "outputs": [
        {
          "output_type": "execute_result",
          "data": {
            "text/plain": [
              "0.6228070175438597"
            ]
          },
          "metadata": {},
          "execution_count": 45
        }
      ],
      "source": [
        "test_acc = accuracy_score(y_test, y_pred_poli)\n",
        "test_acc"
      ]
    },
    {
      "cell_type": "code",
      "execution_count": 46,
      "metadata": {
        "id": "RcV0RoC4vlkX",
        "colab": {
          "base_uri": "https://localhost:8080/"
        },
        "outputId": "57d059e7-f9d4-47b2-8d70-da38e9e59a89"
      },
      "outputs": [
        {
          "output_type": "stream",
          "name": "stdout",
          "text": [
            "              precision    recall  f1-score   support\n",
            "\n",
            "           0       0.00      0.00      0.00        43\n",
            "           1       0.62      1.00      0.77        71\n",
            "\n",
            "    accuracy                           0.62       114\n",
            "   macro avg       0.31      0.50      0.38       114\n",
            "weighted avg       0.39      0.62      0.48       114\n",
            "\n"
          ]
        },
        {
          "output_type": "stream",
          "name": "stderr",
          "text": [
            "/usr/local/lib/python3.10/dist-packages/sklearn/metrics/_classification.py:1344: UndefinedMetricWarning: Precision and F-score are ill-defined and being set to 0.0 in labels with no predicted samples. Use `zero_division` parameter to control this behavior.\n",
            "  _warn_prf(average, modifier, msg_start, len(result))\n",
            "/usr/local/lib/python3.10/dist-packages/sklearn/metrics/_classification.py:1344: UndefinedMetricWarning: Precision and F-score are ill-defined and being set to 0.0 in labels with no predicted samples. Use `zero_division` parameter to control this behavior.\n",
            "  _warn_prf(average, modifier, msg_start, len(result))\n",
            "/usr/local/lib/python3.10/dist-packages/sklearn/metrics/_classification.py:1344: UndefinedMetricWarning: Precision and F-score are ill-defined and being set to 0.0 in labels with no predicted samples. Use `zero_division` parameter to control this behavior.\n",
            "  _warn_prf(average, modifier, msg_start, len(result))\n"
          ]
        }
      ],
      "source": [
        "test_report = classification_report(y_test, y_pred_poli)\n",
        "print(test_report)"
      ]
    },
    {
      "cell_type": "code",
      "source": [
        "print(\"Melhores hiperparametros: \", svm_clf_poli.best_params_)"
      ],
      "metadata": {
        "colab": {
          "base_uri": "https://localhost:8080/"
        },
        "id": "Fvq9lPnoqa9-",
        "outputId": "9c206bcd-df77-4d8a-ad4c-851ed4e0db9c"
      },
      "execution_count": 47,
      "outputs": [
        {
          "output_type": "stream",
          "name": "stdout",
          "text": [
            "Melhores hiperparametros:  {'C': 100, 'degree': 1}\n"
          ]
        }
      ]
    },
    {
      "cell_type": "markdown",
      "metadata": {
        "id": "Em2EasrmU0ff"
      },
      "source": [
        "### Mudando de classificador\n",
        "\n",
        "Aqui nós vamos utilizar Árvores de Decisão. O **GridSearchCV** será também aplicado para encontrar os melhores valores de hyperparâmetros para a Árvore de Decisão. **Obeservação**: Serão testados diferentes valores para *max_leaf_nodes* e para *min_samples_split*."
      ]
    },
    {
      "cell_type": "markdown",
      "metadata": {
        "id": "QzpiNrP-vlkY"
      },
      "source": [
        "> **Faça ajuste de hiperparâmetros** para árvores de decisão."
      ]
    },
    {
      "cell_type": "code",
      "execution_count": 48,
      "metadata": {
        "id": "7RMFMktLVeYy"
      },
      "outputs": [],
      "source": [
        "from sklearn.tree import DecisionTreeClassifier"
      ]
    },
    {
      "cell_type": "code",
      "execution_count": 49,
      "metadata": {
        "id": "L1x3RmnNvlkY"
      },
      "outputs": [],
      "source": [
        "param_grid  = {'min_samples_split': [2, 3, 4, 6, 8],\n",
        "               'max_leaf_nodes': list(range(2, 100))}"
      ]
    },
    {
      "cell_type": "code",
      "execution_count": 51,
      "metadata": {
        "id": "IX3a_EvYvlkY"
      },
      "outputs": [],
      "source": [
        "decision_tree_clf = GridSearchCV(DecisionTreeClassifier(), param_grid, cv=5, verbose=1)"
      ]
    },
    {
      "cell_type": "code",
      "execution_count": 52,
      "metadata": {
        "id": "tOB0iLegvlkY",
        "colab": {
          "base_uri": "https://localhost:8080/",
          "height": 135
        },
        "outputId": "7d4d8ea7-87aa-4f54-cc99-0bd69ba17304"
      },
      "outputs": [
        {
          "output_type": "stream",
          "name": "stdout",
          "text": [
            "Fitting 5 folds for each of 490 candidates, totalling 2450 fits\n"
          ]
        },
        {
          "output_type": "execute_result",
          "data": {
            "text/plain": [
              "GridSearchCV(cv=5, estimator=DecisionTreeClassifier(),\n",
              "             param_grid={'max_leaf_nodes': [2, 3, 4, 5, 6, 7, 8, 9, 10, 11, 12,\n",
              "                                            13, 14, 15, 16, 17, 18, 19, 20, 21,\n",
              "                                            22, 23, 24, 25, 26, 27, 28, 29, 30,\n",
              "                                            31, ...],\n",
              "                         'min_samples_split': [2, 3, 4, 6, 8]},\n",
              "             verbose=1)"
            ],
            "text/html": [
              "<style>#sk-container-id-4 {color: black;background-color: white;}#sk-container-id-4 pre{padding: 0;}#sk-container-id-4 div.sk-toggleable {background-color: white;}#sk-container-id-4 label.sk-toggleable__label {cursor: pointer;display: block;width: 100%;margin-bottom: 0;padding: 0.3em;box-sizing: border-box;text-align: center;}#sk-container-id-4 label.sk-toggleable__label-arrow:before {content: \"▸\";float: left;margin-right: 0.25em;color: #696969;}#sk-container-id-4 label.sk-toggleable__label-arrow:hover:before {color: black;}#sk-container-id-4 div.sk-estimator:hover label.sk-toggleable__label-arrow:before {color: black;}#sk-container-id-4 div.sk-toggleable__content {max-height: 0;max-width: 0;overflow: hidden;text-align: left;background-color: #f0f8ff;}#sk-container-id-4 div.sk-toggleable__content pre {margin: 0.2em;color: black;border-radius: 0.25em;background-color: #f0f8ff;}#sk-container-id-4 input.sk-toggleable__control:checked~div.sk-toggleable__content {max-height: 200px;max-width: 100%;overflow: auto;}#sk-container-id-4 input.sk-toggleable__control:checked~label.sk-toggleable__label-arrow:before {content: \"▾\";}#sk-container-id-4 div.sk-estimator input.sk-toggleable__control:checked~label.sk-toggleable__label {background-color: #d4ebff;}#sk-container-id-4 div.sk-label input.sk-toggleable__control:checked~label.sk-toggleable__label {background-color: #d4ebff;}#sk-container-id-4 input.sk-hidden--visually {border: 0;clip: rect(1px 1px 1px 1px);clip: rect(1px, 1px, 1px, 1px);height: 1px;margin: -1px;overflow: hidden;padding: 0;position: absolute;width: 1px;}#sk-container-id-4 div.sk-estimator {font-family: monospace;background-color: #f0f8ff;border: 1px dotted black;border-radius: 0.25em;box-sizing: border-box;margin-bottom: 0.5em;}#sk-container-id-4 div.sk-estimator:hover {background-color: #d4ebff;}#sk-container-id-4 div.sk-parallel-item::after {content: \"\";width: 100%;border-bottom: 1px solid gray;flex-grow: 1;}#sk-container-id-4 div.sk-label:hover label.sk-toggleable__label {background-color: #d4ebff;}#sk-container-id-4 div.sk-serial::before {content: \"\";position: absolute;border-left: 1px solid gray;box-sizing: border-box;top: 0;bottom: 0;left: 50%;z-index: 0;}#sk-container-id-4 div.sk-serial {display: flex;flex-direction: column;align-items: center;background-color: white;padding-right: 0.2em;padding-left: 0.2em;position: relative;}#sk-container-id-4 div.sk-item {position: relative;z-index: 1;}#sk-container-id-4 div.sk-parallel {display: flex;align-items: stretch;justify-content: center;background-color: white;position: relative;}#sk-container-id-4 div.sk-item::before, #sk-container-id-4 div.sk-parallel-item::before {content: \"\";position: absolute;border-left: 1px solid gray;box-sizing: border-box;top: 0;bottom: 0;left: 50%;z-index: -1;}#sk-container-id-4 div.sk-parallel-item {display: flex;flex-direction: column;z-index: 1;position: relative;background-color: white;}#sk-container-id-4 div.sk-parallel-item:first-child::after {align-self: flex-end;width: 50%;}#sk-container-id-4 div.sk-parallel-item:last-child::after {align-self: flex-start;width: 50%;}#sk-container-id-4 div.sk-parallel-item:only-child::after {width: 0;}#sk-container-id-4 div.sk-dashed-wrapped {border: 1px dashed gray;margin: 0 0.4em 0.5em 0.4em;box-sizing: border-box;padding-bottom: 0.4em;background-color: white;}#sk-container-id-4 div.sk-label label {font-family: monospace;font-weight: bold;display: inline-block;line-height: 1.2em;}#sk-container-id-4 div.sk-label-container {text-align: center;}#sk-container-id-4 div.sk-container {/* jupyter's `normalize.less` sets `[hidden] { display: none; }` but bootstrap.min.css set `[hidden] { display: none !important; }` so we also need the `!important` here to be able to override the default hidden behavior on the sphinx rendered scikit-learn.org. See: https://github.com/scikit-learn/scikit-learn/issues/21755 */display: inline-block !important;position: relative;}#sk-container-id-4 div.sk-text-repr-fallback {display: none;}</style><div id=\"sk-container-id-4\" class=\"sk-top-container\"><div class=\"sk-text-repr-fallback\"><pre>GridSearchCV(cv=5, estimator=DecisionTreeClassifier(),\n",
              "             param_grid={&#x27;max_leaf_nodes&#x27;: [2, 3, 4, 5, 6, 7, 8, 9, 10, 11, 12,\n",
              "                                            13, 14, 15, 16, 17, 18, 19, 20, 21,\n",
              "                                            22, 23, 24, 25, 26, 27, 28, 29, 30,\n",
              "                                            31, ...],\n",
              "                         &#x27;min_samples_split&#x27;: [2, 3, 4, 6, 8]},\n",
              "             verbose=1)</pre><b>In a Jupyter environment, please rerun this cell to show the HTML representation or trust the notebook. <br />On GitHub, the HTML representation is unable to render, please try loading this page with nbviewer.org.</b></div><div class=\"sk-container\" hidden><div class=\"sk-item sk-dashed-wrapped\"><div class=\"sk-label-container\"><div class=\"sk-label sk-toggleable\"><input class=\"sk-toggleable__control sk-hidden--visually\" id=\"sk-estimator-id-8\" type=\"checkbox\" ><label for=\"sk-estimator-id-8\" class=\"sk-toggleable__label sk-toggleable__label-arrow\">GridSearchCV</label><div class=\"sk-toggleable__content\"><pre>GridSearchCV(cv=5, estimator=DecisionTreeClassifier(),\n",
              "             param_grid={&#x27;max_leaf_nodes&#x27;: [2, 3, 4, 5, 6, 7, 8, 9, 10, 11, 12,\n",
              "                                            13, 14, 15, 16, 17, 18, 19, 20, 21,\n",
              "                                            22, 23, 24, 25, 26, 27, 28, 29, 30,\n",
              "                                            31, ...],\n",
              "                         &#x27;min_samples_split&#x27;: [2, 3, 4, 6, 8]},\n",
              "             verbose=1)</pre></div></div></div><div class=\"sk-parallel\"><div class=\"sk-parallel-item\"><div class=\"sk-item\"><div class=\"sk-label-container\"><div class=\"sk-label sk-toggleable\"><input class=\"sk-toggleable__control sk-hidden--visually\" id=\"sk-estimator-id-9\" type=\"checkbox\" ><label for=\"sk-estimator-id-9\" class=\"sk-toggleable__label sk-toggleable__label-arrow\">estimator: DecisionTreeClassifier</label><div class=\"sk-toggleable__content\"><pre>DecisionTreeClassifier()</pre></div></div></div><div class=\"sk-serial\"><div class=\"sk-item\"><div class=\"sk-estimator sk-toggleable\"><input class=\"sk-toggleable__control sk-hidden--visually\" id=\"sk-estimator-id-10\" type=\"checkbox\" ><label for=\"sk-estimator-id-10\" class=\"sk-toggleable__label sk-toggleable__label-arrow\">DecisionTreeClassifier</label><div class=\"sk-toggleable__content\"><pre>DecisionTreeClassifier()</pre></div></div></div></div></div></div></div></div></div></div>"
            ]
          },
          "metadata": {},
          "execution_count": 52
        }
      ],
      "source": [
        "decision_tree_clf.fit(X_trainval, y_trainval)"
      ]
    },
    {
      "cell_type": "code",
      "execution_count": 53,
      "metadata": {
        "id": "mKdlQlMqvlkY",
        "colab": {
          "base_uri": "https://localhost:8080/"
        },
        "outputId": "1e317b91-c9a0-477e-85c6-28bc79a9b143"
      },
      "outputs": [
        {
          "output_type": "execute_result",
          "data": {
            "text/plain": [
              "0.7543859649122807"
            ]
          },
          "metadata": {},
          "execution_count": 53
        }
      ],
      "source": [
        "accuracy_score(y_test, decision_tree_clf.predict(X_test))"
      ]
    },
    {
      "cell_type": "code",
      "execution_count": 54,
      "metadata": {
        "id": "ZwuVwpTzvlkY",
        "colab": {
          "base_uri": "https://localhost:8080/"
        },
        "outputId": "885600f9-4fe8-4bb1-f2d7-dd2d7af5d064"
      },
      "outputs": [
        {
          "output_type": "stream",
          "name": "stdout",
          "text": [
            "              precision    recall  f1-score   support\n",
            "\n",
            "           0       0.86      0.42      0.56        43\n",
            "           1       0.73      0.96      0.83        71\n",
            "\n",
            "    accuracy                           0.75       114\n",
            "   macro avg       0.79      0.69      0.70       114\n",
            "weighted avg       0.78      0.75      0.73       114\n",
            "\n"
          ]
        }
      ],
      "source": [
        "test_report = classification_report(y_test, decision_tree_clf.predict(X_test))\n",
        "print(test_report)"
      ]
    },
    {
      "cell_type": "code",
      "source": [
        "print(\"Melhores hiperparametros: \", decision_tree_clf.best_params_)"
      ],
      "metadata": {
        "colab": {
          "base_uri": "https://localhost:8080/"
        },
        "id": "Yh9w5XpxrtyZ",
        "outputId": "8f03ece8-7039-40db-e9fa-a6170a60259e"
      },
      "execution_count": 55,
      "outputs": [
        {
          "output_type": "stream",
          "name": "stdout",
          "text": [
            "Melhores hiperparametros:  {'max_leaf_nodes': 8, 'min_samples_split': 8}\n"
          ]
        }
      ]
    },
    {
      "cell_type": "markdown",
      "metadata": {
        "id": "FURIlC_jZlzy"
      },
      "source": [
        "### **Utilizando Comitê de Preditores**"
      ]
    },
    {
      "cell_type": "markdown",
      "metadata": {
        "id": "MSAfV_BlvlkY"
      },
      "source": [
        "Será que um comitê é melhor do que um preditor individual?\n",
        "\n",
        "Aqui, nós vamos verificar o desempenho de **Boosting** (GradientBoosting) e **Random Fores**t, todos utilizados com o Árvore de Decisão como algoritmo de base. Nós vamos comparar o resultado obtido por cada método de geração de conjunto com o resultado acima, obtido por uma árvore de decisão, e com o resultado obtido por SVM."
      ]
    },
    {
      "cell_type": "code",
      "execution_count": 56,
      "metadata": {
        "id": "VrnDXfbIBG2k"
      },
      "outputs": [],
      "source": [
        "from sklearn.ensemble import RandomForestClassifier\n",
        "from sklearn.ensemble import GradientBoostingClassifier"
      ]
    },
    {
      "cell_type": "markdown",
      "metadata": {
        "id": "rNibXEJrv0Qc"
      },
      "source": [
        "#### Florestas aleatórias"
      ]
    },
    {
      "cell_type": "markdown",
      "metadata": {
        "id": "d_5XcrH3vlkY"
      },
      "source": [
        "> **Faça ajuste de hiperparâmetros** para florestas aleatórias. O hiperparâmetro a ser ajustado é o número de árvores da floresta (no `sklearn`, esse hiperparâmetro é definido pelo parâmetro `n_estimators` da classe `RandomForestClassifier`)."
      ]
    },
    {
      "cell_type": "code",
      "execution_count": 57,
      "metadata": {
        "id": "fcoYrwZXloXU"
      },
      "outputs": [],
      "source": [
        "param_grid = {'n_estimators':[5, 10, 20, 50, 100, 200]}"
      ]
    },
    {
      "cell_type": "code",
      "execution_count": 58,
      "metadata": {
        "id": "Cx1L5-XdvlkZ"
      },
      "outputs": [],
      "source": [
        "rf_clf = GridSearchCV(RandomForestClassifier()\n",
        "                      ,param_grid\n",
        "                      ,cv=5\n",
        "                      ,verbose=1\n",
        "                     )"
      ]
    },
    {
      "cell_type": "code",
      "execution_count": 59,
      "metadata": {
        "id": "7j0p-VJUvlkZ",
        "colab": {
          "base_uri": "https://localhost:8080/",
          "height": 135
        },
        "outputId": "72b2a3c6-33ea-40b4-9cd6-b37585fe5af7"
      },
      "outputs": [
        {
          "output_type": "stream",
          "name": "stdout",
          "text": [
            "Fitting 5 folds for each of 6 candidates, totalling 30 fits\n"
          ]
        },
        {
          "output_type": "execute_result",
          "data": {
            "text/plain": [
              "GridSearchCV(cv=5, estimator=RandomForestClassifier(),\n",
              "             param_grid={'n_estimators': [5, 10, 20, 50, 100, 200]}, verbose=1)"
            ],
            "text/html": [
              "<style>#sk-container-id-5 {color: black;background-color: white;}#sk-container-id-5 pre{padding: 0;}#sk-container-id-5 div.sk-toggleable {background-color: white;}#sk-container-id-5 label.sk-toggleable__label {cursor: pointer;display: block;width: 100%;margin-bottom: 0;padding: 0.3em;box-sizing: border-box;text-align: center;}#sk-container-id-5 label.sk-toggleable__label-arrow:before {content: \"▸\";float: left;margin-right: 0.25em;color: #696969;}#sk-container-id-5 label.sk-toggleable__label-arrow:hover:before {color: black;}#sk-container-id-5 div.sk-estimator:hover label.sk-toggleable__label-arrow:before {color: black;}#sk-container-id-5 div.sk-toggleable__content {max-height: 0;max-width: 0;overflow: hidden;text-align: left;background-color: #f0f8ff;}#sk-container-id-5 div.sk-toggleable__content pre {margin: 0.2em;color: black;border-radius: 0.25em;background-color: #f0f8ff;}#sk-container-id-5 input.sk-toggleable__control:checked~div.sk-toggleable__content {max-height: 200px;max-width: 100%;overflow: auto;}#sk-container-id-5 input.sk-toggleable__control:checked~label.sk-toggleable__label-arrow:before {content: \"▾\";}#sk-container-id-5 div.sk-estimator input.sk-toggleable__control:checked~label.sk-toggleable__label {background-color: #d4ebff;}#sk-container-id-5 div.sk-label input.sk-toggleable__control:checked~label.sk-toggleable__label {background-color: #d4ebff;}#sk-container-id-5 input.sk-hidden--visually {border: 0;clip: rect(1px 1px 1px 1px);clip: rect(1px, 1px, 1px, 1px);height: 1px;margin: -1px;overflow: hidden;padding: 0;position: absolute;width: 1px;}#sk-container-id-5 div.sk-estimator {font-family: monospace;background-color: #f0f8ff;border: 1px dotted black;border-radius: 0.25em;box-sizing: border-box;margin-bottom: 0.5em;}#sk-container-id-5 div.sk-estimator:hover {background-color: #d4ebff;}#sk-container-id-5 div.sk-parallel-item::after {content: \"\";width: 100%;border-bottom: 1px solid gray;flex-grow: 1;}#sk-container-id-5 div.sk-label:hover label.sk-toggleable__label {background-color: #d4ebff;}#sk-container-id-5 div.sk-serial::before {content: \"\";position: absolute;border-left: 1px solid gray;box-sizing: border-box;top: 0;bottom: 0;left: 50%;z-index: 0;}#sk-container-id-5 div.sk-serial {display: flex;flex-direction: column;align-items: center;background-color: white;padding-right: 0.2em;padding-left: 0.2em;position: relative;}#sk-container-id-5 div.sk-item {position: relative;z-index: 1;}#sk-container-id-5 div.sk-parallel {display: flex;align-items: stretch;justify-content: center;background-color: white;position: relative;}#sk-container-id-5 div.sk-item::before, #sk-container-id-5 div.sk-parallel-item::before {content: \"\";position: absolute;border-left: 1px solid gray;box-sizing: border-box;top: 0;bottom: 0;left: 50%;z-index: -1;}#sk-container-id-5 div.sk-parallel-item {display: flex;flex-direction: column;z-index: 1;position: relative;background-color: white;}#sk-container-id-5 div.sk-parallel-item:first-child::after {align-self: flex-end;width: 50%;}#sk-container-id-5 div.sk-parallel-item:last-child::after {align-self: flex-start;width: 50%;}#sk-container-id-5 div.sk-parallel-item:only-child::after {width: 0;}#sk-container-id-5 div.sk-dashed-wrapped {border: 1px dashed gray;margin: 0 0.4em 0.5em 0.4em;box-sizing: border-box;padding-bottom: 0.4em;background-color: white;}#sk-container-id-5 div.sk-label label {font-family: monospace;font-weight: bold;display: inline-block;line-height: 1.2em;}#sk-container-id-5 div.sk-label-container {text-align: center;}#sk-container-id-5 div.sk-container {/* jupyter's `normalize.less` sets `[hidden] { display: none; }` but bootstrap.min.css set `[hidden] { display: none !important; }` so we also need the `!important` here to be able to override the default hidden behavior on the sphinx rendered scikit-learn.org. See: https://github.com/scikit-learn/scikit-learn/issues/21755 */display: inline-block !important;position: relative;}#sk-container-id-5 div.sk-text-repr-fallback {display: none;}</style><div id=\"sk-container-id-5\" class=\"sk-top-container\"><div class=\"sk-text-repr-fallback\"><pre>GridSearchCV(cv=5, estimator=RandomForestClassifier(),\n",
              "             param_grid={&#x27;n_estimators&#x27;: [5, 10, 20, 50, 100, 200]}, verbose=1)</pre><b>In a Jupyter environment, please rerun this cell to show the HTML representation or trust the notebook. <br />On GitHub, the HTML representation is unable to render, please try loading this page with nbviewer.org.</b></div><div class=\"sk-container\" hidden><div class=\"sk-item sk-dashed-wrapped\"><div class=\"sk-label-container\"><div class=\"sk-label sk-toggleable\"><input class=\"sk-toggleable__control sk-hidden--visually\" id=\"sk-estimator-id-11\" type=\"checkbox\" ><label for=\"sk-estimator-id-11\" class=\"sk-toggleable__label sk-toggleable__label-arrow\">GridSearchCV</label><div class=\"sk-toggleable__content\"><pre>GridSearchCV(cv=5, estimator=RandomForestClassifier(),\n",
              "             param_grid={&#x27;n_estimators&#x27;: [5, 10, 20, 50, 100, 200]}, verbose=1)</pre></div></div></div><div class=\"sk-parallel\"><div class=\"sk-parallel-item\"><div class=\"sk-item\"><div class=\"sk-label-container\"><div class=\"sk-label sk-toggleable\"><input class=\"sk-toggleable__control sk-hidden--visually\" id=\"sk-estimator-id-12\" type=\"checkbox\" ><label for=\"sk-estimator-id-12\" class=\"sk-toggleable__label sk-toggleable__label-arrow\">estimator: RandomForestClassifier</label><div class=\"sk-toggleable__content\"><pre>RandomForestClassifier()</pre></div></div></div><div class=\"sk-serial\"><div class=\"sk-item\"><div class=\"sk-estimator sk-toggleable\"><input class=\"sk-toggleable__control sk-hidden--visually\" id=\"sk-estimator-id-13\" type=\"checkbox\" ><label for=\"sk-estimator-id-13\" class=\"sk-toggleable__label sk-toggleable__label-arrow\">RandomForestClassifier</label><div class=\"sk-toggleable__content\"><pre>RandomForestClassifier()</pre></div></div></div></div></div></div></div></div></div></div>"
            ]
          },
          "metadata": {},
          "execution_count": 59
        }
      ],
      "source": [
        "rf_clf.fit(X_trainval, y_trainval)"
      ]
    },
    {
      "cell_type": "code",
      "execution_count": 60,
      "metadata": {
        "id": "j92xaZX1vlkZ"
      },
      "outputs": [],
      "source": [
        "y_test_pred_rf = rf_clf.predict(X_test)"
      ]
    },
    {
      "cell_type": "code",
      "execution_count": 61,
      "metadata": {
        "id": "qOksUZlSvlkZ",
        "colab": {
          "base_uri": "https://localhost:8080/"
        },
        "outputId": "21e3f624-a710-4ab9-ceed-f6333b08306d"
      },
      "outputs": [
        {
          "output_type": "execute_result",
          "data": {
            "text/plain": [
              "0.6228070175438597"
            ]
          },
          "metadata": {},
          "execution_count": 61
        }
      ],
      "source": [
        "test_acc = accuracy_score(y_test, y_test_pred_rf)\n",
        "test_acc"
      ]
    },
    {
      "cell_type": "code",
      "execution_count": 62,
      "metadata": {
        "id": "bIo_XEo0vlkZ",
        "colab": {
          "base_uri": "https://localhost:8080/"
        },
        "outputId": "5a829082-f240-4f68-c37c-c54de7fa5e93"
      },
      "outputs": [
        {
          "output_type": "stream",
          "name": "stdout",
          "text": [
            "              precision    recall  f1-score   support\n",
            "\n",
            "           0       0.00      0.00      0.00        43\n",
            "           1       0.62      1.00      0.77        71\n",
            "\n",
            "    accuracy                           0.62       114\n",
            "   macro avg       0.31      0.50      0.38       114\n",
            "weighted avg       0.39      0.62      0.48       114\n",
            "\n"
          ]
        },
        {
          "output_type": "stream",
          "name": "stderr",
          "text": [
            "/usr/local/lib/python3.10/dist-packages/sklearn/metrics/_classification.py:1344: UndefinedMetricWarning: Precision and F-score are ill-defined and being set to 0.0 in labels with no predicted samples. Use `zero_division` parameter to control this behavior.\n",
            "  _warn_prf(average, modifier, msg_start, len(result))\n",
            "/usr/local/lib/python3.10/dist-packages/sklearn/metrics/_classification.py:1344: UndefinedMetricWarning: Precision and F-score are ill-defined and being set to 0.0 in labels with no predicted samples. Use `zero_division` parameter to control this behavior.\n",
            "  _warn_prf(average, modifier, msg_start, len(result))\n",
            "/usr/local/lib/python3.10/dist-packages/sklearn/metrics/_classification.py:1344: UndefinedMetricWarning: Precision and F-score are ill-defined and being set to 0.0 in labels with no predicted samples. Use `zero_division` parameter to control this behavior.\n",
            "  _warn_prf(average, modifier, msg_start, len(result))\n"
          ]
        }
      ],
      "source": [
        "test_report = classification_report(y_test, y_test_pred_rf)\n",
        "print(test_report)"
      ]
    },
    {
      "cell_type": "code",
      "source": [
        "print(\"Melhores hiperparametros: \", rf_clf.best_params_)"
      ],
      "metadata": {
        "colab": {
          "base_uri": "https://localhost:8080/"
        },
        "id": "73CO0HAMtP-1",
        "outputId": "82df30f0-6921-4710-91a4-a2972f16ba66"
      },
      "execution_count": 63,
      "outputs": [
        {
          "output_type": "stream",
          "name": "stdout",
          "text": [
            "Melhores hiperparametros:  {'n_estimators': 200}\n"
          ]
        }
      ]
    },
    {
      "cell_type": "markdown",
      "metadata": {
        "id": "GIisSr4xv4wd"
      },
      "source": [
        "#### *Gradient boosting*"
      ]
    },
    {
      "cell_type": "markdown",
      "metadata": {
        "id": "mYnK-5bOvlkZ"
      },
      "source": [
        "> **Faça ajuste de hiperparâmetros** para *gradient boosting*. Os hiperparâmetros a serem ajustados são a taxa de aprendizado (para o gradiente descendente) e o número de classificadores usados no *boosting*. Esses hiperparâmetros são definidos pelos parâmetros `learning_rate` e `n_estimators` da classe `GradientBoostingClassifier` do `sklearn`.."
      ]
    },
    {
      "cell_type": "code",
      "execution_count": 64,
      "metadata": {
        "id": "Naflq-vPvlkZ"
      },
      "outputs": [],
      "source": [
        "param_grid  = {'learning_rate': [0.0001, 0.001, 0.01, 0.1, 0.5, 1.0, 10],\n",
        "               'n_estimators': [5, 10, 20, 50, 100, 200]}"
      ]
    },
    {
      "cell_type": "code",
      "execution_count": 65,
      "metadata": {
        "id": "KwxfvEQRvlka"
      },
      "outputs": [],
      "source": [
        "gb_clf = GridSearchCV(GradientBoostingClassifier()\n",
        "                      , param_grid\n",
        "                      , cv=5\n",
        "                      , verbose=1\n",
        "                     )"
      ]
    },
    {
      "cell_type": "code",
      "execution_count": 66,
      "metadata": {
        "id": "AwVitOHDvlka",
        "colab": {
          "base_uri": "https://localhost:8080/",
          "height": 135
        },
        "outputId": "8cc847c3-5cdf-49f7-c500-d266a92109d1"
      },
      "outputs": [
        {
          "output_type": "stream",
          "name": "stdout",
          "text": [
            "Fitting 5 folds for each of 42 candidates, totalling 210 fits\n"
          ]
        },
        {
          "output_type": "execute_result",
          "data": {
            "text/plain": [
              "GridSearchCV(cv=5, estimator=GradientBoostingClassifier(),\n",
              "             param_grid={'learning_rate': [0.0001, 0.001, 0.01, 0.1, 0.5, 1.0,\n",
              "                                           10],\n",
              "                         'n_estimators': [5, 10, 20, 50, 100, 200]},\n",
              "             verbose=1)"
            ],
            "text/html": [
              "<style>#sk-container-id-6 {color: black;background-color: white;}#sk-container-id-6 pre{padding: 0;}#sk-container-id-6 div.sk-toggleable {background-color: white;}#sk-container-id-6 label.sk-toggleable__label {cursor: pointer;display: block;width: 100%;margin-bottom: 0;padding: 0.3em;box-sizing: border-box;text-align: center;}#sk-container-id-6 label.sk-toggleable__label-arrow:before {content: \"▸\";float: left;margin-right: 0.25em;color: #696969;}#sk-container-id-6 label.sk-toggleable__label-arrow:hover:before {color: black;}#sk-container-id-6 div.sk-estimator:hover label.sk-toggleable__label-arrow:before {color: black;}#sk-container-id-6 div.sk-toggleable__content {max-height: 0;max-width: 0;overflow: hidden;text-align: left;background-color: #f0f8ff;}#sk-container-id-6 div.sk-toggleable__content pre {margin: 0.2em;color: black;border-radius: 0.25em;background-color: #f0f8ff;}#sk-container-id-6 input.sk-toggleable__control:checked~div.sk-toggleable__content {max-height: 200px;max-width: 100%;overflow: auto;}#sk-container-id-6 input.sk-toggleable__control:checked~label.sk-toggleable__label-arrow:before {content: \"▾\";}#sk-container-id-6 div.sk-estimator input.sk-toggleable__control:checked~label.sk-toggleable__label {background-color: #d4ebff;}#sk-container-id-6 div.sk-label input.sk-toggleable__control:checked~label.sk-toggleable__label {background-color: #d4ebff;}#sk-container-id-6 input.sk-hidden--visually {border: 0;clip: rect(1px 1px 1px 1px);clip: rect(1px, 1px, 1px, 1px);height: 1px;margin: -1px;overflow: hidden;padding: 0;position: absolute;width: 1px;}#sk-container-id-6 div.sk-estimator {font-family: monospace;background-color: #f0f8ff;border: 1px dotted black;border-radius: 0.25em;box-sizing: border-box;margin-bottom: 0.5em;}#sk-container-id-6 div.sk-estimator:hover {background-color: #d4ebff;}#sk-container-id-6 div.sk-parallel-item::after {content: \"\";width: 100%;border-bottom: 1px solid gray;flex-grow: 1;}#sk-container-id-6 div.sk-label:hover label.sk-toggleable__label {background-color: #d4ebff;}#sk-container-id-6 div.sk-serial::before {content: \"\";position: absolute;border-left: 1px solid gray;box-sizing: border-box;top: 0;bottom: 0;left: 50%;z-index: 0;}#sk-container-id-6 div.sk-serial {display: flex;flex-direction: column;align-items: center;background-color: white;padding-right: 0.2em;padding-left: 0.2em;position: relative;}#sk-container-id-6 div.sk-item {position: relative;z-index: 1;}#sk-container-id-6 div.sk-parallel {display: flex;align-items: stretch;justify-content: center;background-color: white;position: relative;}#sk-container-id-6 div.sk-item::before, #sk-container-id-6 div.sk-parallel-item::before {content: \"\";position: absolute;border-left: 1px solid gray;box-sizing: border-box;top: 0;bottom: 0;left: 50%;z-index: -1;}#sk-container-id-6 div.sk-parallel-item {display: flex;flex-direction: column;z-index: 1;position: relative;background-color: white;}#sk-container-id-6 div.sk-parallel-item:first-child::after {align-self: flex-end;width: 50%;}#sk-container-id-6 div.sk-parallel-item:last-child::after {align-self: flex-start;width: 50%;}#sk-container-id-6 div.sk-parallel-item:only-child::after {width: 0;}#sk-container-id-6 div.sk-dashed-wrapped {border: 1px dashed gray;margin: 0 0.4em 0.5em 0.4em;box-sizing: border-box;padding-bottom: 0.4em;background-color: white;}#sk-container-id-6 div.sk-label label {font-family: monospace;font-weight: bold;display: inline-block;line-height: 1.2em;}#sk-container-id-6 div.sk-label-container {text-align: center;}#sk-container-id-6 div.sk-container {/* jupyter's `normalize.less` sets `[hidden] { display: none; }` but bootstrap.min.css set `[hidden] { display: none !important; }` so we also need the `!important` here to be able to override the default hidden behavior on the sphinx rendered scikit-learn.org. See: https://github.com/scikit-learn/scikit-learn/issues/21755 */display: inline-block !important;position: relative;}#sk-container-id-6 div.sk-text-repr-fallback {display: none;}</style><div id=\"sk-container-id-6\" class=\"sk-top-container\"><div class=\"sk-text-repr-fallback\"><pre>GridSearchCV(cv=5, estimator=GradientBoostingClassifier(),\n",
              "             param_grid={&#x27;learning_rate&#x27;: [0.0001, 0.001, 0.01, 0.1, 0.5, 1.0,\n",
              "                                           10],\n",
              "                         &#x27;n_estimators&#x27;: [5, 10, 20, 50, 100, 200]},\n",
              "             verbose=1)</pre><b>In a Jupyter environment, please rerun this cell to show the HTML representation or trust the notebook. <br />On GitHub, the HTML representation is unable to render, please try loading this page with nbviewer.org.</b></div><div class=\"sk-container\" hidden><div class=\"sk-item sk-dashed-wrapped\"><div class=\"sk-label-container\"><div class=\"sk-label sk-toggleable\"><input class=\"sk-toggleable__control sk-hidden--visually\" id=\"sk-estimator-id-14\" type=\"checkbox\" ><label for=\"sk-estimator-id-14\" class=\"sk-toggleable__label sk-toggleable__label-arrow\">GridSearchCV</label><div class=\"sk-toggleable__content\"><pre>GridSearchCV(cv=5, estimator=GradientBoostingClassifier(),\n",
              "             param_grid={&#x27;learning_rate&#x27;: [0.0001, 0.001, 0.01, 0.1, 0.5, 1.0,\n",
              "                                           10],\n",
              "                         &#x27;n_estimators&#x27;: [5, 10, 20, 50, 100, 200]},\n",
              "             verbose=1)</pre></div></div></div><div class=\"sk-parallel\"><div class=\"sk-parallel-item\"><div class=\"sk-item\"><div class=\"sk-label-container\"><div class=\"sk-label sk-toggleable\"><input class=\"sk-toggleable__control sk-hidden--visually\" id=\"sk-estimator-id-15\" type=\"checkbox\" ><label for=\"sk-estimator-id-15\" class=\"sk-toggleable__label sk-toggleable__label-arrow\">estimator: GradientBoostingClassifier</label><div class=\"sk-toggleable__content\"><pre>GradientBoostingClassifier()</pre></div></div></div><div class=\"sk-serial\"><div class=\"sk-item\"><div class=\"sk-estimator sk-toggleable\"><input class=\"sk-toggleable__control sk-hidden--visually\" id=\"sk-estimator-id-16\" type=\"checkbox\" ><label for=\"sk-estimator-id-16\" class=\"sk-toggleable__label sk-toggleable__label-arrow\">GradientBoostingClassifier</label><div class=\"sk-toggleable__content\"><pre>GradientBoostingClassifier()</pre></div></div></div></div></div></div></div></div></div></div>"
            ]
          },
          "metadata": {},
          "execution_count": 66
        }
      ],
      "source": [
        "gb_clf.fit(X_trainval, y_trainval)"
      ]
    },
    {
      "cell_type": "code",
      "execution_count": 67,
      "metadata": {
        "id": "rkiC3nnKvlka"
      },
      "outputs": [],
      "source": [
        "y_test_pred_gb = gb_clf.predict(X_test)"
      ]
    },
    {
      "cell_type": "code",
      "execution_count": 68,
      "metadata": {
        "id": "4e9ob3S4vlka",
        "colab": {
          "base_uri": "https://localhost:8080/"
        },
        "outputId": "d6b51ae7-7eb2-49ba-a631-fa53ccd2cc45"
      },
      "outputs": [
        {
          "output_type": "execute_result",
          "data": {
            "text/plain": [
              "0.7105263157894737"
            ]
          },
          "metadata": {},
          "execution_count": 68
        }
      ],
      "source": [
        "test_acc = accuracy_score(y_test, y_test_pred_gb)\n",
        "test_acc"
      ]
    },
    {
      "cell_type": "code",
      "execution_count": 69,
      "metadata": {
        "id": "he8SxyPivlkb",
        "colab": {
          "base_uri": "https://localhost:8080/"
        },
        "outputId": "e2d03219-a4d5-4088-8ed3-6a3677242fa2"
      },
      "outputs": [
        {
          "output_type": "stream",
          "name": "stdout",
          "text": [
            "              precision    recall  f1-score   support\n",
            "\n",
            "           0       0.86      0.28      0.42        43\n",
            "           1       0.69      0.97      0.81        71\n",
            "\n",
            "    accuracy                           0.71       114\n",
            "   macro avg       0.77      0.63      0.61       114\n",
            "weighted avg       0.75      0.71      0.66       114\n",
            "\n"
          ]
        }
      ],
      "source": [
        "test_report = classification_report(y_test, y_test_pred_gb)\n",
        "print(test_report)"
      ]
    },
    {
      "cell_type": "code",
      "source": [
        "print(\"Melhores hiperparametros: \", gb_clf.best_params_)"
      ],
      "metadata": {
        "colab": {
          "base_uri": "https://localhost:8080/"
        },
        "id": "YLvB1ZJ5tvoR",
        "outputId": "c3bdc414-1a26-4977-cf5a-4109a33eac3f"
      },
      "execution_count": 70,
      "outputs": [
        {
          "output_type": "stream",
          "name": "stdout",
          "text": [
            "Melhores hiperparametros:  {'learning_rate': 0.1, 'n_estimators': 200}\n"
          ]
        }
      ]
    },
    {
      "cell_type": "markdown",
      "metadata": {
        "id": "QabkzGgEZpC4"
      },
      "source": [
        "### Comparação entre os diversos modelos\n",
        "Agora vamos finalizar comparando todos os modelos com seus hiperparâmetros ajustados no conjunto de teste final."
      ]
    },
    {
      "cell_type": "code",
      "execution_count": 71,
      "metadata": {
        "id": "trDtV3G8ZsfP",
        "colab": {
          "base_uri": "https://localhost:8080/"
        },
        "outputId": "39bea1df-5373-4e92-af76-114fd21f64c7"
      },
      "outputs": [
        {
          "output_type": "stream",
          "name": "stdout",
          "text": [
            "Acurácia SVC() 0.37719298245614036\n",
            "              precision    recall  f1-score   support\n",
            "\n",
            "           0       0.38      1.00      0.55        43\n",
            "           1       0.00      0.00      0.00        71\n",
            "\n",
            "    accuracy                           0.38       114\n",
            "   macro avg       0.19      0.50      0.27       114\n",
            "weighted avg       0.14      0.38      0.21       114\n",
            "\n",
            "Acurácia SVC(kernel='poly') 0.6228070175438597\n",
            "              precision    recall  f1-score   support\n",
            "\n",
            "           0       0.00      0.00      0.00        43\n",
            "           1       0.62      1.00      0.77        71\n",
            "\n",
            "    accuracy                           0.62       114\n",
            "   macro avg       0.31      0.50      0.38       114\n",
            "weighted avg       0.39      0.62      0.48       114\n",
            "\n",
            "Acurácia RandomForestClassifier() 0.6228070175438597\n",
            "              precision    recall  f1-score   support\n",
            "\n",
            "           0       0.00      0.00      0.00        43\n",
            "           1       0.62      1.00      0.77        71\n",
            "\n",
            "    accuracy                           0.62       114\n",
            "   macro avg       0.31      0.50      0.38       114\n",
            "weighted avg       0.39      0.62      0.48       114\n",
            "\n",
            "Acurácia GradientBoostingClassifier() 0.7105263157894737\n",
            "              precision    recall  f1-score   support\n",
            "\n",
            "           0       0.86      0.28      0.42        43\n",
            "           1       0.69      0.97      0.81        71\n",
            "\n",
            "    accuracy                           0.71       114\n",
            "   macro avg       0.77      0.63      0.61       114\n",
            "weighted avg       0.75      0.71      0.66       114\n",
            "\n"
          ]
        },
        {
          "output_type": "stream",
          "name": "stderr",
          "text": [
            "/usr/local/lib/python3.10/dist-packages/sklearn/metrics/_classification.py:1344: UndefinedMetricWarning: Precision and F-score are ill-defined and being set to 0.0 in labels with no predicted samples. Use `zero_division` parameter to control this behavior.\n",
            "  _warn_prf(average, modifier, msg_start, len(result))\n",
            "/usr/local/lib/python3.10/dist-packages/sklearn/metrics/_classification.py:1344: UndefinedMetricWarning: Precision and F-score are ill-defined and being set to 0.0 in labels with no predicted samples. Use `zero_division` parameter to control this behavior.\n",
            "  _warn_prf(average, modifier, msg_start, len(result))\n",
            "/usr/local/lib/python3.10/dist-packages/sklearn/metrics/_classification.py:1344: UndefinedMetricWarning: Precision and F-score are ill-defined and being set to 0.0 in labels with no predicted samples. Use `zero_division` parameter to control this behavior.\n",
            "  _warn_prf(average, modifier, msg_start, len(result))\n",
            "/usr/local/lib/python3.10/dist-packages/sklearn/metrics/_classification.py:1344: UndefinedMetricWarning: Precision and F-score are ill-defined and being set to 0.0 in labels with no predicted samples. Use `zero_division` parameter to control this behavior.\n",
            "  _warn_prf(average, modifier, msg_start, len(result))\n",
            "/usr/local/lib/python3.10/dist-packages/sklearn/metrics/_classification.py:1344: UndefinedMetricWarning: Precision and F-score are ill-defined and being set to 0.0 in labels with no predicted samples. Use `zero_division` parameter to control this behavior.\n",
            "  _warn_prf(average, modifier, msg_start, len(result))\n",
            "/usr/local/lib/python3.10/dist-packages/sklearn/metrics/_classification.py:1344: UndefinedMetricWarning: Precision and F-score are ill-defined and being set to 0.0 in labels with no predicted samples. Use `zero_division` parameter to control this behavior.\n",
            "  _warn_prf(average, modifier, msg_start, len(result))\n",
            "/usr/local/lib/python3.10/dist-packages/sklearn/metrics/_classification.py:1344: UndefinedMetricWarning: Precision and F-score are ill-defined and being set to 0.0 in labels with no predicted samples. Use `zero_division` parameter to control this behavior.\n",
            "  _warn_prf(average, modifier, msg_start, len(result))\n",
            "/usr/local/lib/python3.10/dist-packages/sklearn/metrics/_classification.py:1344: UndefinedMetricWarning: Precision and F-score are ill-defined and being set to 0.0 in labels with no predicted samples. Use `zero_division` parameter to control this behavior.\n",
            "  _warn_prf(average, modifier, msg_start, len(result))\n",
            "/usr/local/lib/python3.10/dist-packages/sklearn/metrics/_classification.py:1344: UndefinedMetricWarning: Precision and F-score are ill-defined and being set to 0.0 in labels with no predicted samples. Use `zero_division` parameter to control this behavior.\n",
            "  _warn_prf(average, modifier, msg_start, len(result))\n"
          ]
        }
      ],
      "source": [
        "for clf in (svm_rbf, svm_clf_poli, rf_clf, gb_clf):\n",
        "    #clf.fit(X_trainval, y_trainval)\n",
        "    y_pred = clf.predict(X_test)\n",
        "    print(\"Acurácia\", clf.estimator, accuracy_score(y_test, y_pred))\n",
        "    print(classification_report(y_test,y_pred))"
      ]
    }
  ],
  "metadata": {
    "colab": {
      "provenance": []
    },
    "kernelspec": {
      "display_name": "Python 3 (ipykernel)",
      "language": "python",
      "name": "python3"
    },
    "language_info": {
      "codemirror_mode": {
        "name": "ipython",
        "version": 3
      },
      "file_extension": ".py",
      "mimetype": "text/x-python",
      "name": "python",
      "nbconvert_exporter": "python",
      "pygments_lexer": "ipython3",
      "version": "3.11.2"
    }
  },
  "nbformat": 4,
  "nbformat_minor": 0
}
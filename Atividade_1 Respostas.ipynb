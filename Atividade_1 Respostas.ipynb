{
  "cells": [
    {
      "cell_type": "markdown",
      "metadata": {
        "id": "g7tiPD_PTpGV"
      },
      "source": [
        "# Atividade 1: Python"
      ]
    },
    {
      "cell_type": "markdown",
      "metadata": {
        "id": "9xLtptZUTpGZ"
      },
      "source": [
        "**Data:**  14/05/25   \n",
        "**Nome:**  <span style=\"color:red\"><b>gabarito</b></span>"
      ]
    },
    {
      "cell_type": "markdown",
      "metadata": {
        "id": "Es5K9YnETpGa"
      },
      "source": [
        "## Instruções\n",
        "\n",
        "Este *notebook* contém os enunciados da primeira atividade da disciplina e faz parte da avaliação.\n",
        "\n",
        "Para completar a atividade, acrescente suas próprias células com as respostas.\n",
        "\n",
        "Algumas respostas devem ser no formato de texto e outras devem ser código Python. Utilize as ferramentas do *notebook* adequadamente, empregando *markdown* quando necessário.\n",
        "\n",
        "Todas as atividades devem ser submetidas através do ColabWeb."
      ]
    },
    {
      "cell_type": "markdown",
      "metadata": {
        "id": "sBBxN0UjTpGa"
      },
      "source": [
        "## Parte 1: Jupyter e Markdown"
      ]
    },
    {
      "cell_type": "markdown",
      "metadata": {
        "id": "zc4YuUz_TpGa"
      },
      "source": [
        "Crie uma célula *markdown* abaixo e faça uma lista descritiva contendo:\n",
        "\n",
        "- **Nome**: seu nome\n",
        "- **Trabalho**: seu local de trabalho\n",
        "- **Atividades**: uma descrição muito breve do que você faz\n",
        "\n",
        "Você pode criar uma célula abaixo através do menu ou através do atalho `b` (ou, no Google Colab, pressionando primeiro `Ctrl`+`m` e depois `b`). A célula será criada como um local para inserir código Python. Você pode convertê-la para uma célula *markdown* através dos menus ou através do atalho `m`. Recomendo que se familiarize com os atalhos até que eles se tornem naturais.\n",
        "\n",
        "**Observação**: se você estiver atualmente com uma célula selecionada, você precisará primeiro pressionar `ESC` para sair do modo de edição e poder usar os atalhos de teclados."
      ]
    },
    {
      "cell_type": "markdown",
      "metadata": {
        "id": "SOIBOAGuTpGb"
      },
      "source": [
        "> **Exercício 1**: crie uma célula *Markdown* **abaixo** desta e preencha com as informações solicitadas."
      ]
    },
    {
      "cell_type": "markdown",
      "source": [
        "**Nome**: Icaro dos Santos Lima  \n",
        "**Trabalho**: Ufam  \n",
        "**Atividades**: Pesquisa na área de aprendizado de máquina e mineração de dados  "
      ],
      "metadata": {
        "id": "uiyww7ZeUwWG"
      }
    },
    {
      "cell_type": "markdown",
      "metadata": {
        "id": "0k6z660bTpGb"
      },
      "source": [
        "(observação: a resposta da atividade 1 deve estar **acima** desta)"
      ]
    },
    {
      "cell_type": "markdown",
      "metadata": {
        "id": "nYH-lFpUTpGc"
      },
      "source": [
        "Células que contém código em Python podem ser convertidas em *markdown* utiliando os menus ou as teclas de atalho:\n",
        "\n",
        "- No Google Colab: aperte  as teclas `Ctrl`+`m`, depois `m`\n",
        "- Em um editor *offline*: aperte `m`"
      ]
    },
    {
      "cell_type": "markdown",
      "metadata": {
        "id": "uD9njHNcTpGc"
      },
      "source": [
        "> **Exercício 2**: converta a célula abaixo em uma célula *markdown*."
      ]
    },
    {
      "cell_type": "markdown",
      "source": [
        "Esta célula foi criada para exibir anotação em *markdown*, mas deixada como código Python.\n",
        "\n",
        "Este texto não é código Python válido e causa erro de sintaxe.\n",
        "\n",
        "Converta esta célula para *markdown*. Use o atalho `CTRL+ENTER` ou `SHIFT+ENTER` para \"executar a célula\" e salvar a saída do *markdown* no *notebook*."
      ],
      "metadata": {
        "id": "0tMagOTCTpGc"
      }
    },
    {
      "cell_type": "markdown",
      "metadata": {
        "id": "IULkmmD4TpGd"
      },
      "source": [
        "Células que contêm código *markdown* podem ser convertidas em código Python usando os menus ou o atalho:\n",
        "\n",
        "- No Google Colab: aperte as teclas `Ctrl`+`m`, depois `y`\n",
        "- Em um editor *offline*: aperte `y`"
      ]
    },
    {
      "cell_type": "code",
      "source": [
        "> **Exercício 3**: Utilize o atalho `y` para converter a célula abaixo em uma célula de código Python."
      ],
      "metadata": {
        "id": "NtRsqM_dTpGe"
      },
      "execution_count": null,
      "outputs": []
    },
    {
      "cell_type": "code",
      "source": [
        "print(\"Esta célula código Python, mas ele não será executado porque a célula está definida como markdown\")"
      ],
      "metadata": {
        "id": "GLhIc0asTpGe",
        "colab": {
          "base_uri": "https://localhost:8080/"
        },
        "outputId": "d6be16b9-57f9-432d-ce82-bf18da5e769f"
      },
      "execution_count": null,
      "outputs": [
        {
          "output_type": "stream",
          "name": "stdout",
          "text": [
            "Esta célula código Python, mas ele não será executado porque a célula está definida como markdown\n"
          ]
        }
      ]
    },
    {
      "cell_type": "markdown",
      "metadata": {
        "id": "fzLY1w0BTpGe"
      },
      "source": [
        "Às vezes, para organizar melhor o código, precisamos quebrar uma célula em duas. Isso pode ser feito de duas formas.\n",
        "\n",
        "- No Jupyter (*offline*), navegue com o teclado até o ponto de corte e use o atalho `Ctrl`+`Shift`+`-` ou então use o menu `Edit`→`Split cells`\n",
        "- No Google Colab, você deve criar uma nova célula manualmente."
      ]
    },
    {
      "cell_type": "markdown",
      "metadata": {
        "id": "6FD4Ood1TpGe"
      },
      "source": [
        "> **Exercício 4**: Utilize o atalho `CTRL`+`SHIFT`+`-` para quebrar a célula abaixo em duas."
      ]
    },
    {
      "cell_type": "markdown",
      "source": [
        "Esta célula mistura markdown e Python e, portanto, está incorreta."
      ],
      "metadata": {
        "id": "DSJhZdOWdTlj"
      }
    },
    {
      "cell_type": "code",
      "source": [
        "print(\"Hello, world!\")"
      ],
      "metadata": {
        "colab": {
          "base_uri": "https://localhost:8080/"
        },
        "id": "BeSdL6s_dYU4",
        "outputId": "9bb2bd3c-2d87-4d34-ede6-20299066cf05"
      },
      "execution_count": null,
      "outputs": [
        {
          "output_type": "stream",
          "name": "stdout",
          "text": [
            "Hello, world!\n"
          ]
        }
      ]
    },
    {
      "cell_type": "markdown",
      "metadata": {
        "id": "F5oTuNaOTpGf"
      },
      "source": [
        "O oposto é a junção de duas células. Em um editor offline (Jupyter Notebooks, Jupyterlab...), basta selecionar as células que você quer mesclar e pressionar o atalho `Ctrl`+`Shift`+`+`.\n",
        "\n",
        "No Google Colab você deve selecionar as duas células e usar o menu (pode ser o botão direito do mouse).\n",
        "\n",
        "Para selecionar duas células, use `Shift` mais as setas do teclado (para cima ou para baixo)."
      ]
    },
    {
      "cell_type": "markdown",
      "metadata": {
        "id": "LRaS0XA_TpGf"
      },
      "source": [
        "## Parte 2: Conceitos de Python"
      ]
    },
    {
      "cell_type": "markdown",
      "metadata": {
        "id": "lGt2ZLvYTpGf"
      },
      "source": [
        "> **Exercício 5**: Utilize a função `help` para obter uma descrição da classe `str`."
      ]
    },
    {
      "cell_type": "code",
      "execution_count": null,
      "metadata": {
        "colab": {
          "base_uri": "https://localhost:8080/"
        },
        "id": "oty-xtEJTpGf",
        "outputId": "0fe212e7-d0ec-43f9-fc4c-5866f7dc6574"
      },
      "outputs": [
        {
          "output_type": "stream",
          "name": "stdout",
          "text": [
            "Help on class str in module builtins:\n",
            "\n",
            "class str(object)\n",
            " |  str(object='') -> str\n",
            " |  str(bytes_or_buffer[, encoding[, errors]]) -> str\n",
            " |  \n",
            " |  Create a new string object from the given object. If encoding or\n",
            " |  errors is specified, then the object must expose a data buffer\n",
            " |  that will be decoded using the given encoding and error handler.\n",
            " |  Otherwise, returns the result of object.__str__() (if defined)\n",
            " |  or repr(object).\n",
            " |  encoding defaults to sys.getdefaultencoding().\n",
            " |  errors defaults to 'strict'.\n",
            " |  \n",
            " |  Methods defined here:\n",
            " |  \n",
            " |  __add__(self, value, /)\n",
            " |      Return self+value.\n",
            " |  \n",
            " |  __contains__(self, key, /)\n",
            " |      Return key in self.\n",
            " |  \n",
            " |  __eq__(self, value, /)\n",
            " |      Return self==value.\n",
            " |  \n",
            " |  __format__(self, format_spec, /)\n",
            " |      Return a formatted version of the string as described by format_spec.\n",
            " |  \n",
            " |  __ge__(self, value, /)\n",
            " |      Return self>=value.\n",
            " |  \n",
            " |  __getattribute__(self, name, /)\n",
            " |      Return getattr(self, name).\n",
            " |  \n",
            " |  __getitem__(self, key, /)\n",
            " |      Return self[key].\n",
            " |  \n",
            " |  __getnewargs__(...)\n",
            " |  \n",
            " |  __gt__(self, value, /)\n",
            " |      Return self>value.\n",
            " |  \n",
            " |  __hash__(self, /)\n",
            " |      Return hash(self).\n",
            " |  \n",
            " |  __iter__(self, /)\n",
            " |      Implement iter(self).\n",
            " |  \n",
            " |  __le__(self, value, /)\n",
            " |      Return self<=value.\n",
            " |  \n",
            " |  __len__(self, /)\n",
            " |      Return len(self).\n",
            " |  \n",
            " |  __lt__(self, value, /)\n",
            " |      Return self<value.\n",
            " |  \n",
            " |  __mod__(self, value, /)\n",
            " |      Return self%value.\n",
            " |  \n",
            " |  __mul__(self, value, /)\n",
            " |      Return self*value.\n",
            " |  \n",
            " |  __ne__(self, value, /)\n",
            " |      Return self!=value.\n",
            " |  \n",
            " |  __repr__(self, /)\n",
            " |      Return repr(self).\n",
            " |  \n",
            " |  __rmod__(self, value, /)\n",
            " |      Return value%self.\n",
            " |  \n",
            " |  __rmul__(self, value, /)\n",
            " |      Return value*self.\n",
            " |  \n",
            " |  __sizeof__(self, /)\n",
            " |      Return the size of the string in memory, in bytes.\n",
            " |  \n",
            " |  __str__(self, /)\n",
            " |      Return str(self).\n",
            " |  \n",
            " |  capitalize(self, /)\n",
            " |      Return a capitalized version of the string.\n",
            " |      \n",
            " |      More specifically, make the first character have upper case and the rest lower\n",
            " |      case.\n",
            " |  \n",
            " |  casefold(self, /)\n",
            " |      Return a version of the string suitable for caseless comparisons.\n",
            " |  \n",
            " |  center(self, width, fillchar=' ', /)\n",
            " |      Return a centered string of length width.\n",
            " |      \n",
            " |      Padding is done using the specified fill character (default is a space).\n",
            " |  \n",
            " |  count(...)\n",
            " |      S.count(sub[, start[, end]]) -> int\n",
            " |      \n",
            " |      Return the number of non-overlapping occurrences of substring sub in\n",
            " |      string S[start:end].  Optional arguments start and end are\n",
            " |      interpreted as in slice notation.\n",
            " |  \n",
            " |  encode(self, /, encoding='utf-8', errors='strict')\n",
            " |      Encode the string using the codec registered for encoding.\n",
            " |      \n",
            " |      encoding\n",
            " |        The encoding in which to encode the string.\n",
            " |      errors\n",
            " |        The error handling scheme to use for encoding errors.\n",
            " |        The default is 'strict' meaning that encoding errors raise a\n",
            " |        UnicodeEncodeError.  Other possible values are 'ignore', 'replace' and\n",
            " |        'xmlcharrefreplace' as well as any other name registered with\n",
            " |        codecs.register_error that can handle UnicodeEncodeErrors.\n",
            " |  \n",
            " |  endswith(...)\n",
            " |      S.endswith(suffix[, start[, end]]) -> bool\n",
            " |      \n",
            " |      Return True if S ends with the specified suffix, False otherwise.\n",
            " |      With optional start, test S beginning at that position.\n",
            " |      With optional end, stop comparing S at that position.\n",
            " |      suffix can also be a tuple of strings to try.\n",
            " |  \n",
            " |  expandtabs(self, /, tabsize=8)\n",
            " |      Return a copy where all tab characters are expanded using spaces.\n",
            " |      \n",
            " |      If tabsize is not given, a tab size of 8 characters is assumed.\n",
            " |  \n",
            " |  find(...)\n",
            " |      S.find(sub[, start[, end]]) -> int\n",
            " |      \n",
            " |      Return the lowest index in S where substring sub is found,\n",
            " |      such that sub is contained within S[start:end].  Optional\n",
            " |      arguments start and end are interpreted as in slice notation.\n",
            " |      \n",
            " |      Return -1 on failure.\n",
            " |  \n",
            " |  format(...)\n",
            " |      S.format(*args, **kwargs) -> str\n",
            " |      \n",
            " |      Return a formatted version of S, using substitutions from args and kwargs.\n",
            " |      The substitutions are identified by braces ('{' and '}').\n",
            " |  \n",
            " |  format_map(...)\n",
            " |      S.format_map(mapping) -> str\n",
            " |      \n",
            " |      Return a formatted version of S, using substitutions from mapping.\n",
            " |      The substitutions are identified by braces ('{' and '}').\n",
            " |  \n",
            " |  index(...)\n",
            " |      S.index(sub[, start[, end]]) -> int\n",
            " |      \n",
            " |      Return the lowest index in S where substring sub is found,\n",
            " |      such that sub is contained within S[start:end].  Optional\n",
            " |      arguments start and end are interpreted as in slice notation.\n",
            " |      \n",
            " |      Raises ValueError when the substring is not found.\n",
            " |  \n",
            " |  isalnum(self, /)\n",
            " |      Return True if the string is an alpha-numeric string, False otherwise.\n",
            " |      \n",
            " |      A string is alpha-numeric if all characters in the string are alpha-numeric and\n",
            " |      there is at least one character in the string.\n",
            " |  \n",
            " |  isalpha(self, /)\n",
            " |      Return True if the string is an alphabetic string, False otherwise.\n",
            " |      \n",
            " |      A string is alphabetic if all characters in the string are alphabetic and there\n",
            " |      is at least one character in the string.\n",
            " |  \n",
            " |  isascii(self, /)\n",
            " |      Return True if all characters in the string are ASCII, False otherwise.\n",
            " |      \n",
            " |      ASCII characters have code points in the range U+0000-U+007F.\n",
            " |      Empty string is ASCII too.\n",
            " |  \n",
            " |  isdecimal(self, /)\n",
            " |      Return True if the string is a decimal string, False otherwise.\n",
            " |      \n",
            " |      A string is a decimal string if all characters in the string are decimal and\n",
            " |      there is at least one character in the string.\n",
            " |  \n",
            " |  isdigit(self, /)\n",
            " |      Return True if the string is a digit string, False otherwise.\n",
            " |      \n",
            " |      A string is a digit string if all characters in the string are digits and there\n",
            " |      is at least one character in the string.\n",
            " |  \n",
            " |  isidentifier(self, /)\n",
            " |      Return True if the string is a valid Python identifier, False otherwise.\n",
            " |      \n",
            " |      Call keyword.iskeyword(s) to test whether string s is a reserved identifier,\n",
            " |      such as \"def\" or \"class\".\n",
            " |  \n",
            " |  islower(self, /)\n",
            " |      Return True if the string is a lowercase string, False otherwise.\n",
            " |      \n",
            " |      A string is lowercase if all cased characters in the string are lowercase and\n",
            " |      there is at least one cased character in the string.\n",
            " |  \n",
            " |  isnumeric(self, /)\n",
            " |      Return True if the string is a numeric string, False otherwise.\n",
            " |      \n",
            " |      A string is numeric if all characters in the string are numeric and there is at\n",
            " |      least one character in the string.\n",
            " |  \n",
            " |  isprintable(self, /)\n",
            " |      Return True if the string is printable, False otherwise.\n",
            " |      \n",
            " |      A string is printable if all of its characters are considered printable in\n",
            " |      repr() or if it is empty.\n",
            " |  \n",
            " |  isspace(self, /)\n",
            " |      Return True if the string is a whitespace string, False otherwise.\n",
            " |      \n",
            " |      A string is whitespace if all characters in the string are whitespace and there\n",
            " |      is at least one character in the string.\n",
            " |  \n",
            " |  istitle(self, /)\n",
            " |      Return True if the string is a title-cased string, False otherwise.\n",
            " |      \n",
            " |      In a title-cased string, upper- and title-case characters may only\n",
            " |      follow uncased characters and lowercase characters only cased ones.\n",
            " |  \n",
            " |  isupper(self, /)\n",
            " |      Return True if the string is an uppercase string, False otherwise.\n",
            " |      \n",
            " |      A string is uppercase if all cased characters in the string are uppercase and\n",
            " |      there is at least one cased character in the string.\n",
            " |  \n",
            " |  join(self, iterable, /)\n",
            " |      Concatenate any number of strings.\n",
            " |      \n",
            " |      The string whose method is called is inserted in between each given string.\n",
            " |      The result is returned as a new string.\n",
            " |      \n",
            " |      Example: '.'.join(['ab', 'pq', 'rs']) -> 'ab.pq.rs'\n",
            " |  \n",
            " |  ljust(self, width, fillchar=' ', /)\n",
            " |      Return a left-justified string of length width.\n",
            " |      \n",
            " |      Padding is done using the specified fill character (default is a space).\n",
            " |  \n",
            " |  lower(self, /)\n",
            " |      Return a copy of the string converted to lowercase.\n",
            " |  \n",
            " |  lstrip(self, chars=None, /)\n",
            " |      Return a copy of the string with leading whitespace removed.\n",
            " |      \n",
            " |      If chars is given and not None, remove characters in chars instead.\n",
            " |  \n",
            " |  partition(self, sep, /)\n",
            " |      Partition the string into three parts using the given separator.\n",
            " |      \n",
            " |      This will search for the separator in the string.  If the separator is found,\n",
            " |      returns a 3-tuple containing the part before the separator, the separator\n",
            " |      itself, and the part after it.\n",
            " |      \n",
            " |      If the separator is not found, returns a 3-tuple containing the original string\n",
            " |      and two empty strings.\n",
            " |  \n",
            " |  removeprefix(self, prefix, /)\n",
            " |      Return a str with the given prefix string removed if present.\n",
            " |      \n",
            " |      If the string starts with the prefix string, return string[len(prefix):].\n",
            " |      Otherwise, return a copy of the original string.\n",
            " |  \n",
            " |  removesuffix(self, suffix, /)\n",
            " |      Return a str with the given suffix string removed if present.\n",
            " |      \n",
            " |      If the string ends with the suffix string and that suffix is not empty,\n",
            " |      return string[:-len(suffix)]. Otherwise, return a copy of the original\n",
            " |      string.\n",
            " |  \n",
            " |  replace(self, old, new, count=-1, /)\n",
            " |      Return a copy with all occurrences of substring old replaced by new.\n",
            " |      \n",
            " |        count\n",
            " |          Maximum number of occurrences to replace.\n",
            " |          -1 (the default value) means replace all occurrences.\n",
            " |      \n",
            " |      If the optional argument count is given, only the first count occurrences are\n",
            " |      replaced.\n",
            " |  \n",
            " |  rfind(...)\n",
            " |      S.rfind(sub[, start[, end]]) -> int\n",
            " |      \n",
            " |      Return the highest index in S where substring sub is found,\n",
            " |      such that sub is contained within S[start:end].  Optional\n",
            " |      arguments start and end are interpreted as in slice notation.\n",
            " |      \n",
            " |      Return -1 on failure.\n",
            " |  \n",
            " |  rindex(...)\n",
            " |      S.rindex(sub[, start[, end]]) -> int\n",
            " |      \n",
            " |      Return the highest index in S where substring sub is found,\n",
            " |      such that sub is contained within S[start:end].  Optional\n",
            " |      arguments start and end are interpreted as in slice notation.\n",
            " |      \n",
            " |      Raises ValueError when the substring is not found.\n",
            " |  \n",
            " |  rjust(self, width, fillchar=' ', /)\n",
            " |      Return a right-justified string of length width.\n",
            " |      \n",
            " |      Padding is done using the specified fill character (default is a space).\n",
            " |  \n",
            " |  rpartition(self, sep, /)\n",
            " |      Partition the string into three parts using the given separator.\n",
            " |      \n",
            " |      This will search for the separator in the string, starting at the end. If\n",
            " |      the separator is found, returns a 3-tuple containing the part before the\n",
            " |      separator, the separator itself, and the part after it.\n",
            " |      \n",
            " |      If the separator is not found, returns a 3-tuple containing two empty strings\n",
            " |      and the original string.\n",
            " |  \n",
            " |  rsplit(self, /, sep=None, maxsplit=-1)\n",
            " |      Return a list of the substrings in the string, using sep as the separator string.\n",
            " |      \n",
            " |        sep\n",
            " |          The separator used to split the string.\n",
            " |      \n",
            " |          When set to None (the default value), will split on any whitespace\n",
            " |          character (including \\\\n \\\\r \\\\t \\\\f and spaces) and will discard\n",
            " |          empty strings from the result.\n",
            " |        maxsplit\n",
            " |          Maximum number of splits (starting from the left).\n",
            " |          -1 (the default value) means no limit.\n",
            " |      \n",
            " |      Splitting starts at the end of the string and works to the front.\n",
            " |  \n",
            " |  rstrip(self, chars=None, /)\n",
            " |      Return a copy of the string with trailing whitespace removed.\n",
            " |      \n",
            " |      If chars is given and not None, remove characters in chars instead.\n",
            " |  \n",
            " |  split(self, /, sep=None, maxsplit=-1)\n",
            " |      Return a list of the substrings in the string, using sep as the separator string.\n",
            " |      \n",
            " |        sep\n",
            " |          The separator used to split the string.\n",
            " |      \n",
            " |          When set to None (the default value), will split on any whitespace\n",
            " |          character (including \\\\n \\\\r \\\\t \\\\f and spaces) and will discard\n",
            " |          empty strings from the result.\n",
            " |        maxsplit\n",
            " |          Maximum number of splits (starting from the left).\n",
            " |          -1 (the default value) means no limit.\n",
            " |      \n",
            " |      Note, str.split() is mainly useful for data that has been intentionally\n",
            " |      delimited.  With natural text that includes punctuation, consider using\n",
            " |      the regular expression module.\n",
            " |  \n",
            " |  splitlines(self, /, keepends=False)\n",
            " |      Return a list of the lines in the string, breaking at line boundaries.\n",
            " |      \n",
            " |      Line breaks are not included in the resulting list unless keepends is given and\n",
            " |      true.\n",
            " |  \n",
            " |  startswith(...)\n",
            " |      S.startswith(prefix[, start[, end]]) -> bool\n",
            " |      \n",
            " |      Return True if S starts with the specified prefix, False otherwise.\n",
            " |      With optional start, test S beginning at that position.\n",
            " |      With optional end, stop comparing S at that position.\n",
            " |      prefix can also be a tuple of strings to try.\n",
            " |  \n",
            " |  strip(self, chars=None, /)\n",
            " |      Return a copy of the string with leading and trailing whitespace removed.\n",
            " |      \n",
            " |      If chars is given and not None, remove characters in chars instead.\n",
            " |  \n",
            " |  swapcase(self, /)\n",
            " |      Convert uppercase characters to lowercase and lowercase characters to uppercase.\n",
            " |  \n",
            " |  title(self, /)\n",
            " |      Return a version of the string where each word is titlecased.\n",
            " |      \n",
            " |      More specifically, words start with uppercased characters and all remaining\n",
            " |      cased characters have lower case.\n",
            " |  \n",
            " |  translate(self, table, /)\n",
            " |      Replace each character in the string using the given translation table.\n",
            " |      \n",
            " |        table\n",
            " |          Translation table, which must be a mapping of Unicode ordinals to\n",
            " |          Unicode ordinals, strings, or None.\n",
            " |      \n",
            " |      The table must implement lookup/indexing via __getitem__, for instance a\n",
            " |      dictionary or list.  If this operation raises LookupError, the character is\n",
            " |      left untouched.  Characters mapped to None are deleted.\n",
            " |  \n",
            " |  upper(self, /)\n",
            " |      Return a copy of the string converted to uppercase.\n",
            " |  \n",
            " |  zfill(self, width, /)\n",
            " |      Pad a numeric string with zeros on the left, to fill a field of the given width.\n",
            " |      \n",
            " |      The string is never truncated.\n",
            " |  \n",
            " |  ----------------------------------------------------------------------\n",
            " |  Static methods defined here:\n",
            " |  \n",
            " |  __new__(*args, **kwargs) from builtins.type\n",
            " |      Create and return a new object.  See help(type) for accurate signature.\n",
            " |  \n",
            " |  maketrans(...)\n",
            " |      Return a translation table usable for str.translate().\n",
            " |      \n",
            " |      If there is only one argument, it must be a dictionary mapping Unicode\n",
            " |      ordinals (integers) or characters to Unicode ordinals, strings or None.\n",
            " |      Character keys will be then converted to ordinals.\n",
            " |      If there are two arguments, they must be strings of equal length, and\n",
            " |      in the resulting dictionary, each character in x will be mapped to the\n",
            " |      character at the same position in y. If there is a third argument, it\n",
            " |      must be a string, whose characters will be mapped to None in the result.\n",
            "\n"
          ]
        }
      ],
      "source": [
        "help(str)"
      ]
    },
    {
      "cell_type": "markdown",
      "metadata": {
        "id": "M9LhHuIfTpGf"
      },
      "source": [
        "> **Exercício 6**: Utilize o atalho `?` para fazer a mesma coisa. Note que o Jupyter irá abrir uma pequena janela e o resultado não será salvo no *notebook*."
      ]
    },
    {
      "cell_type": "code",
      "execution_count": null,
      "metadata": {
        "id": "hKBZpLdtTpGf"
      },
      "outputs": [],
      "source": [
        "str?"
      ]
    },
    {
      "cell_type": "markdown",
      "metadata": {
        "id": "0M0Vx0FkTpGf"
      },
      "source": [
        "> **Exercício 7**: Crie uma função que recebe argumentos **posicionais** para somar dois valores."
      ]
    },
    {
      "cell_type": "code",
      "execution_count": null,
      "metadata": {
        "id": "BOHVdJ3PTpGf"
      },
      "outputs": [],
      "source": [
        "def soma(a, b):\n",
        "  return a + b"
      ]
    },
    {
      "cell_type": "markdown",
      "metadata": {
        "id": "Iv0Z6wgQTpGg"
      },
      "source": [
        "> **Exercício 8**: Utilize notação posicional para chamar a sua função. Experimente diferentes tipos de dados."
      ]
    },
    {
      "cell_type": "code",
      "execution_count": null,
      "metadata": {
        "colab": {
          "base_uri": "https://localhost:8080/"
        },
        "id": "jWQPMIm_TpGg",
        "outputId": "0ce2e5d6-81ec-4cfb-c445-9985c563371e"
      },
      "outputs": [
        {
          "output_type": "stream",
          "name": "stdout",
          "text": [
            "7\n",
            "[1, 2, 3, 1, 2, 3]\n",
            "abab\n"
          ]
        }
      ],
      "source": [
        "x = soma(3,4)\n",
        "y = soma([1,2,3],[1,2,3])\n",
        "z = soma('ab','ab')\n",
        "\n",
        "print(x)\n",
        "print(y)\n",
        "print(z)"
      ]
    },
    {
      "cell_type": "markdown",
      "metadata": {
        "id": "ShSET1yBTpGg"
      },
      "source": [
        "> **Exercício 9**: Utilize **parâmetros nomeados** para chamar a função `soma`."
      ]
    },
    {
      "cell_type": "code",
      "execution_count": null,
      "metadata": {
        "colab": {
          "base_uri": "https://localhost:8080/"
        },
        "id": "DFoew1xsTpGg",
        "outputId": "a5bb108a-ea57-4d61-ae73-daee8b464870"
      },
      "outputs": [
        {
          "output_type": "execute_result",
          "data": {
            "text/plain": [
              "4"
            ]
          },
          "metadata": {},
          "execution_count": 16
        }
      ],
      "source": [
        "def soma(a=1, b=1):\n",
        "  return a + b\n",
        "\n",
        "soma(a=2, b=2)"
      ]
    },
    {
      "cell_type": "markdown",
      "metadata": {
        "id": "LTdvNNWsTpGg"
      },
      "source": [
        "Python trabalha muito com espaços de nomes. Várias bibliotecas são disponibilizadas para fornecer algoritmos e estruturas de dados importantes.\n",
        "\n",
        "Para fazer uso de um espaço de nomes, usamos o comando `import X`. A partir daí podemos fazer referências ao nome no espaço `X` com a notação `X.y1`, `X.y2`, `X.y3` etc.\n",
        "\n",
        "Uma variante é o comando `from X import y1, y2, y3, etc`. Isso nos permite fazer referência direta aos nomes `y1`, `y2`, `y3` etc. sem precisar referenciar o espaço de nomes.\n",
        "\n",
        "Uma última variante que não usamos é o comando `from X import *`. Isso basicamente joga o conceito de espaço de nomes pela janela e é uma má prática de programação."
      ]
    },
    {
      "cell_type": "markdown",
      "metadata": {
        "id": "h-dKgCrCTpGg"
      },
      "source": [
        "> **Exercício 10**: Importe os módulos `math` e `cmath`. Teste algumas funções desses módulos. Use a função `dir` para listar as funcionalidades desses módulos."
      ]
    },
    {
      "cell_type": "code",
      "execution_count": null,
      "metadata": {
        "id": "Bt9sdQ9ZTpGg"
      },
      "outputs": [],
      "source": [
        "import math\n",
        "import cmath"
      ]
    },
    {
      "cell_type": "markdown",
      "metadata": {
        "id": "dpSM8NRCTpGg"
      },
      "source": [
        "> **Exercício 11**: consulte algumas funções dos dois módulos acima. Faça alguns testes."
      ]
    },
    {
      "cell_type": "code",
      "execution_count": null,
      "metadata": {
        "colab": {
          "base_uri": "https://localhost:8080/"
        },
        "id": "pzH3dfb3TpGg",
        "outputId": "5c9475a8-059c-495b-bbbd-93ac35fc4d01"
      },
      "outputs": [
        {
          "output_type": "stream",
          "name": "stdout",
          "text": [
            "['__doc__', '__loader__', '__name__', '__package__', '__spec__', 'acos', 'acosh', 'asin', 'asinh', 'atan', 'atan2', 'atanh', 'ceil', 'comb', 'copysign', 'cos', 'cosh', 'degrees', 'dist', 'e', 'erf', 'erfc', 'exp', 'expm1', 'fabs', 'factorial', 'floor', 'fmod', 'frexp', 'fsum', 'gamma', 'gcd', 'hypot', 'inf', 'isclose', 'isfinite', 'isinf', 'isnan', 'isqrt', 'lcm', 'ldexp', 'lgamma', 'log', 'log10', 'log1p', 'log2', 'modf', 'nan', 'nextafter', 'perm', 'pi', 'pow', 'prod', 'radians', 'remainder', 'sin', 'sinh', 'sqrt', 'tan', 'tanh', 'tau', 'trunc', 'ulp']\n",
            "------seprador------\n",
            "['__doc__', '__loader__', '__name__', '__package__', '__spec__', 'acos', 'acosh', 'asin', 'asinh', 'atan', 'atanh', 'cos', 'cosh', 'e', 'exp', 'inf', 'infj', 'isclose', 'isfinite', 'isinf', 'isnan', 'log', 'log10', 'nan', 'nanj', 'phase', 'pi', 'polar', 'rect', 'sin', 'sinh', 'sqrt', 'tan', 'tanh', 'tau']\n"
          ]
        }
      ],
      "source": [
        "print(dir(math))\n",
        "print(\"------seprador------\")\n",
        "print(dir(cmath))"
      ]
    },
    {
      "cell_type": "markdown",
      "metadata": {
        "id": "DaPVOMW0TpGg"
      },
      "source": [
        "> **Exercício 12**: Utilize as funções `sqrt` dos módulos `math` e `cmath`. Use a função `cmath.sqrt` para encontrar a raiz quadrada de `-1`."
      ]
    },
    {
      "cell_type": "code",
      "execution_count": null,
      "metadata": {
        "colab": {
          "base_uri": "https://localhost:8080/"
        },
        "id": "GwHTHxOwTpGh",
        "outputId": "c4af2d91-7514-4405-c6ff-92bdd3fa8f93"
      },
      "outputs": [
        {
          "output_type": "stream",
          "name": "stdout",
          "text": [
            "2.0\n",
            "1j\n"
          ]
        }
      ],
      "source": [
        "x = math.sqrt(4)\n",
        "y = cmath.sqrt(-1)\n",
        "\n",
        "print(x)\n",
        "print(y)"
      ]
    },
    {
      "cell_type": "markdown",
      "metadata": {
        "id": "SY3LqWqyTpGh"
      },
      "source": [
        "> **Exercício 13**: Utilizando o comando *haram* `from math import *`, importe todos os nomes do módulo `math` diretamente para o espaço de nomes global. O que aconteceu? Tente encontrar a raiz quadrada de `-1` com o comndo `sqrt(-1)`."
      ]
    },
    {
      "cell_type": "code",
      "execution_count": null,
      "metadata": {
        "colab": {
          "base_uri": "https://localhost:8080/",
          "height": 176
        },
        "id": "SuBMQ2mGTpGh",
        "outputId": "c0d7e451-8327-4d34-c244-03a2d1859bb7"
      },
      "outputs": [
        {
          "output_type": "error",
          "ename": "ValueError",
          "evalue": "math domain error",
          "traceback": [
            "\u001b[0;31m---------------------------------------------------------------------------\u001b[0m",
            "\u001b[0;31mValueError\u001b[0m                                Traceback (most recent call last)",
            "\u001b[0;32m<ipython-input-37-e1c03b2988cc>\u001b[0m in \u001b[0;36m<cell line: 3>\u001b[0;34m()\u001b[0m\n\u001b[1;32m      1\u001b[0m \u001b[0;32mfrom\u001b[0m \u001b[0mmath\u001b[0m \u001b[0;32mimport\u001b[0m \u001b[0;34m*\u001b[0m\u001b[0;34m\u001b[0m\u001b[0;34m\u001b[0m\u001b[0m\n\u001b[1;32m      2\u001b[0m \u001b[0;34m\u001b[0m\u001b[0m\n\u001b[0;32m----> 3\u001b[0;31m \u001b[0msqrt\u001b[0m\u001b[0;34m(\u001b[0m\u001b[0;34m-\u001b[0m\u001b[0;36m1\u001b[0m\u001b[0;34m)\u001b[0m\u001b[0;34m\u001b[0m\u001b[0;34m\u001b[0m\u001b[0m\n\u001b[0m",
            "\u001b[0;31mValueError\u001b[0m: math domain error"
          ]
        }
      ],
      "source": [
        "from math import *\n",
        "\n",
        "sqrt(-1)"
      ]
    },
    {
      "cell_type": "markdown",
      "metadata": {
        "id": "YOst-XWQTpGh"
      },
      "source": [
        "> **Exercício 14**: Explique com suas palavras o comportamento que você observou ao tentar encontrar a raiz quadrada de `-1`."
      ]
    },
    {
      "cell_type": "markdown",
      "metadata": {
        "id": "KGc1asOsTpGh"
      },
      "source": [
        "O python utilizou a função `sqrt` da biblioteca **math** e não da biblioteca **cmath**\n"
      ]
    },
    {
      "cell_type": "markdown",
      "metadata": {
        "id": "1XRhZ4fuTpGl"
      },
      "source": [
        "Além de espaços de nomes e módulos, Python favorece o uso de bons nomes de variáveis e de funções, bem como a documentação extensa de todo o código. O uso de *docstrings* é fortemente encorajado. Uma *docstring* é uma string com aspas triplas no começo de uma definição de função, classe, método ou módulo.\n",
        "\n",
        "Exemplo:\n",
        "\n",
        "```python\n",
        "def função(parâmetro):\n",
        "    \"\"\"\n",
        "    Uma função de exemplo.\n",
        "    \n",
        "    Esta função não faz nada útil. Apenas exemplifica o\n",
        "    uso de uma docstring.\n",
        "    \n",
        "    Parâmetros\n",
        "    - parâmetro: um valor a ser impresso.\n",
        "    \"\"\"\n",
        "    \n",
        "    print(f\"O valor recebido pela função foi '{parâmetro}'\")\n",
        "```"
      ]
    },
    {
      "cell_type": "markdown",
      "metadata": {
        "id": "v0BQj4fTTpGm"
      },
      "source": [
        "> **Exercício 15**: Altere os nomes dos parâmetros da função a seguir para algo mais significativo e acrescente uma *docstring* para explicar o que ela faz e quais são seus parâmetros."
      ]
    },
    {
      "cell_type": "code",
      "execution_count": null,
      "metadata": {
        "id": "ELXmkSV8TpGm"
      },
      "outputs": [],
      "source": [
        "def fila_insere(lista, elemento):\n",
        "    \"\"\"\n",
        "     Uma função que adiciona um novo elemento na lista\n",
        "    \"\"\"\n",
        "    lista.append(elemento)\n",
        "    return lista"
      ]
    },
    {
      "cell_type": "markdown",
      "metadata": {
        "id": "wVaBqmy9TpGm"
      },
      "source": [
        "## Parte 3: programação funcional"
      ]
    },
    {
      "cell_type": "markdown",
      "metadata": {
        "id": "IL3rtnNYTpGm"
      },
      "source": [
        "Compreensão de listas (*list comprehension*) é uma forma compacta de representar listas e tuplas em vez de construí-las com laços de repetição.\n",
        "\n",
        "Elas seguem a notação implícita de conjuntos. Por exemplo, os conjunto dos números pares pode ser matematicamente definido assim:\n",
        "\n",
        "$$P = \\{2x : x \\in \\mathbf{N}\\}$$\n",
        "\n",
        "Em Python, a forma geral de compreensão de listas é\n",
        "\n",
        "```Python\n",
        "   [expressão for variavel in coleção]\n",
        "```"
      ]
    },
    {
      "cell_type": "markdown",
      "metadata": {
        "id": "N-lQku3UTpGm"
      },
      "source": [
        "> **Exercício 16**: Utilize compreensão de listas para gerar uma lista contendo a sequência dos números pares no intervalo $[0, 10)$"
      ]
    },
    {
      "cell_type": "code",
      "execution_count": null,
      "metadata": {
        "colab": {
          "base_uri": "https://localhost:8080/"
        },
        "id": "yujtRRVeTpGm",
        "outputId": "e44b28f1-08a4-4aa4-f794-db62bce1b4ff"
      },
      "outputs": [
        {
          "output_type": "execute_result",
          "data": {
            "text/plain": [
              "[0, 2, 4, 6, 8, 10]"
            ]
          },
          "metadata": {},
          "execution_count": 41
        }
      ],
      "source": [
        "[ x for x in range(11) if x % 2 == 0]"
      ]
    },
    {
      "cell_type": "markdown",
      "metadata": {
        "id": "hCgTFfUfTpGn"
      },
      "source": [
        "A saída da célula acima deve ser o mesmo obtido com o comando abaixo."
      ]
    },
    {
      "cell_type": "code",
      "execution_count": null,
      "metadata": {
        "id": "M9IZtOxvTpGn"
      },
      "outputs": [],
      "source": [
        "list(range(0, 10, 2))"
      ]
    },
    {
      "cell_type": "markdown",
      "metadata": {
        "id": "xatp4GAaTpGn"
      },
      "source": [
        "O mesmo resultado pode ser obtido com a função `map`, de programação funcional. A função `map(f, x)` recebe como entrada uma função (`f`) e uma coleção (`x`). Ela retorna um iterador que produz o resultado obtido ao se aplicar a função `f` em cada elemento de x."
      ]
    },
    {
      "cell_type": "markdown",
      "metadata": {
        "id": "fHW7RFAMTpGn"
      },
      "source": [
        "Por exemplo, considere a função `dobro` a seguir."
      ]
    },
    {
      "cell_type": "code",
      "execution_count": null,
      "metadata": {
        "id": "_r4jEbfiTpGn"
      },
      "outputs": [],
      "source": [
        "def quadrado(num):\n",
        "    \"\"\"Retorna o quadrado de um número.\"\"\"\n",
        "    return num ** 2"
      ]
    },
    {
      "cell_type": "markdown",
      "metadata": {
        "id": "3Oxzzr1fTpGn"
      },
      "source": [
        "Podemos usar `map` para transformar a lista `[0, 1, 2, 3, 4, 5]` na lista `[0, 1, 4, 9, 16, 25`]."
      ]
    },
    {
      "cell_type": "code",
      "execution_count": null,
      "metadata": {
        "id": "51rr2EhJTpGn"
      },
      "outputs": [],
      "source": [
        "list(map(quadrado, range(6)))"
      ]
    },
    {
      "cell_type": "markdown",
      "metadata": {
        "id": "E5rvYZxVTpGn"
      },
      "source": [
        "O mesmo poderia ter sido obtido com notação *lambda* e uma função anônima:\n"
      ]
    },
    {
      "cell_type": "code",
      "execution_count": null,
      "metadata": {
        "id": "CiPst_TFTpGn"
      },
      "outputs": [],
      "source": [
        "list(map(lambda x: x**2, range(6)))"
      ]
    },
    {
      "cell_type": "markdown",
      "metadata": {
        "id": "tydWlhEcTpGo"
      },
      "source": [
        "Ou com compreensão de listas..."
      ]
    },
    {
      "cell_type": "code",
      "execution_count": null,
      "metadata": {
        "id": "AFND2DcrTpGo"
      },
      "outputs": [],
      "source": [
        "[x**2 for x in range(6)]"
      ]
    },
    {
      "cell_type": "markdown",
      "metadata": {
        "id": "iwxV-cAjTpGo"
      },
      "source": [
        "Fará parte da sua sabedoria decidir quando usar `map`, com ou sem a notação *lambda*, e quando usar compreensão de lsitas."
      ]
    },
    {
      "cell_type": "markdown",
      "metadata": {
        "id": "u9nXBg-jTpGo"
      },
      "source": [
        "Agora, podemos misturar compreensões de listas e algumas chamadas de funções. Por exemplo, o Python possui o módulo `random` e a função `random.randint`. Ela gera um número aleatório intero em um intervalo.\n",
        "\n",
        "O comando na célula abaixo irá gerar uma sequência aleatória de zeros e uns."
      ]
    },
    {
      "cell_type": "code",
      "execution_count": null,
      "metadata": {
        "colab": {
          "base_uri": "https://localhost:8080/"
        },
        "id": "89-yZVQ9TpGo",
        "outputId": "a78e704e-0ee9-4f0a-b8e8-c1ebac6bc54a"
      },
      "outputs": [
        {
          "output_type": "stream",
          "name": "stdout",
          "text": [
            "Dez lances de moedas: [0, 1, 0, 0, 0, 1, 0, 0, 1, 1]\n"
          ]
        }
      ],
      "source": [
        "import random\n",
        "\n",
        "moedas = [random.randint(0, 1), random.randint(0, 1), random.randint(0, 1),\n",
        "          random.randint(0, 1), random.randint(0, 1), random.randint(0, 1),\n",
        "          random.randint(0, 1), random.randint(0, 1), random.randint(0, 1),\n",
        "          random.randint(0, 1)]\n",
        "\n",
        "print(f\"Dez lances de moedas: {moedas}\")"
      ]
    },
    {
      "cell_type": "markdown",
      "metadata": {
        "id": "M7bYwheKTpGo"
      },
      "source": [
        "Note, entretanto, duas coisas desagradáveis no comando acima...\n",
        "\n",
        "1. A sequência gerada provavelmente será diferente cada vez que a célula for executada.\n",
        "1. Precisamos especificar cada elemento individualmente.\n",
        "\n",
        "A correção é baseada em dois passos.\n",
        "\n",
        "1. Usando `ramdom.Random(SEMENTE)`, instanciamos um objeto gerador de números pseudoaleatórios. Esse objeto garante que a mesma sequência pseudoaleatória será produzida quando você executar o próximo comando. Por exemplo, você terá a garantia que a célula abaixo irá gerar a sequência `(1, 2, 3, 4, 5)` não importa quantas vezes você a execute, pois antes de cada execução é instanciado um gerador com a semente `146085`."
      ]
    },
    {
      "cell_type": "code",
      "execution_count": null,
      "metadata": {
        "colab": {
          "base_uri": "https://localhost:8080/"
        },
        "id": "Nf9YZpPXTpGo",
        "outputId": "9d0d4fa9-f2e8-48f4-fa58-d747398aec2b"
      },
      "outputs": [
        {
          "output_type": "execute_result",
          "data": {
            "text/plain": [
              "(1, 2, 3, 4, 5)"
            ]
          },
          "metadata": {},
          "execution_count": 45
        }
      ],
      "source": [
        "rng = random.Random(146085)\n",
        "rng.randint(1,10), rng.randint(1,10), rng.randint(1,10), rng.randint(1,10), rng.randint(1,10)"
      ]
    },
    {
      "cell_type": "markdown",
      "metadata": {
        "id": "PxFhvSwgTpGo"
      },
      "source": [
        "Mas isso só é verdade para os cinco primeiros números produzidos por `rng`. Se você voltar a gerar outra coleção de cinco números, eles serão diferentes. De fato, cada vez que você executar a célula abaixo, uma sequência (provavelmente) diferente será produzida."
      ]
    },
    {
      "cell_type": "code",
      "execution_count": null,
      "metadata": {
        "colab": {
          "base_uri": "https://localhost:8080/"
        },
        "id": "Y9mqUrkpTpGp",
        "outputId": "8c4b9c18-9f2e-46c3-e2f8-a7a8f5ac95ad"
      },
      "outputs": [
        {
          "output_type": "execute_result",
          "data": {
            "text/plain": [
              "(10, 7, 2, 1, 1)"
            ]
          },
          "metadata": {},
          "execution_count": 46
        }
      ],
      "source": [
        "rng.randint(1,10), rng.randint(1,10), rng.randint(1,10), rng.randint(1,10), rng.randint(1,10)"
      ]
    },
    {
      "cell_type": "markdown",
      "metadata": {
        "id": "mBBjwg_kTpGp"
      },
      "source": [
        "2. Para gerar vários números de uma vez só, podemos usar um laço de repetição, compreensão de listas ou `map`."
      ]
    },
    {
      "cell_type": "markdown",
      "metadata": {
        "id": "U7MU3oCYTpGp"
      },
      "source": [
        "> **Exercício 17**: Complete a célula abaixo utilizando compreensão de listas para gerar uma sequência de 10 números inteiros aleatórios no intervalo $[1, 10]$."
      ]
    },
    {
      "cell_type": "code",
      "execution_count": null,
      "metadata": {
        "colab": {
          "base_uri": "https://localhost:8080/"
        },
        "id": "YmzetleGTpGp",
        "outputId": "2bdfceb5-8d6c-46ef-cd25-e3152cce12b8"
      },
      "outputs": [
        {
          "output_type": "execute_result",
          "data": {
            "text/plain": [
              "[2, 1, 5, 4, 4, 3, 2, 9, 2, 10]"
            ]
          },
          "metadata": {},
          "execution_count": 48
        }
      ],
      "source": [
        "import random\n",
        "\n",
        "rng = random.Random(42)\n",
        "[rng.randint(1,10) for i in range(10)]"
      ]
    },
    {
      "cell_type": "markdown",
      "metadata": {
        "id": "-TIgXyCMTpGp"
      },
      "source": [
        "O resultado deverá ser `[2, 1, 5, 4, 4, 3, 2, 9, 2, 10]`."
      ]
    },
    {
      "cell_type": "markdown",
      "metadata": {
        "id": "aQpYkr15TpGp"
      },
      "source": [
        "Agora vamos gerar um gráfico. Primeiro, vamos produzir uma lista com os pontos de `x`."
      ]
    },
    {
      "cell_type": "markdown",
      "metadata": {
        "id": "hIm_zY80TpGp"
      },
      "source": [
        "> **Exercício 18**: Escreva uma função chamada `deg2rad` que converte um grau em radianos."
      ]
    },
    {
      "cell_type": "code",
      "execution_count": 3,
      "metadata": {
        "id": "pZs4al5ITpGp"
      },
      "outputs": [],
      "source": [
        "from math import radians\n",
        "def deg2rad(grau):\n",
        "  \"\"\" converte grau em radiano usando math\"\"\"\n",
        "\n",
        "  return radians(grau)\n"
      ]
    },
    {
      "cell_type": "markdown",
      "metadata": {
        "id": "347byfVPTpGp"
      },
      "source": [
        "> **Exercício 19**: Utilizando *lambda* ou compreensão de listas, faça um mapeamento de graus para radianos. Gere o intervalo $[-2\\pi, 2\\pi)$ a partir do intervalo de inteiros $[-360, 360)$. Guarde o resultado em uma variável."
      ]
    },
    {
      "cell_type": "code",
      "execution_count": 5,
      "metadata": {
        "id": "sMkNubGqTpGp"
      },
      "outputs": [],
      "source": [
        "x = list(map(deg2rad, range(-360, 360)))"
      ]
    },
    {
      "cell_type": "markdown",
      "metadata": {
        "id": "DkoGrazPTpGp"
      },
      "source": [
        "> **Exercício 20**: Utilizando as funções `math.sin` e `math.cos`, calcule valores de seno e de cosseno para os valores do intervao `x` que você gerou acima."
      ]
    },
    {
      "cell_type": "code",
      "execution_count": 7,
      "metadata": {
        "id": "E8hiXdp1TpGq"
      },
      "outputs": [],
      "source": [
        "import math\n",
        "s = [math.sin(i) for i in x]\n",
        "c = [math.cos(i) for i in x]"
      ]
    },
    {
      "cell_type": "markdown",
      "metadata": {
        "id": "We5Vn1PoTpGq"
      },
      "source": [
        "> **Exercício 21**: Utilize o PyPlot para gerar um gráfico que contém os valores de seno e cosseno que você calculou. Observe que as duas curvas devem ser plotadas na mesma imagem."
      ]
    },
    {
      "cell_type": "code",
      "execution_count": 8,
      "metadata": {
        "id": "ySG_cgLnTpGq",
        "colab": {
          "base_uri": "https://localhost:8080/",
          "height": 430
        },
        "outputId": "3b359c7e-6872-4af0-c1fd-b0a59d8a5588"
      },
      "outputs": [
        {
          "output_type": "display_data",
          "data": {
            "text/plain": [
              "<Figure size 640x480 with 1 Axes>"
            ],
            "image/png": "[encoded data removed]"
          },
          "metadata": {}
        }
      ],
      "source": [
        "import matplotlib.pyplot as plt\n",
        "plt.plot(x, s, label='seno')\n",
        "plt.plot(x, c, label='cosseno')\n",
        "\n",
        "plt.legend()\n",
        "\n",
        "plt.show()"
      ]
    }
  ],
  "metadata": {
    "kernelspec": {
      "display_name": "Python 3 (ipykernel)",
      "language": "python",
      "name": "python3"
    },
    "language_info": {
      "codemirror_mode": {
        "name": "ipython",
        "version": 3
      },
      "file_extension": ".py",
      "mimetype": "text/x-python",
      "name": "python",
      "nbconvert_exporter": "python",
      "pygments_lexer": "ipython3",
      "version": "3.11.2"
    },
    "colab": {
      "provenance": []
    }
  },
  "nbformat": 4,
  "nbformat_minor": 0
}